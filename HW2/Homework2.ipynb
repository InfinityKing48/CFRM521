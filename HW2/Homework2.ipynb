{
 "cells": [
  {
   "cell_type": "markdown",
   "metadata": {
    "cell_style": "center",
    "slideshow": {
     "slide_type": "-"
    }
   },
   "source": [
    "<h1>\n",
    "<center>CFRM 421/521, Spring 2022</center>\n",
    "</h1>\n",
    "\n",
    "<h1>\n",
    "<center>[Shengbo Jin]</center>\n",
    "</h1>\n",
    "\n",
    "<h1>\n",
    "<center>Homework 2</center>\n",
    "</h1>\n",
    "\n",
    "* **Due: Monday, May 2, 2022, 11:59 PM**\n",
    "\n",
    "\n",
    "* Total marks: 41\n",
    "\n",
    "\n",
    "* Late submissions are allowed, but a 20% penalty per day applies. Your last submission is considered for calculating the penalty.\n",
    "\n",
    "\n",
    "*  Use this Jupyter notebook as a template for your solutions. **Your solution must be submitted as one Jupyter notebook on Canvas and one PDF file on Gradescope.** The notebook must be already run, that is, make sure that you have run all your code, save the notebook, and then when you reopen the notebook, checked that all output appears as expected. You are allowed to use code from the textbook, textbook website, or lecture notes."
   ]
  },
  {
   "cell_type": "markdown",
   "metadata": {},
   "source": [
    "# 1. Random forest for time series data [13 marks]\n",
    "\n",
    "In this question you will work with the NYSE dataset. Only 3 time series in this dataset will be use: `DJ_return` ($a_t$), `log_volatility` ($b_t$), and `log_volume` ($c_t$). Download the data as a csv file from [Canvas](https://canvas.uw.edu/files/91091313/download?download_frd=1). The data was originally obtained from the R library ISLR2, and you can read the documentation for the dataset [here](https://cran.rstudio.com/web/packages/ISLR2/ISLR2.pdf), which explains the meaning of the variables.\n",
    "\n",
    "You want to predict the 1-step ahead value of `log_volume` $c_{t+1}$ using the previous values of this variable and the other two variables (`DJ_return` and `log_volatility`) up to 5 lags. So the features are $c_{t},\\dots,c_{t-4},b_{t},\\dots,b_{t-4},a_{t},\\dots,a_{t-4}$.\n",
    "\n",
    "If the data is stored in a file named `NYSE.csv` in your working directory, then loading the data can be done using the code below."
   ]
  },
  {
   "cell_type": "code",
   "execution_count": 1,
   "metadata": {},
   "outputs": [],
   "source": [
    "import os\n",
    "import pandas as pd\n",
    "data = pd.read_csv(\"NYSE.csv\")"
   ]
  },
  {
   "cell_type": "markdown",
   "metadata": {},
   "source": [
    "## (a) [3 marks]\n",
    "\n",
    "Create the feature matrix `X` and the target variable `y`. Print at least the first 2 rows of `X` and `y` (it is acceptable that not every element of the rows are printed)."
   ]
  },
  {
   "cell_type": "markdown",
   "metadata": {},
   "source": [
    "**[Add your solution here]**"
   ]
  },
  {
   "cell_type": "code",
   "execution_count": 2,
   "outputs": [],
   "source": [
    "import numpy as np\n",
    "\n",
    "def ts_split(ts, feature_steps=5, target_steps=1):\n",
    "    n_obs = len(ts) - feature_steps - target_steps + 1\n",
    "    X = np.array([ts[idx:idx + feature_steps] for idx in range(n_obs)])\n",
    "    y = np.array([ts[idx + feature_steps:idx + feature_steps + target_steps]\n",
    "                  for idx in range(n_obs)])\n",
    "    return X, y"
   ],
   "metadata": {
    "collapsed": false,
    "pycharm": {
     "name": "#%%\n"
    }
   }
  },
  {
   "cell_type": "code",
   "execution_count": 3,
   "outputs": [],
   "source": [
    "DJ_return = ts_split(data['DJ_return'])[0]\n",
    "log_volatility = ts_split(data['log_volatility'])[0]\n",
    "log_volume, y = ts_split(data['log_volume'])\n",
    "\n",
    "X =  np.hstack((log_volume, DJ_return, log_volatility))"
   ],
   "metadata": {
    "collapsed": false,
    "pycharm": {
     "name": "#%%\n"
    }
   }
  },
  {
   "cell_type": "code",
   "execution_count": 4,
   "outputs": [
    {
     "data": {
      "text/plain": "array([[ 3.25730000e-02,  3.46202000e-01,  5.25306000e-01,\n         2.10182000e-01,  4.41870000e-02, -4.46100000e-03,\n         7.81300000e-03,  3.84500000e-03, -3.46200000e-03,\n         5.68000000e-04, -1.31274026e+01, -1.17493047e+01,\n        -1.16656090e+01, -1.16267724e+01, -1.17281302e+01],\n       [ 3.46202000e-01,  5.25306000e-01,  2.10182000e-01,\n         4.41870000e-02,  1.33246000e-01,  7.81300000e-03,\n         3.84500000e-03, -3.46200000e-03,  5.68000000e-04,\n        -1.08240000e-02, -1.17493047e+01, -1.16656090e+01,\n        -1.16267724e+01, -1.17281302e+01, -1.08725263e+01],\n       [ 5.25306000e-01,  2.10182000e-01,  4.41870000e-02,\n         1.33246000e-01, -1.15280000e-02,  3.84500000e-03,\n        -3.46200000e-03,  5.68000000e-04, -1.08240000e-02,\n         1.24000000e-04, -1.16656090e+01, -1.16267724e+01,\n        -1.17281302e+01, -1.08725263e+01, -1.09777968e+01],\n       [ 2.10182000e-01,  4.41870000e-02,  1.33246000e-01,\n        -1.15280000e-02,  1.60700000e-03, -3.46200000e-03,\n         5.68000000e-04, -1.08240000e-02,  1.24000000e-04,\n         3.35800000e-03, -1.16267724e+01, -1.17281302e+01,\n        -1.08725263e+01, -1.09777968e+01, -1.10123599e+01],\n       [ 4.41870000e-02,  1.33246000e-01, -1.15280000e-02,\n         1.60700000e-03, -1.06437000e-01,  5.68000000e-04,\n        -1.08240000e-02,  1.24000000e-04,  3.35800000e-03,\n        -3.29600000e-03, -1.17281302e+01, -1.08725263e+01,\n        -1.09777968e+01, -1.10123599e+01, -1.10471081e+01],\n       [ 1.33246000e-01, -1.15280000e-02,  1.60700000e-03,\n        -1.06437000e-01, -1.38269000e-01, -1.08240000e-02,\n         1.24000000e-04,  3.35800000e-03, -3.29600000e-03,\n         4.46900000e-03, -1.08725263e+01, -1.09777968e+01,\n        -1.10123599e+01, -1.10471081e+01, -1.10220634e+01],\n       [-1.15280000e-02,  1.60700000e-03, -1.06437000e-01,\n        -1.38269000e-01, -4.96350000e-02,  1.24000000e-04,\n         3.35800000e-03, -3.29600000e-03,  4.46900000e-03,\n        -4.02000000e-03, -1.09777968e+01, -1.10123599e+01,\n        -1.10471081e+01, -1.10220634e+01, -1.10231535e+01],\n       [ 1.60700000e-03, -1.06437000e-01, -1.38269000e-01,\n        -4.96350000e-02, -4.33870000e-02,  3.35800000e-03,\n        -3.29600000e-03,  4.46900000e-03, -4.02000000e-03,\n        -8.32300000e-03, -1.10123599e+01, -1.10471081e+01,\n        -1.10220634e+01, -1.10231535e+01, -1.07421494e+01],\n       [-1.06437000e-01, -1.38269000e-01, -4.96350000e-02,\n        -4.33870000e-02,  5.36290000e-02, -3.29600000e-03,\n         4.46900000e-03, -4.02000000e-03, -8.32300000e-03,\n         1.06590000e-02, -1.10471081e+01, -1.10220634e+01,\n        -1.10231535e+01, -1.07421494e+01, -1.03875009e+01],\n       [-1.38269000e-01, -4.96350000e-02, -4.33870000e-02,\n         5.36290000e-02,  1.04624000e-01,  4.46900000e-03,\n        -4.02000000e-03, -8.32300000e-03,  1.06590000e-02,\n         2.39300000e-03, -1.10220634e+01, -1.10231535e+01,\n        -1.07421494e+01, -1.03875009e+01, -1.04724269e+01]])"
     },
     "execution_count": 4,
     "metadata": {},
     "output_type": "execute_result"
    }
   ],
   "source": [
    "X[:10]"
   ],
   "metadata": {
    "collapsed": false,
    "pycharm": {
     "name": "#%%\n"
    }
   }
  },
  {
   "cell_type": "code",
   "execution_count": 5,
   "outputs": [
    {
     "data": {
      "text/plain": "array([[ 0.133246],\n       [-0.011528],\n       [ 0.001607],\n       [-0.106437],\n       [-0.138269],\n       [-0.049635],\n       [-0.043387],\n       [ 0.053629],\n       [ 0.104624],\n       [-0.088976]])"
     },
     "execution_count": 5,
     "metadata": {},
     "output_type": "execute_result"
    }
   ],
   "source": [
    "y[:10]"
   ],
   "metadata": {
    "collapsed": false,
    "pycharm": {
     "name": "#%%\n"
    }
   }
  },
  {
   "cell_type": "markdown",
   "metadata": {},
   "source": [
    "## (b)  [4 marks]\n",
    "\n",
    "Consider fitting a random forest to predict the 1-step ahead value of `log_volume`. The random forest must include the argument `random_state=42`, and it is useful to also include `n_jobs=-1` (you can use `n_job=-1` throughout this homework wherever it is avaliable). Use 3-fold time series CV, with the test set split 50% into a validation set and 50% into the actual test set, to tune the hyperparameters `n_estimators` taking the values  100, 500, 750, and the cost-complexity pruning parameter $\\alpha$ taking the values $10^{-k}$, $k=0,1,\\dots,9$. The performance measure is RMSE. Report the best hyperparameters."
   ]
  },
  {
   "cell_type": "markdown",
   "metadata": {},
   "source": [
    "**[Add your solution here]**"
   ]
  },
  {
   "cell_type": "code",
   "execution_count": 5,
   "outputs": [],
   "source": [
    "from sklearn.model_selection import TimeSeriesSplit\n",
    "from sklearn.ensemble import RandomForestRegressor\n",
    "from sklearn.metrics import mean_squared_error\n",
    "import matplotlib.pyplot as plt\n",
    "\n",
    "series_len = y.size\n",
    "\n",
    "tscv = TimeSeriesSplit(n_splits=3)\n",
    "\n",
    "# Hyperparamter combinations\n",
    "n_estimators_list = [100, 500, 750]\n",
    "ccp_alpha_list = 10**(-np.arange(0, 10).astype(float))\n",
    "\n",
    "def time_series_valid_test(X, y, n_split, valid_or_test, optimal_par=None):\n",
    "    tscv = TimeSeriesSplit(n_splits=n_split)\n",
    "    rf_rmse = []\n",
    "    i = 0\n",
    "    for train_index, test_index in tscv.split(X):\n",
    "        i += 1\n",
    "        # Break test set into 50% validation set, 50% test set\n",
    "        break_test_ind = int(test_index[0] + 0.5*(test_index[-1]-test_index[0]))\n",
    "        valid_index = np.array(list(range(test_index[0],break_test_ind)))\n",
    "        test_index = np.array(list(range(break_test_ind,test_index[-1])))\n",
    "\n",
    "        # Split\n",
    "        X_train, X_valid, X_test = X[train_index], X[valid_index], X[test_index]\n",
    "        y_train, y_valid, y_test = y[train_index], y[valid_index], y[test_index]\n",
    "\n",
    "        # Tuning\n",
    "        if valid_or_test == \"valid\":\n",
    "            for n_estimators in n_estimators_list:\n",
    "                for ccp_alpha in ccp_alpha_list:\n",
    "                    model_rf = RandomForestRegressor(random_state=42,\n",
    "                               n_estimators=n_estimators, ccp_alpha=ccp_alpha, n_jobs=-1)\n",
    "                    model_rf.fit(X_train, y_train.ravel())\n",
    "                    y_val_rf = model_rf.predict(X_valid)\n",
    "                    rf_rmse.append(np.sqrt(mean_squared_error(y_valid, y_val_rf)))\n",
    "\n",
    "        # Evalulate on test set\n",
    "        if valid_or_test == \"test\":\n",
    "            model_rf = RandomForestRegressor(random_state=42,\n",
    "                       n_estimators=optimal_par[0], ccp_alpha=optimal_par[1], n_jobs=-1)\n",
    "            model_rf.fit(X_train, y_train.ravel())\n",
    "            y_test_rf = model_rf.predict(X_test)\n",
    "            rf_rmse.append(np.sqrt(mean_squared_error(y_test, y_test_rf)))\n",
    "\n",
    "            # Plot the prediction for the last CV fold\n",
    "            if i == n_split:\n",
    "                plt.plot(range(series_len-test_index.size,series_len),\n",
    "                         y_test_rf, label=\"1-step ahead prediction\")\n",
    "                plt.plot(range(series_len-test_index.size,series_len),\n",
    "                         y_test, label=\"True value\")\n",
    "                plt.legend(loc=\"upper left\")\n",
    "\n",
    "    # Average RMSE over CV folds\n",
    "    if valid_or_test == \"valid\":\n",
    "        rf_rmse = np.mean(np.array(rf_rmse).reshape(\n",
    "            n_split, len(n_estimators_list)*len(ccp_alpha_list)), axis=0)\n",
    "        return rf_rmse\n",
    "    if valid_or_test == \"test\":\n",
    "        rf_rmse = np.mean(rf_rmse)\n",
    "        return rf_rmse, y_test_rf"
   ],
   "metadata": {
    "collapsed": false,
    "pycharm": {
     "name": "#%%\n"
    }
   }
  },
  {
   "cell_type": "code",
   "execution_count": 6,
   "outputs": [
    {
     "name": "stdout",
     "output_type": "stream",
     "text": [
      "['(n_estimators, ccp_alpha):', [100, 1.0]]\n",
      "0.2358102502325389\n",
      "['(n_estimators, ccp_alpha):', [100, 0.1]]\n",
      "0.2358102502325389\n",
      "['(n_estimators, ccp_alpha):', [100, 0.01]]\n",
      "0.1931776501341703\n",
      "['(n_estimators, ccp_alpha):', [100, 0.001]]\n",
      "0.1742571823815323\n",
      "['(n_estimators, ccp_alpha):', [100, 0.0001]]\n",
      "0.1614501523436291\n",
      "['(n_estimators, ccp_alpha):', [100, 1e-05]]\n",
      "0.16092212183444368\n",
      "['(n_estimators, ccp_alpha):', [100, 1e-06]]\n",
      "0.16126901713458971\n",
      "['(n_estimators, ccp_alpha):', [100, 1e-07]]\n",
      "0.16132852989129298\n",
      "['(n_estimators, ccp_alpha):', [100, 1e-08]]\n",
      "0.16134226586644118\n",
      "['(n_estimators, ccp_alpha):', [100, 1e-09]]\n",
      "0.1613426447569936\n",
      "['(n_estimators, ccp_alpha):', [500, 1.0]]\n",
      "0.23583279057420017\n",
      "['(n_estimators, ccp_alpha):', [500, 0.1]]\n",
      "0.23583279057420017\n",
      "['(n_estimators, ccp_alpha):', [500, 0.01]]\n",
      "0.19289278821198516\n",
      "['(n_estimators, ccp_alpha):', [500, 0.001]]\n",
      "0.1741139415851224\n",
      "['(n_estimators, ccp_alpha):', [500, 0.0001]]\n",
      "0.16109603191941044\n",
      "['(n_estimators, ccp_alpha):', [500, 1e-05]]\n",
      "0.1603712805479507\n",
      "['(n_estimators, ccp_alpha):', [500, 1e-06]]\n",
      "0.16049475493676732\n",
      "['(n_estimators, ccp_alpha):', [500, 1e-07]]\n",
      "0.16048907831763903\n",
      "['(n_estimators, ccp_alpha):', [500, 1e-08]]\n",
      "0.16048958413764566\n",
      "['(n_estimators, ccp_alpha):', [500, 1e-09]]\n",
      "0.16049050149964617\n",
      "['(n_estimators, ccp_alpha):', [750, 1.0]]\n",
      "0.23582412722547763\n",
      "['(n_estimators, ccp_alpha):', [750, 0.1]]\n",
      "0.23582412722547763\n",
      "['(n_estimators, ccp_alpha):', [750, 0.01]]\n",
      "0.1928692930007393\n",
      "['(n_estimators, ccp_alpha):', [750, 0.001]]\n",
      "0.1740238054718721\n",
      "['(n_estimators, ccp_alpha):', [750, 0.0001]]\n",
      "0.16119411919288015\n",
      "['(n_estimators, ccp_alpha):', [750, 1e-05]]\n",
      "0.16041522977250589\n",
      "['(n_estimators, ccp_alpha):', [750, 1e-06]]\n",
      "0.1605662577364352\n",
      "['(n_estimators, ccp_alpha):', [750, 1e-07]]\n",
      "0.1605696585392586\n",
      "['(n_estimators, ccp_alpha):', [750, 1e-08]]\n",
      "0.16057080772829083\n",
      "['(n_estimators, ccp_alpha):', [750, 1e-09]]\n",
      "0.16057054352330358\n"
     ]
    }
   ],
   "source": [
    "rf_rmse = time_series_valid_test(X, y, 3, \"valid\")\n",
    "ind = 0\n",
    "for n_estimators in n_estimators_list:\n",
    "    for ccp_alpha in ccp_alpha_list:\n",
    "        print([\"(n_estimators, ccp_alpha):\",[n_estimators, ccp_alpha]])\n",
    "        print(rf_rmse[ind])\n",
    "        ind += 1"
   ],
   "metadata": {
    "collapsed": false,
    "pycharm": {
     "name": "#%%\n"
    }
   }
  },
  {
   "cell_type": "code",
   "execution_count": 7,
   "outputs": [
    {
     "name": "stdout",
     "output_type": "stream",
     "text": [
      "['(n_estimators, ccp_alpha):', [500, 1e-05]]\n"
     ]
    }
   ],
   "source": [
    "print([\"(n_estimators, ccp_alpha):\",[500, 1e-05]])"
   ],
   "metadata": {
    "collapsed": false,
    "pycharm": {
     "name": "#%%\n"
    }
   }
  },
  {
   "cell_type": "markdown",
   "metadata": {},
   "source": [
    "## (c)  [2 marks]\n",
    "\n",
    "Using the same time series split as in (b), compute the RMSE of the best fitting model on the test set, and include a plot of the true values and predicted values on the test set of the last fold (the fold closest to the current time) of the CV."
   ]
  },
  {
   "cell_type": "markdown",
   "metadata": {},
   "source": [
    "**[Add your solution here]**"
   ]
  },
  {
   "cell_type": "code",
   "execution_count": 8,
   "outputs": [
    {
     "data": {
      "text/plain": "0.18695778279368594"
     },
     "execution_count": 8,
     "metadata": {},
     "output_type": "execute_result"
    },
    {
     "data": {
      "text/plain": "<Figure size 1080x720 with 1 Axes>",
      "image/png": "[encoded data removed]"
     },
     "metadata": {
      "needs_background": "light"
     },
     "output_type": "display_data"
    }
   ],
   "source": [
    "plt.figure(figsize=(15, 10))\n",
    "\n",
    "rf_rmse, y_test_rf = time_series_valid_test(X, y, 3, \"test\", [500, 1e-05])\n",
    "rf_rmse"
   ],
   "metadata": {
    "collapsed": false,
    "pycharm": {
     "name": "#%%\n"
    }
   }
  },
  {
   "cell_type": "markdown",
   "source": [
    "The RMSE on the test set is higher than the previous one."
   ],
   "metadata": {
    "collapsed": false,
    "pycharm": {
     "name": "#%% md\n"
    }
   }
  },
  {
   "cell_type": "markdown",
   "metadata": {},
   "source": [
    "## (d) [2 marks]\n",
    "\n",
    "It is often useful to check that your model is not worse than a very simple method of prediction. Compute the RMSE of a model that simply predicts the 1-step ahead value of `log_volume` $c_{t+1}$ as the current value $c_t$, and compare this to the best fitting random forest model."
   ]
  },
  {
   "cell_type": "markdown",
   "metadata": {},
   "source": [
    "**[Add your solution here]**"
   ]
  },
  {
   "cell_type": "code",
   "execution_count": 18,
   "outputs": [
    {
     "data": {
      "text/plain": "0.21692013508591304"
     },
     "execution_count": 18,
     "metadata": {},
     "output_type": "execute_result"
    }
   ],
   "source": [
    "tscv = TimeSeriesSplit(n_splits=3)\n",
    "simple_rmse = []\n",
    "i = 0\n",
    "for train_index, test_index in tscv.split(X):\n",
    "    i += 1\n",
    "\n",
    "    break_test_ind = int(test_index[0] + 0.5*(test_index[-1]-test_index[0]))\n",
    "    valid_index = np.array(list(range(test_index[0],break_test_ind)))\n",
    "    test_index = np.array(list(range(break_test_ind,test_index[-1])))\n",
    "\n",
    "    X_train, X_valid, X_test = X[train_index], X[valid_index], X[test_index]\n",
    "    y_train, y_valid, y_test = y[train_index], y[valid_index], y[test_index]\n",
    "\n",
    "    y_pred = y[test_index-1]\n",
    "\n",
    "    simple_rmse.append(np.sqrt(mean_squared_error(y_pred, y_test)))\n",
    "\n",
    "simple_rmse = np.mean(simple_rmse)\n",
    "simple_rmse"
   ],
   "metadata": {
    "collapsed": false,
    "pycharm": {
     "name": "#%%\n"
    }
   }
  },
  {
   "cell_type": "code",
   "execution_count": 16,
   "outputs": [
    {
     "data": {
      "text/plain": "0.18695778279368594"
     },
     "execution_count": 16,
     "metadata": {},
     "output_type": "execute_result"
    }
   ],
   "source": [
    "rf_rmse"
   ],
   "metadata": {
    "collapsed": false,
    "pycharm": {
     "name": "#%%\n"
    }
   }
  },
  {
   "cell_type": "markdown",
   "source": [
    "The model is better than a very simple method of prediction.\n"
   ],
   "metadata": {
    "collapsed": false,
    "pycharm": {
     "name": "#%% md\n"
    }
   }
  },
  {
   "cell_type": "markdown",
   "metadata": {},
   "source": [
    "## (e) [2 marks]\n",
    "\n",
    "Compute the feature importances of the best fitting model. Which feature is the most important and what is its feature importance value?"
   ]
  },
  {
   "cell_type": "markdown",
   "metadata": {},
   "source": [
    "**[Add your solution here]**"
   ]
  },
  {
   "cell_type": "code",
   "execution_count": 11,
   "outputs": [
    {
     "data": {
      "text/plain": "array([0.05910464, 0.06276926, 0.04343883, 0.03711868, 0.52845434,\n       0.03368364, 0.02979753, 0.03728229, 0.03897922, 0.06402235,\n       0.01548615, 0.01227923, 0.01110293, 0.0125332 , 0.0139477 ])"
     },
     "execution_count": 11,
     "metadata": {},
     "output_type": "execute_result"
    }
   ],
   "source": [
    "best_model = RandomForestRegressor(random_state=42,\n",
    "           n_estimators=500, ccp_alpha=1e-05, n_jobs=-1)\n",
    "best_model.fit(X, y.ravel())\n",
    "\n",
    "best_model.feature_importances_"
   ],
   "metadata": {
    "collapsed": false,
    "pycharm": {
     "name": "#%%\n"
    }
   }
  },
  {
   "cell_type": "code",
   "execution_count": 12,
   "outputs": [
    {
     "data": {
      "text/plain": "0.5284543420578321"
     },
     "execution_count": 12,
     "metadata": {},
     "output_type": "execute_result"
    }
   ],
   "source": [
    "max(best_model.feature_importances_)"
   ],
   "metadata": {
    "collapsed": false,
    "pycharm": {
     "name": "#%%\n"
    }
   }
  },
  {
   "cell_type": "markdown",
   "source": [
    "The most important feature is the current value of log_volume."
   ],
   "metadata": {
    "collapsed": false,
    "pycharm": {
     "name": "#%% md\n"
    }
   }
  },
  {
   "cell_type": "markdown",
   "metadata": {},
   "source": [
    "# 2. SVM classification and regression [11 marks]\n",
    "\n",
    "## (a) [2 marks]\n",
    "\n",
    "In this question, a SVM is used for classification for the MNIST dataset. The following code loads the MNIST dataset, creates the test set, and to reduce training time, takes a random sample of 2000 points from the full training set to use as your actual training set stored in `X` and `y`. Do not shuffle the data and do not use a standard scaler.\n",
    "\n",
    "Hint: Reading the solution to Question 9 in the Chapter 5 [Jupyter notebook](https://github.com/ageron/handson-ml2/blob/master/05_support_vector_machines.ipynb) on the textbook website may help with this question."
   ]
  },
  {
   "cell_type": "code",
   "execution_count": 19,
   "metadata": {},
   "outputs": [],
   "source": [
    "import numpy as np\n",
    "import matplotlib as mlp\n",
    "import matplotlib.pyplot as plt\n",
    "import pandas as pd\n",
    "\n",
    "from sklearn.datasets import fetch_openml\n",
    "mnist = fetch_openml('mnist_784', version=1, as_frame=False, cache=True)\n",
    "mnist.target = mnist.target.astype(np.int8)\n",
    "X_train = mnist[\"data\"][:60000]\n",
    "X_test  = mnist[\"data\"][60000:]\n",
    "y_train = mnist[\"target\"][:60000]\n",
    "y_test  = mnist[\"target\"][60000:]"
   ]
  },
  {
   "cell_type": "code",
   "execution_count": 20,
   "metadata": {},
   "outputs": [],
   "source": [
    "from sklearn.model_selection import StratifiedShuffleSplit\n",
    "\n",
    "N = 2000\n",
    "split_obj = StratifiedShuffleSplit(n_splits=1,\n",
    "                               test_size=N/60000, random_state=42)\n",
    "for other_idx, subsample_idx in split_obj.split(X_train, y_train):\n",
    "    X = X_train[subsample_idx]\n",
    "    y = y_train[subsample_idx]"
   ]
  },
  {
   "cell_type": "markdown",
   "metadata": {},
   "source": [
    "**Task:** Consider fitting the linear SVM classifier (`LinearSVC`) with `max_iter=50000`. For this model, optimize the hyperparameter $C$ using 3-fold CV over the values $10^{-k}$, $k=0,1,\\dots,9$, where the performance measure is accuracy. What is the best $C$ and what is the accuracy in this case?"
   ]
  },
  {
   "cell_type": "markdown",
   "metadata": {},
   "source": [
    "**[Add your solution here]**"
   ]
  },
  {
   "cell_type": "code",
   "execution_count": 21,
   "outputs": [
    {
     "data": {
      "text/plain": "GridSearchCV(cv=3, estimator=LinearSVC(max_iter=50000, random_state=42),\n             n_jobs=-1,\n             param_grid={'C': [1.0, 0.1, 0.01, 0.001, 0.0001, 1e-05, 1e-06,\n                               1e-07, 1e-08, 1e-09]},\n             scoring='accuracy')"
     },
     "execution_count": 21,
     "metadata": {},
     "output_type": "execute_result"
    }
   ],
   "source": [
    "from sklearn.svm import LinearSVC\n",
    "from sklearn.model_selection import GridSearchCV\n",
    "\n",
    "param_grid = {\n",
    "     'C': list(10**(-np.arange(0, 10).astype(float)))\n",
    "  }\n",
    "\n",
    "svm_clf = LinearSVC(max_iter=50000, random_state=42)\n",
    "grid_search = GridSearchCV(svm_clf, param_grid, cv=3,\n",
    "                           scoring='accuracy',\n",
    "                           n_jobs=-1)\n",
    "grid_search.fit(X, y)"
   ],
   "metadata": {
    "collapsed": false,
    "pycharm": {
     "name": "#%%\n"
    }
   }
  },
  {
   "cell_type": "code",
   "execution_count": 22,
   "outputs": [
    {
     "data": {
      "text/plain": "{'C': 1e-07}"
     },
     "execution_count": 22,
     "metadata": {},
     "output_type": "execute_result"
    }
   ],
   "source": [
    "grid_search.best_params_"
   ],
   "metadata": {
    "collapsed": false,
    "pycharm": {
     "name": "#%%\n"
    }
   }
  },
  {
   "cell_type": "code",
   "execution_count": 23,
   "outputs": [
    {
     "data": {
      "text/plain": "0.8624974299636969"
     },
     "execution_count": 23,
     "metadata": {},
     "output_type": "execute_result"
    }
   ],
   "source": [
    "grid_search.best_score_"
   ],
   "metadata": {
    "collapsed": false,
    "pycharm": {
     "name": "#%%\n"
    }
   }
  },
  {
   "cell_type": "markdown",
   "metadata": {},
   "source": [
    "## (b) [2 marks]\n",
    "\n",
    "**Task:** Now consider fitting a SVM with a Gaussian RBF kernel and `max_iter=50000`. For this model, optimize the hyperparameters $C$ over the distrbution `uniform(1,10)` and $\\gamma$ over the distribution `reciprocal(0.001, 0.1)` with 10 random samples. Again, use 3-fold CV and the performance measure is accuracy. What are the best hyperparameters and what is the accuracy in this case?"
   ]
  },
  {
   "cell_type": "markdown",
   "metadata": {},
   "source": [
    "**[Add your solution here]**"
   ]
  },
  {
   "cell_type": "code",
   "execution_count": 24,
   "outputs": [
    {
     "data": {
      "text/plain": "RandomizedSearchCV(cv=3, estimator=SVC(max_iter=50000), n_jobs=-1,\n                   param_distributions={'C': <scipy.stats._distn_infrastructure.rv_frozen object at 0x00000109FF29C280>,\n                                        'gamma': <scipy.stats._distn_infrastructure.rv_frozen object at 0x00000109FF29C7C0>},\n                   random_state=42, scoring='accuracy')"
     },
     "execution_count": 24,
     "metadata": {},
     "output_type": "execute_result"
    }
   ],
   "source": [
    "from sklearn.svm import SVC\n",
    "from sklearn.model_selection import RandomizedSearchCV\n",
    "from scipy.stats import uniform\n",
    "from scipy.stats import reciprocal\n",
    "\n",
    "param_distribs = {\n",
    "        'C': uniform(1, 10),\n",
    "        'gamma': reciprocal(0.001, 0.1),\n",
    "    }\n",
    "\n",
    "svm_rbf = SVC(max_iter=50000, kernel='rbf')\n",
    "rnd_search = RandomizedSearchCV(svm_rbf, param_distributions=param_distribs,\n",
    "                                n_iter=10, cv=3, scoring='accuracy', random_state=42,\n",
    "                                n_jobs=-1)\n",
    "rnd_search.fit(X, y)"
   ],
   "metadata": {
    "collapsed": false,
    "pycharm": {
     "name": "#%%\n"
    }
   }
  },
  {
   "cell_type": "code",
   "execution_count": 25,
   "outputs": [
    {
     "data": {
      "text/plain": "{'C': 4.745401188473625, 'gamma': 0.07969454818643928}"
     },
     "execution_count": 25,
     "metadata": {},
     "output_type": "execute_result"
    }
   ],
   "source": [
    "rnd_search.best_params_"
   ],
   "metadata": {
    "collapsed": false,
    "pycharm": {
     "name": "#%%\n"
    }
   }
  },
  {
   "cell_type": "code",
   "execution_count": 26,
   "outputs": [
    {
     "data": {
      "text/plain": "0.11250005627816723"
     },
     "execution_count": 26,
     "metadata": {},
     "output_type": "execute_result"
    }
   ],
   "source": [
    "rnd_search.best_score_"
   ],
   "metadata": {
    "collapsed": false,
    "pycharm": {
     "name": "#%%\n"
    }
   }
  },
  {
   "cell_type": "markdown",
   "metadata": {},
   "source": [
    "## (c) [2 mark]\n",
    "\n",
    "**Task:** Choose the best model in (a) and (b). Then for this model, evaluate the accuracy on the test set, which is stored in `X_test` and `y_test`."
   ]
  },
  {
   "cell_type": "markdown",
   "metadata": {},
   "source": [
    "**[Add your solution here]**"
   ]
  },
  {
   "cell_type": "code",
   "execution_count": 27,
   "outputs": [
    {
     "data": {
      "text/plain": "0.8873"
     },
     "execution_count": 27,
     "metadata": {},
     "output_type": "execute_result"
    }
   ],
   "source": [
    "from sklearn.metrics import accuracy_score\n",
    "\n",
    "y_pred = grid_search.best_estimator_.predict(X_test)\n",
    "accuracy_score(y_test, y_pred)"
   ],
   "metadata": {
    "collapsed": false,
    "pycharm": {
     "name": "#%%\n"
    }
   }
  },
  {
   "cell_type": "markdown",
   "metadata": {},
   "source": [
    "## (d) [3 marks]\n",
    "\n",
    "Consider the California housing data from Homework 1 using the same training and test set there. The data is obtained using the code below, which comes from Homework 1, and the training set is stored in `X` and `y`. Do not shuffle the data.\n",
    "\n",
    "Hint: Reading the solution to Question 10 in the Chapter 5 [Jupyter notebook](https://github.com/ageron/handson-ml2/blob/master/05_support_vector_machines.ipynb) on the textbook website may help with this question."
   ]
  },
  {
   "cell_type": "code",
   "execution_count": 28,
   "metadata": {},
   "outputs": [],
   "source": [
    "from sklearn.pipeline import Pipeline\n",
    "from sklearn.impute import SimpleImputer\n",
    "from sklearn.compose import ColumnTransformer\n",
    "from sklearn.preprocessing import StandardScaler, OneHotEncoder\n",
    "\n",
    "import os\n",
    "import tarfile\n",
    "from six.moves import urllib\n",
    "# import numpy as np\n",
    "# import pandas as pd\n",
    "# from sklearn.model_selection import StratifiedShuffleSplit\n",
    "\n",
    "HOUSING_PATH = os.path.join(\"datasets\", \"housing\")\n",
    "\n",
    "def fetch_housing_data(housing_url, housing_path=HOUSING_PATH):\n",
    "    if not os.path.isdir(housing_path):\n",
    "        os.makedirs(housing_path)\n",
    "    tgz_path = os.path.join(housing_path, \"housing.tgz\")\n",
    "    urllib.request.urlretrieve(housing_url, tgz_path)\n",
    "    housing_tgz = tarfile.open(tgz_path)\n",
    "    housing_tgz.extractall(path=housing_path)\n",
    "    housing_tgz.close()\n",
    "\n",
    "def load_housing_data(housing_path=HOUSING_PATH):\n",
    "    csv_path = os.path.join(housing_path, \"housing.csv\")\n",
    "    return pd.read_csv(csv_path)\n",
    "\n",
    "HOUSING_URL = (\"https://raw.githubusercontent.com/ageron/\"+\n",
    "               \"handson-ml2/master/datasets/housing/housing.tgz\")\n",
    "fetch_housing_data(HOUSING_URL)\n",
    "data = load_housing_data()\n",
    "\n",
    "data[\"income_cat\"] = np.ceil(data[\"median_income\"] / 1.5)\n",
    "data[\"income_cat\"].where(data[\"income_cat\"] < 5, 5.0, inplace=True)\n",
    "split = StratifiedShuffleSplit(n_splits=1, test_size=0.2, random_state=42)\n",
    "for train_index, test_index in split.split(data, data[\"income_cat\"]):\n",
    "    strat_train_set = data.loc[train_index]\n",
    "    strat_test_set = data.loc[test_index]\n",
    "for set_ in (strat_train_set, strat_test_set):\n",
    "    set_.drop(\"income_cat\", axis=1, inplace=True)\n",
    "X_raw = strat_train_set.drop(\"median_house_value\", axis=1)\n",
    "y = strat_train_set[\"median_house_value\"].copy()\n",
    "\n",
    "num_pipeline = Pipeline([\n",
    "        ('imputer', SimpleImputer(strategy=\"median\")),\n",
    "        ('std_scaler', StandardScaler()),\n",
    "    ])\n",
    "num_features = X_raw.drop(\"ocean_proximity\", axis=1)\n",
    "num_attribs = list(num_features)\n",
    "cat_attribs = [\"ocean_proximity\"]\n",
    "full_pipeline = ColumnTransformer([\n",
    "        (\"num\", num_pipeline, num_attribs),\n",
    "        (\"cat\", OneHotEncoder(), cat_attribs),\n",
    "    ])\n",
    "\n",
    "X = full_pipeline.fit_transform(X_raw)\n",
    "X_test_raw = strat_test_set.drop(\"median_house_value\", axis=1)\n",
    "y_test = strat_test_set[\"median_house_value\"].copy()\n",
    "X_test = full_pipeline.transform(X_test_raw)"
   ]
  },
  {
   "cell_type": "markdown",
   "metadata": {},
   "source": [
    "**Task:** Consider SVM regression with a Gaussian RBF kernel and a sigmoid kernel with `max_iter=50000`. For both models, use randomized search to choose good hyperparameter values for `C` and `gamma`, and set the arguement `random_state=42`. For both models, optimize the hyperparameters $C$ over the distrbution `uniform(1,10)` and $\\gamma$ over the distribution `reciprocal(0.001, 0.1)` with 10 random samples. Again, use 3-fold CV and the performance measure is MSE. What are the best hyperparameters and what is the MSE in this case?"
   ]
  },
  {
   "cell_type": "markdown",
   "metadata": {},
   "source": [
    "**[Add your solution here]**"
   ]
  },
  {
   "cell_type": "code",
   "execution_count": 25,
   "outputs": [
    {
     "data": {
      "text/plain": "RandomizedSearchCV(cv=3, estimator=SVR(max_iter=50000), n_jobs=-1,\n                   param_distributions={'C': <scipy.stats._distn_infrastructure.rv_frozen object at 0x00000176D4997A90>,\n                                        'gamma': <scipy.stats._distn_infrastructure.rv_frozen object at 0x00000176D477D7C0>},\n                   random_state=42, scoring='neg_mean_squared_error')"
     },
     "execution_count": 25,
     "metadata": {},
     "output_type": "execute_result"
    }
   ],
   "source": [
    "from sklearn.svm import SVR\n",
    "\n",
    "param_distribs = {\n",
    "        'C': uniform(1, 10),\n",
    "        'gamma': reciprocal(0.001, 0.1),\n",
    "    }\n",
    "\n",
    "svr_rbf = SVR(max_iter=50000, kernel='rbf')\n",
    "rnd_search_rbf = RandomizedSearchCV(svr_rbf, param_distributions=param_distribs,\n",
    "                                n_iter=10, cv=3, scoring='neg_mean_squared_error', random_state=42,\n",
    "                                n_jobs=-1)\n",
    "rnd_search_rbf.fit(X, y)"
   ],
   "metadata": {
    "collapsed": false,
    "pycharm": {
     "name": "#%%\n"
    }
   }
  },
  {
   "cell_type": "code",
   "execution_count": 26,
   "outputs": [
    {
     "data": {
      "text/plain": "{'C': 4.745401188473625, 'gamma': 0.07969454818643928}"
     },
     "execution_count": 26,
     "metadata": {},
     "output_type": "execute_result"
    }
   ],
   "source": [
    "rnd_search_rbf.best_params_"
   ],
   "metadata": {
    "collapsed": false,
    "pycharm": {
     "name": "#%%\n"
    }
   }
  },
  {
   "cell_type": "code",
   "execution_count": 28,
   "outputs": [
    {
     "data": {
      "text/plain": "13877012057.239176"
     },
     "execution_count": 28,
     "metadata": {},
     "output_type": "execute_result"
    }
   ],
   "source": [
    "-rnd_search_rbf.best_score_"
   ],
   "metadata": {
    "collapsed": false,
    "pycharm": {
     "name": "#%%\n"
    }
   }
  },
  {
   "cell_type": "code",
   "execution_count": 29,
   "outputs": [
    {
     "data": {
      "text/plain": "RandomizedSearchCV(cv=3, estimator=SVR(kernel='sigmoid', max_iter=50000),\n                   n_jobs=-1,\n                   param_distributions={'C': <scipy.stats._distn_infrastructure.rv_frozen object at 0x00000176D4935400>,\n                                        'gamma': <scipy.stats._distn_infrastructure.rv_frozen object at 0x00000176D4935700>},\n                   random_state=42, scoring='neg_mean_squared_error')"
     },
     "execution_count": 29,
     "metadata": {},
     "output_type": "execute_result"
    }
   ],
   "source": [
    "param_distribs = {\n",
    "        'C': uniform(1, 10),\n",
    "        'gamma': reciprocal(0.001, 0.1),\n",
    "    }\n",
    "\n",
    "svr_sig = SVR(max_iter=50000, kernel='sigmoid')\n",
    "rnd_search_sig = RandomizedSearchCV(svr_sig, param_distributions=param_distribs,\n",
    "                                n_iter=10, cv=3, scoring='neg_mean_squared_error', random_state=42,\n",
    "                                n_jobs=-1)\n",
    "rnd_search_sig.fit(X, y)"
   ],
   "metadata": {
    "collapsed": false,
    "pycharm": {
     "name": "#%%\n"
    }
   }
  },
  {
   "cell_type": "code",
   "execution_count": 30,
   "outputs": [
    {
     "data": {
      "text/plain": "{'C': 4.745401188473625, 'gamma': 0.07969454818643928}"
     },
     "execution_count": 30,
     "metadata": {},
     "output_type": "execute_result"
    }
   ],
   "source": [
    "rnd_search_sig.best_params_"
   ],
   "metadata": {
    "collapsed": false,
    "pycharm": {
     "name": "#%%\n"
    }
   }
  },
  {
   "cell_type": "code",
   "execution_count": 31,
   "outputs": [
    {
     "data": {
      "text/plain": "13744315287.792427"
     },
     "execution_count": 31,
     "metadata": {},
     "output_type": "execute_result"
    }
   ],
   "source": [
    "-rnd_search_sig.best_score_"
   ],
   "metadata": {
    "collapsed": false,
    "pycharm": {
     "name": "#%%\n"
    }
   }
  },
  {
   "cell_type": "markdown",
   "metadata": {},
   "source": [
    "## (e) [2 marks]\n",
    "\n",
    "**Task:** Choose the best model in (d). Then for this model, evaluate the RMSE on the test set, which is stored in `X_test` and `y_test`."
   ]
  },
  {
   "cell_type": "code",
   "execution_count": 32,
   "outputs": [
    {
     "data": {
      "text/plain": "114741.28850451492"
     },
     "execution_count": 32,
     "metadata": {},
     "output_type": "execute_result"
    }
   ],
   "source": [
    "from sklearn.metrics import mean_squared_error\n",
    "\n",
    "y_pred = rnd_search_sig.best_estimator_.predict(X_test)\n",
    "mse = mean_squared_error(y_test, y_pred)\n",
    "rmse = np.sqrt(mse)\n",
    "rmse"
   ],
   "metadata": {
    "collapsed": false,
    "pycharm": {
     "name": "#%%\n"
    }
   }
  },
  {
   "cell_type": "markdown",
   "metadata": {},
   "source": [
    "**[Add your solution here]**"
   ]
  },
  {
   "cell_type": "markdown",
   "metadata": {},
   "source": [
    "# 3. Voting Classifiers [8 marks]\n",
    "## (a)  [4 marks]\n",
    "\n",
    "Consider the MNIST dataset. To save computational time, split it into a smaller training set (the first 5000 observations) and a validation set (the next 1000 observations) as given by the following code."
   ]
  },
  {
   "cell_type": "code",
   "execution_count": 34,
   "metadata": {},
   "outputs": [],
   "source": [
    "N = 5000\n",
    "M = 6000\n",
    "X_train = mnist[\"data\"][:N]\n",
    "X_val  = mnist[\"data\"][N:M]\n",
    "y_train = mnist[\"target\"][:N]\n",
    "y_val = mnist[\"target\"][N:M]"
   ]
  },
  {
   "cell_type": "markdown",
   "metadata": {},
   "source": [
    "Do not shuffle the data and do not use a standard scaler. Train the following classifiers on the training set:\n",
    "\n",
    "(i) a random forest classifier with arguments `n_estimators=100, n_jobs=-1, random_state=42`,\n",
    "\n",
    "(ii) an extra-trees classifier with arguments `n_estimators=100, n_jobs=-1, random_state=42`,\n",
    "\n",
    "(iii) an AdaBoost classifier `n_estimators=50, learning_rate=0.2, random_state=42`,\n",
    "\n",
    "(iv) a gradient boosting classifier using the class `GradientBoostingClassifier()` with arguments `max_depth=2, n_estimators=10, learning_rate=0.25, random_state=42`.\n",
    "\n",
    "Report the accuracy of each trained classifier on the validation set."
   ]
  },
  {
   "cell_type": "markdown",
   "metadata": {},
   "source": [
    "**[Add your solution here]**"
   ]
  },
  {
   "cell_type": "code",
   "execution_count": 35,
   "outputs": [
    {
     "data": {
      "text/plain": "GradientBoostingClassifier(learning_rate=0.25, max_depth=2, n_estimators=10,\n                           random_state=42)"
     },
     "execution_count": 35,
     "metadata": {},
     "output_type": "execute_result"
    }
   ],
   "source": [
    "from sklearn.ensemble import RandomForestClassifier\n",
    "from sklearn.ensemble import ExtraTreesClassifier\n",
    "from sklearn.ensemble import AdaBoostClassifier\n",
    "from sklearn.ensemble import GradientBoostingClassifier\n",
    "\n",
    "rf_clf = RandomForestClassifier(n_estimators=100, n_jobs=-1, random_state=42)\n",
    "et_clf = ExtraTreesClassifier(n_estimators=100, n_jobs=-1, random_state=42)\n",
    "ab_clf = AdaBoostClassifier(n_estimators=50, learning_rate=0.2, random_state=42)\n",
    "gb_clf = GradientBoostingClassifier(max_depth=2, n_estimators=10, learning_rate=0.25, random_state=42)\n",
    "\n",
    "rf_clf.fit(X_train, y_train)\n",
    "et_clf.fit(X_train, y_train)\n",
    "ab_clf.fit(X_train, y_train)\n",
    "gb_clf.fit(X_train, y_train)"
   ],
   "metadata": {
    "collapsed": false,
    "pycharm": {
     "name": "#%%\n"
    }
   }
  },
  {
   "cell_type": "code",
   "execution_count": 36,
   "outputs": [],
   "source": [
    "y_pred_rf = rf_clf.predict(X_val)\n",
    "y_pred_et = et_clf.predict(X_val)\n",
    "y_pred_ab = ab_clf.predict(X_val)\n",
    "y_pred_gb = gb_clf.predict(X_val)"
   ],
   "metadata": {
    "collapsed": false,
    "pycharm": {
     "name": "#%%\n"
    }
   }
  },
  {
   "cell_type": "code",
   "execution_count": 37,
   "outputs": [
    {
     "data": {
      "text/plain": "0.939"
     },
     "execution_count": 37,
     "metadata": {},
     "output_type": "execute_result"
    }
   ],
   "source": [
    "accuracy_score(y_pred_rf, y_val)"
   ],
   "metadata": {
    "collapsed": false,
    "pycharm": {
     "name": "#%%\n"
    }
   }
  },
  {
   "cell_type": "code",
   "execution_count": 38,
   "outputs": [
    {
     "data": {
      "text/plain": "0.947"
     },
     "execution_count": 38,
     "metadata": {},
     "output_type": "execute_result"
    }
   ],
   "source": [
    "accuracy_score(y_pred_et, y_val)"
   ],
   "metadata": {
    "collapsed": false,
    "pycharm": {
     "name": "#%%\n"
    }
   }
  },
  {
   "cell_type": "code",
   "execution_count": 39,
   "outputs": [
    {
     "data": {
      "text/plain": "0.736"
     },
     "execution_count": 39,
     "metadata": {},
     "output_type": "execute_result"
    }
   ],
   "source": [
    "accuracy_score(y_pred_ab, y_val)"
   ],
   "metadata": {
    "collapsed": false,
    "pycharm": {
     "name": "#%%\n"
    }
   }
  },
  {
   "cell_type": "code",
   "execution_count": 40,
   "outputs": [
    {
     "data": {
      "text/plain": "0.834"
     },
     "execution_count": 40,
     "metadata": {},
     "output_type": "execute_result"
    }
   ],
   "source": [
    "accuracy_score(y_pred_gb, y_val)"
   ],
   "metadata": {
    "collapsed": false,
    "pycharm": {
     "name": "#%%\n"
    }
   }
  },
  {
   "cell_type": "markdown",
   "metadata": {},
   "source": [
    "## (b)  [4 marks]\n",
    "Train a hard-voting and a soft-voting ensemble classifier based on the models in (a). Evaluate each voting classifier on the validation set. Comment on whether the performance of the ensemble model is better or worse than the individual models in (a) and why that is the case."
   ]
  },
  {
   "cell_type": "markdown",
   "metadata": {},
   "source": [
    "**[Add your solution here]**"
   ]
  },
  {
   "cell_type": "code",
   "execution_count": 41,
   "outputs": [],
   "source": [
    "from sklearn.ensemble import VotingClassifier\n",
    "voting_clf_hard = VotingClassifier(\n",
    "    estimators=[('rf', rf_clf), ('et', et_clf), ('ab', ab_clf), ('gb', gb_clf)],\n",
    "    voting='hard')"
   ],
   "metadata": {
    "collapsed": false,
    "pycharm": {
     "name": "#%%\n"
    }
   }
  },
  {
   "cell_type": "code",
   "execution_count": 42,
   "outputs": [
    {
     "data": {
      "text/plain": "VotingClassifier(estimators=[('rf',\n                              RandomForestClassifier(n_jobs=-1,\n                                                     random_state=42)),\n                             ('et',\n                              ExtraTreesClassifier(n_jobs=-1, random_state=42)),\n                             ('ab',\n                              AdaBoostClassifier(learning_rate=0.2,\n                                                 random_state=42)),\n                             ('gb',\n                              GradientBoostingClassifier(learning_rate=0.25,\n                                                         max_depth=2,\n                                                         n_estimators=10,\n                                                         random_state=42))])"
     },
     "execution_count": 42,
     "metadata": {},
     "output_type": "execute_result"
    }
   ],
   "source": [
    "voting_clf_hard.fit(X_train, y_train)"
   ],
   "metadata": {
    "collapsed": false,
    "pycharm": {
     "name": "#%%\n"
    }
   }
  },
  {
   "cell_type": "code",
   "execution_count": 43,
   "outputs": [
    {
     "data": {
      "text/plain": "0.923"
     },
     "execution_count": 43,
     "metadata": {},
     "output_type": "execute_result"
    }
   ],
   "source": [
    "y_pred_hard = voting_clf_hard.predict(X_val)\n",
    "accuracy_score(y_pred_hard, y_val)"
   ],
   "metadata": {
    "collapsed": false,
    "pycharm": {
     "name": "#%%\n"
    }
   }
  },
  {
   "cell_type": "code",
   "execution_count": 44,
   "outputs": [],
   "source": [
    "voting_clf_soft = VotingClassifier(\n",
    "    estimators=[('rf', rf_clf), ('et', et_clf), ('ab', ab_clf), ('gb', gb_clf)],\n",
    "    voting='soft')"
   ],
   "metadata": {
    "collapsed": false,
    "pycharm": {
     "name": "#%%\n"
    }
   }
  },
  {
   "cell_type": "code",
   "execution_count": 45,
   "outputs": [
    {
     "data": {
      "text/plain": "VotingClassifier(estimators=[('rf',\n                              RandomForestClassifier(n_jobs=-1,\n                                                     random_state=42)),\n                             ('et',\n                              ExtraTreesClassifier(n_jobs=-1, random_state=42)),\n                             ('ab',\n                              AdaBoostClassifier(learning_rate=0.2,\n                                                 random_state=42)),\n                             ('gb',\n                              GradientBoostingClassifier(learning_rate=0.25,\n                                                         max_depth=2,\n                                                         n_estimators=10,\n                                                         random_state=42))],\n                 voting='soft')"
     },
     "execution_count": 45,
     "metadata": {},
     "output_type": "execute_result"
    }
   ],
   "source": [
    "voting_clf_soft.fit(X_train, y_train)"
   ],
   "metadata": {
    "collapsed": false,
    "pycharm": {
     "name": "#%%\n"
    }
   }
  },
  {
   "cell_type": "code",
   "execution_count": 46,
   "outputs": [
    {
     "data": {
      "text/plain": "0.926"
     },
     "execution_count": 46,
     "metadata": {},
     "output_type": "execute_result"
    }
   ],
   "source": [
    "y_pred_soft = voting_clf_soft.predict(X_val)\n",
    "accuracy_score(y_pred_soft, y_val)"
   ],
   "metadata": {
    "collapsed": false,
    "pycharm": {
     "name": "#%%\n"
    }
   }
  },
  {
   "cell_type": "markdown",
   "source": [
    "The ensemble classifier is better than the AdaBoost Classifier and Gradient Boosting Classifier, however, worse than the Random Forest Classifier and Extra-trees Classifier.\n",
    "This is because ensemble classifier aggregates the predictions of each classifier. The performance of each classifier is quite different, in this situation, the ensemble one will show a kind of \"average\" performance."
   ],
   "metadata": {
    "collapsed": false,
    "pycharm": {
     "name": "#%% md\n"
    }
   }
  },
  {
   "cell_type": "markdown",
   "metadata": {},
   "source": [
    "# 4. Stacking [9 marks]\n",
    "\n",
    "We continue with the setting of Question 3. The training set, validation set and test set are the same. In Question 3, we have used predetermined rules (that is, hard-voting and soft-voting) to build the ensemble prediction. **Stacking** is an ensemble method in which you train a model (called a **blender**) to aggregate the result of each predictor into an ensemble prediction.\n",
    "\n",
    "Hint: Reading the subsection \"Stacking\" in Chapter 7 of the textbook and the solution to Question 9 in the Chapter 7 [Jupyter notebook](https://github.com/ageron/handson-ml2/blob/master/07_ensemble_learning_and_random_forests.ipynb) on the textbook website may help with this question.\n",
    "\n",
    "## (a)  [3 marks]\n",
    "\n",
    "For each of the four classifiers in Question 3(a), make 5000 clean predictions on the training set with 3-fold cross validation using `sklearn.model_selection.cross_val_predict()`. You should end up with four predictions per observation. Print at least the first 5 rows of `pred`. Next, apply one-hot encoding to `pred` since these predictions are class labels."
   ]
  },
  {
   "cell_type": "markdown",
   "metadata": {},
   "source": [
    "**[Add your solution here]**"
   ]
  },
  {
   "cell_type": "code",
   "execution_count": 47,
   "outputs": [],
   "source": [
    "from sklearn.model_selection import cross_val_predict\n",
    "\n",
    "rf_pred = cross_val_predict(rf_clf, X_train, y_train, cv=3,  n_jobs=-1)\n",
    "et_pred = cross_val_predict(et_clf, X_train, y_train, cv=3,  n_jobs=-1)\n",
    "ab_pred = cross_val_predict(ab_clf, X_train, y_train, cv=3,  n_jobs=-1)\n",
    "gb_pred = cross_val_predict(gb_clf, X_train, y_train, cv=3,  n_jobs=-1)"
   ],
   "metadata": {
    "collapsed": false,
    "pycharm": {
     "name": "#%%\n"
    }
   }
  },
  {
   "cell_type": "code",
   "execution_count": 48,
   "outputs": [
    {
     "data": {
      "text/plain": "array([[5, 5, 3, 3],\n       [0, 0, 5, 0],\n       [4, 4, 4, 4],\n       [1, 1, 1, 1],\n       [9, 9, 9, 9],\n       [2, 2, 2, 2],\n       [1, 1, 1, 1],\n       [3, 3, 3, 3],\n       [1, 1, 1, 1],\n       [4, 4, 4, 4]], dtype=int8)"
     },
     "execution_count": 48,
     "metadata": {},
     "output_type": "execute_result"
    }
   ],
   "source": [
    "pred =  np.stack((rf_pred, et_pred, ab_pred, gb_pred), axis=1)\n",
    "pred[:10]"
   ],
   "metadata": {
    "collapsed": false,
    "pycharm": {
     "name": "#%%\n"
    }
   }
  },
  {
   "cell_type": "code",
   "execution_count": 49,
   "outputs": [
    {
     "data": {
      "text/plain": "array([[0., 0., 0., 0., 0., 1., 0., 0., 0., 0., 0., 0., 0., 0., 0., 1.,\n        0., 0., 0., 0., 0., 0., 0., 1., 0., 0., 0., 0., 0., 0., 0., 0.,\n        0., 1., 0., 0., 0., 0., 0., 0.],\n       [1., 0., 0., 0., 0., 0., 0., 0., 0., 0., 1., 0., 0., 0., 0., 0.,\n        0., 0., 0., 0., 0., 0., 0., 0., 0., 1., 0., 0., 0., 0., 1., 0.,\n        0., 0., 0., 0., 0., 0., 0., 0.],\n       [0., 0., 0., 0., 1., 0., 0., 0., 0., 0., 0., 0., 0., 0., 1., 0.,\n        0., 0., 0., 0., 0., 0., 0., 0., 1., 0., 0., 0., 0., 0., 0., 0.,\n        0., 0., 1., 0., 0., 0., 0., 0.],\n       [0., 1., 0., 0., 0., 0., 0., 0., 0., 0., 0., 1., 0., 0., 0., 0.,\n        0., 0., 0., 0., 0., 1., 0., 0., 0., 0., 0., 0., 0., 0., 0., 1.,\n        0., 0., 0., 0., 0., 0., 0., 0.],\n       [0., 0., 0., 0., 0., 0., 0., 0., 0., 1., 0., 0., 0., 0., 0., 0.,\n        0., 0., 0., 1., 0., 0., 0., 0., 0., 0., 0., 0., 0., 1., 0., 0.,\n        0., 0., 0., 0., 0., 0., 0., 1.],\n       [0., 0., 1., 0., 0., 0., 0., 0., 0., 0., 0., 0., 1., 0., 0., 0.,\n        0., 0., 0., 0., 0., 0., 1., 0., 0., 0., 0., 0., 0., 0., 0., 0.,\n        1., 0., 0., 0., 0., 0., 0., 0.],\n       [0., 1., 0., 0., 0., 0., 0., 0., 0., 0., 0., 1., 0., 0., 0., 0.,\n        0., 0., 0., 0., 0., 1., 0., 0., 0., 0., 0., 0., 0., 0., 0., 1.,\n        0., 0., 0., 0., 0., 0., 0., 0.],\n       [0., 0., 0., 1., 0., 0., 0., 0., 0., 0., 0., 0., 0., 1., 0., 0.,\n        0., 0., 0., 0., 0., 0., 0., 1., 0., 0., 0., 0., 0., 0., 0., 0.,\n        0., 1., 0., 0., 0., 0., 0., 0.],\n       [0., 1., 0., 0., 0., 0., 0., 0., 0., 0., 0., 1., 0., 0., 0., 0.,\n        0., 0., 0., 0., 0., 1., 0., 0., 0., 0., 0., 0., 0., 0., 0., 1.,\n        0., 0., 0., 0., 0., 0., 0., 0.],\n       [0., 0., 0., 0., 1., 0., 0., 0., 0., 0., 0., 0., 0., 0., 1., 0.,\n        0., 0., 0., 0., 0., 0., 0., 0., 1., 0., 0., 0., 0., 0., 0., 0.,\n        0., 0., 1., 0., 0., 0., 0., 0.]])"
     },
     "execution_count": 49,
     "metadata": {},
     "output_type": "execute_result"
    }
   ],
   "source": [
    "from sklearn.preprocessing import OneHotEncoder\n",
    "\n",
    "cat_encoder = OneHotEncoder(sparse=False)\n",
    "pred = cat_encoder.fit_transform(pred)\n",
    "pred[:10]"
   ],
   "metadata": {
    "collapsed": false,
    "pycharm": {
     "name": "#%%\n"
    }
   }
  },
  {
   "cell_type": "markdown",
   "metadata": {},
   "source": [
    "## (b) [3 marks]\n",
    "Use the predictions in (a) as features and the actual label of the observations as the target. Train a random forest classifier on the training set with the parameters `n_estimators=100, random_state=42`.  This classifier is a blender. "
   ]
  },
  {
   "cell_type": "markdown",
   "metadata": {},
   "source": [
    "**[Add your solution here]**"
   ]
  },
  {
   "cell_type": "code",
   "execution_count": 50,
   "outputs": [
    {
     "data": {
      "text/plain": "RandomForestClassifier(random_state=42)"
     },
     "execution_count": 50,
     "metadata": {},
     "output_type": "execute_result"
    }
   ],
   "source": [
    "blender = RandomForestClassifier(n_estimators=100, random_state=42)\n",
    "blender.fit(pred, y_train)"
   ],
   "metadata": {
    "collapsed": false,
    "pycharm": {
     "name": "#%%\n"
    }
   }
  },
  {
   "cell_type": "markdown",
   "metadata": {},
   "source": [
    "## (c) [3 marks]\n",
    "\n",
    "Obtain the predictions of the blender on the validation set by feeding predictions on the validation set from the four classifiers in Question 3(a) into the blender trained in Question 4(b). Do not retrain the blender. These are called stacking predictions. Report the accuracy of your stacking predictions on the validation set and compare this to the results in Question 3(b)."
   ]
  },
  {
   "cell_type": "markdown",
   "metadata": {},
   "source": [
    "**[Add your solution here]**"
   ]
  },
  {
   "cell_type": "code",
   "execution_count": 51,
   "outputs": [],
   "source": [
    "rf_pred_val = rf_clf.predict(X_val)\n",
    "et_pred_val = et_clf.predict(X_val)\n",
    "ab_pred_val = ab_clf.predict(X_val)\n",
    "gb_pred_val = gb_clf.predict(X_val)\n",
    "\n",
    "pred_val =  np.stack((rf_pred_val, et_pred_val, ab_pred_val, gb_pred_val), axis=1)\n",
    "pred_val = cat_encoder.transform(pred_val)"
   ],
   "metadata": {
    "collapsed": false,
    "pycharm": {
     "name": "#%%\n"
    }
   }
  },
  {
   "cell_type": "code",
   "execution_count": 52,
   "outputs": [],
   "source": [
    "stacking_pred = blender.predict(pred_val)"
   ],
   "metadata": {
    "collapsed": false,
    "pycharm": {
     "name": "#%%\n"
    }
   }
  },
  {
   "cell_type": "code",
   "execution_count": 53,
   "outputs": [
    {
     "data": {
      "text/plain": "0.947"
     },
     "execution_count": 53,
     "metadata": {},
     "output_type": "execute_result"
    }
   ],
   "source": [
    "accuracy_score(stacking_pred, y_val)"
   ],
   "metadata": {
    "collapsed": false,
    "pycharm": {
     "name": "#%%\n"
    }
   }
  },
  {
   "cell_type": "code",
   "execution_count": 54,
   "outputs": [
    {
     "data": {
      "text/plain": "0.926"
     },
     "execution_count": 54,
     "metadata": {},
     "output_type": "execute_result"
    }
   ],
   "source": [
    "accuracy_score(y_pred_soft, y_val)"
   ],
   "metadata": {
    "collapsed": false,
    "pycharm": {
     "name": "#%%\n"
    }
   }
  },
  {
   "cell_type": "code",
   "execution_count": 56,
   "outputs": [
    {
     "data": {
      "text/plain": "0.923"
     },
     "execution_count": 56,
     "metadata": {},
     "output_type": "execute_result"
    }
   ],
   "source": [
    "accuracy_score(y_pred_hard, y_val)"
   ],
   "metadata": {
    "collapsed": false,
    "pycharm": {
     "name": "#%%\n"
    }
   }
  },
  {
   "cell_type": "markdown",
   "source": [
    "The stacking classifier has a better performance than the voting one."
   ],
   "metadata": {
    "collapsed": false,
    "pycharm": {
     "name": "#%% md\n"
    }
   }
  }
 ],
 "metadata": {
  "hide_input": false,
  "kernelspec": {
   "display_name": "Python 3 (ipykernel)",
   "language": "python",
   "name": "python3"
  },
  "language_info": {
   "codemirror_mode": {
    "name": "ipython",
    "version": 3
   },
   "file_extension": ".py",
   "mimetype": "text/x-python",
   "name": "python",
   "nbconvert_exporter": "python",
   "pygments_lexer": "ipython3",
   "version": "3.9.7"
  },
  "latex_envs": {
   "LaTeX_envs_menu_present": true,
   "autoclose": false,
   "autocomplete": false,
   "bibliofile": "biblio.bib",
   "cite_by": "apalike",
   "current_citInitial": 1,
   "eqLabelWithNumbers": true,
   "eqNumInitial": 1,
   "hotkeys": {
    "equation": "Ctrl-E",
    "itemize": "Ctrl-I"
   },
   "labels_anchors": false,
   "latex_user_defs": false,
   "report_style_numbering": false,
   "user_envs_cfg": false
  },
  "toc": {
   "base_numbering": 1,
   "nav_menu": {},
   "number_sections": false,
   "sideBar": true,
   "skip_h1_title": false,
   "title_cell": "Table of Contents",
   "title_sidebar": "Contents",
   "toc_cell": false,
   "toc_position": {},
   "toc_section_display": true,
   "toc_window_display": false
  },
  "varInspector": {
   "cols": {
    "lenName": 16,
    "lenType": 16,
    "lenVar": 40
   },
   "kernels_config": {
    "python": {
     "delete_cmd_postfix": "",
     "delete_cmd_prefix": "del ",
     "library": "var_list.py",
     "varRefreshCmd": "print(var_dic_list())"
    },
    "r": {
     "delete_cmd_postfix": ") ",
     "delete_cmd_prefix": "rm(",
     "library": "var_list.r",
     "varRefreshCmd": "cat(var_dic_list()) "
    }
   },
   "types_to_exclude": [
    "module",
    "function",
    "builtin_function_or_method",
    "instance",
    "_Feature"
   ],
   "window_display": false
  }
 },
 "nbformat": 4,
 "nbformat_minor": 2
}