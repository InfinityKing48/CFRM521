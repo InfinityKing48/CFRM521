{
 "cells": [
  {
   "cell_type": "markdown",
   "metadata": {
    "pycharm": {
     "name": "#%% md\n"
    },
    "id": "d2ilpa_NCSvd"
   },
   "source": [
    "# Stock Prediction Using Python & Machine Learning\n",
    "Group Member: **Shengbo Jin | Ning Huang | Xuqing Hu**"
   ]
  },
  {
   "cell_type": "markdown",
   "metadata": {
    "pycharm": {
     "name": "#%% md\n"
    },
    "id": "D9rjZ7fJCSvg"
   },
   "source": [
    "## 1. Introduction"
   ]
  },
  {
   "cell_type": "markdown",
   "source": [
    "In recent years, the application of machine learning and deep learning on quantitative research of financial assets has become more and more common. Currently, many data scientists have posted articles on Kaggle website using machine learning or deep learning models to do prediction and analysis on financial assets such as stocks, futures and bitcoin. From a financial investment perspective, these articles may lack some theoretical foundation support or trading mindset. However, from a quantitative perspective, there is a lot to learn, especially the in-depth application of Python and machine learning models.\n",
    "\n",
    "Now, we focus on the most fascinating problem in this field——Stock Prediction. Stock Prediction, to some extent, is the core for every stock trader to make profit or avoid loss. It sounds like we can make a lot of money, if predict accurately. In most cases, machine learning algorithms could fit a nice model to predict stock price with very tiny errors. However, does this really work in real trading? Thus, for practical application, we also forecast the movement direction of stock price."
   ],
   "metadata": {
    "collapsed": false,
    "pycharm": {
     "name": "#%% md\n"
    },
    "id": "31JVni8MCSvh"
   }
  },
  {
   "cell_type": "markdown",
   "metadata": {
    "pycharm": {
     "name": "#%% md\n"
    },
    "id": "aad_6CDlCSvi"
   },
   "source": [
    "## 2. Data Fetching (Shengbo Jin)"
   ]
  },
  {
   "cell_type": "code",
   "execution_count": null,
   "metadata": {
    "pycharm": {
     "name": "#%%\n"
    },
    "id": "3kpFq617CSvi",
    "outputId": "c2864109-4217-4b62-887b-dc7804ff50d3"
   },
   "outputs": [
    {
     "name": "stdout",
     "output_type": "stream",
     "text": [
      "[*********************100%***********************]  1 of 1 completed\n"
     ]
    },
    {
     "data": {
      "text/html": [
       "<div>\n",
       "<style scoped>\n",
       "    .dataframe tbody tr th:only-of-type {\n",
       "        vertical-align: middle;\n",
       "    }\n",
       "\n",
       "    .dataframe tbody tr th {\n",
       "        vertical-align: top;\n",
       "    }\n",
       "\n",
       "    .dataframe thead th {\n",
       "        text-align: right;\n",
       "    }\n",
       "</style>\n",
       "<table border=\"1\" class=\"dataframe\">\n",
       "  <thead>\n",
       "    <tr style=\"text-align: right;\">\n",
       "      <th></th>\n",
       "      <th>Open</th>\n",
       "      <th>High</th>\n",
       "      <th>Low</th>\n",
       "      <th>Close</th>\n",
       "      <th>Adj Close</th>\n",
       "      <th>Volume</th>\n",
       "    </tr>\n",
       "    <tr>\n",
       "      <th>Date</th>\n",
       "      <th></th>\n",
       "      <th></th>\n",
       "      <th></th>\n",
       "      <th></th>\n",
       "      <th></th>\n",
       "      <th></th>\n",
       "    </tr>\n",
       "  </thead>\n",
       "  <tbody>\n",
       "    <tr>\n",
       "      <th>1993-01-29</th>\n",
       "      <td>43.96875</td>\n",
       "      <td>43.96875</td>\n",
       "      <td>43.75000</td>\n",
       "      <td>43.93750</td>\n",
       "      <td>25.547987</td>\n",
       "      <td>1003200</td>\n",
       "    </tr>\n",
       "    <tr>\n",
       "      <th>1993-02-01</th>\n",
       "      <td>43.96875</td>\n",
       "      <td>44.25000</td>\n",
       "      <td>43.96875</td>\n",
       "      <td>44.25000</td>\n",
       "      <td>25.729677</td>\n",
       "      <td>480500</td>\n",
       "    </tr>\n",
       "    <tr>\n",
       "      <th>1993-02-02</th>\n",
       "      <td>44.21875</td>\n",
       "      <td>44.37500</td>\n",
       "      <td>44.12500</td>\n",
       "      <td>44.34375</td>\n",
       "      <td>25.784191</td>\n",
       "      <td>201300</td>\n",
       "    </tr>\n",
       "    <tr>\n",
       "      <th>1993-02-03</th>\n",
       "      <td>44.40625</td>\n",
       "      <td>44.84375</td>\n",
       "      <td>44.37500</td>\n",
       "      <td>44.81250</td>\n",
       "      <td>26.056747</td>\n",
       "      <td>529400</td>\n",
       "    </tr>\n",
       "    <tr>\n",
       "      <th>1993-02-04</th>\n",
       "      <td>44.96875</td>\n",
       "      <td>45.09375</td>\n",
       "      <td>44.46875</td>\n",
       "      <td>45.00000</td>\n",
       "      <td>26.165781</td>\n",
       "      <td>531500</td>\n",
       "    </tr>\n",
       "  </tbody>\n",
       "</table>\n",
       "</div>"
      ],
      "text/plain": [
       "                Open      High       Low     Close  Adj Close   Volume\n",
       "Date                                                                  \n",
       "1993-01-29  43.96875  43.96875  43.75000  43.93750  25.547987  1003200\n",
       "1993-02-01  43.96875  44.25000  43.96875  44.25000  25.729677   480500\n",
       "1993-02-02  44.21875  44.37500  44.12500  44.34375  25.784191   201300\n",
       "1993-02-03  44.40625  44.84375  44.37500  44.81250  26.056747   529400\n",
       "1993-02-04  44.96875  45.09375  44.46875  45.00000  26.165781   531500"
      ]
     },
     "execution_count": 1,
     "metadata": {},
     "output_type": "execute_result"
    }
   ],
   "source": [
    "import yfinance as yf\n",
    "\n",
    "SPY_data = yf.download(\n",
    "        # tickers list or string as well\n",
    "        tickers = \"SPY\",\n",
    "\n",
    "        # use \"period\" instead of start/end\n",
    "        # valid periods: 1d,5d,1mo,3mo,6mo,1y,2y,5y,10y,ytd,max\n",
    "        # (optional, default is '1mo')\n",
    "        period = \"max\",\n",
    "\n",
    "        # fetch data by interval (including intraday if period < 60 days)\n",
    "        # valid intervals: 1m,2m,5m,15m,30m,60m,90m,1h,1d,5d,1wk,1mo,3mo\n",
    "        # (optional, default is '1d')\n",
    "        interval = \"1d\",\n",
    "\n",
    "        # adjust all OHLC automatically\n",
    "        # (optional, default is False)\n",
    "        auto_adjust = False,\n",
    "\n",
    "        # download pre/post regular market hours data\n",
    "        # (optional, default is False)\n",
    "        prepost = False,\n",
    "\n",
    "        # use threads for mass downloading? (True/False/Integer)\n",
    "        # (optional, default is True)\n",
    "        threads = True,\n",
    "\n",
    "        # proxy URL scheme use use when downloading?\n",
    "        # (optional, default is None)\n",
    "        proxy = None\n",
    "    )\n",
    "\n",
    "SPY_data.head()"
   ]
  },
  {
   "cell_type": "code",
   "execution_count": null,
   "metadata": {
    "pycharm": {
     "name": "#%%\n"
    },
    "id": "t-8lZxAqCSvk",
    "outputId": "362608fc-bc36-42f9-d5bb-579585f408ab"
   },
   "outputs": [
    {
     "name": "stdout",
     "output_type": "stream",
     "text": [
      "[*********************100%***********************]  1 of 1 completed\n"
     ]
    },
    {
     "data": {
      "text/html": [
       "<div>\n",
       "<style scoped>\n",
       "    .dataframe tbody tr th:only-of-type {\n",
       "        vertical-align: middle;\n",
       "    }\n",
       "\n",
       "    .dataframe tbody tr th {\n",
       "        vertical-align: top;\n",
       "    }\n",
       "\n",
       "    .dataframe thead th {\n",
       "        text-align: right;\n",
       "    }\n",
       "</style>\n",
       "<table border=\"1\" class=\"dataframe\">\n",
       "  <thead>\n",
       "    <tr style=\"text-align: right;\">\n",
       "      <th></th>\n",
       "      <th>Open</th>\n",
       "      <th>High</th>\n",
       "      <th>Low</th>\n",
       "      <th>Close</th>\n",
       "      <th>Adj Close</th>\n",
       "      <th>Volume</th>\n",
       "    </tr>\n",
       "    <tr>\n",
       "      <th>Date</th>\n",
       "      <th></th>\n",
       "      <th></th>\n",
       "      <th></th>\n",
       "      <th></th>\n",
       "      <th></th>\n",
       "      <th></th>\n",
       "    </tr>\n",
       "  </thead>\n",
       "  <tbody>\n",
       "    <tr>\n",
       "      <th>1980-12-12</th>\n",
       "      <td>0.128348</td>\n",
       "      <td>0.128906</td>\n",
       "      <td>0.128348</td>\n",
       "      <td>0.128348</td>\n",
       "      <td>0.100178</td>\n",
       "      <td>469033600</td>\n",
       "    </tr>\n",
       "    <tr>\n",
       "      <th>1980-12-15</th>\n",
       "      <td>0.122210</td>\n",
       "      <td>0.122210</td>\n",
       "      <td>0.121652</td>\n",
       "      <td>0.121652</td>\n",
       "      <td>0.094952</td>\n",
       "      <td>175884800</td>\n",
       "    </tr>\n",
       "    <tr>\n",
       "      <th>1980-12-16</th>\n",
       "      <td>0.113281</td>\n",
       "      <td>0.113281</td>\n",
       "      <td>0.112723</td>\n",
       "      <td>0.112723</td>\n",
       "      <td>0.087983</td>\n",
       "      <td>105728000</td>\n",
       "    </tr>\n",
       "    <tr>\n",
       "      <th>1980-12-17</th>\n",
       "      <td>0.115513</td>\n",
       "      <td>0.116071</td>\n",
       "      <td>0.115513</td>\n",
       "      <td>0.115513</td>\n",
       "      <td>0.090160</td>\n",
       "      <td>86441600</td>\n",
       "    </tr>\n",
       "    <tr>\n",
       "      <th>1980-12-18</th>\n",
       "      <td>0.118862</td>\n",
       "      <td>0.119420</td>\n",
       "      <td>0.118862</td>\n",
       "      <td>0.118862</td>\n",
       "      <td>0.092774</td>\n",
       "      <td>73449600</td>\n",
       "    </tr>\n",
       "  </tbody>\n",
       "</table>\n",
       "</div>"
      ],
      "text/plain": [
       "                Open      High       Low     Close  Adj Close     Volume\n",
       "Date                                                                    \n",
       "1980-12-12  0.128348  0.128906  0.128348  0.128348   0.100178  469033600\n",
       "1980-12-15  0.122210  0.122210  0.121652  0.121652   0.094952  175884800\n",
       "1980-12-16  0.113281  0.113281  0.112723  0.112723   0.087983  105728000\n",
       "1980-12-17  0.115513  0.116071  0.115513  0.115513   0.090160   86441600\n",
       "1980-12-18  0.118862  0.119420  0.118862  0.118862   0.092774   73449600"
      ]
     },
     "execution_count": 2,
     "metadata": {},
     "output_type": "execute_result"
    }
   ],
   "source": [
    "AAPL_data = yf.download(\n",
    "        tickers = \"AAPL\",\n",
    "        period = \"max\",\n",
    "        interval = \"1d\",\n",
    "    )\n",
    "\n",
    "AAPL_data.head()"
   ]
  },
  {
   "cell_type": "code",
   "execution_count": null,
   "metadata": {
    "pycharm": {
     "name": "#%%\n"
    },
    "id": "-LT8n40ICSvk",
    "outputId": "1163b226-bd33-44a3-c73a-9872922b93f0"
   },
   "outputs": [
    {
     "name": "stdout",
     "output_type": "stream",
     "text": [
      "[*********************100%***********************]  1 of 1 completed\n"
     ]
    },
    {
     "data": {
      "text/html": [
       "<div>\n",
       "<style scoped>\n",
       "    .dataframe tbody tr th:only-of-type {\n",
       "        vertical-align: middle;\n",
       "    }\n",
       "\n",
       "    .dataframe tbody tr th {\n",
       "        vertical-align: top;\n",
       "    }\n",
       "\n",
       "    .dataframe thead th {\n",
       "        text-align: right;\n",
       "    }\n",
       "</style>\n",
       "<table border=\"1\" class=\"dataframe\">\n",
       "  <thead>\n",
       "    <tr style=\"text-align: right;\">\n",
       "      <th></th>\n",
       "      <th>Open</th>\n",
       "      <th>High</th>\n",
       "      <th>Low</th>\n",
       "      <th>Close</th>\n",
       "      <th>Adj Close</th>\n",
       "      <th>Volume</th>\n",
       "    </tr>\n",
       "    <tr>\n",
       "      <th>Date</th>\n",
       "      <th></th>\n",
       "      <th></th>\n",
       "      <th></th>\n",
       "      <th></th>\n",
       "      <th></th>\n",
       "      <th></th>\n",
       "    </tr>\n",
       "  </thead>\n",
       "  <tbody>\n",
       "    <tr>\n",
       "      <th>1997-05-15</th>\n",
       "      <td>2.437500</td>\n",
       "      <td>2.500000</td>\n",
       "      <td>1.927083</td>\n",
       "      <td>1.958333</td>\n",
       "      <td>1.958333</td>\n",
       "      <td>72156000</td>\n",
       "    </tr>\n",
       "    <tr>\n",
       "      <th>1997-05-16</th>\n",
       "      <td>1.968750</td>\n",
       "      <td>1.979167</td>\n",
       "      <td>1.708333</td>\n",
       "      <td>1.729167</td>\n",
       "      <td>1.729167</td>\n",
       "      <td>14700000</td>\n",
       "    </tr>\n",
       "    <tr>\n",
       "      <th>1997-05-19</th>\n",
       "      <td>1.760417</td>\n",
       "      <td>1.770833</td>\n",
       "      <td>1.625000</td>\n",
       "      <td>1.708333</td>\n",
       "      <td>1.708333</td>\n",
       "      <td>6106800</td>\n",
       "    </tr>\n",
       "    <tr>\n",
       "      <th>1997-05-20</th>\n",
       "      <td>1.729167</td>\n",
       "      <td>1.750000</td>\n",
       "      <td>1.635417</td>\n",
       "      <td>1.635417</td>\n",
       "      <td>1.635417</td>\n",
       "      <td>5467200</td>\n",
       "    </tr>\n",
       "    <tr>\n",
       "      <th>1997-05-21</th>\n",
       "      <td>1.635417</td>\n",
       "      <td>1.645833</td>\n",
       "      <td>1.375000</td>\n",
       "      <td>1.427083</td>\n",
       "      <td>1.427083</td>\n",
       "      <td>18853200</td>\n",
       "    </tr>\n",
       "  </tbody>\n",
       "</table>\n",
       "</div>"
      ],
      "text/plain": [
       "                Open      High       Low     Close  Adj Close    Volume\n",
       "Date                                                                   \n",
       "1997-05-15  2.437500  2.500000  1.927083  1.958333   1.958333  72156000\n",
       "1997-05-16  1.968750  1.979167  1.708333  1.729167   1.729167  14700000\n",
       "1997-05-19  1.760417  1.770833  1.625000  1.708333   1.708333   6106800\n",
       "1997-05-20  1.729167  1.750000  1.635417  1.635417   1.635417   5467200\n",
       "1997-05-21  1.635417  1.645833  1.375000  1.427083   1.427083  18853200"
      ]
     },
     "execution_count": 3,
     "metadata": {},
     "output_type": "execute_result"
    }
   ],
   "source": [
    "AMZN_data = yf.download(\n",
    "        tickers = \"AMZN\",\n",
    "        period = \"max\",\n",
    "        interval = \"1d\",\n",
    "    )\n",
    "\n",
    "AMZN_data.head()"
   ]
  },
  {
   "cell_type": "code",
   "execution_count": null,
   "metadata": {
    "pycharm": {
     "name": "#%%\n"
    },
    "id": "2394gacGCSvl",
    "outputId": "01b03908-baec-451c-8e80-74473c61e049"
   },
   "outputs": [
    {
     "name": "stdout",
     "output_type": "stream",
     "text": [
      "[*********************100%***********************]  1 of 1 completed\n"
     ]
    },
    {
     "data": {
      "text/html": [
       "<div>\n",
       "<style scoped>\n",
       "    .dataframe tbody tr th:only-of-type {\n",
       "        vertical-align: middle;\n",
       "    }\n",
       "\n",
       "    .dataframe tbody tr th {\n",
       "        vertical-align: top;\n",
       "    }\n",
       "\n",
       "    .dataframe thead th {\n",
       "        text-align: right;\n",
       "    }\n",
       "</style>\n",
       "<table border=\"1\" class=\"dataframe\">\n",
       "  <thead>\n",
       "    <tr style=\"text-align: right;\">\n",
       "      <th></th>\n",
       "      <th>Open</th>\n",
       "      <th>High</th>\n",
       "      <th>Low</th>\n",
       "      <th>Close</th>\n",
       "      <th>Adj Close</th>\n",
       "      <th>Volume</th>\n",
       "    </tr>\n",
       "    <tr>\n",
       "      <th>Date</th>\n",
       "      <th></th>\n",
       "      <th></th>\n",
       "      <th></th>\n",
       "      <th></th>\n",
       "      <th></th>\n",
       "      <th></th>\n",
       "    </tr>\n",
       "  </thead>\n",
       "  <tbody>\n",
       "    <tr>\n",
       "      <th>2012-05-18</th>\n",
       "      <td>42.049999</td>\n",
       "      <td>45.000000</td>\n",
       "      <td>38.000000</td>\n",
       "      <td>38.230000</td>\n",
       "      <td>38.230000</td>\n",
       "      <td>573576400</td>\n",
       "    </tr>\n",
       "    <tr>\n",
       "      <th>2012-05-21</th>\n",
       "      <td>36.529999</td>\n",
       "      <td>36.660000</td>\n",
       "      <td>33.000000</td>\n",
       "      <td>34.029999</td>\n",
       "      <td>34.029999</td>\n",
       "      <td>168192700</td>\n",
       "    </tr>\n",
       "    <tr>\n",
       "      <th>2012-05-22</th>\n",
       "      <td>32.610001</td>\n",
       "      <td>33.590000</td>\n",
       "      <td>30.940001</td>\n",
       "      <td>31.000000</td>\n",
       "      <td>31.000000</td>\n",
       "      <td>101786600</td>\n",
       "    </tr>\n",
       "    <tr>\n",
       "      <th>2012-05-23</th>\n",
       "      <td>31.370001</td>\n",
       "      <td>32.500000</td>\n",
       "      <td>31.360001</td>\n",
       "      <td>32.000000</td>\n",
       "      <td>32.000000</td>\n",
       "      <td>73600000</td>\n",
       "    </tr>\n",
       "    <tr>\n",
       "      <th>2012-05-24</th>\n",
       "      <td>32.950001</td>\n",
       "      <td>33.209999</td>\n",
       "      <td>31.770000</td>\n",
       "      <td>33.029999</td>\n",
       "      <td>33.029999</td>\n",
       "      <td>50237200</td>\n",
       "    </tr>\n",
       "  </tbody>\n",
       "</table>\n",
       "</div>"
      ],
      "text/plain": [
       "                 Open       High        Low      Close  Adj Close     Volume\n",
       "Date                                                                        \n",
       "2012-05-18  42.049999  45.000000  38.000000  38.230000  38.230000  573576400\n",
       "2012-05-21  36.529999  36.660000  33.000000  34.029999  34.029999  168192700\n",
       "2012-05-22  32.610001  33.590000  30.940001  31.000000  31.000000  101786600\n",
       "2012-05-23  31.370001  32.500000  31.360001  32.000000  32.000000   73600000\n",
       "2012-05-24  32.950001  33.209999  31.770000  33.029999  33.029999   50237200"
      ]
     },
     "execution_count": 4,
     "metadata": {},
     "output_type": "execute_result"
    }
   ],
   "source": [
    "FB_data = yf.download(\n",
    "        tickers = \"FB\",\n",
    "        period = \"max\",\n",
    "        interval = \"1d\",\n",
    "    )\n",
    "\n",
    "FB_data.head()"
   ]
  },
  {
   "cell_type": "code",
   "execution_count": null,
   "metadata": {
    "pycharm": {
     "name": "#%%\n"
    },
    "id": "HKZ2XHeyCSvm",
    "outputId": "122fa4ac-b4bc-413b-dfcc-dead18a9e2f6"
   },
   "outputs": [
    {
     "name": "stdout",
     "output_type": "stream",
     "text": [
      "[*********************100%***********************]  1 of 1 completed\n"
     ]
    },
    {
     "data": {
      "text/html": [
       "<div>\n",
       "<style scoped>\n",
       "    .dataframe tbody tr th:only-of-type {\n",
       "        vertical-align: middle;\n",
       "    }\n",
       "\n",
       "    .dataframe tbody tr th {\n",
       "        vertical-align: top;\n",
       "    }\n",
       "\n",
       "    .dataframe thead th {\n",
       "        text-align: right;\n",
       "    }\n",
       "</style>\n",
       "<table border=\"1\" class=\"dataframe\">\n",
       "  <thead>\n",
       "    <tr style=\"text-align: right;\">\n",
       "      <th></th>\n",
       "      <th>Open</th>\n",
       "      <th>High</th>\n",
       "      <th>Low</th>\n",
       "      <th>Close</th>\n",
       "      <th>Adj Close</th>\n",
       "      <th>Volume</th>\n",
       "    </tr>\n",
       "    <tr>\n",
       "      <th>Date</th>\n",
       "      <th></th>\n",
       "      <th></th>\n",
       "      <th></th>\n",
       "      <th></th>\n",
       "      <th></th>\n",
       "      <th></th>\n",
       "    </tr>\n",
       "  </thead>\n",
       "  <tbody>\n",
       "    <tr>\n",
       "      <th>2004-08-19</th>\n",
       "      <td>50.050049</td>\n",
       "      <td>52.082081</td>\n",
       "      <td>48.028027</td>\n",
       "      <td>50.220219</td>\n",
       "      <td>50.220219</td>\n",
       "      <td>44659096</td>\n",
       "    </tr>\n",
       "    <tr>\n",
       "      <th>2004-08-20</th>\n",
       "      <td>50.555557</td>\n",
       "      <td>54.594597</td>\n",
       "      <td>50.300301</td>\n",
       "      <td>54.209209</td>\n",
       "      <td>54.209209</td>\n",
       "      <td>22834343</td>\n",
       "    </tr>\n",
       "    <tr>\n",
       "      <th>2004-08-23</th>\n",
       "      <td>55.430431</td>\n",
       "      <td>56.796799</td>\n",
       "      <td>54.579578</td>\n",
       "      <td>54.754753</td>\n",
       "      <td>54.754753</td>\n",
       "      <td>18256126</td>\n",
       "    </tr>\n",
       "    <tr>\n",
       "      <th>2004-08-24</th>\n",
       "      <td>55.675674</td>\n",
       "      <td>55.855858</td>\n",
       "      <td>51.836838</td>\n",
       "      <td>52.487488</td>\n",
       "      <td>52.487488</td>\n",
       "      <td>15247337</td>\n",
       "    </tr>\n",
       "    <tr>\n",
       "      <th>2004-08-25</th>\n",
       "      <td>52.532532</td>\n",
       "      <td>54.054054</td>\n",
       "      <td>51.991993</td>\n",
       "      <td>53.053055</td>\n",
       "      <td>53.053055</td>\n",
       "      <td>9188602</td>\n",
       "    </tr>\n",
       "  </tbody>\n",
       "</table>\n",
       "</div>"
      ],
      "text/plain": [
       "                 Open       High        Low      Close  Adj Close    Volume\n",
       "Date                                                                       \n",
       "2004-08-19  50.050049  52.082081  48.028027  50.220219  50.220219  44659096\n",
       "2004-08-20  50.555557  54.594597  50.300301  54.209209  54.209209  22834343\n",
       "2004-08-23  55.430431  56.796799  54.579578  54.754753  54.754753  18256126\n",
       "2004-08-24  55.675674  55.855858  51.836838  52.487488  52.487488  15247337\n",
       "2004-08-25  52.532532  54.054054  51.991993  53.053055  53.053055   9188602"
      ]
     },
     "execution_count": 8,
     "metadata": {},
     "output_type": "execute_result"
    }
   ],
   "source": [
    "GOOGL_data = yf.download(\n",
    "        tickers = \"GOOGL\",\n",
    "        period = \"max\",\n",
    "        interval = \"1d\",\n",
    "    )\n",
    "\n",
    "GOOGL_data.head()"
   ]
  },
  {
   "cell_type": "code",
   "execution_count": null,
   "metadata": {
    "pycharm": {
     "name": "#%%\n"
    },
    "id": "IWRlFK4aCSvm",
    "outputId": "2c8d9196-363c-4802-a003-1e1a0451420b"
   },
   "outputs": [
    {
     "name": "stdout",
     "output_type": "stream",
     "text": [
      "[*********************100%***********************]  1 of 1 completed\n"
     ]
    },
    {
     "data": {
      "text/html": [
       "<div>\n",
       "<style scoped>\n",
       "    .dataframe tbody tr th:only-of-type {\n",
       "        vertical-align: middle;\n",
       "    }\n",
       "\n",
       "    .dataframe tbody tr th {\n",
       "        vertical-align: top;\n",
       "    }\n",
       "\n",
       "    .dataframe thead th {\n",
       "        text-align: right;\n",
       "    }\n",
       "</style>\n",
       "<table border=\"1\" class=\"dataframe\">\n",
       "  <thead>\n",
       "    <tr style=\"text-align: right;\">\n",
       "      <th></th>\n",
       "      <th>Open</th>\n",
       "      <th>High</th>\n",
       "      <th>Low</th>\n",
       "      <th>Close</th>\n",
       "      <th>Adj Close</th>\n",
       "      <th>Volume</th>\n",
       "    </tr>\n",
       "    <tr>\n",
       "      <th>Date</th>\n",
       "      <th></th>\n",
       "      <th></th>\n",
       "      <th></th>\n",
       "      <th></th>\n",
       "      <th></th>\n",
       "      <th></th>\n",
       "    </tr>\n",
       "  </thead>\n",
       "  <tbody>\n",
       "    <tr>\n",
       "      <th>1986-03-13</th>\n",
       "      <td>0.088542</td>\n",
       "      <td>0.101563</td>\n",
       "      <td>0.088542</td>\n",
       "      <td>0.097222</td>\n",
       "      <td>0.061109</td>\n",
       "      <td>1031788800</td>\n",
       "    </tr>\n",
       "    <tr>\n",
       "      <th>1986-03-14</th>\n",
       "      <td>0.097222</td>\n",
       "      <td>0.102431</td>\n",
       "      <td>0.097222</td>\n",
       "      <td>0.100694</td>\n",
       "      <td>0.063292</td>\n",
       "      <td>308160000</td>\n",
       "    </tr>\n",
       "    <tr>\n",
       "      <th>1986-03-17</th>\n",
       "      <td>0.100694</td>\n",
       "      <td>0.103299</td>\n",
       "      <td>0.100694</td>\n",
       "      <td>0.102431</td>\n",
       "      <td>0.064384</td>\n",
       "      <td>133171200</td>\n",
       "    </tr>\n",
       "    <tr>\n",
       "      <th>1986-03-18</th>\n",
       "      <td>0.102431</td>\n",
       "      <td>0.103299</td>\n",
       "      <td>0.098958</td>\n",
       "      <td>0.099826</td>\n",
       "      <td>0.062746</td>\n",
       "      <td>67766400</td>\n",
       "    </tr>\n",
       "    <tr>\n",
       "      <th>1986-03-19</th>\n",
       "      <td>0.099826</td>\n",
       "      <td>0.100694</td>\n",
       "      <td>0.097222</td>\n",
       "      <td>0.098090</td>\n",
       "      <td>0.061655</td>\n",
       "      <td>47894400</td>\n",
       "    </tr>\n",
       "  </tbody>\n",
       "</table>\n",
       "</div>"
      ],
      "text/plain": [
       "                Open      High       Low     Close  Adj Close      Volume\n",
       "Date                                                                     \n",
       "1986-03-13  0.088542  0.101563  0.088542  0.097222   0.061109  1031788800\n",
       "1986-03-14  0.097222  0.102431  0.097222  0.100694   0.063292   308160000\n",
       "1986-03-17  0.100694  0.103299  0.100694  0.102431   0.064384   133171200\n",
       "1986-03-18  0.102431  0.103299  0.098958  0.099826   0.062746    67766400\n",
       "1986-03-19  0.099826  0.100694  0.097222  0.098090   0.061655    47894400"
      ]
     },
     "execution_count": 5,
     "metadata": {},
     "output_type": "execute_result"
    }
   ],
   "source": [
    "MSFT_data = yf.download(\n",
    "        tickers = \"MSFT\",\n",
    "        period = \"max\",\n",
    "        interval = \"1d\",\n",
    "    )\n",
    "\n",
    "MSFT_data.head()"
   ]
  },
  {
   "cell_type": "code",
   "execution_count": null,
   "metadata": {
    "pycharm": {
     "name": "#%%\n"
    },
    "id": "2AhGYg4NCSvn"
   },
   "outputs": [],
   "source": [
    "# save downloaded data\n",
    "SPY_data.to_csv('data/SPY.csv')\n",
    "AAPL_data.to_csv('data/AAPL.csv')\n",
    "MSFT_data.to_csv('data/MSFT.csv')\n",
    "AMZN_data.to_csv('data/AMZN.csv')\n",
    "FB_data.to_csv('data/FB.csv')\n",
    "GOOGL_data.to_csv('data/GOOGL.csv')"
   ]
  },
  {
   "cell_type": "markdown",
   "metadata": {
    "id": "UFrrTpwxCSvn"
   },
   "source": [
    "## 3. Exploratory Data Analysis (Shengbo Jin)"
   ]
  },
  {
   "cell_type": "markdown",
   "source": [
    "Thanks to yahoo finance API on Python, we easily obtained many stock market datasets, including SPDR S&P 500 ETF, Apple, Amazon, Facebook, Google, and Microsoft. Each dataset consists of Open, High, Low, Close, Adj Close and Volume, up to six original features in total. Additionally, in some of the following algorithms, we introduce some artificial features (technical indicators), like SMA, EMA, MOM, etc. The target variable is next day close price or movement direction of close price."
   ],
   "metadata": {
    "collapsed": false,
    "pycharm": {
     "name": "#%% md\n"
    },
    "id": "61xJlGwmCSvo"
   }
  },
  {
   "cell_type": "markdown",
   "metadata": {
    "pycharm": {
     "name": "#%% md\n"
    },
    "id": "DeSk3_rcCSvo"
   },
   "source": []
  },
  {
   "cell_type": "code",
   "execution_count": null,
   "metadata": {
    "pycharm": {
     "name": "#%%\n"
    },
    "id": "mg7xH2CWCSvo",
    "outputId": "971a1109-f4ef-4278-b550-f01ea9672155"
   },
   "outputs": [
    {
     "data": {
      "text/html": [
       "<div>\n",
       "<style scoped>\n",
       "    .dataframe tbody tr th:only-of-type {\n",
       "        vertical-align: middle;\n",
       "    }\n",
       "\n",
       "    .dataframe tbody tr th {\n",
       "        vertical-align: top;\n",
       "    }\n",
       "\n",
       "    .dataframe thead th {\n",
       "        text-align: right;\n",
       "    }\n",
       "</style>\n",
       "<table border=\"1\" class=\"dataframe\">\n",
       "  <thead>\n",
       "    <tr style=\"text-align: right;\">\n",
       "      <th></th>\n",
       "      <th>Open</th>\n",
       "      <th>High</th>\n",
       "      <th>Low</th>\n",
       "      <th>Close</th>\n",
       "      <th>Adj Close</th>\n",
       "      <th>Volume</th>\n",
       "    </tr>\n",
       "    <tr>\n",
       "      <th>Date</th>\n",
       "      <th></th>\n",
       "      <th></th>\n",
       "      <th></th>\n",
       "      <th></th>\n",
       "      <th></th>\n",
       "      <th></th>\n",
       "    </tr>\n",
       "  </thead>\n",
       "  <tbody>\n",
       "    <tr>\n",
       "      <th>1993-01-29</th>\n",
       "      <td>43.96875</td>\n",
       "      <td>43.96875</td>\n",
       "      <td>43.75000</td>\n",
       "      <td>43.93750</td>\n",
       "      <td>25.547987</td>\n",
       "      <td>1003200</td>\n",
       "    </tr>\n",
       "    <tr>\n",
       "      <th>1993-02-01</th>\n",
       "      <td>43.96875</td>\n",
       "      <td>44.25000</td>\n",
       "      <td>43.96875</td>\n",
       "      <td>44.25000</td>\n",
       "      <td>25.729677</td>\n",
       "      <td>480500</td>\n",
       "    </tr>\n",
       "    <tr>\n",
       "      <th>1993-02-02</th>\n",
       "      <td>44.21875</td>\n",
       "      <td>44.37500</td>\n",
       "      <td>44.12500</td>\n",
       "      <td>44.34375</td>\n",
       "      <td>25.784191</td>\n",
       "      <td>201300</td>\n",
       "    </tr>\n",
       "    <tr>\n",
       "      <th>1993-02-03</th>\n",
       "      <td>44.40625</td>\n",
       "      <td>44.84375</td>\n",
       "      <td>44.37500</td>\n",
       "      <td>44.81250</td>\n",
       "      <td>26.056747</td>\n",
       "      <td>529400</td>\n",
       "    </tr>\n",
       "    <tr>\n",
       "      <th>1993-02-04</th>\n",
       "      <td>44.96875</td>\n",
       "      <td>45.09375</td>\n",
       "      <td>44.46875</td>\n",
       "      <td>45.00000</td>\n",
       "      <td>26.165781</td>\n",
       "      <td>531500</td>\n",
       "    </tr>\n",
       "  </tbody>\n",
       "</table>\n",
       "</div>"
      ],
      "text/plain": [
       "                Open      High       Low     Close  Adj Close   Volume\n",
       "Date                                                                  \n",
       "1993-01-29  43.96875  43.96875  43.75000  43.93750  25.547987  1003200\n",
       "1993-02-01  43.96875  44.25000  43.96875  44.25000  25.729677   480500\n",
       "1993-02-02  44.21875  44.37500  44.12500  44.34375  25.784191   201300\n",
       "1993-02-03  44.40625  44.84375  44.37500  44.81250  26.056747   529400\n",
       "1993-02-04  44.96875  45.09375  44.46875  45.00000  26.165781   531500"
      ]
     },
     "execution_count": 10,
     "metadata": {},
     "output_type": "execute_result"
    }
   ],
   "source": [
    "import pandas as pd\n",
    "import numpy as np\n",
    "\n",
    "# load market data of SPY\n",
    "data = pd.read_csv('data/SPY.csv', index_col=0)\n",
    "data.index = pd.to_datetime(data.index)\n",
    "data.head()"
   ]
  },
  {
   "cell_type": "code",
   "execution_count": null,
   "metadata": {
    "pycharm": {
     "name": "#%%\n"
    },
    "id": "wFYCc56jCSvp",
    "outputId": "9c0345b8-dce4-4726-f5b7-2fa1320fb7e0"
   },
   "outputs": [
    {
     "name": "stdout",
     "output_type": "stream",
     "text": [
      "<class 'pandas.core.frame.DataFrame'>\n",
      "DatetimeIndex: 7391 entries, 1993-01-29 to 2022-06-03\n",
      "Data columns (total 6 columns):\n",
      " #   Column     Non-Null Count  Dtype  \n",
      "---  ------     --------------  -----  \n",
      " 0   Open       7391 non-null   float64\n",
      " 1   High       7391 non-null   float64\n",
      " 2   Low        7391 non-null   float64\n",
      " 3   Close      7391 non-null   float64\n",
      " 4   Adj Close  7391 non-null   float64\n",
      " 5   Volume     7391 non-null   int64  \n",
      "dtypes: float64(5), int64(1)\n",
      "memory usage: 404.2 KB\n"
     ]
    }
   ],
   "source": [
    "data.info()"
   ]
  },
  {
   "cell_type": "code",
   "execution_count": null,
   "metadata": {
    "pycharm": {
     "name": "#%%\n"
    },
    "id": "YkYX97aQCSvp",
    "outputId": "983e7e96-b289-4743-8632-2a2318c9eca8"
   },
   "outputs": [
    {
     "data": {
      "text/html": [
       "<div>\n",
       "<style scoped>\n",
       "    .dataframe tbody tr th:only-of-type {\n",
       "        vertical-align: middle;\n",
       "    }\n",
       "\n",
       "    .dataframe tbody tr th {\n",
       "        vertical-align: top;\n",
       "    }\n",
       "\n",
       "    .dataframe thead th {\n",
       "        text-align: right;\n",
       "    }\n",
       "</style>\n",
       "<table border=\"1\" class=\"dataframe\">\n",
       "  <thead>\n",
       "    <tr style=\"text-align: right;\">\n",
       "      <th></th>\n",
       "      <th>Open</th>\n",
       "      <th>High</th>\n",
       "      <th>Low</th>\n",
       "      <th>Close</th>\n",
       "      <th>Adj Close</th>\n",
       "      <th>Volume</th>\n",
       "    </tr>\n",
       "  </thead>\n",
       "  <tbody>\n",
       "    <tr>\n",
       "      <th>count</th>\n",
       "      <td>7391.000000</td>\n",
       "      <td>7391.000000</td>\n",
       "      <td>7391.000000</td>\n",
       "      <td>7391.000000</td>\n",
       "      <td>7391.000000</td>\n",
       "      <td>7.391000e+03</td>\n",
       "    </tr>\n",
       "    <tr>\n",
       "      <th>mean</th>\n",
       "      <td>157.461642</td>\n",
       "      <td>158.395220</td>\n",
       "      <td>156.417612</td>\n",
       "      <td>157.459840</td>\n",
       "      <td>131.471635</td>\n",
       "      <td>8.458307e+07</td>\n",
       "    </tr>\n",
       "    <tr>\n",
       "      <th>std</th>\n",
       "      <td>92.810876</td>\n",
       "      <td>93.268767</td>\n",
       "      <td>92.284625</td>\n",
       "      <td>92.814022</td>\n",
       "      <td>99.075332</td>\n",
       "      <td>9.462498e+07</td>\n",
       "    </tr>\n",
       "    <tr>\n",
       "      <th>min</th>\n",
       "      <td>43.343750</td>\n",
       "      <td>43.531250</td>\n",
       "      <td>42.812500</td>\n",
       "      <td>43.406250</td>\n",
       "      <td>25.239071</td>\n",
       "      <td>5.200000e+03</td>\n",
       "    </tr>\n",
       "    <tr>\n",
       "      <th>25%</th>\n",
       "      <td>102.559998</td>\n",
       "      <td>103.406250</td>\n",
       "      <td>101.711563</td>\n",
       "      <td>102.535000</td>\n",
       "      <td>71.250805</td>\n",
       "      <td>8.609050e+06</td>\n",
       "    </tr>\n",
       "    <tr>\n",
       "      <th>50%</th>\n",
       "      <td>129.470001</td>\n",
       "      <td>130.250000</td>\n",
       "      <td>128.580002</td>\n",
       "      <td>129.410004</td>\n",
       "      <td>93.960976</td>\n",
       "      <td>6.023200e+07</td>\n",
       "    </tr>\n",
       "    <tr>\n",
       "      <th>75%</th>\n",
       "      <td>199.619995</td>\n",
       "      <td>200.775002</td>\n",
       "      <td>198.619995</td>\n",
       "      <td>199.665001</td>\n",
       "      <td>174.716103</td>\n",
       "      <td>1.193949e+08</td>\n",
       "    </tr>\n",
       "    <tr>\n",
       "      <th>max</th>\n",
       "      <td>479.220001</td>\n",
       "      <td>479.980011</td>\n",
       "      <td>476.059998</td>\n",
       "      <td>477.709991</td>\n",
       "      <td>476.230530</td>\n",
       "      <td>8.710263e+08</td>\n",
       "    </tr>\n",
       "  </tbody>\n",
       "</table>\n",
       "</div>"
      ],
      "text/plain": [
       "              Open         High          Low        Close    Adj Close  \\\n",
       "count  7391.000000  7391.000000  7391.000000  7391.000000  7391.000000   \n",
       "mean    157.461642   158.395220   156.417612   157.459840   131.471635   \n",
       "std      92.810876    93.268767    92.284625    92.814022    99.075332   \n",
       "min      43.343750    43.531250    42.812500    43.406250    25.239071   \n",
       "25%     102.559998   103.406250   101.711563   102.535000    71.250805   \n",
       "50%     129.470001   130.250000   128.580002   129.410004    93.960976   \n",
       "75%     199.619995   200.775002   198.619995   199.665001   174.716103   \n",
       "max     479.220001   479.980011   476.059998   477.709991   476.230530   \n",
       "\n",
       "             Volume  \n",
       "count  7.391000e+03  \n",
       "mean   8.458307e+07  \n",
       "std    9.462498e+07  \n",
       "min    5.200000e+03  \n",
       "25%    8.609050e+06  \n",
       "50%    6.023200e+07  \n",
       "75%    1.193949e+08  \n",
       "max    8.710263e+08  "
      ]
     },
     "execution_count": 12,
     "metadata": {},
     "output_type": "execute_result"
    }
   ],
   "source": [
    "# summary statistics\n",
    "data.describe()"
   ]
  },
  {
   "cell_type": "code",
   "execution_count": null,
   "metadata": {
    "pycharm": {
     "name": "#%%\n"
    },
    "id": "TfGym7MkCSvp",
    "outputId": "140de0bd-4e3a-4175-fccb-1b7380adf53a"
   },
   "outputs": [
    {
     "data": {
      "image/png": "[encoded data removed]",
      "text/plain": [
       "<Figure size 1080x720 with 6 Axes>"
      ]
     },
     "metadata": {
      "needs_background": "light"
     },
     "output_type": "display_data"
    }
   ],
   "source": [
    "import matplotlib.pyplot as plt\n",
    "\n",
    "# data visualization by plotting histograms\n",
    "scale = 5\n",
    "data.hist(bins=50, figsize=(3*scale,2*scale), layout=(2,3))\n",
    "plt.show()"
   ]
  },
  {
   "cell_type": "markdown",
   "metadata": {
    "pycharm": {
     "name": "#%% md\n"
    },
    "id": "nMDtlQD9CSvq"
   },
   "source": [
    "## 4. Algorithms #1 (Shengbo Jin)"
   ]
  },
  {
   "cell_type": "markdown",
   "source": [
    "A recurrent neural network (RNN) architecture differs from a feedforward network in that some of the output of neurons are fed back into the network. This models the flow of information or memory over time by using hidden state. The main application of RNNs is time series prediction. This is consistent with our goals because stock price is a typical time series data. Thus, in the first two algorithms, I chose Vanilla RNN (Simple RNN) and LSTM, and use the past 10 days market data to predict 1 day ahead close price."
   ],
   "metadata": {
    "collapsed": false,
    "pycharm": {
     "name": "#%% md\n"
    },
    "id": "ZVlkcDcdCSvq"
   }
  },
  {
   "cell_type": "markdown",
   "metadata": {
    "pycharm": {
     "name": "#%% md\n"
    },
    "id": "AptLRog_CSvq"
   },
   "source": [
    "### 4.1 Vanilla RNN"
   ]
  },
  {
   "cell_type": "code",
   "execution_count": null,
   "metadata": {
    "pycharm": {
     "name": "#%%\n"
    },
    "id": "8vOv1yO8CSvq"
   },
   "outputs": [],
   "source": [
    "# convert time series data into cross-sectional data\n",
    "def ts_split(ts, feature_steps=10, target_steps=1):\n",
    "    ts = ts.flatten()\n",
    "    n_obs = len(ts) - feature_steps - target_steps + 1\n",
    "    X = np.array([ts[idx:idx + feature_steps] for idx in range(n_obs)])\n",
    "    y = np.array([ts[idx + feature_steps:idx + feature_steps + target_steps]\n",
    "                  for idx in range(n_obs)])\n",
    "    return X, y"
   ]
  },
  {
   "cell_type": "code",
   "execution_count": null,
   "metadata": {
    "pycharm": {
     "name": "#%%\n"
    },
    "id": "shT_dFwVCSvr"
   },
   "outputs": [],
   "source": [
    "from sklearn.preprocessing import MinMaxScaler\n",
    "\n",
    "# split original data into train set, valid set and test set\n",
    "def ts_process(ts, train_start_date, train_end_date,\n",
    "               valid_start_date, valid_end_date,\n",
    "               test_start_date, test_end_date,\n",
    "               window=10, ahead=1):\n",
    "    train = ts[train_start_date:train_end_date]\n",
    "    valid = ts[valid_start_date:valid_end_date]\n",
    "    test = ts[test_start_date:test_end_date]\n",
    "    # feature scaling by min-max scaler\n",
    "    scaler = MinMaxScaler()\n",
    "    train = scaler.fit_transform(train.values.reshape(-1, 1))\n",
    "    X_train, y_train = ts_split(train, feature_steps=window, target_steps=ahead)\n",
    "    valid = scaler.transform(valid.values.reshape(-1, 1))\n",
    "    X_valid, y_valid = ts_split(valid, feature_steps=window, target_steps=ahead)\n",
    "    test = scaler.transform(test.values.reshape(-1, 1))\n",
    "    X_test, y_test = ts_split(test, feature_steps=window, target_steps=ahead)\n",
    "    return X_train, y_train, X_valid, y_valid, X_test, y_test"
   ]
  },
  {
   "cell_type": "code",
   "execution_count": null,
   "metadata": {
    "pycharm": {
     "name": "#%%\n"
    },
    "id": "0Rqkhd7kCSvr"
   },
   "outputs": [],
   "source": [
    "# preprocessing data\n",
    "train_start_date = '2010-01-01'\n",
    "train_end_date = '2017-12-31'\n",
    "valid_start_date = '2018-01-01'\n",
    "valid_end_date = '2018-12-31'\n",
    "test_start_date = '2019-01-01'\n",
    "test_end_date = '2019-12-31'\n",
    "# use past 10 days data to predict 1 day ahead\n",
    "window = 10\n",
    "ahead = 1\n",
    "\n",
    "data = data.drop('Adj Close', axis=1)\n",
    "\n",
    "X_train, y_train, X_valid, y_valid, X_test, y_test = ts_process(data['Close'], train_start_date, train_end_date,\n",
    "                                                                valid_start_date, valid_end_date,\n",
    "                                                                test_start_date, test_end_date,\n",
    "                                                                window, ahead)\n",
    "# convert 2d array into 3d array\n",
    "X_train = np.atleast_3d(X_train)\n",
    "X_valid = np.atleast_3d(X_valid)\n",
    "X_test = np.atleast_3d(X_test)\n",
    "# add more features\n",
    "for x in data.columns.drop('Close'):\n",
    "    X1, y1, X2, y2, X3, y3 = ts_process(data[x], train_start_date, train_end_date,\n",
    "                                        valid_start_date, valid_end_date,\n",
    "                                        test_start_date, test_end_date,\n",
    "                                        window, ahead)\n",
    "    X_train = np.append(X_train , np.atleast_3d(X1), axis=2)\n",
    "    X_valid = np.append(X_valid, np.atleast_3d(X2), axis=2)\n",
    "    X_test = np.append(X_test, np.atleast_3d(X3), axis=2)"
   ]
  },
  {
   "cell_type": "code",
   "execution_count": null,
   "metadata": {
    "pycharm": {
     "name": "#%%\n"
    },
    "id": "X3BBNyItCSvr",
    "outputId": "809b0d59-5711-4e09-9e2c-acc0b2a63c17"
   },
   "outputs": [
    {
     "data": {
      "text/plain": [
       "(2003, 10, 5)"
      ]
     },
     "execution_count": 26,
     "metadata": {},
     "output_type": "execute_result"
    }
   ],
   "source": [
    "X_train.shape"
   ]
  },
  {
   "cell_type": "code",
   "execution_count": null,
   "metadata": {
    "pycharm": {
     "name": "#%%\n"
    },
    "id": "rJQF2ZiZCSvs",
    "outputId": "01885582-92b1-4ea1-eef3-5fc24a9f8f44"
   },
   "outputs": [
    {
     "data": {
      "text/plain": [
       "(2003, 1)"
      ]
     },
     "execution_count": 27,
     "metadata": {},
     "output_type": "execute_result"
    }
   ],
   "source": [
    "y_train.shape"
   ]
  },
  {
   "cell_type": "code",
   "execution_count": null,
   "metadata": {
    "pycharm": {
     "name": "#%%\n"
    },
    "id": "46KWU6ODCSvs",
    "outputId": "48aff488-a537-410d-9e6d-812979324d01"
   },
   "outputs": [
    {
     "data": {
      "image/png": "[encoded data removed]",
      "text/plain": [
       "<Figure size 1440x720 with 1 Axes>"
      ]
     },
     "metadata": {
      "needs_background": "light"
     },
     "output_type": "display_data"
    }
   ],
   "source": [
    "# history of used close price data\n",
    "history = data['Close'][train_start_date:test_end_date]\n",
    "\n",
    "plt.figure(figsize=(20,10))\n",
    "plt.title('SPY History', fontsize=20)\n",
    "plt.plot(history)\n",
    "plt.xlabel('Date', fontsize=15)\n",
    "plt.ylabel('Close Price', fontsize=15)\n",
    "plt.show()"
   ]
  },
  {
   "cell_type": "code",
   "execution_count": null,
   "metadata": {
    "pycharm": {
     "name": "#%%\n"
    },
    "id": "1Qe6ui-_CSvs"
   },
   "outputs": [],
   "source": [
    "import tensorflow as tf\n",
    "import tensorflow.keras as keras\n",
    "import random as python_random\n",
    "\n",
    "# define helper function to set the random seed and reset the TensorFlow backend of Keras.\n",
    "def reset_session(seed=42):\n",
    "    tf.random.set_seed(seed)\n",
    "    python_random.seed(seed)\n",
    "    np.random.seed(seed)\n",
    "    tf.keras.backend.clear_session()"
   ]
  },
  {
   "cell_type": "code",
   "execution_count": null,
   "metadata": {
    "pycharm": {
     "name": "#%%\n"
    },
    "id": "gW8FodZNCSvs",
    "outputId": "bcb00472-4cb6-44d0-bfb0-54a558142bb4"
   },
   "outputs": [
    {
     "name": "stdout",
     "output_type": "stream",
     "text": [
      "CPU times: total: 2h 36min 36s\n",
      "Wall time: 1h 7min 54s\n"
     ]
    }
   ],
   "source": [
    "%%time\n",
    "# hyperparamter combinations\n",
    "n_hidden_list = [2, 3, 4, 5]\n",
    "n_neuron_list = [20, 30, 40, 50, 60]\n",
    "drop_rate_list = [0.1, 0.2, 0.3, 0.4, 0.5]\n",
    "re_drop_rate_list = [0.1, 0.2, 0.3, 0.4, 0.5]\n",
    "\n",
    "rmse_list = []\n",
    "# gridsearch\n",
    "for n_hidden in n_hidden_list:\n",
    "    for n_neuron in n_neuron_list:\n",
    "        for drop_rate in drop_rate_list:\n",
    "            for re_drop_rate in re_drop_rate_list:\n",
    "                reset_session()\n",
    "                # create neural network\n",
    "                model = keras.models.Sequential()\n",
    "                model.add(keras.layers.SimpleRNN(n_neuron, return_sequences=True,\n",
    "                                                 dropout=drop_rate, recurrent_dropout=re_drop_rate,\n",
    "                                                 input_shape=[X_train.shape[1], X_train.shape[2]]))\n",
    "                for layer in range(n_hidden-2):\n",
    "                    model.add(keras.layers.SimpleRNN(n_neuron, return_sequences=True,\n",
    "                                                     dropout=drop_rate, recurrent_dropout=re_drop_rate))\n",
    "                model.add(keras.layers.SimpleRNN(n_neuron, return_sequences=False,\n",
    "                                                 dropout=drop_rate, recurrent_dropout=re_drop_rate))\n",
    "                model.add(keras.layers.Dense(1))\n",
    "                # specify loss function and optimization algorithm\n",
    "                model.compile(loss=\"mse\", optimizer=\"nadam\")\n",
    "                # implement early stopping strategy\n",
    "                early_stopping_cb = keras.callbacks.EarlyStopping(monitor='val_loss',\n",
    "                                                                  patience=10,\n",
    "                                                                  restore_best_weights=True)\n",
    "                model.fit(X_train, y_train, epochs=200,\n",
    "                          validation_data=(X_valid, y_valid),\n",
    "                          callbacks=early_stopping_cb, verbose=0)\n",
    "                # calculate RMSE\n",
    "                rmse_list.append(np.sqrt(model.evaluate(X_valid, y_valid, verbose=0)))\n",
    "\n",
    "rmse_list = np.array(rmse_list)"
   ]
  },
  {
   "cell_type": "code",
   "execution_count": null,
   "metadata": {
    "pycharm": {
     "name": "#%%\n"
    },
    "id": "TYiMUGohCSvt",
    "outputId": "e7f5aace-0a48-43da-dc61-bf9a018b7b6c"
   },
   "outputs": [
    {
     "name": "stdout",
     "output_type": "stream",
     "text": [
      "['(n_hidden, n_neuron, drop_rate, re_drop_rate]):', [2, 60, 0.1, 0.1]]\n",
      "0.027098393627767565\n"
     ]
    }
   ],
   "source": [
    "# best hyperparamters\n",
    "idx = 0\n",
    "for n_hidden in n_hidden_list:\n",
    "    for n_neuron in n_neuron_list:\n",
    "        for drop_rate in drop_rate_list:\n",
    "            for re_drop_rate in re_drop_rate_list:\n",
    "                if idx == np.argmin(rmse_list):\n",
    "                    print([\"(n_hidden, n_neuron, drop_rate, re_drop_rate]):\",\n",
    "                           [n_hidden, n_neuron, drop_rate, re_drop_rate]])\n",
    "                    print(rmse_list[idx])\n",
    "                idx += 1"
   ]
  },
  {
   "cell_type": "code",
   "execution_count": null,
   "metadata": {
    "pycharm": {
     "name": "#%%\n"
    },
    "id": "IyNSrdWpCSvt",
    "outputId": "4aa5965d-9f2b-41f5-91d5-9ebf2323e137"
   },
   "outputs": [
    {
     "name": "stdout",
     "output_type": "stream",
     "text": [
      "Epoch 1/200\n",
      "63/63 [==============================] - 2s 8ms/step - loss: 0.1289 - val_loss: 0.0019\n",
      "Epoch 2/200\n",
      "63/63 [==============================] - 0s 4ms/step - loss: 0.0368 - val_loss: 0.0086\n",
      "Epoch 3/200\n",
      "63/63 [==============================] - 0s 4ms/step - loss: 0.0223 - val_loss: 0.0169\n",
      "Epoch 4/200\n",
      "63/63 [==============================] - 0s 4ms/step - loss: 0.0154 - val_loss: 0.0019\n",
      "Epoch 5/200\n",
      "63/63 [==============================] - 0s 4ms/step - loss: 0.0126 - val_loss: 0.0037\n",
      "Epoch 6/200\n",
      "63/63 [==============================] - 0s 4ms/step - loss: 0.0120 - val_loss: 0.0016\n",
      "Epoch 7/200\n",
      "63/63 [==============================] - 0s 4ms/step - loss: 0.0115 - val_loss: 0.0011\n",
      "Epoch 8/200\n",
      "63/63 [==============================] - 0s 4ms/step - loss: 0.0099 - val_loss: 0.0021\n",
      "Epoch 9/200\n",
      "63/63 [==============================] - 0s 4ms/step - loss: 0.0086 - val_loss: 0.0012\n",
      "Epoch 10/200\n",
      "63/63 [==============================] - 0s 4ms/step - loss: 0.0081 - val_loss: 9.0027e-04\n",
      "Epoch 11/200\n",
      "63/63 [==============================] - 0s 4ms/step - loss: 0.0075 - val_loss: 0.0151\n",
      "Epoch 12/200\n",
      "63/63 [==============================] - 0s 4ms/step - loss: 0.0076 - val_loss: 9.8871e-04\n",
      "Epoch 13/200\n",
      "63/63 [==============================] - 0s 4ms/step - loss: 0.0066 - val_loss: 0.0057\n",
      "Epoch 14/200\n",
      "63/63 [==============================] - 0s 4ms/step - loss: 0.0062 - val_loss: 0.0011\n",
      "Epoch 15/200\n",
      "63/63 [==============================] - 0s 5ms/step - loss: 0.0061 - val_loss: 0.0021\n",
      "Epoch 16/200\n",
      "63/63 [==============================] - 0s 5ms/step - loss: 0.0058 - val_loss: 7.6987e-04\n",
      "Epoch 17/200\n",
      "63/63 [==============================] - 0s 4ms/step - loss: 0.0051 - val_loss: 0.0013\n",
      "Epoch 18/200\n",
      "63/63 [==============================] - 0s 4ms/step - loss: 0.0069 - val_loss: 0.0113\n",
      "Epoch 19/200\n",
      "63/63 [==============================] - 0s 4ms/step - loss: 0.0061 - val_loss: 0.0178\n",
      "Epoch 20/200\n",
      "63/63 [==============================] - 0s 4ms/step - loss: 0.0050 - val_loss: 0.0012\n",
      "Epoch 21/200\n",
      "63/63 [==============================] - 0s 4ms/step - loss: 0.0050 - val_loss: 0.0525\n",
      "Epoch 22/200\n",
      "63/63 [==============================] - 0s 4ms/step - loss: 0.0049 - val_loss: 0.0040\n",
      "Epoch 23/200\n",
      "63/63 [==============================] - 0s 4ms/step - loss: 0.0046 - val_loss: 7.6468e-04\n",
      "Epoch 24/200\n",
      "63/63 [==============================] - 0s 4ms/step - loss: 0.0040 - val_loss: 0.0077\n",
      "Epoch 25/200\n",
      "63/63 [==============================] - 0s 4ms/step - loss: 0.0043 - val_loss: 0.0033\n",
      "Epoch 26/200\n",
      "63/63 [==============================] - 0s 4ms/step - loss: 0.0047 - val_loss: 9.6579e-04\n",
      "Epoch 27/200\n",
      "63/63 [==============================] - 0s 4ms/step - loss: 0.0038 - val_loss: 0.0077\n",
      "Epoch 28/200\n",
      "63/63 [==============================] - 0s 4ms/step - loss: 0.0037 - val_loss: 0.0053\n",
      "Epoch 29/200\n",
      "63/63 [==============================] - 0s 4ms/step - loss: 0.0035 - val_loss: 0.0036\n",
      "Epoch 30/200\n",
      "63/63 [==============================] - 0s 4ms/step - loss: 0.0040 - val_loss: 0.0040\n",
      "Epoch 31/200\n",
      "63/63 [==============================] - 0s 4ms/step - loss: 0.0037 - val_loss: 0.0040\n",
      "Epoch 32/200\n",
      "63/63 [==============================] - 0s 4ms/step - loss: 0.0038 - val_loss: 0.0035\n",
      "Epoch 33/200\n",
      "63/63 [==============================] - 0s 4ms/step - loss: 0.0030 - val_loss: 0.0172\n"
     ]
    }
   ],
   "source": [
    "# best model\n",
    "reset_session()\n",
    "\n",
    "best_model = keras.models.Sequential()\n",
    "best_model.add(keras.layers.SimpleRNN(60, return_sequences=True,\n",
    "                                      dropout=0.1, recurrent_dropout=0.1,\n",
    "                                      input_shape=[X_train.shape[1], X_train.shape[2]]))\n",
    "best_model.add(keras.layers.SimpleRNN(60, return_sequences=False,\n",
    "                                      dropout=0.1, recurrent_dropout=0.1))\n",
    "best_model.add(keras.layers.Dense(1))\n",
    "\n",
    "best_model.compile(loss=\"mse\", optimizer=\"nadam\")\n",
    "# save the model only if it improves validation accuracy\n",
    "checkpoint_cb = keras.callbacks.ModelCheckpoint(\"VanillaRNN.h5\",\n",
    "                                                save_best_only=True)\n",
    "early_stopping_cb = keras.callbacks.EarlyStopping(monitor='val_loss',\n",
    "                                                  patience=10,\n",
    "                                                  restore_best_weights=True)\n",
    "\n",
    "run = best_model.fit(X_train, y_train, epochs=200,\n",
    "                     validation_data=(X_valid, y_valid),\n",
    "                     callbacks=[checkpoint_cb, early_stopping_cb])"
   ]
  },
  {
   "cell_type": "code",
   "execution_count": null,
   "metadata": {
    "pycharm": {
     "name": "#%%\n"
    },
    "id": "cOACUJ0sCSvt",
    "outputId": "3f722b33-10e2-479d-fdb5-fa8f9244d100"
   },
   "outputs": [
    {
     "name": "stdout",
     "output_type": "stream",
     "text": [
      "Model: \"sequential\"\n",
      "_________________________________________________________________\n",
      " Layer (type)                Output Shape              Param #   \n",
      "=================================================================\n",
      " simple_rnn (SimpleRNN)      (None, 10, 60)            3960      \n",
      "                                                                 \n",
      " simple_rnn_1 (SimpleRNN)    (None, 60)                7260      \n",
      "                                                                 \n",
      " dense (Dense)               (None, 1)                 61        \n",
      "                                                                 \n",
      "=================================================================\n",
      "Total params: 11,281\n",
      "Trainable params: 11,281\n",
      "Non-trainable params: 0\n",
      "_________________________________________________________________\n"
     ]
    }
   ],
   "source": [
    "best_model.summary()"
   ]
  },
  {
   "cell_type": "code",
   "execution_count": null,
   "metadata": {
    "pycharm": {
     "name": "#%%\n"
    },
    "id": "wehoatm-CSvt",
    "outputId": "ae144883-a353-4d95-f8ec-fc94bc7e07f3"
   },
   "outputs": [
    {
     "data": {
      "image/png": "[encoded data removed]",
      "text/plain": [
       "<Figure size 576x360 with 1 Axes>"
      ]
     },
     "metadata": {
      "needs_background": "light"
     },
     "output_type": "display_data"
    }
   ],
   "source": [
    "# plot learning curve to check overfitting\n",
    "pd.DataFrame(run.history).plot(figsize=(8, 5))\n",
    "plt.grid(True)\n",
    "plt.show()"
   ]
  },
  {
   "cell_type": "code",
   "execution_count": null,
   "metadata": {
    "pycharm": {
     "name": "#%%\n"
    },
    "id": "oVIN3uOtCSvt",
    "outputId": "a46bf3d5-364e-4104-fb05-7f6d11fa486f"
   },
   "outputs": [
    {
     "data": {
      "text/plain": [
       "9.167513597591462"
      ]
     },
     "execution_count": 38,
     "metadata": {},
     "output_type": "execute_result"
    }
   ],
   "source": [
    "from sklearn.metrics import mean_squared_error\n",
    "\n",
    "y_pred = best_model.predict(X_test)\n",
    "# inverse transform to unscale y\n",
    "scaler = MinMaxScaler()\n",
    "scaler.fit_transform(data['Close'][train_start_date:train_end_date].values.reshape(-1, 1))\n",
    "y_pred_unscaled = scaler.inverse_transform(y_pred)\n",
    "y_test_unscaled = scaler.inverse_transform(y_test)\n",
    "# calculate RMSE on test set\n",
    "rmse_test = np.sqrt(mean_squared_error(y_pred_unscaled, y_test_unscaled))\n",
    "rmse_test"
   ]
  },
  {
   "cell_type": "code",
   "execution_count": null,
   "metadata": {
    "pycharm": {
     "name": "#%%\n"
    },
    "id": "u9hsrqRHCSvu",
    "outputId": "d450a216-30cf-414e-97c9-6ae8a93e7915"
   },
   "outputs": [
    {
     "data": {
      "text/plain": [
       "0.45041322314049587"
      ]
     },
     "execution_count": 39,
     "metadata": {},
     "output_type": "execute_result"
    }
   ],
   "source": [
    "from sklearn.metrics import accuracy_score\n",
    "\n",
    "# determine the movement direction\n",
    "movement_test = X_test[:, -1, 0] < y_test.ravel()\n",
    "movement_pred = X_test[:, -1, 0] < y_pred.ravel()\n",
    "# calculate accuracy for movement direction forecast\n",
    "move_accuracy = accuracy_score(movement_test, movement_pred)\n",
    "move_accuracy"
   ]
  },
  {
   "cell_type": "code",
   "execution_count": null,
   "metadata": {
    "pycharm": {
     "name": "#%%\n"
    },
    "id": "7_PrkThbCSvu",
    "outputId": "17bfd59b-a8a7-4d6a-dc3a-5d1d6aac4ce4"
   },
   "outputs": [
    {
     "data": {
      "image/png": "[encoded data removed]",
      "text/plain": [
       "<Figure size 1440x720 with 1 Axes>"
      ]
     },
     "metadata": {
      "needs_background": "light"
     },
     "output_type": "display_data"
    }
   ],
   "source": [
    "# plot actual price and predicted one for comparison\n",
    "plt.figure(figsize=(20,10))\n",
    "plt.title('Vanilla RNN', fontsize=20)\n",
    "plt.plot(y_test_unscaled, label='test')\n",
    "plt.plot(y_pred_unscaled, label='pred')\n",
    "plt.xlabel('Date', fontsize=15)\n",
    "plt.ylabel('Close Price', fontsize=15)\n",
    "plt.legend()\n",
    "plt.show()"
   ]
  },
  {
   "cell_type": "markdown",
   "metadata": {
    "pycharm": {
     "name": "#%% md\n"
    },
    "id": "GOpsJni9CSvu"
   },
   "source": [
    "### 4.2 LSTM"
   ]
  },
  {
   "cell_type": "code",
   "execution_count": null,
   "metadata": {
    "pycharm": {
     "name": "#%%\n"
    },
    "id": "Drqql4BnCSvv",
    "outputId": "8432b3a3-460c-4e89-ed9c-218c6a9ad545"
   },
   "outputs": [
    {
     "name": "stdout",
     "output_type": "stream",
     "text": [
      "CPU times: total: 13h 52min 28s\n",
      "Wall time: 3h 16min 29s\n"
     ]
    }
   ],
   "source": [
    "%%time\n",
    "# hyperparamter combinations\n",
    "n_hidden_list = [2, 3, 4, 5]\n",
    "n_neuron_list = [20, 30, 40, 50, 60]\n",
    "drop_rate_list = [0.1, 0.2, 0.3, 0.4, 0.5]\n",
    "re_drop_rate_list = [0.1, 0.2, 0.3, 0.4, 0.5]\n",
    "\n",
    "rmse_list = []\n",
    "# gridsearch\n",
    "for n_hidden in n_hidden_list:\n",
    "    for n_neuron in n_neuron_list:\n",
    "        for drop_rate in drop_rate_list:\n",
    "            for re_drop_rate in re_drop_rate_list:\n",
    "                reset_session()\n",
    "                # create neural network\n",
    "                model = keras.models.Sequential()\n",
    "                model.add(keras.layers.LSTM(n_neuron, return_sequences=True,\n",
    "                                            dropout=drop_rate, recurrent_dropout=re_drop_rate,\n",
    "                                            input_shape=[X_train.shape[1], X_train.shape[2]]))\n",
    "                for layer in range(n_hidden-2):\n",
    "                    model.add(keras.layers.LSTM(n_neuron, return_sequences=True,\n",
    "                                                dropout=drop_rate, recurrent_dropout=re_drop_rate))\n",
    "                model.add(keras.layers.LSTM(n_neuron, return_sequences=False,\n",
    "                                            dropout=drop_rate, recurrent_dropout=re_drop_rate))\n",
    "                model.add(keras.layers.Dense(1))\n",
    "                # specify loss function and optimization algorithm\n",
    "                model.compile(loss=\"mse\", optimizer=\"nadam\")\n",
    "                # implement early stopping strategy\n",
    "                early_stopping_cb = keras.callbacks.EarlyStopping(monitor='val_loss',\n",
    "                                                                  patience=10,\n",
    "                                                                  restore_best_weights=True)\n",
    "                model.fit(X_train, y_train, epochs=200,\n",
    "                          validation_data=(X_valid, y_valid),\n",
    "                          callbacks=early_stopping_cb, verbose=0)\n",
    "                # calculate RMSE\n",
    "                rmse_list.append(np.sqrt(model.evaluate(X_valid, y_valid, verbose=0)))\n",
    "\n",
    "rmse_list = np.array(rmse_list)"
   ]
  },
  {
   "cell_type": "code",
   "execution_count": null,
   "metadata": {
    "pycharm": {
     "name": "#%%\n"
    },
    "id": "5CxVHGyDCSvv",
    "outputId": "ce21ea76-710b-481a-d06f-0f3dc3ee0ec8"
   },
   "outputs": [
    {
     "name": "stdout",
     "output_type": "stream",
     "text": [
      "['(n_hidden, n_neuron, drop_rate, re_drop_rate]):', [2, 40, 0.1, 0.4]]\n",
      "0.02824398970228934\n"
     ]
    }
   ],
   "source": [
    "# best hyperparamters\n",
    "idx = 0\n",
    "for n_hidden in n_hidden_list:\n",
    "    for n_neuron in n_neuron_list:\n",
    "        for drop_rate in drop_rate_list:\n",
    "            for re_drop_rate in re_drop_rate_list:\n",
    "                if idx == np.argmin(rmse_list):\n",
    "                    print([\"(n_hidden, n_neuron, drop_rate, re_drop_rate]):\",\n",
    "                           [n_hidden, n_neuron, drop_rate, re_drop_rate]])\n",
    "                    print(rmse_list[idx])\n",
    "                idx += 1"
   ]
  },
  {
   "cell_type": "code",
   "execution_count": null,
   "metadata": {
    "pycharm": {
     "name": "#%%\n"
    },
    "id": "5Yk9c19YCSvv",
    "outputId": "03a42631-f452-45e9-bf5d-f264d42dc5db"
   },
   "outputs": [
    {
     "name": "stdout",
     "output_type": "stream",
     "text": [
      "Epoch 1/200\n",
      "63/63 [==============================] - 4s 12ms/step - loss: 0.0274 - val_loss: 0.0023\n",
      "Epoch 2/200\n",
      "63/63 [==============================] - 1s 8ms/step - loss: 0.0018 - val_loss: 0.0013\n",
      "Epoch 3/200\n",
      "63/63 [==============================] - 0s 7ms/step - loss: 0.0015 - val_loss: 0.0018\n",
      "Epoch 4/200\n",
      "63/63 [==============================] - 0s 8ms/step - loss: 0.0016 - val_loss: 0.0015\n",
      "Epoch 5/200\n",
      "63/63 [==============================] - 0s 7ms/step - loss: 0.0014 - val_loss: 0.0015\n",
      "Epoch 6/200\n",
      "63/63 [==============================] - 0s 7ms/step - loss: 0.0014 - val_loss: 0.0035\n",
      "Epoch 7/200\n",
      "63/63 [==============================] - 0s 7ms/step - loss: 0.0012 - val_loss: 0.0011\n",
      "Epoch 8/200\n",
      "63/63 [==============================] - 0s 8ms/step - loss: 0.0012 - val_loss: 0.0016\n",
      "Epoch 9/200\n",
      "63/63 [==============================] - 0s 8ms/step - loss: 0.0013 - val_loss: 0.0011\n",
      "Epoch 10/200\n",
      "63/63 [==============================] - 0s 7ms/step - loss: 0.0013 - val_loss: 0.0072\n",
      "Epoch 11/200\n",
      "63/63 [==============================] - 0s 7ms/step - loss: 0.0011 - val_loss: 0.0011\n",
      "Epoch 12/200\n",
      "63/63 [==============================] - 0s 7ms/step - loss: 0.0011 - val_loss: 0.0020\n",
      "Epoch 13/200\n",
      "63/63 [==============================] - 0s 7ms/step - loss: 0.0012 - val_loss: 0.0014\n",
      "Epoch 14/200\n",
      "63/63 [==============================] - 0s 7ms/step - loss: 0.0011 - val_loss: 0.0029\n",
      "Epoch 15/200\n",
      "63/63 [==============================] - 0s 7ms/step - loss: 0.0011 - val_loss: 0.0042\n",
      "Epoch 16/200\n",
      "63/63 [==============================] - 0s 7ms/step - loss: 0.0011 - val_loss: 0.0021\n",
      "Epoch 17/200\n",
      "63/63 [==============================] - 0s 7ms/step - loss: 0.0010 - val_loss: 0.0026\n",
      "Epoch 18/200\n",
      "63/63 [==============================] - 0s 7ms/step - loss: 0.0011 - val_loss: 0.0010\n",
      "Epoch 19/200\n",
      "63/63 [==============================] - 0s 8ms/step - loss: 0.0010 - val_loss: 0.0010\n",
      "Epoch 20/200\n",
      "63/63 [==============================] - 0s 7ms/step - loss: 0.0010 - val_loss: 0.0019\n",
      "Epoch 21/200\n",
      "63/63 [==============================] - 0s 8ms/step - loss: 9.3234e-04 - val_loss: 9.8534e-04\n",
      "Epoch 22/200\n",
      "63/63 [==============================] - 0s 7ms/step - loss: 9.3901e-04 - val_loss: 0.0029\n",
      "Epoch 23/200\n",
      "63/63 [==============================] - 1s 8ms/step - loss: 9.7608e-04 - val_loss: 0.0011\n",
      "Epoch 24/200\n",
      "63/63 [==============================] - 0s 8ms/step - loss: 9.2872e-04 - val_loss: 0.0011\n",
      "Epoch 25/200\n",
      "63/63 [==============================] - 0s 7ms/step - loss: 9.9903e-04 - val_loss: 0.0013\n",
      "Epoch 26/200\n",
      "63/63 [==============================] - 0s 8ms/step - loss: 9.4646e-04 - val_loss: 9.4359e-04\n",
      "Epoch 27/200\n",
      "63/63 [==============================] - 0s 7ms/step - loss: 9.3998e-04 - val_loss: 0.0031\n",
      "Epoch 28/200\n",
      "63/63 [==============================] - 0s 7ms/step - loss: 9.0247e-04 - val_loss: 9.2055e-04\n",
      "Epoch 29/200\n",
      "63/63 [==============================] - 0s 7ms/step - loss: 9.2177e-04 - val_loss: 9.1833e-04\n",
      "Epoch 30/200\n",
      "63/63 [==============================] - 0s 7ms/step - loss: 8.5287e-04 - val_loss: 0.0030\n",
      "Epoch 31/200\n",
      "63/63 [==============================] - 0s 7ms/step - loss: 9.3638e-04 - val_loss: 0.0017\n",
      "Epoch 32/200\n",
      "63/63 [==============================] - 0s 7ms/step - loss: 9.0807e-04 - val_loss: 0.0013\n",
      "Epoch 33/200\n",
      "63/63 [==============================] - 0s 7ms/step - loss: 8.5129e-04 - val_loss: 0.0023\n",
      "Epoch 34/200\n",
      "63/63 [==============================] - 0s 7ms/step - loss: 8.8475e-04 - val_loss: 0.0030\n",
      "Epoch 35/200\n",
      "63/63 [==============================] - 0s 7ms/step - loss: 8.7487e-04 - val_loss: 8.8083e-04\n",
      "Epoch 36/200\n",
      "63/63 [==============================] - 0s 7ms/step - loss: 9.6399e-04 - val_loss: 8.7082e-04\n",
      "Epoch 37/200\n",
      "63/63 [==============================] - 0s 7ms/step - loss: 8.1310e-04 - val_loss: 0.0013\n",
      "Epoch 38/200\n",
      "63/63 [==============================] - 0s 7ms/step - loss: 8.6635e-04 - val_loss: 0.0016\n",
      "Epoch 39/200\n",
      "63/63 [==============================] - 0s 7ms/step - loss: 8.8537e-04 - val_loss: 0.0038\n",
      "Epoch 40/200\n",
      "63/63 [==============================] - 0s 7ms/step - loss: 8.3023e-04 - val_loss: 0.0013\n",
      "Epoch 41/200\n",
      "63/63 [==============================] - 0s 7ms/step - loss: 8.1994e-04 - val_loss: 9.0517e-04\n",
      "Epoch 42/200\n",
      "63/63 [==============================] - 0s 7ms/step - loss: 7.9378e-04 - val_loss: 8.7322e-04\n",
      "Epoch 43/200\n",
      "63/63 [==============================] - 0s 7ms/step - loss: 8.1040e-04 - val_loss: 0.0025\n",
      "Epoch 44/200\n",
      "63/63 [==============================] - 0s 7ms/step - loss: 7.9510e-04 - val_loss: 8.5463e-04\n",
      "Epoch 45/200\n",
      "63/63 [==============================] - 0s 7ms/step - loss: 7.6437e-04 - val_loss: 0.0017\n",
      "Epoch 46/200\n",
      "63/63 [==============================] - 0s 7ms/step - loss: 7.2426e-04 - val_loss: 0.0013\n",
      "Epoch 47/200\n",
      "63/63 [==============================] - 0s 7ms/step - loss: 7.2827e-04 - val_loss: 8.7798e-04\n",
      "Epoch 48/200\n",
      "63/63 [==============================] - 0s 7ms/step - loss: 7.2223e-04 - val_loss: 0.0025\n",
      "Epoch 49/200\n",
      "63/63 [==============================] - 0s 7ms/step - loss: 6.7552e-04 - val_loss: 9.2902e-04\n",
      "Epoch 50/200\n",
      "63/63 [==============================] - 0s 7ms/step - loss: 7.9798e-04 - val_loss: 8.5391e-04\n",
      "Epoch 51/200\n",
      "63/63 [==============================] - 0s 7ms/step - loss: 7.3827e-04 - val_loss: 9.0843e-04\n",
      "Epoch 52/200\n",
      "63/63 [==============================] - 0s 7ms/step - loss: 7.0552e-04 - val_loss: 0.0017\n",
      "Epoch 53/200\n",
      "63/63 [==============================] - 0s 7ms/step - loss: 7.3284e-04 - val_loss: 0.0011\n",
      "Epoch 54/200\n",
      "63/63 [==============================] - 0s 7ms/step - loss: 7.8297e-04 - val_loss: 8.5257e-04\n",
      "Epoch 55/200\n",
      "63/63 [==============================] - 0s 7ms/step - loss: 6.9683e-04 - val_loss: 0.0028\n",
      "Epoch 56/200\n",
      "63/63 [==============================] - 0s 7ms/step - loss: 6.8798e-04 - val_loss: 8.1329e-04\n",
      "Epoch 57/200\n",
      "63/63 [==============================] - 0s 7ms/step - loss: 6.8557e-04 - val_loss: 0.0044\n",
      "Epoch 58/200\n",
      "63/63 [==============================] - 0s 7ms/step - loss: 6.9399e-04 - val_loss: 9.6789e-04\n",
      "Epoch 59/200\n",
      "63/63 [==============================] - 0s 7ms/step - loss: 6.8206e-04 - val_loss: 0.0031\n",
      "Epoch 60/200\n",
      "63/63 [==============================] - 0s 7ms/step - loss: 6.6433e-04 - val_loss: 0.0010\n",
      "Epoch 61/200\n",
      "63/63 [==============================] - 0s 7ms/step - loss: 6.5523e-04 - val_loss: 0.0013\n",
      "Epoch 62/200\n",
      "63/63 [==============================] - 0s 7ms/step - loss: 6.6622e-04 - val_loss: 8.1007e-04\n",
      "Epoch 63/200\n",
      "63/63 [==============================] - 0s 7ms/step - loss: 6.5185e-04 - val_loss: 0.0019\n",
      "Epoch 64/200\n",
      "63/63 [==============================] - 0s 7ms/step - loss: 6.6168e-04 - val_loss: 0.0033\n",
      "Epoch 65/200\n",
      "63/63 [==============================] - 0s 7ms/step - loss: 6.6740e-04 - val_loss: 0.0041\n",
      "Epoch 66/200\n",
      "63/63 [==============================] - 0s 7ms/step - loss: 6.9215e-04 - val_loss: 9.2788e-04\n",
      "Epoch 67/200\n",
      "63/63 [==============================] - 0s 7ms/step - loss: 6.1860e-04 - val_loss: 0.0012\n",
      "Epoch 68/200\n",
      "63/63 [==============================] - 0s 7ms/step - loss: 6.5849e-04 - val_loss: 8.4854e-04\n",
      "Epoch 69/200\n",
      "63/63 [==============================] - 0s 7ms/step - loss: 6.4909e-04 - val_loss: 8.9338e-04\n",
      "Epoch 70/200\n",
      "63/63 [==============================] - 0s 7ms/step - loss: 6.0346e-04 - val_loss: 0.0020\n",
      "Epoch 71/200\n",
      "63/63 [==============================] - 0s 7ms/step - loss: 6.4960e-04 - val_loss: 7.9138e-04\n",
      "Epoch 72/200\n",
      "63/63 [==============================] - 0s 7ms/step - loss: 5.5079e-04 - val_loss: 8.6334e-04\n",
      "Epoch 73/200\n",
      "63/63 [==============================] - 0s 7ms/step - loss: 5.9975e-04 - val_loss: 0.0017\n",
      "Epoch 74/200\n",
      "63/63 [==============================] - 0s 8ms/step - loss: 5.4223e-04 - val_loss: 8.1547e-04\n",
      "Epoch 75/200\n",
      "63/63 [==============================] - 0s 7ms/step - loss: 6.4264e-04 - val_loss: 0.0010\n",
      "Epoch 76/200\n",
      "63/63 [==============================] - 0s 7ms/step - loss: 5.7286e-04 - val_loss: 0.0016\n",
      "Epoch 77/200\n",
      "63/63 [==============================] - 1s 8ms/step - loss: 6.2542e-04 - val_loss: 0.0011\n",
      "Epoch 78/200\n",
      "63/63 [==============================] - 0s 7ms/step - loss: 6.0668e-04 - val_loss: 8.1811e-04\n",
      "Epoch 79/200\n",
      "63/63 [==============================] - 0s 7ms/step - loss: 5.7991e-04 - val_loss: 8.7066e-04\n",
      "Epoch 80/200\n",
      "63/63 [==============================] - 0s 7ms/step - loss: 6.2933e-04 - val_loss: 0.0025\n",
      "Epoch 81/200\n",
      "63/63 [==============================] - 1s 8ms/step - loss: 5.7748e-04 - val_loss: 0.0018\n"
     ]
    }
   ],
   "source": [
    "# best model\n",
    "reset_session()\n",
    "\n",
    "best_model = keras.models.Sequential()\n",
    "best_model.add(keras.layers.LSTM(40, return_sequences=True,\n",
    "                                 dropout=0.1, recurrent_dropout=0.4,\n",
    "                                 input_shape=[X_train.shape[1], X_train.shape[2]]))\n",
    "best_model.add(keras.layers.LSTM(40, return_sequences=False,\n",
    "                                 dropout=0.1, recurrent_dropout=0.4))\n",
    "best_model.add(keras.layers.Dense(1))\n",
    "\n",
    "best_model.compile(loss=\"mse\", optimizer=\"nadam\")\n",
    "# save the model only if it improves validation accuracy\n",
    "checkpoint_cb = keras.callbacks.ModelCheckpoint(\"LSTM.h5\",\n",
    "                                                save_best_only=True)\n",
    "early_stopping_cb = keras.callbacks.EarlyStopping(monitor='val_loss',\n",
    "                                                  patience=10,\n",
    "                                                  restore_best_weights=True)\n",
    "\n",
    "run = best_model.fit(X_train, y_train, epochs=200,\n",
    "                     validation_data=(X_valid, y_valid),\n",
    "                     callbacks=[checkpoint_cb, early_stopping_cb])"
   ]
  },
  {
   "cell_type": "code",
   "execution_count": null,
   "metadata": {
    "pycharm": {
     "name": "#%%\n"
    },
    "id": "wsYCNsp5CSvv",
    "outputId": "b8329585-07f8-4a75-ea42-d6c0ebafd594"
   },
   "outputs": [
    {
     "name": "stdout",
     "output_type": "stream",
     "text": [
      "Model: \"sequential\"\n",
      "_________________________________________________________________\n",
      " Layer (type)                Output Shape              Param #   \n",
      "=================================================================\n",
      " lstm (LSTM)                 (None, 10, 40)            7360      \n",
      "                                                                 \n",
      " lstm_1 (LSTM)               (None, 40)                12960     \n",
      "                                                                 \n",
      " dense (Dense)               (None, 1)                 41        \n",
      "                                                                 \n",
      "=================================================================\n",
      "Total params: 20,361\n",
      "Trainable params: 20,361\n",
      "Non-trainable params: 0\n",
      "_________________________________________________________________\n"
     ]
    }
   ],
   "source": [
    "best_model.summary()"
   ]
  },
  {
   "cell_type": "code",
   "execution_count": null,
   "metadata": {
    "pycharm": {
     "name": "#%%\n"
    },
    "id": "1W7FNtgdCSvv",
    "outputId": "6a52bd41-a3a4-406b-cd51-72a544c6e5ca"
   },
   "outputs": [
    {
     "data": {
      "image/png": "[encoded data removed]",
      "text/plain": [
       "<Figure size 576x360 with 1 Axes>"
      ]
     },
     "metadata": {
      "needs_background": "light"
     },
     "output_type": "display_data"
    }
   ],
   "source": [
    "# plot learning curve to check overfitting\n",
    "pd.DataFrame(run.history).plot(figsize=(8, 5))\n",
    "plt.grid(True)\n",
    "plt.show()"
   ]
  },
  {
   "cell_type": "code",
   "execution_count": null,
   "metadata": {
    "pycharm": {
     "name": "#%%\n"
    },
    "id": "r8WUjuVXCSvw",
    "outputId": "2f3d80c2-a4c8-45e7-b2c6-39d874f175f4"
   },
   "outputs": [
    {
     "data": {
      "text/plain": [
       "5.358733779450396"
      ]
     },
     "execution_count": 54,
     "metadata": {},
     "output_type": "execute_result"
    }
   ],
   "source": [
    "y_pred = best_model.predict(X_test)\n",
    "y_pred_unscaled = scaler.inverse_transform(y_pred)\n",
    "# calculate RMSE on test set\n",
    "rmse_test = np.sqrt(mean_squared_error(y_pred_unscaled, y_test_unscaled))\n",
    "rmse_test"
   ]
  },
  {
   "cell_type": "code",
   "execution_count": null,
   "metadata": {
    "pycharm": {
     "name": "#%%\n"
    },
    "id": "ThbwwZDACSvw",
    "outputId": "ff2468ef-f736-42e3-dd57-81ec68ec7aec"
   },
   "outputs": [
    {
     "data": {
      "text/plain": [
       "0.45867768595041325"
      ]
     },
     "execution_count": 55,
     "metadata": {},
     "output_type": "execute_result"
    }
   ],
   "source": [
    "movement_test = X_test[:, -1, 0] < y_test.ravel()\n",
    "movement_pred = X_test[:, -1, 0] < y_pred.ravel()\n",
    "# calculate accuracy for movement direction forecast\n",
    "move_accuracy = accuracy_score(movement_test, movement_pred)\n",
    "move_accuracy"
   ]
  },
  {
   "cell_type": "code",
   "execution_count": null,
   "metadata": {
    "pycharm": {
     "name": "#%%\n"
    },
    "id": "cgmh6kNhCSvw",
    "outputId": "d2183964-2c11-4e9f-c419-0d330717967d"
   },
   "outputs": [
    {
     "data": {
      "image/png": "[encoded data removed]",
      "text/plain": [
       "<Figure size 1440x720 with 1 Axes>"
      ]
     },
     "metadata": {
      "needs_background": "light"
     },
     "output_type": "display_data"
    }
   ],
   "source": [
    "# plot actual price and predicted one for comparison\n",
    "plt.figure(figsize=(20,10))\n",
    "plt.title('LSTM', fontsize=20)\n",
    "plt.plot(y_test_unscaled, label='test')\n",
    "plt.plot(y_pred_unscaled, label='pred')\n",
    "plt.xlabel('Date', fontsize=15)\n",
    "plt.ylabel('Close Price', fontsize=15)\n",
    "plt.legend()\n",
    "plt.show()"
   ]
  },
  {
   "cell_type": "markdown",
   "source": [
    "The above algorithms could achieve good performance on stock price prediction, even on the test set. However, based on the predicted value, the accuracy of movement direction of close price is pretty low, which means you cannot obtain effective trading signal. For practical use, the model needs to be redesigned. I use the movement direction of close price as target variable, and add more artificial features to build a classifier. In most cases, ensemble learning can aggregate different ML methods to obtain a more powerful method. Thus, for better performance, I chose XGBoost and random forest to forecast movement direction."
   ],
   "metadata": {
    "collapsed": false,
    "pycharm": {
     "name": "#%% md\n"
    },
    "id": "B7o4j9oXCSvw"
   }
  },
  {
   "cell_type": "markdown",
   "metadata": {
    "pycharm": {
     "name": "#%% md\n"
    },
    "id": "UqEPF2KYCSvw"
   },
   "source": [
    "### 4.3 XGBoost"
   ]
  },
  {
   "cell_type": "code",
   "execution_count": null,
   "metadata": {
    "pycharm": {
     "name": "#%%\n"
    },
    "id": "UGIp8HkZCSvx",
    "outputId": "50b7491a-2a5e-4fcc-b50f-41eef4899f8c"
   },
   "outputs": [
    {
     "data": {
      "text/html": [
       "<div>\n",
       "<style scoped>\n",
       "    .dataframe tbody tr th:only-of-type {\n",
       "        vertical-align: middle;\n",
       "    }\n",
       "\n",
       "    .dataframe tbody tr th {\n",
       "        vertical-align: top;\n",
       "    }\n",
       "\n",
       "    .dataframe thead th {\n",
       "        text-align: right;\n",
       "    }\n",
       "</style>\n",
       "<table border=\"1\" class=\"dataframe\">\n",
       "  <thead>\n",
       "    <tr style=\"text-align: right;\">\n",
       "      <th></th>\n",
       "      <th>Open</th>\n",
       "      <th>High</th>\n",
       "      <th>Low</th>\n",
       "      <th>Close</th>\n",
       "      <th>Volume</th>\n",
       "      <th>SMA10</th>\n",
       "      <th>SMA30</th>\n",
       "      <th>SMA200</th>\n",
       "      <th>EMA10</th>\n",
       "      <th>EMA30</th>\n",
       "      <th>...</th>\n",
       "      <th>RSI10</th>\n",
       "      <th>RSI30</th>\n",
       "      <th>RSI200</th>\n",
       "      <th>K10</th>\n",
       "      <th>D10</th>\n",
       "      <th>K30</th>\n",
       "      <th>D30</th>\n",
       "      <th>K200</th>\n",
       "      <th>D200</th>\n",
       "      <th>Movement</th>\n",
       "    </tr>\n",
       "    <tr>\n",
       "      <th>Date</th>\n",
       "      <th></th>\n",
       "      <th></th>\n",
       "      <th></th>\n",
       "      <th></th>\n",
       "      <th></th>\n",
       "      <th></th>\n",
       "      <th></th>\n",
       "      <th></th>\n",
       "      <th></th>\n",
       "      <th></th>\n",
       "      <th></th>\n",
       "      <th></th>\n",
       "      <th></th>\n",
       "      <th></th>\n",
       "      <th></th>\n",
       "      <th></th>\n",
       "      <th></th>\n",
       "      <th></th>\n",
       "      <th></th>\n",
       "      <th></th>\n",
       "      <th></th>\n",
       "    </tr>\n",
       "  </thead>\n",
       "  <tbody>\n",
       "    <tr>\n",
       "      <th>1986-12-31</th>\n",
       "      <td>0.165799</td>\n",
       "      <td>0.170139</td>\n",
       "      <td>0.165799</td>\n",
       "      <td>0.167535</td>\n",
       "      <td>23356800</td>\n",
       "      <td>0.167795</td>\n",
       "      <td>0.166464</td>\n",
       "      <td>0.117947</td>\n",
       "      <td>0.167448</td>\n",
       "      <td>0.162828</td>\n",
       "      <td>...</td>\n",
       "      <td>52.869841</td>\n",
       "      <td>60.266069</td>\n",
       "      <td>58.197867</td>\n",
       "      <td>47.053463</td>\n",
       "      <td>60.861885</td>\n",
       "      <td>67.443636</td>\n",
       "      <td>71.190205</td>\n",
       "      <td>86.275299</td>\n",
       "      <td>87.862662</td>\n",
       "      <td>0</td>\n",
       "    </tr>\n",
       "    <tr>\n",
       "      <th>1987-01-02</th>\n",
       "      <td>0.167535</td>\n",
       "      <td>0.169271</td>\n",
       "      <td>0.164931</td>\n",
       "      <td>0.165799</td>\n",
       "      <td>12643200</td>\n",
       "      <td>0.168056</td>\n",
       "      <td>0.167303</td>\n",
       "      <td>0.118286</td>\n",
       "      <td>0.167148</td>\n",
       "      <td>0.163020</td>\n",
       "      <td>...</td>\n",
       "      <td>49.036520</td>\n",
       "      <td>58.951990</td>\n",
       "      <td>57.958527</td>\n",
       "      <td>43.350721</td>\n",
       "      <td>49.712477</td>\n",
       "      <td>68.993941</td>\n",
       "      <td>68.993941</td>\n",
       "      <td>86.928857</td>\n",
       "      <td>86.928857</td>\n",
       "      <td>1</td>\n",
       "    </tr>\n",
       "    <tr>\n",
       "      <th>1987-01-05</th>\n",
       "      <td>0.165799</td>\n",
       "      <td>0.177083</td>\n",
       "      <td>0.164931</td>\n",
       "      <td>0.175347</td>\n",
       "      <td>48499200</td>\n",
       "      <td>0.169141</td>\n",
       "      <td>0.168287</td>\n",
       "      <td>0.118685</td>\n",
       "      <td>0.168639</td>\n",
       "      <td>0.163815</td>\n",
       "      <td>...</td>\n",
       "      <td>64.684351</td>\n",
       "      <td>63.482389</td>\n",
       "      <td>58.892992</td>\n",
       "      <td>58.475433</td>\n",
       "      <td>49.626539</td>\n",
       "      <td>77.143534</td>\n",
       "      <td>71.193704</td>\n",
       "      <td>90.523423</td>\n",
       "      <td>87.909193</td>\n",
       "      <td>1</td>\n",
       "    </tr>\n",
       "    <tr>\n",
       "      <th>1987-01-06</th>\n",
       "      <td>0.175347</td>\n",
       "      <td>0.178819</td>\n",
       "      <td>0.174479</td>\n",
       "      <td>0.177951</td>\n",
       "      <td>40032000</td>\n",
       "      <td>0.170096</td>\n",
       "      <td>0.168982</td>\n",
       "      <td>0.119110</td>\n",
       "      <td>0.170332</td>\n",
       "      <td>0.164727</td>\n",
       "      <td>...</td>\n",
       "      <td>67.690500</td>\n",
       "      <td>64.585149</td>\n",
       "      <td>59.141916</td>\n",
       "      <td>72.104360</td>\n",
       "      <td>57.976838</td>\n",
       "      <td>85.112068</td>\n",
       "      <td>77.083181</td>\n",
       "      <td>94.121156</td>\n",
       "      <td>90.524479</td>\n",
       "      <td>1</td>\n",
       "    </tr>\n",
       "    <tr>\n",
       "      <th>1987-01-07</th>\n",
       "      <td>0.177951</td>\n",
       "      <td>0.187500</td>\n",
       "      <td>0.177951</td>\n",
       "      <td>0.187500</td>\n",
       "      <td>60998400</td>\n",
       "      <td>0.171832</td>\n",
       "      <td>0.169821</td>\n",
       "      <td>0.119596</td>\n",
       "      <td>0.173453</td>\n",
       "      <td>0.166196</td>\n",
       "      <td>...</td>\n",
       "      <td>76.010742</td>\n",
       "      <td>68.225165</td>\n",
       "      <td>60.033864</td>\n",
       "      <td>94.324405</td>\n",
       "      <td>74.968066</td>\n",
       "      <td>95.964189</td>\n",
       "      <td>86.073264</td>\n",
       "      <td>98.696057</td>\n",
       "      <td>94.446879</td>\n",
       "      <td>1</td>\n",
       "    </tr>\n",
       "  </tbody>\n",
       "</table>\n",
       "<p>5 rows × 24 columns</p>\n",
       "</div>"
      ],
      "text/plain": [
       "                Open      High       Low     Close    Volume     SMA10  \\\n",
       "Date                                                                     \n",
       "1986-12-31  0.165799  0.170139  0.165799  0.167535  23356800  0.167795   \n",
       "1987-01-02  0.167535  0.169271  0.164931  0.165799  12643200  0.168056   \n",
       "1987-01-05  0.165799  0.177083  0.164931  0.175347  48499200  0.169141   \n",
       "1987-01-06  0.175347  0.178819  0.174479  0.177951  40032000  0.170096   \n",
       "1987-01-07  0.177951  0.187500  0.177951  0.187500  60998400  0.171832   \n",
       "\n",
       "               SMA30    SMA200     EMA10     EMA30  ...      RSI10      RSI30  \\\n",
       "Date                                                ...                         \n",
       "1986-12-31  0.166464  0.117947  0.167448  0.162828  ...  52.869841  60.266069   \n",
       "1987-01-02  0.167303  0.118286  0.167148  0.163020  ...  49.036520  58.951990   \n",
       "1987-01-05  0.168287  0.118685  0.168639  0.163815  ...  64.684351  63.482389   \n",
       "1987-01-06  0.168982  0.119110  0.170332  0.164727  ...  67.690500  64.585149   \n",
       "1987-01-07  0.169821  0.119596  0.173453  0.166196  ...  76.010742  68.225165   \n",
       "\n",
       "               RSI200        K10        D10        K30        D30       K200  \\\n",
       "Date                                                                           \n",
       "1986-12-31  58.197867  47.053463  60.861885  67.443636  71.190205  86.275299   \n",
       "1987-01-02  57.958527  43.350721  49.712477  68.993941  68.993941  86.928857   \n",
       "1987-01-05  58.892992  58.475433  49.626539  77.143534  71.193704  90.523423   \n",
       "1987-01-06  59.141916  72.104360  57.976838  85.112068  77.083181  94.121156   \n",
       "1987-01-07  60.033864  94.324405  74.968066  95.964189  86.073264  98.696057   \n",
       "\n",
       "                 D200  Movement  \n",
       "Date                             \n",
       "1986-12-31  87.862662         0  \n",
       "1987-01-02  86.928857         1  \n",
       "1987-01-05  87.909193         1  \n",
       "1987-01-06  90.524479         1  \n",
       "1987-01-07  94.446879         1  \n",
       "\n",
       "[5 rows x 24 columns]"
      ]
     },
     "execution_count": 62,
     "metadata": {},
     "output_type": "execute_result"
    }
   ],
   "source": [
    "import talib as ta\n",
    "\n",
    "# load stock data of Microsoft\n",
    "data = pd.read_csv('data/MSFT.csv', index_col=0)\n",
    "data.index = pd.to_datetime(data.index)\n",
    "data = data.drop('Adj Close', axis=1)\n",
    "# create artificial features (technical indicators)\n",
    "data['SMA10'] = ta.SMA(data['Close'], timeperiod=10)\n",
    "data['SMA30'] = ta.SMA(data['Close'], timeperiod=30)\n",
    "data['SMA200'] = ta.SMA(data['Close'], timeperiod=200)\n",
    "data['EMA10'] = ta.EMA(data['Close'], timeperiod=10)\n",
    "data['EMA30'] = ta.EMA(data['Close'], timeperiod=30)\n",
    "data['EMA200'] = ta.EMA(data['Close'], timeperiod=200)\n",
    "data['MOM10'] = ta.MOM(data['Close'], timeperiod=10)\n",
    "data['MOM30'] = ta.MOM(data['Close'], timeperiod=30)\n",
    "data['MOM200'] = ta.MOM(data['Close'], timeperiod=200)\n",
    "data['RSI10'] = ta.RSI(data['Close'], timeperiod=10)\n",
    "data['RSI30'] = ta.RSI(data['Close'], timeperiod=30)\n",
    "data['RSI200'] = ta.RSI(data['Close'], timeperiod=200)\n",
    "data['K10'], data['D10'] = ta.STOCH(data['High'], data['Low'], data['Close'], fastk_period=10)\n",
    "data['K30'], data['D30'] = ta.STOCH(data['High'], data['Low'], data['Close'], fastk_period=30)\n",
    "data['K200'], data['D200'] = ta.STOCH(data['High'], data['Low'], data['Close'], fastk_period=200)\n",
    "# label data by determine movement direction of close price\n",
    "data['Movement'] = np.where(data['Close'].shift(-1) > data['Close'], 1, 0)\n",
    "\n",
    "data = data.dropna()\n",
    "data.head()"
   ]
  },
  {
   "cell_type": "code",
   "execution_count": null,
   "metadata": {
    "pycharm": {
     "name": "#%%\n"
    },
    "id": "WBLwA4mYCSvx"
   },
   "outputs": [],
   "source": [
    "from sklearn.preprocessing import StandardScaler\n",
    "\n",
    "# split into train set and test set\n",
    "X_train = data['2010-01-01':'2017-12-31'].iloc[:, 0:-1]\n",
    "y_train = data['2010-01-01':'2017-12-31'].iloc[:, -1]\n",
    "X_test = data['2018-01-01':'2019-12-31'].iloc[:, 0:-1]\n",
    "y_test = data['2018-01-01':'2019-12-31'].iloc[:, -1]\n",
    "# feature scaling by standard scaler\n",
    "sc = StandardScaler()\n",
    "X_train = sc.fit_transform(X_train)\n",
    "X_test = sc.transform(X_test)"
   ]
  },
  {
   "cell_type": "code",
   "execution_count": null,
   "metadata": {
    "pycharm": {
     "name": "#%%\n"
    },
    "id": "oJP-l3-GCSvx",
    "outputId": "2a0cc2ee-bd4e-4f6f-ea50-e4a2eb565615"
   },
   "outputs": [
    {
     "name": "stdout",
     "output_type": "stream",
     "text": [
      "CPU times: total: 5h 1min 18s\n",
      "Wall time: 19min 54s\n"
     ]
    },
    {
     "data": {
      "text/plain": [
       "GridSearchCV(cv=3,\n",
       "             estimator=XGBClassifier(base_score=None, booster=None,\n",
       "                                     callbacks=None, colsample_bylevel=None,\n",
       "                                     colsample_bynode=None,\n",
       "                                     colsample_bytree=None,\n",
       "                                     early_stopping_rounds=None,\n",
       "                                     enable_categorical=False, eval_metric=None,\n",
       "                                     gamma=None, gpu_id=None, grow_policy=None,\n",
       "                                     importance_type=None,\n",
       "                                     interaction_constraints=None,\n",
       "                                     learning_rate=None, max_bin=None,\n",
       "                                     max_ca...\n",
       "                                     max_leaves=None, min_child_weight=None,\n",
       "                                     missing=nan, monotone_constraints=None,\n",
       "                                     n_estimators=100, n_jobs=None,\n",
       "                                     num_parallel_tree=None, predictor=None,\n",
       "                                     random_state=42, reg_alpha=None,\n",
       "                                     reg_lambda=None, ...),\n",
       "             param_grid={'gamma': [0, 0.1, 0.2, 0.5],\n",
       "                         'learning_rate': [0.005, 0.01, 0.05, 0.1, 0.2, 0.5],\n",
       "                         'max_depth': [2, 3, 4, 5, 6],\n",
       "                         'min_child_weight': [1, 2, 4, 8, 16],\n",
       "                         'n_estimators': [50, 100, 200, 500]},\n",
       "             scoring='accuracy')"
      ]
     },
     "execution_count": 70,
     "metadata": {},
     "output_type": "execute_result"
    }
   ],
   "source": [
    "%%time\n",
    "from xgboost import XGBClassifier\n",
    "from sklearn.model_selection import GridSearchCV\n",
    "\n",
    "param_grids = {\n",
    "    \"n_estimators\": [50, 100, 200, 500],\n",
    "    \"max_depth\": [2, 3, 4, 5, 6],\n",
    "    \"gamma\": [0, 0.1, 0.2, 0.5],\n",
    "    \"learning_rate\": [0.005, 0.01, 0.05, 0.1, 0.2, 0.5],\n",
    "    \"min_child_weight\": [1, 2, 4, 8, 16]\n",
    "}\n",
    "\n",
    "xgb = XGBClassifier(random_state=42)\n",
    "# hyperparameter tuning by gridsearch\n",
    "grid_search = GridSearchCV(xgb, param_grids, cv=3,\n",
    "                           scoring='accuracy')\n",
    "grid_search.fit(X_train, y_train)"
   ]
  },
  {
   "cell_type": "code",
   "execution_count": null,
   "metadata": {
    "pycharm": {
     "name": "#%%\n"
    },
    "id": "hO3HlDdTCSvx",
    "outputId": "29a6e6b4-861f-49be-b355-b241e1d401dc"
   },
   "outputs": [
    {
     "data": {
      "text/plain": [
       "{'gamma': 0,\n",
       " 'learning_rate': 0.05,\n",
       " 'max_depth': 2,\n",
       " 'min_child_weight': 1,\n",
       " 'n_estimators': 100}"
      ]
     },
     "execution_count": 71,
     "metadata": {},
     "output_type": "execute_result"
    }
   ],
   "source": [
    "# best hyperparameters\n",
    "best_model = grid_search.best_estimator_\n",
    "grid_search.best_params_"
   ]
  },
  {
   "cell_type": "code",
   "execution_count": null,
   "metadata": {
    "pycharm": {
     "name": "#%%\n"
    },
    "id": "XVu3-TYBCSvy",
    "outputId": "8002be2e-dc54-4d3c-91e0-ad56f2ac30d8"
   },
   "outputs": [
    {
     "data": {
      "text/plain": [
       "0.5606361829025845"
      ]
     },
     "execution_count": 72,
     "metadata": {},
     "output_type": "execute_result"
    }
   ],
   "source": [
    "# calculate accuracy for movement direction forecast\n",
    "y_pred = best_model.predict(X_test)\n",
    "accuracy_score(y_pred, y_test)"
   ]
  },
  {
   "cell_type": "code",
   "execution_count": null,
   "metadata": {
    "pycharm": {
     "name": "#%%\n"
    },
    "id": "cx_D7ACZCSvy",
    "outputId": "eedc44c9-a10d-4130-eb3f-dc3d90ec8e23"
   },
   "outputs": [
    {
     "name": "stdout",
     "output_type": "stream",
     "text": [
      "[0.05540261 0.06527925 0.04284213 0.03851926 0.05205336 0.04856825\n",
      " 0.04109845 0.07721332 0.         0.05978618 0.03909918 0.04101787\n",
      " 0.02966103 0.04790394 0.03721985 0.03866121 0.03812115 0.0449839\n",
      " 0.05213673 0.03694662 0.03798959 0.03028814 0.04520806]\n"
     ]
    }
   ],
   "source": [
    "# feature importance\n",
    "print(best_model.feature_importances_)"
   ]
  },
  {
   "cell_type": "markdown",
   "metadata": {
    "pycharm": {
     "name": "#%% md\n"
    },
    "id": "VtVZJW9wCSvy"
   },
   "source": [
    "### 4.4 Random Forest"
   ]
  },
  {
   "cell_type": "code",
   "execution_count": null,
   "metadata": {
    "pycharm": {
     "name": "#%%\n"
    },
    "id": "bcHX8_x7CSvy",
    "outputId": "e25bbdb9-7376-48fc-9e52-02d288dabfae"
   },
   "outputs": [
    {
     "name": "stdout",
     "output_type": "stream",
     "text": [
      "CPU times: total: 4.72 s\n",
      "Wall time: 1min 39s\n"
     ]
    },
    {
     "data": {
      "text/plain": [
       "RandomizedSearchCV(cv=5, estimator=RandomForestClassifier(random_state=42),\n",
       "                   n_iter=100, n_jobs=-1,\n",
       "                   param_distributions={'bootstrap': [True, False],\n",
       "                                        'max_depth': <scipy.stats._distn_infrastructure.rv_frozen object at 0x0000024825A255B0>,\n",
       "                                        'n_estimators': <scipy.stats._distn_infrastructure.rv_frozen object at 0x00000248299FBD30>},\n",
       "                   random_state=42)"
      ]
     },
     "execution_count": 64,
     "metadata": {},
     "output_type": "execute_result"
    }
   ],
   "source": [
    "%%time\n",
    "from sklearn.ensemble import RandomForestClassifier\n",
    "from sklearn.model_selection import RandomizedSearchCV\n",
    "from scipy.stats import randint\n",
    "\n",
    "param_distribs = {\n",
    "        'n_estimators': randint(low=50, high=500),\n",
    "        'max_depth': randint(low=5, high=40),\n",
    "        'bootstrap': [True, False],\n",
    "    }\n",
    "\n",
    "forest_clf = RandomForestClassifier(random_state=42)\n",
    "# hypyerparamter tuning by randomsearch\n",
    "rnd_search = RandomizedSearchCV(forest_clf, param_distributions=param_distribs,\n",
    "                                n_iter=100, cv=5, random_state=42,\n",
    "                                n_jobs=-1)\n",
    "\n",
    "rnd_search.fit(X_train, y_train)"
   ]
  },
  {
   "cell_type": "code",
   "execution_count": null,
   "metadata": {
    "pycharm": {
     "name": "#%%\n"
    },
    "id": "GELpHCDoCSvz",
    "outputId": "1578b613-5c06-43af-c39a-3e57cfc7193e"
   },
   "outputs": [
    {
     "data": {
      "text/plain": [
       "{'bootstrap': False, 'max_depth': 19, 'n_estimators': 264}"
      ]
     },
     "execution_count": 66,
     "metadata": {},
     "output_type": "execute_result"
    }
   ],
   "source": [
    "# best hyperparameters\n",
    "best_model = rnd_search.best_estimator_\n",
    "rnd_search.best_params_"
   ]
  },
  {
   "cell_type": "code",
   "execution_count": null,
   "metadata": {
    "pycharm": {
     "name": "#%%\n"
    },
    "id": "ZFWyAxiSCSvz",
    "outputId": "8041f7ef-8b09-4aac-8de8-66844c9f4bc0"
   },
   "outputs": [
    {
     "data": {
      "text/plain": [
       "0.5308151093439364"
      ]
     },
     "execution_count": 67,
     "metadata": {},
     "output_type": "execute_result"
    }
   ],
   "source": [
    "# calculate accuracy for movement direction forecast\n",
    "y_pred = best_model.predict(X_test)\n",
    "accuracy_score(y_pred, y_test)"
   ]
  },
  {
   "cell_type": "code",
   "execution_count": null,
   "metadata": {
    "pycharm": {
     "name": "#%%\n"
    },
    "id": "HeHO7kTICSvz",
    "outputId": "51b0a0ea-84f5-4098-f41d-a09f09ec2c57"
   },
   "outputs": [
    {
     "name": "stdout",
     "output_type": "stream",
     "text": [
      "[0.04006037 0.03896194 0.03991469 0.03732952 0.05851696 0.03759652\n",
      " 0.03450597 0.0361983  0.03448381 0.03431579 0.04059408 0.05310843\n",
      " 0.04664565 0.0520741  0.0447009  0.045831   0.04735275 0.04932811\n",
      " 0.05200846 0.04415647 0.044951   0.04087645 0.04648872]\n"
     ]
    }
   ],
   "source": [
    "# feature importance\n",
    "print(best_model.feature_importances_)"
   ]
  },
  {
   "cell_type": "markdown",
   "source": [
    "### 4.5 Conclusion"
   ],
   "metadata": {
    "collapsed": false,
    "pycharm": {
     "name": "#%% md\n"
    },
    "id": "1AL-j9nNCSvz"
   }
  },
  {
   "cell_type": "markdown",
   "source": [
    "* For stock price prediction, after hyperparameter tuning, both Vanilla RNN and LSTM could get very nice performance on test set. However, these models are not good at predicting movement direction of price, which means low practical value.\n",
    "* Dealing with time series problems, LSTM generally performs better than Vanilla RNN.\n",
    "* For movement direction of stock price forecast, adding more artificial features like technical indicators, to some extent, improves the performance of classifier.\n",
    "* After hyperparameter tuning, both XGBoost and random forest can achieve an accuracy of over 0.5 on test set, which means these algorithms could provide effective trading signals, at least better than tossing a coin.\n",
    "* In general, as a classifier, XGBoost has better performance than random forest."
   ],
   "metadata": {
    "collapsed": false,
    "pycharm": {
     "name": "#%% md\n"
    },
    "id": "IwBu1-O7CSvz"
   }
  },
  {
   "cell_type": "markdown",
   "metadata": {
    "pycharm": {
     "name": "#%% md\n"
    },
    "id": "0DskAvgSCSvz"
   },
   "source": [
    "## 5. Algorithms #2 (Ning Huang)"
   ]
  },
  {
   "cell_type": "markdown",
   "source": [
    "I choose the regression decision tree model. Because the classification and regression decision trees have different objectives. While the classification decision tree tries to characterize the future by offering a categorical variable, i.e. the market goes up or down.the regression decision tree tries to forecast the future value, i.e. the future market price."
   ],
   "metadata": {
    "id": "v5NuKEpKEHwo"
   }
  },
  {
   "cell_type": "code",
   "execution_count": 1,
   "metadata": {
    "pycharm": {
     "name": "#%%\n"
    },
    "id": "5rxgkD8dCSv0"
   },
   "outputs": [],
   "source": [
    "import math\n",
    "import numpy as np\n",
    "import pandas as pd\n",
    "import matplotlib.pyplot as plt\n",
    "from sklearn.tree import DecisionTreeRegressor\n",
    "plt.style.use('fivethirtyeight')\n",
    "from matplotlib.pyplot import MultipleLocator"
   ]
  },
  {
   "cell_type": "code",
   "source": [
    "from google.colab import drive\n",
    "drive.mount('/content/drive')"
   ],
   "metadata": {
    "colab": {
     "base_uri": "https://localhost:8080/"
    },
    "id": "Ta2AhhsBCjUQ",
    "outputId": "319fe715-113c-4b2b-86b2-c346911946c0"
   },
   "execution_count": 2,
   "outputs": [
    {
     "output_type": "stream",
     "name": "stdout",
     "text": [
      "Mounted at /content/drive\n"
     ]
    }
   ]
  },
  {
   "cell_type": "markdown",
   "source": [
    "MACD (Moving Average Convergence/Divergence), is a technical indicator for stock price analysis, created by Gerald Appel in the late 1970s. It is designed to reveal changes in the strength, direction, momentum and duration of stock price trends.\n",
    "\n",
    "The MACD indicator is an indicator of three time series calculated from historical price data (usually closing prices). , the time constant of the three EMAs, usually denoted \"MACD( a , b , c )\" . where the MACD series is the difference of the exponential moving average (EMA) with characteristic time a (short period) and b (long period), and the average series is the EMA of the MACD series with characteristic time c.\n",
    "\n",
    "Short-term EMAs are more responsive to recent stock price changes than long-term EMAs. By comparing EMAs from different periods, the MACD series can indicate changes in a stock's trend. Divergence series is said to reveal subtle changes in stock trends.\n",
    "\n",
    "Since MACD is based on moving averages, it is a slow indicator lagging indicator. As an indicator for predicting future price trends, MACD cannot be directly used in situations where trading in completely irregular ranges or where prices are unpredictable. And when the MACD shows a trend, the trend is done or almost done."
   ],
   "metadata": {
    "id": "cbCLPKP-Cxhd"
   }
  },
  {
   "cell_type": "code",
   "source": [
    "#import data\n",
    "df = pd.read_csv(\"/content/drive/MyDrive/TSLA.csv\",index_col=\"Date\")\n",
    "\n",
    "df.head()"
   ],
   "metadata": {
    "colab": {
     "base_uri": "https://localhost:8080/",
     "height": 237
    },
    "id": "r7o7CaoICjW0",
    "outputId": "934cb7ed-fdf2-4123-9da7-3058d06454f5"
   },
   "execution_count": 3,
   "outputs": [
    {
     "output_type": "execute_result",
     "data": {
      "text/plain": [
       "             Open   High    Low  Close  Adj Close    Volume\n",
       "Date                                                       \n",
       "2010-06-29  3.800  5.000  3.508  4.778      4.778  93831500\n",
       "2010-06-30  5.158  6.084  4.660  4.766      4.766  85935500\n",
       "2010-07-01  5.000  5.184  4.054  4.392      4.392  41094000\n",
       "2010-07-02  4.600  4.620  3.742  3.840      3.840  25699000\n",
       "2010-07-06  4.000  4.000  3.166  3.222      3.222  34334500"
      ],
      "text/html": [
       "\n",
       "  <div id=\"df-0816e048-076a-4d5b-8b38-c1fd2bd91b2d\">\n",
       "    <div class=\"colab-df-container\">\n",
       "      <div>\n",
       "<style scoped>\n",
       "    .dataframe tbody tr th:only-of-type {\n",
       "        vertical-align: middle;\n",
       "    }\n",
       "\n",
       "    .dataframe tbody tr th {\n",
       "        vertical-align: top;\n",
       "    }\n",
       "\n",
       "    .dataframe thead th {\n",
       "        text-align: right;\n",
       "    }\n",
       "</style>\n",
       "<table border=\"1\" class=\"dataframe\">\n",
       "  <thead>\n",
       "    <tr style=\"text-align: right;\">\n",
       "      <th></th>\n",
       "      <th>Open</th>\n",
       "      <th>High</th>\n",
       "      <th>Low</th>\n",
       "      <th>Close</th>\n",
       "      <th>Adj Close</th>\n",
       "      <th>Volume</th>\n",
       "    </tr>\n",
       "    <tr>\n",
       "      <th>Date</th>\n",
       "      <th></th>\n",
       "      <th></th>\n",
       "      <th></th>\n",
       "      <th></th>\n",
       "      <th></th>\n",
       "      <th></th>\n",
       "    </tr>\n",
       "  </thead>\n",
       "  <tbody>\n",
       "    <tr>\n",
       "      <th>2010-06-29</th>\n",
       "      <td>3.800</td>\n",
       "      <td>5.000</td>\n",
       "      <td>3.508</td>\n",
       "      <td>4.778</td>\n",
       "      <td>4.778</td>\n",
       "      <td>93831500</td>\n",
       "    </tr>\n",
       "    <tr>\n",
       "      <th>2010-06-30</th>\n",
       "      <td>5.158</td>\n",
       "      <td>6.084</td>\n",
       "      <td>4.660</td>\n",
       "      <td>4.766</td>\n",
       "      <td>4.766</td>\n",
       "      <td>85935500</td>\n",
       "    </tr>\n",
       "    <tr>\n",
       "      <th>2010-07-01</th>\n",
       "      <td>5.000</td>\n",
       "      <td>5.184</td>\n",
       "      <td>4.054</td>\n",
       "      <td>4.392</td>\n",
       "      <td>4.392</td>\n",
       "      <td>41094000</td>\n",
       "    </tr>\n",
       "    <tr>\n",
       "      <th>2010-07-02</th>\n",
       "      <td>4.600</td>\n",
       "      <td>4.620</td>\n",
       "      <td>3.742</td>\n",
       "      <td>3.840</td>\n",
       "      <td>3.840</td>\n",
       "      <td>25699000</td>\n",
       "    </tr>\n",
       "    <tr>\n",
       "      <th>2010-07-06</th>\n",
       "      <td>4.000</td>\n",
       "      <td>4.000</td>\n",
       "      <td>3.166</td>\n",
       "      <td>3.222</td>\n",
       "      <td>3.222</td>\n",
       "      <td>34334500</td>\n",
       "    </tr>\n",
       "  </tbody>\n",
       "</table>\n",
       "</div>\n",
       "      <button class=\"colab-df-convert\" onclick=\"convertToInteractive('df-0816e048-076a-4d5b-8b38-c1fd2bd91b2d')\"\n",
       "              title=\"Convert this dataframe to an interactive table.\"\n",
       "              style=\"display:none;\">\n",
       "        \n",
       "  <svg xmlns=\"http://www.w3.org/2000/svg\" height=\"24px\"viewBox=\"0 0 24 24\"\n",
       "       width=\"24px\">\n",
       "    <path d=\"M0 0h24v24H0V0z\" fill=\"none\"/>\n",
       "    <path d=\"M18.56 5.44l.94 2.06.94-2.06 2.06-.94-2.06-.94-.94-2.06-.94 2.06-2.06.94zm-11 1L8.5 8.5l.94-2.06 2.06-.94-2.06-.94L8.5 2.5l-.94 2.06-2.06.94zm10 10l.94 2.06.94-2.06 2.06-.94-2.06-.94-.94-2.06-.94 2.06-2.06.94z\"/><path d=\"M17.41 7.96l-1.37-1.37c-.4-.4-.92-.59-1.43-.59-.52 0-1.04.2-1.43.59L10.3 9.45l-7.72 7.72c-.78.78-.78 2.05 0 2.83L4 21.41c.39.39.9.59 1.41.59.51 0 1.02-.2 1.41-.59l7.78-7.78 2.81-2.81c.8-.78.8-2.07 0-2.86zM5.41 20L4 18.59l7.72-7.72 1.47 1.35L5.41 20z\"/>\n",
       "  </svg>\n",
       "      </button>\n",
       "      \n",
       "  <style>\n",
       "    .colab-df-container {\n",
       "      display:flex;\n",
       "      flex-wrap:wrap;\n",
       "      gap: 12px;\n",
       "    }\n",
       "\n",
       "    .colab-df-convert {\n",
       "      background-color: #E8F0FE;\n",
       "      border: none;\n",
       "      border-radius: 50%;\n",
       "      cursor: pointer;\n",
       "      display: none;\n",
       "      fill: #1967D2;\n",
       "      height: 32px;\n",
       "      padding: 0 0 0 0;\n",
       "      width: 32px;\n",
       "    }\n",
       "\n",
       "    .colab-df-convert:hover {\n",
       "      background-color: #E2EBFA;\n",
       "      box-shadow: 0px 1px 2px rgba(60, 64, 67, 0.3), 0px 1px 3px 1px rgba(60, 64, 67, 0.15);\n",
       "      fill: #174EA6;\n",
       "    }\n",
       "\n",
       "    [theme=dark] .colab-df-convert {\n",
       "      background-color: #3B4455;\n",
       "      fill: #D2E3FC;\n",
       "    }\n",
       "\n",
       "    [theme=dark] .colab-df-convert:hover {\n",
       "      background-color: #434B5C;\n",
       "      box-shadow: 0px 1px 3px 1px rgba(0, 0, 0, 0.15);\n",
       "      filter: drop-shadow(0px 1px 2px rgba(0, 0, 0, 0.3));\n",
       "      fill: #FFFFFF;\n",
       "    }\n",
       "  </style>\n",
       "\n",
       "      <script>\n",
       "        const buttonEl =\n",
       "          document.querySelector('#df-0816e048-076a-4d5b-8b38-c1fd2bd91b2d button.colab-df-convert');\n",
       "        buttonEl.style.display =\n",
       "          google.colab.kernel.accessAllowed ? 'block' : 'none';\n",
       "\n",
       "        async function convertToInteractive(key) {\n",
       "          const element = document.querySelector('#df-0816e048-076a-4d5b-8b38-c1fd2bd91b2d');\n",
       "          const dataTable =\n",
       "            await google.colab.kernel.invokeFunction('convertToInteractive',\n",
       "                                                     [key], {});\n",
       "          if (!dataTable) return;\n",
       "\n",
       "          const docLinkHtml = 'Like what you see? Visit the ' +\n",
       "            '<a target=\"_blank\" href=https://colab.research.google.com/notebooks/data_table.ipynb>data table notebook</a>'\n",
       "            + ' to learn more about interactive tables.';\n",
       "          element.innerHTML = '';\n",
       "          dataTable['output_type'] = 'display_data';\n",
       "          await google.colab.output.renderOutput(dataTable, element);\n",
       "          const docLink = document.createElement('div');\n",
       "          docLink.innerHTML = docLinkHtml;\n",
       "          element.appendChild(docLink);\n",
       "        }\n",
       "      </script>\n",
       "    </div>\n",
       "  </div>\n",
       "  "
      ]
     },
     "metadata": {},
     "execution_count": 3
    }
   ]
  },
  {
   "cell_type": "code",
   "source": [
    "#calculate short_EMA long_EMA MACD\n",
    "ShortEMA = df.Close.ewm(span=10, adjust=False).mean()\n",
    "LongEMA = df.Close.ewm(span=20, adjust=False).mean()\n",
    "MACD = ShortEMA - LongEMA\n",
    "signal = MACD.ewm(span=8, adjust=False).mean()"
   ],
   "metadata": {
    "id": "03odFsVuCjZW"
   },
   "execution_count": 4,
   "outputs": []
  },
  {
   "cell_type": "code",
   "source": [
    "# macd_parameter = (12, 26, 9)\n",
    "macd_parameter = (10, 20, 8)\n",
    "ShortEMA = df.Close.ewm(span=macd_parameter[0], adjust=False).mean()\n",
    "LongEMA = df.Close.ewm(span=macd_parameter[1], adjust=False).mean()\n",
    "MACD = ShortEMA - LongEMA\n",
    "signal = MACD.ewm(span=macd_parameter[2], adjust=False).mean()"
   ],
   "metadata": {
    "id": "dgdyQA4ICjbs"
   },
   "execution_count": 5,
   "outputs": []
  },
  {
   "cell_type": "code",
   "source": [
    "#Visualize the parametric curve\n",
    "plt.figure(figsize=(20,10))\n",
    "\n",
    "plt.plot(MACD)\n",
    "plt.plot(signal)\n",
    "x_major_locator=MultipleLocator(500)# x axis show in each500\n",
    "ax=plt.gca()\n",
    "ax.xaxis.set_major_locator(x_major_locator)"
   ],
   "metadata": {
    "colab": {
     "base_uri": "https://localhost:8080/",
     "height": 588
    },
    "id": "PQgWiFdDC6La",
    "outputId": "b68f8ffa-a920-4516-82aa-995520d85b28"
   },
   "execution_count": 6,
   "outputs": [
    {
     "output_type": "display_data",
     "data": {
      "text/plain": [
       "<Figure size 1440x720 with 1 Axes>"
      ],
      "image/png": "[encoded data removed]"
     },
     "metadata": {
      "needs_background": "light"
     }
    }
   ]
  },
  {
   "cell_type": "code",
   "source": [
    "#Save the indicator data into the dataset\n",
    "df['MACD'] = MACD\n",
    "df['Signal Line'] = signal\n",
    "df.tail()"
   ],
   "metadata": {
    "colab": {
     "base_uri": "https://localhost:8080/",
     "height": 237
    },
    "id": "F5NLIovxC6OR",
    "outputId": "9ae78570-7252-4956-f1b1-e576cdb766e3"
   },
   "execution_count": 7,
   "outputs": [
    {
     "output_type": "execute_result",
     "data": {
      "text/plain": [
       "                  Open        High         Low       Close   Adj Close  \\\n",
       "Date                                                                     \n",
       "2022-05-23  655.020020  679.960022  638.059998  674.900024  674.900024   \n",
       "2022-05-24  653.530029  653.919983  620.570007  628.159973  628.159973   \n",
       "2022-05-25  623.849976  669.320007  623.010010  658.799988  658.799988   \n",
       "2022-05-26  661.419983  718.669983  653.659973  707.729980  707.729980   \n",
       "2022-05-27  723.250000  759.799988  720.530029  759.630005  759.630005   \n",
       "\n",
       "              Volume       MACD  Signal Line  \n",
       "Date                                          \n",
       "2022-05-23  29634500 -60.136507   -53.888291  \n",
       "2022-05-24  29697500 -63.517127   -56.028032  \n",
       "2022-05-25  30713100 -62.266984   -57.414466  \n",
       "2022-05-26  35334400 -56.026975   -57.106135  \n",
       "2022-05-27  29630300 -45.944075   -54.625677  "
      ],
      "text/html": [
       "\n",
       "  <div id=\"df-e575f0a5-9166-430a-9ad2-2baa7d589377\">\n",
       "    <div class=\"colab-df-container\">\n",
       "      <div>\n",
       "<style scoped>\n",
       "    .dataframe tbody tr th:only-of-type {\n",
       "        vertical-align: middle;\n",
       "    }\n",
       "\n",
       "    .dataframe tbody tr th {\n",
       "        vertical-align: top;\n",
       "    }\n",
       "\n",
       "    .dataframe thead th {\n",
       "        text-align: right;\n",
       "    }\n",
       "</style>\n",
       "<table border=\"1\" class=\"dataframe\">\n",
       "  <thead>\n",
       "    <tr style=\"text-align: right;\">\n",
       "      <th></th>\n",
       "      <th>Open</th>\n",
       "      <th>High</th>\n",
       "      <th>Low</th>\n",
       "      <th>Close</th>\n",
       "      <th>Adj Close</th>\n",
       "      <th>Volume</th>\n",
       "      <th>MACD</th>\n",
       "      <th>Signal Line</th>\n",
       "    </tr>\n",
       "    <tr>\n",
       "      <th>Date</th>\n",
       "      <th></th>\n",
       "      <th></th>\n",
       "      <th></th>\n",
       "      <th></th>\n",
       "      <th></th>\n",
       "      <th></th>\n",
       "      <th></th>\n",
       "      <th></th>\n",
       "    </tr>\n",
       "  </thead>\n",
       "  <tbody>\n",
       "    <tr>\n",
       "      <th>2022-05-23</th>\n",
       "      <td>655.020020</td>\n",
       "      <td>679.960022</td>\n",
       "      <td>638.059998</td>\n",
       "      <td>674.900024</td>\n",
       "      <td>674.900024</td>\n",
       "      <td>29634500</td>\n",
       "      <td>-60.136507</td>\n",
       "      <td>-53.888291</td>\n",
       "    </tr>\n",
       "    <tr>\n",
       "      <th>2022-05-24</th>\n",
       "      <td>653.530029</td>\n",
       "      <td>653.919983</td>\n",
       "      <td>620.570007</td>\n",
       "      <td>628.159973</td>\n",
       "      <td>628.159973</td>\n",
       "      <td>29697500</td>\n",
       "      <td>-63.517127</td>\n",
       "      <td>-56.028032</td>\n",
       "    </tr>\n",
       "    <tr>\n",
       "      <th>2022-05-25</th>\n",
       "      <td>623.849976</td>\n",
       "      <td>669.320007</td>\n",
       "      <td>623.010010</td>\n",
       "      <td>658.799988</td>\n",
       "      <td>658.799988</td>\n",
       "      <td>30713100</td>\n",
       "      <td>-62.266984</td>\n",
       "      <td>-57.414466</td>\n",
       "    </tr>\n",
       "    <tr>\n",
       "      <th>2022-05-26</th>\n",
       "      <td>661.419983</td>\n",
       "      <td>718.669983</td>\n",
       "      <td>653.659973</td>\n",
       "      <td>707.729980</td>\n",
       "      <td>707.729980</td>\n",
       "      <td>35334400</td>\n",
       "      <td>-56.026975</td>\n",
       "      <td>-57.106135</td>\n",
       "    </tr>\n",
       "    <tr>\n",
       "      <th>2022-05-27</th>\n",
       "      <td>723.250000</td>\n",
       "      <td>759.799988</td>\n",
       "      <td>720.530029</td>\n",
       "      <td>759.630005</td>\n",
       "      <td>759.630005</td>\n",
       "      <td>29630300</td>\n",
       "      <td>-45.944075</td>\n",
       "      <td>-54.625677</td>\n",
       "    </tr>\n",
       "  </tbody>\n",
       "</table>\n",
       "</div>\n",
       "      <button class=\"colab-df-convert\" onclick=\"convertToInteractive('df-e575f0a5-9166-430a-9ad2-2baa7d589377')\"\n",
       "              title=\"Convert this dataframe to an interactive table.\"\n",
       "              style=\"display:none;\">\n",
       "        \n",
       "  <svg xmlns=\"http://www.w3.org/2000/svg\" height=\"24px\"viewBox=\"0 0 24 24\"\n",
       "       width=\"24px\">\n",
       "    <path d=\"M0 0h24v24H0V0z\" fill=\"none\"/>\n",
       "    <path d=\"M18.56 5.44l.94 2.06.94-2.06 2.06-.94-2.06-.94-.94-2.06-.94 2.06-2.06.94zm-11 1L8.5 8.5l.94-2.06 2.06-.94-2.06-.94L8.5 2.5l-.94 2.06-2.06.94zm10 10l.94 2.06.94-2.06 2.06-.94-2.06-.94-.94-2.06-.94 2.06-2.06.94z\"/><path d=\"M17.41 7.96l-1.37-1.37c-.4-.4-.92-.59-1.43-.59-.52 0-1.04.2-1.43.59L10.3 9.45l-7.72 7.72c-.78.78-.78 2.05 0 2.83L4 21.41c.39.39.9.59 1.41.59.51 0 1.02-.2 1.41-.59l7.78-7.78 2.81-2.81c.8-.78.8-2.07 0-2.86zM5.41 20L4 18.59l7.72-7.72 1.47 1.35L5.41 20z\"/>\n",
       "  </svg>\n",
       "      </button>\n",
       "      \n",
       "  <style>\n",
       "    .colab-df-container {\n",
       "      display:flex;\n",
       "      flex-wrap:wrap;\n",
       "      gap: 12px;\n",
       "    }\n",
       "\n",
       "    .colab-df-convert {\n",
       "      background-color: #E8F0FE;\n",
       "      border: none;\n",
       "      border-radius: 50%;\n",
       "      cursor: pointer;\n",
       "      display: none;\n",
       "      fill: #1967D2;\n",
       "      height: 32px;\n",
       "      padding: 0 0 0 0;\n",
       "      width: 32px;\n",
       "    }\n",
       "\n",
       "    .colab-df-convert:hover {\n",
       "      background-color: #E2EBFA;\n",
       "      box-shadow: 0px 1px 2px rgba(60, 64, 67, 0.3), 0px 1px 3px 1px rgba(60, 64, 67, 0.15);\n",
       "      fill: #174EA6;\n",
       "    }\n",
       "\n",
       "    [theme=dark] .colab-df-convert {\n",
       "      background-color: #3B4455;\n",
       "      fill: #D2E3FC;\n",
       "    }\n",
       "\n",
       "    [theme=dark] .colab-df-convert:hover {\n",
       "      background-color: #434B5C;\n",
       "      box-shadow: 0px 1px 3px 1px rgba(0, 0, 0, 0.15);\n",
       "      filter: drop-shadow(0px 1px 2px rgba(0, 0, 0, 0.3));\n",
       "      fill: #FFFFFF;\n",
       "    }\n",
       "  </style>\n",
       "\n",
       "      <script>\n",
       "        const buttonEl =\n",
       "          document.querySelector('#df-e575f0a5-9166-430a-9ad2-2baa7d589377 button.colab-df-convert');\n",
       "        buttonEl.style.display =\n",
       "          google.colab.kernel.accessAllowed ? 'block' : 'none';\n",
       "\n",
       "        async function convertToInteractive(key) {\n",
       "          const element = document.querySelector('#df-e575f0a5-9166-430a-9ad2-2baa7d589377');\n",
       "          const dataTable =\n",
       "            await google.colab.kernel.invokeFunction('convertToInteractive',\n",
       "                                                     [key], {});\n",
       "          if (!dataTable) return;\n",
       "\n",
       "          const docLinkHtml = 'Like what you see? Visit the ' +\n",
       "            '<a target=\"_blank\" href=https://colab.research.google.com/notebooks/data_table.ipynb>data table notebook</a>'\n",
       "            + ' to learn more about interactive tables.';\n",
       "          element.innerHTML = '';\n",
       "          dataTable['output_type'] = 'display_data';\n",
       "          await google.colab.output.renderOutput(dataTable, element);\n",
       "          const docLink = document.createElement('div');\n",
       "          docLink.innerHTML = docLinkHtml;\n",
       "          element.appendChild(docLink);\n",
       "        }\n",
       "      </script>\n",
       "    </div>\n",
       "  </div>\n",
       "  "
      ]
     },
     "metadata": {},
     "execution_count": 7
    }
   ]
  },
  {
   "cell_type": "markdown",
   "source": [
    "MACD Crossover Indicator, when the MACD breaks below the signal line, it is a bearish signal, indicating that it may be time to sell. Conversely, when the MACD rises above the signal line, the indicator gives a bullish signal, which suggests that the asset price may be developing upward momentum."
   ],
   "metadata": {
    "id": "bmw836BaDANO"
   }
  },
  {
   "cell_type": "code",
   "source": [
    "#Get buy and sell signals\n",
    "def buy_sell(signal):\n",
    "    Buy = []\n",
    "    Sell = []\n",
    "    flag = -1\n",
    "    \n",
    "    for i in range(0, len(signal)):\n",
    "        if signal['MACD'][i] > signal['Signal Line'][i]:\n",
    "            Sell.append(np.nan)\n",
    "            if flag != 1:\n",
    "                # buy singal\n",
    "                Buy.append(signal['Close'][i])\n",
    "                flag = 1\n",
    "            else:\n",
    "                Buy.append(np.nan)\n",
    "        elif signal['MACD'][i] < signal['Signal Line'][i]:\n",
    "            Buy.append(np.nan)\n",
    "            if flag != 0:\n",
    "                # sell signal\n",
    "                Sell.append(signal['Close'][i])\n",
    "                flag = 0\n",
    "            else:\n",
    "                Sell.append(np.nan)\n",
    "        else:\n",
    "            Buy.append(np.nan)\n",
    "            Sell.append(np.nan)\n",
    "            \n",
    "    return (Buy, Sell)"
   ],
   "metadata": {
    "id": "cfWHp0SPC6Rd"
   },
   "execution_count": 8,
   "outputs": []
  },
  {
   "cell_type": "code",
   "source": [
    "df['Buy_Signal_Price'], df['Sell_Signal_Price'] = buy_sell(df)\n",
    "df.head()\n",
    "df.drop\n",
    "\n",
    "df.head()"
   ],
   "metadata": {
    "colab": {
     "base_uri": "https://localhost:8080/",
     "height": 237
    },
    "id": "PmYejem3DBWa",
    "outputId": "5da3f8a2-6227-47c3-97ee-f01d3457248e"
   },
   "execution_count": 9,
   "outputs": [
    {
     "output_type": "execute_result",
     "data": {
      "text/plain": [
       "             Open   High    Low  Close  Adj Close    Volume      MACD  \\\n",
       "Date                                                                    \n",
       "2010-06-29  3.800  5.000  3.508  4.778      4.778  93831500  0.000000   \n",
       "2010-06-30  5.158  6.084  4.660  4.766      4.766  85935500 -0.001039   \n",
       "2010-07-01  5.000  5.184  4.054  4.392      4.392  41094000 -0.034171   \n",
       "2010-07-02  4.600  4.620  3.742  3.840      3.840  25699000 -0.105898   \n",
       "2010-07-06  4.000  4.000  3.166  3.222      3.222  34334500 -0.210667   \n",
       "\n",
       "            Signal Line  Buy_Signal_Price  Sell_Signal_Price  \n",
       "Date                                                          \n",
       "2010-06-29     0.000000               NaN                NaN  \n",
       "2010-06-30    -0.000231               NaN              4.766  \n",
       "2010-07-01    -0.007773               NaN                NaN  \n",
       "2010-07-02    -0.029579               NaN                NaN  \n",
       "2010-07-06    -0.069821               NaN                NaN  "
      ],
      "text/html": [
       "\n",
       "  <div id=\"df-1766d0e0-1666-4be0-bb53-8faa72f9edbf\">\n",
       "    <div class=\"colab-df-container\">\n",
       "      <div>\n",
       "<style scoped>\n",
       "    .dataframe tbody tr th:only-of-type {\n",
       "        vertical-align: middle;\n",
       "    }\n",
       "\n",
       "    .dataframe tbody tr th {\n",
       "        vertical-align: top;\n",
       "    }\n",
       "\n",
       "    .dataframe thead th {\n",
       "        text-align: right;\n",
       "    }\n",
       "</style>\n",
       "<table border=\"1\" class=\"dataframe\">\n",
       "  <thead>\n",
       "    <tr style=\"text-align: right;\">\n",
       "      <th></th>\n",
       "      <th>Open</th>\n",
       "      <th>High</th>\n",
       "      <th>Low</th>\n",
       "      <th>Close</th>\n",
       "      <th>Adj Close</th>\n",
       "      <th>Volume</th>\n",
       "      <th>MACD</th>\n",
       "      <th>Signal Line</th>\n",
       "      <th>Buy_Signal_Price</th>\n",
       "      <th>Sell_Signal_Price</th>\n",
       "    </tr>\n",
       "    <tr>\n",
       "      <th>Date</th>\n",
       "      <th></th>\n",
       "      <th></th>\n",
       "      <th></th>\n",
       "      <th></th>\n",
       "      <th></th>\n",
       "      <th></th>\n",
       "      <th></th>\n",
       "      <th></th>\n",
       "      <th></th>\n",
       "      <th></th>\n",
       "    </tr>\n",
       "  </thead>\n",
       "  <tbody>\n",
       "    <tr>\n",
       "      <th>2010-06-29</th>\n",
       "      <td>3.800</td>\n",
       "      <td>5.000</td>\n",
       "      <td>3.508</td>\n",
       "      <td>4.778</td>\n",
       "      <td>4.778</td>\n",
       "      <td>93831500</td>\n",
       "      <td>0.000000</td>\n",
       "      <td>0.000000</td>\n",
       "      <td>NaN</td>\n",
       "      <td>NaN</td>\n",
       "    </tr>\n",
       "    <tr>\n",
       "      <th>2010-06-30</th>\n",
       "      <td>5.158</td>\n",
       "      <td>6.084</td>\n",
       "      <td>4.660</td>\n",
       "      <td>4.766</td>\n",
       "      <td>4.766</td>\n",
       "      <td>85935500</td>\n",
       "      <td>-0.001039</td>\n",
       "      <td>-0.000231</td>\n",
       "      <td>NaN</td>\n",
       "      <td>4.766</td>\n",
       "    </tr>\n",
       "    <tr>\n",
       "      <th>2010-07-01</th>\n",
       "      <td>5.000</td>\n",
       "      <td>5.184</td>\n",
       "      <td>4.054</td>\n",
       "      <td>4.392</td>\n",
       "      <td>4.392</td>\n",
       "      <td>41094000</td>\n",
       "      <td>-0.034171</td>\n",
       "      <td>-0.007773</td>\n",
       "      <td>NaN</td>\n",
       "      <td>NaN</td>\n",
       "    </tr>\n",
       "    <tr>\n",
       "      <th>2010-07-02</th>\n",
       "      <td>4.600</td>\n",
       "      <td>4.620</td>\n",
       "      <td>3.742</td>\n",
       "      <td>3.840</td>\n",
       "      <td>3.840</td>\n",
       "      <td>25699000</td>\n",
       "      <td>-0.105898</td>\n",
       "      <td>-0.029579</td>\n",
       "      <td>NaN</td>\n",
       "      <td>NaN</td>\n",
       "    </tr>\n",
       "    <tr>\n",
       "      <th>2010-07-06</th>\n",
       "      <td>4.000</td>\n",
       "      <td>4.000</td>\n",
       "      <td>3.166</td>\n",
       "      <td>3.222</td>\n",
       "      <td>3.222</td>\n",
       "      <td>34334500</td>\n",
       "      <td>-0.210667</td>\n",
       "      <td>-0.069821</td>\n",
       "      <td>NaN</td>\n",
       "      <td>NaN</td>\n",
       "    </tr>\n",
       "  </tbody>\n",
       "</table>\n",
       "</div>\n",
       "      <button class=\"colab-df-convert\" onclick=\"convertToInteractive('df-1766d0e0-1666-4be0-bb53-8faa72f9edbf')\"\n",
       "              title=\"Convert this dataframe to an interactive table.\"\n",
       "              style=\"display:none;\">\n",
       "        \n",
       "  <svg xmlns=\"http://www.w3.org/2000/svg\" height=\"24px\"viewBox=\"0 0 24 24\"\n",
       "       width=\"24px\">\n",
       "    <path d=\"M0 0h24v24H0V0z\" fill=\"none\"/>\n",
       "    <path d=\"M18.56 5.44l.94 2.06.94-2.06 2.06-.94-2.06-.94-.94-2.06-.94 2.06-2.06.94zm-11 1L8.5 8.5l.94-2.06 2.06-.94-2.06-.94L8.5 2.5l-.94 2.06-2.06.94zm10 10l.94 2.06.94-2.06 2.06-.94-2.06-.94-.94-2.06-.94 2.06-2.06.94z\"/><path d=\"M17.41 7.96l-1.37-1.37c-.4-.4-.92-.59-1.43-.59-.52 0-1.04.2-1.43.59L10.3 9.45l-7.72 7.72c-.78.78-.78 2.05 0 2.83L4 21.41c.39.39.9.59 1.41.59.51 0 1.02-.2 1.41-.59l7.78-7.78 2.81-2.81c.8-.78.8-2.07 0-2.86zM5.41 20L4 18.59l7.72-7.72 1.47 1.35L5.41 20z\"/>\n",
       "  </svg>\n",
       "      </button>\n",
       "      \n",
       "  <style>\n",
       "    .colab-df-container {\n",
       "      display:flex;\n",
       "      flex-wrap:wrap;\n",
       "      gap: 12px;\n",
       "    }\n",
       "\n",
       "    .colab-df-convert {\n",
       "      background-color: #E8F0FE;\n",
       "      border: none;\n",
       "      border-radius: 50%;\n",
       "      cursor: pointer;\n",
       "      display: none;\n",
       "      fill: #1967D2;\n",
       "      height: 32px;\n",
       "      padding: 0 0 0 0;\n",
       "      width: 32px;\n",
       "    }\n",
       "\n",
       "    .colab-df-convert:hover {\n",
       "      background-color: #E2EBFA;\n",
       "      box-shadow: 0px 1px 2px rgba(60, 64, 67, 0.3), 0px 1px 3px 1px rgba(60, 64, 67, 0.15);\n",
       "      fill: #174EA6;\n",
       "    }\n",
       "\n",
       "    [theme=dark] .colab-df-convert {\n",
       "      background-color: #3B4455;\n",
       "      fill: #D2E3FC;\n",
       "    }\n",
       "\n",
       "    [theme=dark] .colab-df-convert:hover {\n",
       "      background-color: #434B5C;\n",
       "      box-shadow: 0px 1px 3px 1px rgba(0, 0, 0, 0.15);\n",
       "      filter: drop-shadow(0px 1px 2px rgba(0, 0, 0, 0.3));\n",
       "      fill: #FFFFFF;\n",
       "    }\n",
       "  </style>\n",
       "\n",
       "      <script>\n",
       "        const buttonEl =\n",
       "          document.querySelector('#df-1766d0e0-1666-4be0-bb53-8faa72f9edbf button.colab-df-convert');\n",
       "        buttonEl.style.display =\n",
       "          google.colab.kernel.accessAllowed ? 'block' : 'none';\n",
       "\n",
       "        async function convertToInteractive(key) {\n",
       "          const element = document.querySelector('#df-1766d0e0-1666-4be0-bb53-8faa72f9edbf');\n",
       "          const dataTable =\n",
       "            await google.colab.kernel.invokeFunction('convertToInteractive',\n",
       "                                                     [key], {});\n",
       "          if (!dataTable) return;\n",
       "\n",
       "          const docLinkHtml = 'Like what you see? Visit the ' +\n",
       "            '<a target=\"_blank\" href=https://colab.research.google.com/notebooks/data_table.ipynb>data table notebook</a>'\n",
       "            + ' to learn more about interactive tables.';\n",
       "          element.innerHTML = '';\n",
       "          dataTable['output_type'] = 'display_data';\n",
       "          await google.colab.output.renderOutput(dataTable, element);\n",
       "          const docLink = document.createElement('div');\n",
       "          docLink.innerHTML = docLinkHtml;\n",
       "          element.appendChild(docLink);\n",
       "        }\n",
       "      </script>\n",
       "    </div>\n",
       "  </div>\n",
       "  "
      ]
     },
     "metadata": {},
     "execution_count": 9
    }
   ]
  },
  {
   "cell_type": "code",
   "source": [
    "period = 500  # Visual scope\n",
    "plt.figure(figsize=(16,8))\n",
    "plt.scatter(df.index[-period:], df['Buy_Signal_Price'][-period:], label=\"Buy\", color='green', marker='^',alpha=1, linewidths=5)\n",
    "plt.scatter(df.index[-period:], df['Sell_Signal_Price'][-period:], label=\"Sell\", color='red', marker='v',alpha=1, linewidths=5)\n",
    "plt.plot(df['Close'][-period:], label='Close Price', alpha=0.35)\n",
    "plt.title('Close Prcie Buy & Sell Signals')\n",
    "plt.xlabel('Date', fontsize=18)\n",
    "plt.ylabel('Close Price', fontsize=18)\n",
    "plt.legend(loc='upper left')\n",
    "x_major_locator=MultipleLocator(50)# x axis show in each500\n",
    "ax=plt.gca()\n",
    "ax.xaxis.set_major_locator(x_major_locator)\n",
    "plt.show()"
   ],
   "metadata": {
    "colab": {
     "base_uri": "https://localhost:8080/",
     "height": 518
    },
    "id": "uoNjiTUbDBZb",
    "outputId": "ec4a2a45-a3e6-4340-98f1-0b28d3688564"
   },
   "execution_count": 10,
   "outputs": [
    {
     "output_type": "display_data",
     "data": {
      "text/plain": [
       "<Figure size 1152x576 with 1 Axes>"
      ],
      "image/png": "[encoded data removed]"
     },
     "metadata": {
      "needs_background": "light"
     }
    }
   ]
  },
  {
   "cell_type": "code",
   "source": [
    "his_period = 20\n",
    "df['Prediction'] = df[['Close']].shift(-his_period)"
   ],
   "metadata": {
    "id": "0Z7Ggdt4DBbx"
   },
   "execution_count": 11,
   "outputs": []
  },
  {
   "cell_type": "markdown",
   "source": [
    "When we visualized buying and selling signals earlier, we used the closing value. In order to avoid training data leakage, these data were first processed with onehot and then imported into the dataset as a set of features."
   ],
   "metadata": {
    "id": "V0Dr-56xDPb7"
   }
  },
  {
   "cell_type": "code",
   "source": [
    "#data preprocessing\n",
    "df['Buy_Signal_Price'][np.invert(df['Buy_Signal_Price'].isna())] = 1\n",
    "df['Buy_Signal_Price'] = df['Buy_Signal_Price'].fillna(0)\n",
    " \n",
    "df['Sell_Signal_Price'][np.invert(df['Sell_Signal_Price'].isna())] = 1\n",
    "df['Sell_Signal_Price'] = df['Sell_Signal_Price'].fillna(0)"
   ],
   "metadata": {
    "colab": {
     "base_uri": "https://localhost:8080/"
    },
    "id": "NYfagR3eDKoO",
    "outputId": "35d7401c-9ed8-4ccd-edaf-eb5a273ffdfb"
   },
   "execution_count": 12,
   "outputs": [
    {
     "output_type": "stream",
     "name": "stderr",
     "text": [
      "/usr/local/lib/python3.7/dist-packages/ipykernel_launcher.py:2: SettingWithCopyWarning: \n",
      "A value is trying to be set on a copy of a slice from a DataFrame\n",
      "\n",
      "See the caveats in the documentation: https://pandas.pydata.org/pandas-docs/stable/user_guide/indexing.html#returning-a-view-versus-a-copy\n",
      "  \n",
      "/usr/local/lib/python3.7/dist-packages/ipykernel_launcher.py:5: SettingWithCopyWarning: \n",
      "A value is trying to be set on a copy of a slice from a DataFrame\n",
      "\n",
      "See the caveats in the documentation: https://pandas.pydata.org/pandas-docs/stable/user_guide/indexing.html#returning-a-view-versus-a-copy\n",
      "  \"\"\"\n"
     ]
    }
   ]
  },
  {
   "cell_type": "markdown",
   "source": [
    "Here we are going to predict the trend of the next 20 days, so first divide the data set into (2015 ~ the first 20 days), and then divide the training set into (2015 ~ the first 40 days), the test set is (the first 40 days ~ The first 20 days), that is, use the data of the last 20 days to predict the trend of the next 20 days. I am going to predict the future 20 days, I try 60 and 80, I found there are some problems I think they could not predict well. "
   ],
   "metadata": {
    "id": "tI9KP3NxDT0m"
   }
  },
  {
   "cell_type": "code",
   "source": [
    "X = np.array(df.drop(['Prediction'],1)[:-his_period])\n",
    "y = np.array(df['Prediction'][:-his_period])\n",
    "x_train = X[:-his_period]\n",
    "x_test = X[-his_period:]\n",
    "y_train = y[:-his_period]\n",
    "y_test = y[-his_period:]\n",
    "print(x_train.shape, x_test.shape, y_train.shape, y_test.shape)"
   ],
   "metadata": {
    "colab": {
     "base_uri": "https://localhost:8080/"
    },
    "id": "zGsntMIfDKq2",
    "outputId": "9be64855-6100-434f-c6c4-764fe242cc2b"
   },
   "execution_count": 13,
   "outputs": [
    {
     "output_type": "stream",
     "name": "stdout",
     "text": [
      "(2961, 10) (20, 10) (2961,) (20,)\n"
     ]
    },
    {
     "output_type": "stream",
     "name": "stderr",
     "text": [
      "/usr/local/lib/python3.7/dist-packages/ipykernel_launcher.py:1: FutureWarning: In a future version of pandas all arguments of DataFrame.drop except for the argument 'labels' will be keyword-only\n",
      "  \"\"\"Entry point for launching an IPython kernel.\n"
     ]
    }
   ]
  },
  {
   "cell_type": "code",
   "source": [
    "#Train a decision tree model\n",
    "tree = DecisionTreeRegressor(criterion='mse', splitter='best', max_depth=None, min_samples_split=2, min_samples_leaf=1).fit(x_train, y_train)"
   ],
   "metadata": {
    "colab": {
     "base_uri": "https://localhost:8080/"
    },
    "id": "amR9qYojDWsV",
    "outputId": "d2daad17-fb6a-4a7c-9555-da4362909b32"
   },
   "execution_count": 14,
   "outputs": [
    {
     "output_type": "stream",
     "name": "stderr",
     "text": [
      "/usr/local/lib/python3.7/dist-packages/sklearn/tree/_classes.py:363: FutureWarning: Criterion 'mse' was deprecated in v1.0 and will be removed in version 1.2. Use `criterion='squared_error'` which is equivalent.\n",
      "  FutureWarning,\n"
     ]
    }
   ]
  },
  {
   "cell_type": "code",
   "source": [
    "#Verify the model effect\n",
    "#Import test set data into the model for prediction\n",
    "prediction = tree.predict(x_test)\n",
    "print(\"The model training score is\" , tree.score(X, y))"
   ],
   "metadata": {
    "colab": {
     "base_uri": "https://localhost:8080/"
    },
    "id": "s-ow4YSgDWvZ",
    "outputId": "aa8b342e-a6f8-4ecf-93ad-5c2b86fe009d"
   },
   "execution_count": 15,
   "outputs": [
    {
     "output_type": "stream",
     "name": "stdout",
     "text": [
      "The model training score is 0.9915324834786352\n"
     ]
    }
   ]
  },
  {
   "cell_type": "markdown",
   "source": [
    "I think the score of this model is good."
   ],
   "metadata": {
    "id": "Mvd05oS6DeZW"
   }
  },
  {
   "cell_type": "code",
   "source": [
    "period = 500  # Visual scope\n",
    "valid = df[X.shape[0]-his_period:-his_period]\n",
    "valid['Prediction'] = prediction\n",
    "plt.figure(figsize=(16,8))\n",
    "plt.title('Model')\n",
    "plt.xlabel('Date', fontsize=18)\n",
    "x_major_locator=MultipleLocator(50)\n",
    "ax=plt.gca()\n",
    "ax.xaxis.set_major_locator(x_major_locator)\n",
    "plt.ylabel('Close Price', fontsize=18)\n",
    "plt.plot(df[-period:X.shape[0]-his_period+1]['Close'], linewidth=3, color='blue')\n",
    "plt.plot(valid['Close'], linewidth=5, alpha=0.5)\n",
    "plt.plot(valid['Prediction'], linewidth=2, color='red')\n",
    "plt.legend(['Train', 'Val', 'Predictions'], loc='lower right')\n",
    "plt.show()"
   ],
   "metadata": {
    "colab": {
     "base_uri": "https://localhost:8080/",
     "height": 622
    },
    "id": "Ww9_caLeDWx3",
    "outputId": "be55d449-3ab8-493f-80aa-1e0480782486"
   },
   "execution_count": 16,
   "outputs": [
    {
     "output_type": "stream",
     "name": "stderr",
     "text": [
      "/usr/local/lib/python3.7/dist-packages/ipykernel_launcher.py:3: SettingWithCopyWarning: \n",
      "A value is trying to be set on a copy of a slice from a DataFrame.\n",
      "Try using .loc[row_indexer,col_indexer] = value instead\n",
      "\n",
      "See the caveats in the documentation: https://pandas.pydata.org/pandas-docs/stable/user_guide/indexing.html#returning-a-view-versus-a-copy\n",
      "  This is separate from the ipykernel package so we can avoid doing imports until\n"
     ]
    },
    {
     "output_type": "display_data",
     "data": {
      "text/plain": [
       "<Figure size 1152x576 with 1 Axes>"
      ],
      "image/png": "[encoded data removed]"
     },
     "metadata": {
      "needs_background": "light"
     }
    }
   ]
  },
  {
   "cell_type": "code",
   "source": [
    "#Predict future trends\n",
    "#We re-fetch the last 20 days of data, import the model to get the predicted value\n",
    "\n",
    "x_future = np.array(df.drop(['Prediction'], 1)[-his_period:])\n",
    "prediction = tree.predict(x_future)\n",
    " \n",
    "plt.figure(figsize=(16,8))\n",
    "plt.title('Model')\n",
    "plt.xlabel('Days', fontsize=18)\n",
    "plt.ylabel('Close Price', fontsize=18)\n",
    "plt.plot(prediction)\n",
    "plt.legend(['Predictions'], loc='lower right')\n",
    "plt.show()"
   ],
   "metadata": {
    "colab": {
     "base_uri": "https://localhost:8080/",
     "height": 553
    },
    "id": "Vbw97RYHDKvQ",
    "outputId": "34046933-1096-4a54-d21b-1efb04ad1465"
   },
   "execution_count": 17,
   "outputs": [
    {
     "output_type": "stream",
     "name": "stderr",
     "text": [
      "/usr/local/lib/python3.7/dist-packages/ipykernel_launcher.py:4: FutureWarning: In a future version of pandas all arguments of DataFrame.drop except for the argument 'labels' will be keyword-only\n",
      "  after removing the cwd from sys.path.\n"
     ]
    },
    {
     "output_type": "display_data",
     "data": {
      "text/plain": [
       "<Figure size 1152x576 with 1 Axes>"
      ],
      "image/png": "[encoded data removed]"
     },
     "metadata": {
      "needs_background": "light"
     }
    }
   ]
  },
  {
   "cell_type": "code",
   "source": [],
   "metadata": {
    "id": "8kjmEsDDDl9o"
   },
   "execution_count": null,
   "outputs": []
  },
  {
   "cell_type": "markdown",
   "source": [
    " As you can see in the picture, the model predicted that a big dip would happen next (but I didn't expect it to happen so fast in reality...), and then the price rebounded slightly and gradually stabilized. The model shows that the market will fluctuate slightly in the next 20 days, and the price will rebound.The price will increase towards 900."
   ],
   "metadata": {
    "id": "uQxMEpLeDqSl"
   }
  },
  {
   "cell_type": "code",
   "source": [],
   "metadata": {
    "id": "6u0xjmCsDmBo"
   },
   "execution_count": null,
   "outputs": []
  },
  {
   "cell_type": "markdown",
   "metadata": {
    "pycharm": {
     "name": "#%% md\n"
    },
    "id": "uUoWjnzQCSv0"
   },
   "source": [
    "## 6. Algorithms #3 (Xuqing Hu)"
   ]
  },
  {
   "cell_type": "code",
   "execution_count": null,
   "metadata": {
    "pycharm": {
     "name": "#%%\n"
    },
    "id": "2BcBokaFCSv0"
   },
   "outputs": [],
   "source": [
    "# import necessaries\n",
    "import numpy as np\n",
    "import matplotlib.pyplot as plt\n",
    "import tensorflow as tf\n",
    "from tensorflow.keras import layers,Input,optimizers\n",
    "\n",
    "import pandas as pd\n",
    "pd.set_option('display.max_columns', 1000)\n",
    "pd.set_option('display.width', 1000)\n",
    "pd.set_option('display.max_colwidth', 1000)\n",
    "pd.set_option('expand_frame_repr', True)\n",
    "\n",
    "import keras\n",
    "from keras.models import Sequential\n",
    "from keras.layers import Dense\n",
    "from sklearn.metrics import mean_squared_error,accuracy_score,roc_auc_score\n",
    "from sklearn.model_selection import train_test_split,GridSearchCV\n",
    "from sklearn.neighbors import KNeighborsClassifier\n",
    "from sklearn.preprocessing import StandardScaler,MinMaxScaler"
   ]
  },
  {
   "cell_type": "markdown",
   "metadata": {
    "id": "NBpZ9Q59CSv0"
   },
   "source": [
    "I used two methods in this project, one is a neural network, and the second is the k-NN algorithm. "
   ]
  },
  {
   "cell_type": "code",
   "execution_count": null,
   "metadata": {
    "id": "SzpVq5xICSv0"
   },
   "outputs": [],
   "source": [
    "# load dataset SPY.csv\n",
    "\n",
    "data = pd.read_csv('data/SPY.csv', index_col=0)\n",
    "data.index = pd.to_datetime(data.index)"
   ]
  },
  {
   "cell_type": "code",
   "execution_count": null,
   "metadata": {
    "id": "KMImqTWkCSv0"
   },
   "outputs": [],
   "source": [
    "# define the functions to build dataset\n",
    "\n",
    "def split(df, window=10, target=1):\n",
    "    \n",
    "    df = df.flatten() # flatten the data\n",
    "    num_features = len(df) - window - target + 1 # calculate the number of features\n",
    "    \n",
    "    X = np.array([df[i:i + window] for i in range(num_features)]) # features\n",
    "    y = np.array([df[j + window:j + window + target] for j in range(num_features)]) # labels\n",
    "    \n",
    "    return X, y"
   ]
  },
  {
   "cell_type": "code",
   "execution_count": null,
   "metadata": {
    "id": "QDS1tO04CSv0"
   },
   "outputs": [],
   "source": [
    "# define the function of preprocessing(Normalization and splitting dataset into train and test)\n",
    "# return the MinMaxScaler model 'scaler', in order to transform predictions inversely.\n",
    "\n",
    "def ts_process(df, train_start_date, train_end_date, test_start_date, test_end_date, window=10, ahead=1):\n",
    "    \n",
    "    train = df[train_start_date:train_end_date]# split into train & test by date\n",
    "    test = df[test_start_date:test_end_date]\n",
    "    \n",
    "    scaler = MinMaxScaler(feature_range=(0, 1)) # initialize\n",
    "    \n",
    "    train = scaler.fit_transform(train.values.reshape(-1,1))\n",
    "    test = scaler.transform(test.values.reshape(-1,1))\n",
    "    \n",
    "    X_train, y_train = split(train, window, ahead)\n",
    "    X_test, y_test = split(test, window, ahead)\n",
    "    \n",
    "    return X_train, y_train, X_test, y_test,scaler"
   ]
  },
  {
   "cell_type": "markdown",
   "metadata": {
    "id": "KtFpMEqKCSv1"
   },
   "source": [
    " I selected 8 years of data as the training set and two years of data as the test set and used the 60-day data to predict the price movement on the next day."
   ]
  },
  {
   "cell_type": "code",
   "execution_count": null,
   "metadata": {
    "id": "hf9O8nMwCSv1"
   },
   "outputs": [],
   "source": [
    "train_start_date = '2010-01-01'\n",
    "train_end_date = '2017-12-31'\n",
    "test_start_date = '2018-01-01'\n",
    "test_end_date = '2019-12-31'\n",
    "window = 60\n",
    "ahead = 1"
   ]
  },
  {
   "cell_type": "code",
   "execution_count": null,
   "metadata": {
    "id": "1q93AAeoCSv1"
   },
   "outputs": [],
   "source": [
    "close = data['Adj Close']# analyze\n",
    "\n",
    "X_train, y_train, X_test, y_test,scaler = ts_process(close, \n",
    "                                                     train_start_date, \n",
    "                                                     train_end_date,\n",
    "                                                     test_start_date , \n",
    "                                                     test_end_date,\n",
    "                                                     window, \n",
    "                                                     ahead)"
   ]
  },
  {
   "cell_type": "markdown",
   "metadata": {
    "id": "4eHJK-HSCSv1"
   },
   "source": [
    "### 6.1 Neural Network"
   ]
  },
  {
   "cell_type": "markdown",
   "metadata": {
    "id": "ChXzoRLDCSv1"
   },
   "source": [
    " Instantiate the Sequential() function as a variable classifier and use the Dense() function to build two hidden layers.The preset parameters of the first fully connected layer are 128 neurons, the Kernel_initializer is uniform, and the input length is 60. Then set the activation function to ReLu. The output transfer unit of the second layer is 1, and the activation function is also ReLu. "
   ]
  },
  {
   "cell_type": "code",
   "execution_count": null,
   "metadata": {
    "id": "YCU3aLI1CSv1"
   },
   "outputs": [],
   "source": [
    "network = Sequential() # Instantiate the Sequential() function as a variable classifier\n",
    "\n",
    "network.add(Dense(128, input_shape=(window,),kernel_initializer = 'uniform', activation = 'relu'))\n",
    "network.add(Dense(1, activation='relu')) # The unit output is 1"
   ]
  },
  {
   "cell_type": "markdown",
   "metadata": {
    "id": "Kkt9zZ9WCSv1"
   },
   "source": [
    "For the compiled classifier, the optimizer is Adam, and both the loss function and the metric are set to mean squared error. In addition, an Early-Stopping is set with  patience 5. "
   ]
  },
  {
   "cell_type": "code",
   "execution_count": null,
   "metadata": {
    "id": "YWwzUvG7CSv2"
   },
   "outputs": [],
   "source": [
    "\n",
    "\n",
    "network.compile(optimizer='adam', # The optimizer is chosen as \"adam\", which is an extension of stochastic gradient descent\n",
    "                loss='mean_squared_error', # Loss is defined as mean squared error\n",
    "                metrics=['MeanSquaredError'])\n",
    "\n",
    "early_stopping = keras.callbacks.EarlyStopping(monitor='loss', # Earlystopping is defined, and the monitoring indicator is loss\n",
    "                                               patience=5, # 5 times\n",
    "                                               restore_best_weights=True)"
   ]
  },
  {
   "cell_type": "code",
   "execution_count": null,
   "metadata": {
    "id": "806gpy2wCSv2",
    "outputId": "5e80d680-76e2-4592-cb99-4d46a688efef"
   },
   "outputs": [
    {
     "name": "stdout",
     "output_type": "stream",
     "text": [
      "Epoch 1/50\n",
      "62/62 [==============================] - 0s 744us/step - loss: 0.0300 - mean_squared_error: 0.0300\n",
      "Epoch 2/50\n",
      "62/62 [==============================] - 0s 672us/step - loss: 6.7435e-04 - mean_squared_error: 6.7435e-04\n",
      "Epoch 3/50\n",
      "62/62 [==============================] - 0s 689us/step - loss: 5.7594e-04 - mean_squared_error: 5.7594e-04\n",
      "Epoch 4/50\n",
      "62/62 [==============================] - 0s 721us/step - loss: 4.9353e-04 - mean_squared_error: 4.9353e-04\n",
      "Epoch 5/50\n",
      "62/62 [==============================] - 0s 738us/step - loss: 4.4710e-04 - mean_squared_error: 4.4710e-04\n",
      "Epoch 6/50\n",
      "62/62 [==============================] - 0s 721us/step - loss: 4.5771e-04 - mean_squared_error: 4.5771e-04\n",
      "Epoch 7/50\n",
      "62/62 [==============================] - 0s 716us/step - loss: 3.5195e-04 - mean_squared_error: 3.5195e-04\n",
      "Epoch 8/50\n",
      "62/62 [==============================] - 0s 671us/step - loss: 3.1394e-04 - mean_squared_error: 3.1394e-04\n",
      "Epoch 9/50\n",
      "62/62 [==============================] - 0s 1ms/step - loss: 2.7109e-04 - mean_squared_error: 2.7109e-04\n",
      "Epoch 10/50\n",
      "62/62 [==============================] - 0s 787us/step - loss: 2.8913e-04 - mean_squared_error: 2.8913e-04\n",
      "Epoch 11/50\n",
      "62/62 [==============================] - 0s 754us/step - loss: 2.4237e-04 - mean_squared_error: 2.4237e-04\n",
      "Epoch 12/50\n",
      "62/62 [==============================] - 0s 754us/step - loss: 2.4880e-04 - mean_squared_error: 2.4880e-04\n",
      "Epoch 13/50\n",
      "62/62 [==============================] - 0s 774us/step - loss: 2.1788e-04 - mean_squared_error: 2.1788e-04\n",
      "Epoch 14/50\n",
      "62/62 [==============================] - 0s 754us/step - loss: 2.2037e-04 - mean_squared_error: 2.2037e-04\n",
      "Epoch 15/50\n",
      "62/62 [==============================] - 0s 721us/step - loss: 2.1229e-04 - mean_squared_error: 2.1229e-04\n",
      "Epoch 16/50\n",
      "62/62 [==============================] - 0s 721us/step - loss: 2.0010e-04 - mean_squared_error: 2.0010e-04\n",
      "Epoch 17/50\n",
      "62/62 [==============================] - 0s 699us/step - loss: 2.9005e-04 - mean_squared_error: 2.9005e-04\n",
      "Epoch 18/50\n",
      "62/62 [==============================] - 0s 754us/step - loss: 1.9110e-04 - mean_squared_error: 1.9110e-04\n",
      "Epoch 19/50\n",
      "62/62 [==============================] - 0s 836us/step - loss: 2.3813e-04 - mean_squared_error: 2.3813e-04\n",
      "Epoch 20/50\n",
      "62/62 [==============================] - 0s 869us/step - loss: 1.9371e-04 - mean_squared_error: 1.9371e-04\n",
      "Epoch 21/50\n",
      "62/62 [==============================] - 0s 742us/step - loss: 1.9618e-04 - mean_squared_error: 1.9618e-04\n",
      "Epoch 22/50\n",
      "62/62 [==============================] - 0s 754us/step - loss: 1.5549e-04 - mean_squared_error: 1.5549e-04\n",
      "Epoch 23/50\n",
      "62/62 [==============================] - 0s 754us/step - loss: 1.6774e-04 - mean_squared_error: 1.6774e-04\n",
      "Epoch 24/50\n",
      "62/62 [==============================] - 0s 721us/step - loss: 1.8388e-04 - mean_squared_error: 1.8388e-04\n",
      "Epoch 25/50\n",
      "62/62 [==============================] - 0s 767us/step - loss: 1.6292e-04 - mean_squared_error: 1.6292e-04\n",
      "Epoch 26/50\n",
      "62/62 [==============================] - 0s 721us/step - loss: 1.8864e-04 - mean_squared_error: 1.8864e-04\n",
      "Epoch 27/50\n",
      "62/62 [==============================] - 0s 721us/step - loss: 1.4437e-04 - mean_squared_error: 1.4437e-04\n",
      "Epoch 28/50\n",
      "62/62 [==============================] - 0s 803us/step - loss: 1.3939e-04 - mean_squared_error: 1.3939e-04\n",
      "Epoch 29/50\n",
      "62/62 [==============================] - 0s 918us/step - loss: 1.4839e-04 - mean_squared_error: 1.4839e-04\n",
      "Epoch 30/50\n",
      "62/62 [==============================] - 0s 689us/step - loss: 1.6139e-04 - mean_squared_error: 1.6139e-04\n",
      "Epoch 31/50\n",
      "62/62 [==============================] - 0s 738us/step - loss: 1.6193e-04 - mean_squared_error: 1.6193e-04\n",
      "Epoch 32/50\n",
      "62/62 [==============================] - 0s 806us/step - loss: 1.3049e-04 - mean_squared_error: 1.3049e-04\n",
      "Epoch 33/50\n",
      "62/62 [==============================] - 0s 791us/step - loss: 1.7951e-04 - mean_squared_error: 1.7951e-04\n",
      "Epoch 34/50\n",
      "62/62 [==============================] - 0s 787us/step - loss: 2.5918e-04 - mean_squared_error: 2.5918e-04\n",
      "Epoch 35/50\n",
      "62/62 [==============================] - 0s 787us/step - loss: 1.2878e-04 - mean_squared_error: 1.2878e-04\n",
      "Epoch 36/50\n",
      "62/62 [==============================] - 0s 770us/step - loss: 1.5220e-04 - mean_squared_error: 1.5220e-04\n",
      "Epoch 37/50\n",
      "62/62 [==============================] - 0s 706us/step - loss: 4.0668e-04 - mean_squared_error: 4.0668e-04\n",
      "Epoch 38/50\n",
      "62/62 [==============================] - 0s 732us/step - loss: 2.8286e-04 - mean_squared_error: 2.8286e-04\n",
      "Epoch 39/50\n",
      "62/62 [==============================] - 0s 885us/step - loss: 1.3296e-04 - mean_squared_error: 1.3296e-04\n",
      "Epoch 40/50\n",
      "62/62 [==============================] - 0s 869us/step - loss: 1.6815e-04 - mean_squared_error: 1.6815e-04\n"
     ]
    },
    {
     "data": {
      "text/plain": [
       "<keras.callbacks.History at 0x1c42722cd00>"
      ]
     },
     "execution_count": 8,
     "metadata": {},
     "output_type": "execute_result"
    }
   ],
   "source": [
    "network.fit(X_train, y_train, epochs=50, callbacks=early_stopping)"
   ]
  },
  {
   "cell_type": "code",
   "execution_count": null,
   "metadata": {
    "id": "cnvU2NgVCSv2"
   },
   "outputs": [],
   "source": [
    "y_pred = network.predict(X_test) # make predictions\n",
    "\n",
    "y_test_unscaled = scaler.inverse_transform(y_test) # transform test labels inversely\n",
    "y_pred_unscaled = scaler.inverse_transform(y_pred) # transform predictions inversely"
   ]
  },
  {
   "cell_type": "markdown",
   "metadata": {
    "id": "BlgDNJbmCSv2"
   },
   "source": [
    "After training, we can see the fitting effect on the stock price, and the overall trend is basically consistent and roughly the same."
   ]
  },
  {
   "cell_type": "code",
   "execution_count": null,
   "metadata": {
    "scrolled": false,
    "id": "zavg-549CSv2",
    "outputId": "af217226-4c02-4ee9-bc55-b6969d4470d0"
   },
   "outputs": [
    {
     "data": {
      "image/png": "[encoded data removed]",
      "text/plain": [
       "<Figure size 1800x360 with 1 Axes>"
      ]
     },
     "metadata": {
      "needs_background": "light"
     },
     "output_type": "display_data"
    }
   ],
   "source": [
    "# plot\n",
    "plt.figure(figsize = (25,5))\n",
    "plt.plot(y_test_unscaled,color='red',label='Original')\n",
    "plt.plot(y_pred_unscaled,color='green',label='Predict')\n",
    "plt.xlabel('the number of the data')\n",
    "plt.ylabel('price')\n",
    "plt.title('SPY')\n",
    "plt.legend()\n",
    "plt.show()"
   ]
  },
  {
   "cell_type": "markdown",
   "metadata": {
    "id": "i7D38IcLCSv2"
   },
   "source": [
    "### 6.2 k-NN Algrithom"
   ]
  },
  {
   "cell_type": "markdown",
   "metadata": {
    "id": "n2WQAllICSv2"
   },
   "source": [
    "second method, I first pre-process the dataset, i.e., add evaluation metrics. Such as stock price volatility, closing moving average, opening price fluctuations, and so on. If the volatility of the closing price is higher than the set threshold, the stock is considered to be profitable, and the earnings signal is saved in the relevant column."
   ]
  },
  {
   "cell_type": "code",
   "execution_count": null,
   "metadata": {
    "id": "fDfvMQKhCSv3"
   },
   "outputs": [],
   "source": [
    "# Augment( add evaluation metrics)\n",
    "df = data.copy()\n",
    "\n",
    "df['volatility'] = (df['High'] - df['Low'] / df['Close'].shift(-1))  # stock price volatility\n",
    "\n",
    "df['close_mean_60'] = df['Close'].rolling(60).mean() #  60-day closing moving average\n",
    "\n",
    "columns = df.columns\n",
    "for col in columns:\n",
    "    df[col + '_change'] = (df[col] - df[col].shift()) / df[col].shift()\n",
    "\n",
    "pre_ret = 0.00 # threshold\n",
    "df.loc[df['Close_change'] > pre_ret, 'change_p'] = 1 #  profitable\n",
    "df.loc[df['Close_change'] <= pre_ret, 'change_p'] = 0 # non-profitable\n",
    "\n",
    "df['change_p'] = df['change_p'].shift(-1) # Move the forecast forward one day\n",
    "\n",
    "df = df.dropna(how='any')  \n",
    "df.reset_index(drop=True, inplace=True)"
   ]
  },
  {
   "cell_type": "code",
   "execution_count": null,
   "metadata": {
    "id": "yCTjM69cCSv3"
   },
   "outputs": [],
   "source": [
    "y = df['change_p']\n",
    "X = df.drop('change_p',axis=1)\n",
    "X_train, X_test, y_train, y_test = train_test_split(X, y) # split train & test"
   ]
  },
  {
   "cell_type": "markdown",
   "metadata": {
    "id": "Oi2iyd7NCSv3"
   },
   "source": [
    "Then perform feature scaling, that is, standardization, and after that, perform 3-fold grid search to obtain the best parameters: the n-neighbors is 3, the p-value is 1, and the weight is distance. "
   ]
  },
  {
   "cell_type": "code",
   "execution_count": null,
   "metadata": {
    "id": "FfNkE74bCSv3",
    "outputId": "5b3df160-7317-42fc-f416-30b803fabaaf"
   },
   "outputs": [
    {
     "data": {
      "text/plain": [
       "GridSearchCV(cv=3, estimator=KNeighborsClassifier(),\n",
       "             param_grid={'n_neighbors': [1, 2, 3], 'p': [1, 2],\n",
       "                         'weights': ['uniform', 'distance']},\n",
       "             scoring='accuracy')"
      ]
     },
     "execution_count": 18,
     "metadata": {},
     "output_type": "execute_result"
    }
   ],
   "source": [
    "standardScaler = StandardScaler() # standardization\n",
    "standardScaler.fit(X_train)\n",
    "\n",
    "X_train_standard = standardScaler.transform(X_train)\n",
    "X_test_standard = standardScaler.transform(X_test)\n",
    "\n",
    "# Grid search\n",
    "param_grids = {\n",
    "    \"weights\": ['uniform', 'distance'],\n",
    "    \"p\": [1, 2],\n",
    "    \"n_neighbors\":[1,2,3]\n",
    "}\n",
    "\n",
    "knn_clf = KNeighborsClassifier()\n",
    "grid_search = GridSearchCV(knn_clf, param_grids, cv=3, # 3-fold\n",
    "                           scoring='accuracy') # monitoring accuracy\n",
    "grid_search.fit(X_train_standard, y_train)"
   ]
  },
  {
   "cell_type": "code",
   "execution_count": null,
   "metadata": {
    "id": "1hUYYoskCSv3",
    "outputId": "b778dfaf-f415-4369-e5ad-3bd1751d77ac"
   },
   "outputs": [
    {
     "data": {
      "text/plain": [
       "{'n_neighbors': 3, 'p': 1, 'weights': 'distance'}"
      ]
     },
     "execution_count": 19,
     "metadata": {},
     "output_type": "execute_result"
    }
   ],
   "source": [
    "# get the best parameters\n",
    "grid_search.best_params_"
   ]
  },
  {
   "cell_type": "markdown",
   "metadata": {
    "id": "9VkGGONpCSv3"
   },
   "source": [
    "As we can see, the accuracy rate is about 52.62%, and the calculated AUC value is 0.5292. The model fitting effect is acceptable, but it can still be improved."
   ]
  },
  {
   "cell_type": "code",
   "execution_count": null,
   "metadata": {
    "id": "fCXMKfJ7CSv4"
   },
   "outputs": [],
   "source": [
    "# fitting\n",
    "knn_clf = KNeighborsClassifier(n_neighbors= 3, p= 1, weights= 'distance')\n",
    "knn_clf.fit(X_train_standard,y_train.values)\n",
    "y_predict = knn_clf.predict(X_test_standard)"
   ]
  },
  {
   "cell_type": "code",
   "execution_count": null,
   "metadata": {
    "id": "z3C7I0qyCSv4",
    "outputId": "c7da73b9-2409-4f75-f2d4-8e943a7f5ee7"
   },
   "outputs": [
    {
     "data": {
      "text/plain": [
       "0.5262295081967213"
      ]
     },
     "execution_count": 43,
     "metadata": {},
     "output_type": "execute_result"
    }
   ],
   "source": [
    "# accuracy\n",
    "accuracy_score(y_test,y_predict)"
   ]
  },
  {
   "cell_type": "code",
   "execution_count": null,
   "metadata": {
    "id": "tTBKvd0qCSv4",
    "outputId": "f1d16f35-c71c-4c14-8c02-958a2620b6cd"
   },
   "outputs": [
    {
     "data": {
      "text/plain": [
       "0.5292116174607441"
      ]
     },
     "execution_count": 44,
     "metadata": {},
     "output_type": "execute_result"
    }
   ],
   "source": [
    "# AUC value\n",
    "roc_auc_score(y_test.values, knn_clf.predict_proba(X_test_standard)[:,1])"
   ]
  },
  {
   "cell_type": "markdown",
   "metadata": {
    "id": "BbyaxfDRCSv4"
   },
   "source": [
    "In the next work, I will continue to adjust the parameters of the two models and compare the effect of the algorithms against other models like LSTM or logistic regression."
   ]
  },
  {
   "cell_type": "markdown",
   "source": [
    "## Statement"
   ],
   "metadata": {
    "collapsed": false,
    "pycharm": {
     "name": "#%% md\n"
    }
   }
  },
  {
   "cell_type": "markdown",
   "source": [
    "* Shengbo Jin: Data Fetching; Exploratory Data Analysis; Algorithm #1 (Vanilla RNN, LSTM, XGBoost, Random Forest)\n",
    "* Ning Huang: Algorithm #2 (Decision Tree Regression)\n",
    "* Xuqing Hu: Algorithm #3 (Neural Network, k-NN)"
   ],
   "metadata": {
    "collapsed": false,
    "pycharm": {
     "name": "#%% md\n"
    }
   }
  }
 ],
 "metadata": {
  "hide_input": false,
  "kernelspec": {
   "display_name": "Python 3 (ipykernel)",
   "language": "python",
   "name": "python3"
  },
  "language_info": {
   "codemirror_mode": {
    "name": "ipython",
    "version": 3
   },
   "file_extension": ".py",
   "mimetype": "text/x-python",
   "name": "python",
   "nbconvert_exporter": "python",
   "pygments_lexer": "ipython3",
   "version": "3.9.7"
  },
  "latex_envs": {
   "LaTeX_envs_menu_present": true,
   "autoclose": false,
   "autocomplete": true,
   "bibliofile": "biblio.bib",
   "cite_by": "apalike",
   "current_citInitial": 1,
   "eqLabelWithNumbers": true,
   "eqNumInitial": 1,
   "hotkeys": {
    "equation": "Ctrl-E",
    "itemize": "Ctrl-I"
   },
   "labels_anchors": false,
   "latex_user_defs": false,
   "report_style_numbering": false,
   "user_envs_cfg": false
  },
  "colab": {
   "name": "Final Report (1)(1).ipynb",
   "provenance": [],
   "collapsed_sections": [
    "aad_6CDlCSvi",
    "UFrrTpwxCSvn",
    "nMDtlQD9CSvq",
    "AptLRog_CSvq",
    "GOpsJni9CSvu",
    "UqEPF2KYCSvw",
    "VtVZJW9wCSvy",
    "1AL-j9nNCSvz",
    "uUoWjnzQCSv0",
    "4eHJK-HSCSv1",
    "i7D38IcLCSv2"
   ]
  }
 },
 "nbformat": 4,
 "nbformat_minor": 0
}