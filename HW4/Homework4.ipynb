{
 "cells": [
  {
   "cell_type": "markdown",
   "metadata": {},
   "source": [
    "<h1>\n",
    "<center>CFRM 421/521, Spring 2022</center>\n",
    "</h1>\n",
    "\n",
    "<h1>\n",
    "<center>Shengbo Jin</center>\n",
    "</h1>\n",
    "\n",
    "<h1>\n",
    "<center>Homework 4</center>\n",
    "</h1>\n",
    "\n",
    "* **Due: Tuesday, May 31, 2022, 11:59 PM**\n",
    "\n",
    "\n",
    "* Total marks: 47\n",
    "\n",
    "\n",
    "* Late submissions are allowed, but a 20% penalty per day applies. Your last submission is considered for calculating the penalty.\n",
    "\n",
    "\n",
    "*  Use this Jupyter notebook as a template for your solutions. **Your solution must be submitted as one Jupyter notebook on Canvas and one PDF file on Gradescope.** The notebook must be already run, that is, make sure that you have run all your code, save the notebook, and then when you reopen the notebook, checked that all output appears as expected. You are allowed to use code from the textbook, textbook website, or lecture notes."
   ]
  },
  {
   "cell_type": "markdown",
   "metadata": {},
   "source": [
    "# 1. A regression MLP [10 marks]\n",
    "\n",
    "Consider the California housing data from Homework 1 using the same training and test set there. Here, we split off 20% of the training set as a validation set, and keep the remaining 80% as the actual training set.  The following code replicates the preprocessing of the dataset from Homework 1, creating the training set `X_train`, `y_train`, the validation set `X_valid`, `y_valid` and the test set `X_test`, `y_test`. The target variable has been divided by 100,000."
   ]
  },
  {
   "cell_type": "code",
   "execution_count": 1,
   "metadata": {},
   "outputs": [],
   "source": [
    "import numpy as np\n",
    "import pandas as pd\n",
    "import tensorflow as tf\n",
    "import tensorflow.keras as keras"
   ]
  },
  {
   "cell_type": "code",
   "execution_count": 2,
   "metadata": {},
   "outputs": [],
   "source": [
    "from sklearn.pipeline import Pipeline\n",
    "from sklearn.impute import SimpleImputer\n",
    "from sklearn.compose import ColumnTransformer\n",
    "from sklearn.preprocessing import StandardScaler, OneHotEncoder\n",
    "from sklearn.model_selection import StratifiedShuffleSplit\n",
    "\n",
    "import os\n",
    "import tarfile\n",
    "from six.moves import urllib\n",
    "\n",
    "HOUSING_PATH = os.path.join(\"datasets\", \"housing\")\n",
    "\n",
    "def fetch_housing_data(housing_url, housing_path=HOUSING_PATH):\n",
    "    if not os.path.isdir(housing_path):\n",
    "        os.makedirs(housing_path)\n",
    "    tgz_path = os.path.join(housing_path, \"housing.tgz\")\n",
    "    urllib.request.urlretrieve(housing_url, tgz_path)\n",
    "    housing_tgz = tarfile.open(tgz_path)\n",
    "    housing_tgz.extractall(path=housing_path)\n",
    "    housing_tgz.close()\n",
    "\n",
    "def load_housing_data(housing_path=HOUSING_PATH):\n",
    "    csv_path = os.path.join(housing_path, \"housing.csv\")\n",
    "    return pd.read_csv(csv_path)\n",
    "\n",
    "HOUSING_URL = (\"https://raw.githubusercontent.com/ageron/\"+\n",
    "               \"handson-ml2/master/datasets/housing/housing.tgz\")\n",
    "fetch_housing_data(HOUSING_URL)\n",
    "data = load_housing_data()\n",
    "\n",
    "data[\"income_cat\"] = np.ceil(data[\"median_income\"] / 1.5)\n",
    "data[\"income_cat\"].where(data[\"income_cat\"] < 5, 5.0, inplace=True)\n",
    "split = StratifiedShuffleSplit(n_splits=1, test_size=0.2, random_state=42)\n",
    "for train_index, test_index in split.split(data, data[\"income_cat\"]):\n",
    "    strat_train_set = data.loc[train_index]\n",
    "    strat_test_set = data.loc[test_index]\n",
    "    \n",
    "# Split the traning set into training and validation    \n",
    "split2 = StratifiedShuffleSplit(n_splits=1, test_size=0.2, random_state=42)\n",
    "for train_index2, valid_index in split2.split(strat_train_set, strat_train_set[\"income_cat\"]):\n",
    "    strat_train2_set = strat_train_set.iloc[train_index2]\n",
    "    strat_valid_set = strat_train_set.iloc[valid_index]\n",
    "    \n",
    "strat_train_set = strat_train2_set.copy().drop(\"income_cat\", axis=1)\n",
    "strat_valid_set = strat_valid_set.copy().drop(\"income_cat\", axis=1)\n",
    "strat_test_set = strat_test_set.copy().drop(\"income_cat\", axis=1)\n",
    "\n",
    "X_raw = strat_train_set.drop(\"median_house_value\", axis=1)\n",
    "y_train = strat_train_set[\"median_house_value\"].copy()/100000\n",
    "\n",
    "num_pipeline = Pipeline([\n",
    "        ('imputer', SimpleImputer(strategy=\"median\")),\n",
    "        ('std_scaler', StandardScaler()),\n",
    "    ])\n",
    "num_features = X_raw.drop(\"ocean_proximity\", axis=1)\n",
    "num_attribs = list(num_features)\n",
    "cat_attribs = [\"ocean_proximity\"]\n",
    "full_pipeline = ColumnTransformer([\n",
    "        (\"num\", num_pipeline, num_attribs),\n",
    "        (\"cat\", OneHotEncoder(), cat_attribs),\n",
    "    ])\n",
    "\n",
    "# Apply the pipeline to the training set\n",
    "X_train = full_pipeline.fit_transform(X_raw)\n",
    "\n",
    "# Apply the pipeline to the validation set\n",
    "X_valid_raw = strat_valid_set.drop(\"median_house_value\", axis=1)\n",
    "y_valid = strat_valid_set[\"median_house_value\"].copy()/100000\n",
    "X_valid = full_pipeline.transform(X_valid_raw)\n",
    "\n",
    "# Apply the pipeline to the validation set\n",
    "X_test_raw = strat_test_set.drop(\"median_house_value\", axis=1)\n",
    "y_test = strat_test_set[\"median_house_value\"].copy()/100000\n",
    "X_test = full_pipeline.transform(X_test_raw)"
   ]
  },
  {
   "cell_type": "markdown",
   "metadata": {},
   "source": [
    "## (a) [4 marks]\n",
    "\n",
    "Use `tensorflow.keras` to train a regression MLP with one hidden layer of 50 ReLU neurons. For the output layer, try both a ReLU activation function and no activation function (which is equivalent to the identity function). Explain which choice is better. Use the appropriate weight initialization. Use the Nadam optimizer. Train for 30 epochs, and report the mean squared error on the validation set.\n",
    "\n",
    "Hint: In the `.compile()` method, use `loss=\"mse\"`."
   ]
  },
  {
   "cell_type": "markdown",
   "metadata": {},
   "source": [
    "**[Add your solution here]**"
   ]
  },
  {
   "cell_type": "markdown",
   "source": [
    "### ReLU activation function for the output layer"
   ],
   "metadata": {
    "collapsed": false,
    "pycharm": {
     "name": "#%% md\n"
    }
   }
  },
  {
   "cell_type": "code",
   "execution_count": 3,
   "outputs": [],
   "source": [
    "import random as python_random\n",
    "\n",
    "def reset_session(seed=42):\n",
    "    tf.random.set_seed(seed)\n",
    "    python_random.seed(seed)\n",
    "    np.random.seed(seed)\n",
    "    tf.keras.backend.clear_session()"
   ],
   "metadata": {
    "collapsed": false,
    "pycharm": {
     "name": "#%%\n"
    }
   }
  },
  {
   "cell_type": "code",
   "execution_count": 10,
   "outputs": [
    {
     "name": "stdout",
     "output_type": "stream",
     "text": [
      "104/104 [==============================] - 0s 455us/step - loss: 0.3386 - mse: 0.3386\n"
     ]
    },
    {
     "data": {
      "text/plain": "[0.33857136964797974, 0.33857136964797974]"
     },
     "execution_count": 10,
     "metadata": {},
     "output_type": "execute_result"
    }
   ],
   "source": [
    "reset_session()\n",
    "model = keras.models.Sequential([\n",
    "    keras.layers.InputLayer(input_shape=(13,)),\n",
    "    keras.layers.Dense(50, activation=\"relu\", kernel_initializer=\"he_normal\"),\n",
    "    keras.layers.Dense(1, activation=\"relu\", kernel_initializer=\"he_normal\")\n",
    "])\n",
    "\n",
    "optimizer = keras.optimizers.Nadam(learning_rate=0.001, beta_1=0.9, beta_2=0.999)\n",
    "model.compile(loss=\"mse\",\n",
    "              optimizer=optimizer,\n",
    "              metrics=[\"mse\"])\n",
    "\n",
    "model.fit(X_train, y_train, epochs=30,\n",
    "          validation_data=(X_valid, y_valid), verbose=0)\n",
    "\n",
    "model.evaluate(X_valid, y_valid)"
   ],
   "metadata": {
    "collapsed": false,
    "pycharm": {
     "name": "#%%\n"
    }
   }
  },
  {
   "cell_type": "markdown",
   "source": [
    "### No activation function for the output layer"
   ],
   "metadata": {
    "collapsed": false,
    "pycharm": {
     "name": "#%% md\n"
    }
   }
  },
  {
   "cell_type": "code",
   "execution_count": 11,
   "outputs": [
    {
     "name": "stdout",
     "output_type": "stream",
     "text": [
      "104/104 [==============================] - 0s 466us/step - loss: 0.3393 - mse: 0.3393\n"
     ]
    },
    {
     "data": {
      "text/plain": "[0.339341938495636, 0.339341938495636]"
     },
     "execution_count": 11,
     "metadata": {},
     "output_type": "execute_result"
    }
   ],
   "source": [
    "reset_session()\n",
    "model = keras.models.Sequential([\n",
    "    keras.layers.InputLayer(input_shape=(13,)),\n",
    "    keras.layers.Dense(50, activation=\"relu\", kernel_initializer=\"he_normal\"),\n",
    "    keras.layers.Dense(1, kernel_initializer=\"glorot_uniform\")\n",
    "])\n",
    "\n",
    "optimizer = keras.optimizers.Nadam(learning_rate=0.001, beta_1=0.9, beta_2=0.999)\n",
    "model.compile(loss=\"mse\",\n",
    "              optimizer=optimizer,\n",
    "              metrics=[\"mse\"])\n",
    "\n",
    "model.fit(X_train, y_train, epochs=30,\n",
    "          validation_data=(X_valid, y_valid), verbose=0)\n",
    "\n",
    "model.evaluate(X_valid, y_valid)"
   ],
   "metadata": {
    "collapsed": false,
    "pycharm": {
     "name": "#%%\n"
    }
   }
  },
  {
   "cell_type": "markdown",
   "source": [
    "Because of lower MSE on the validation set, ReLU function is a better choice."
   ],
   "metadata": {
    "collapsed": false,
    "pycharm": {
     "name": "#%% md\n"
    }
   }
  },
  {
   "cell_type": "markdown",
   "metadata": {},
   "source": [
    "## (b) [5 marks]\n",
    "\n",
    "Read the section \"Fine-Tuning Neural Network Hyperparameters\" in the textbook and the corresponding section in the [Jupyter notebook](https://github.com/ageron/handson-ml2/blob/master/10_neural_nets_with_keras.ipynb) on the textbook website. Then use a randomized search to search for the best number of hidden layers, neurons per hidden layer, and learning rate. For the randomized search use 3-fold CV, with 10 iterations, with the number of hidden layers uniformly sampled from $\\{0,1,2,3\\}$, the number of neurons per layer uniformly from $\\{1,2,\\dots,100\\}$, and the learning rate from the distribution `reciprocal(3e-4, 3e-2)`. Use early stopping with `patience=10`."
   ]
  },
  {
   "cell_type": "markdown",
   "metadata": {},
   "source": [
    "**[Add your solution here]**"
   ]
  },
  {
   "cell_type": "code",
   "execution_count": 12,
   "outputs": [],
   "source": [
    "def build_model(n_hidden=1, n_neurons=30, learning_rate=3e-3, input_shape=X_train.shape[1:]):\n",
    "    model = keras.models.Sequential()\n",
    "    model.add(keras.layers.InputLayer(input_shape=input_shape))\n",
    "    for layer in range(n_hidden):\n",
    "        model.add(keras.layers.Dense(n_neurons, activation=\"relu\", kernel_initializer=\"he_normal\"))\n",
    "    model.add(keras.layers.Dense(1, kernel_initializer=\"glorot_uniform\"))\n",
    "    optimizer = keras.optimizers.Nadam(learning_rate=learning_rate, beta_1=0.9, beta_2=0.999)\n",
    "    model.compile(loss=\"mse\", optimizer=optimizer, metrics=[\"mse\"])\n",
    "    return model"
   ],
   "metadata": {
    "collapsed": false,
    "pycharm": {
     "name": "#%%\n"
    }
   }
  },
  {
   "cell_type": "code",
   "execution_count": 13,
   "outputs": [
    {
     "name": "stderr",
     "output_type": "stream",
     "text": [
      "C:\\Users\\King48\\AppData\\Local\\Temp\\ipykernel_16364\\4087176523.py:1: DeprecationWarning: KerasRegressor is deprecated, use Sci-Keras (https://github.com/adriangb/scikeras) instead. See https://www.adriangb.com/scikeras/stable/migration.html for help migrating.\n",
      "  keras_reg = keras.wrappers.scikit_learn.KerasRegressor(build_model)\n"
     ]
    }
   ],
   "source": [
    "keras_reg = keras.wrappers.scikit_learn.KerasRegressor(build_model)"
   ],
   "metadata": {
    "collapsed": false,
    "pycharm": {
     "name": "#%%\n"
    }
   }
  },
  {
   "cell_type": "code",
   "execution_count": 15,
   "outputs": [
    {
     "name": "stdout",
     "output_type": "stream",
     "text": [
      "138/138 [==============================] - 0s 483us/step - loss: 0.4277 - mse: 0.4277\n",
      "138/138 [==============================] - 0s 487us/step - loss: 0.4011 - mse: 0.4011\n",
      "138/138 [==============================] - 0s 468us/step - loss: 0.3801 - mse: 0.3801\n",
      "138/138 [==============================] - 0s 497us/step - loss: 0.3001 - mse: 0.3001\n",
      "138/138 [==============================] - 0s 486us/step - loss: 0.3384 - mse: 0.3384\n",
      "138/138 [==============================] - 0s 519us/step - loss: 0.3038 - mse: 0.3038\n",
      "138/138 [==============================] - 0s 494us/step - loss: 0.3711 - mse: 0.3711\n",
      "138/138 [==============================] - 0s 497us/step - loss: 0.3744 - mse: 0.3744\n",
      "138/138 [==============================] - 0s 512us/step - loss: 0.3696 - mse: 0.3696\n",
      "138/138 [==============================] - 0s 525us/step - loss: 0.3082 - mse: 0.3082\n",
      "138/138 [==============================] - 0s 512us/step - loss: 0.3212 - mse: 0.3212\n",
      "138/138 [==============================] - 0s 527us/step - loss: 0.3177 - mse: 0.3177\n",
      "138/138 [==============================] - 0s 516us/step - loss: 0.4875 - mse: 0.4875\n",
      "138/138 [==============================] - 0s 520us/step - loss: 0.5014 - mse: 0.5014\n",
      "138/138 [==============================] - 0s 501us/step - loss: 0.4847 - mse: 0.4847\n",
      "138/138 [==============================] - 0s 555us/step - loss: 0.2972 - mse: 0.2972\n",
      "138/138 [==============================] - 0s 505us/step - loss: 0.3174 - mse: 0.3174\n",
      "138/138 [==============================] - 0s 537us/step - loss: 0.3190 - mse: 0.3190\n",
      "138/138 [==============================] - 0s 528us/step - loss: 0.3418 - mse: 0.3418\n",
      "138/138 [==============================] - 0s 467us/step - loss: 0.3403 - mse: 0.3403\n",
      "138/138 [==============================] - 0s 454us/step - loss: 0.3279 - mse: 0.3279\n",
      "138/138 [==============================] - 0s 471us/step - loss: 0.3048 - mse: 0.3048\n",
      "138/138 [==============================] - 0s 475us/step - loss: 0.3059 - mse: 0.3059\n",
      "138/138 [==============================] - 0s 517us/step - loss: 0.3183 - mse: 0.3183\n",
      "138/138 [==============================] - 0s 546us/step - loss: 0.3044 - mse: 0.3044\n",
      "138/138 [==============================] - 0s 498us/step - loss: 0.3078 - mse: 0.3078\n",
      "138/138 [==============================] - 0s 472us/step - loss: 0.3150 - mse: 0.3150\n",
      "138/138 [==============================] - 0s 500us/step - loss: 0.3023 - mse: 0.3023\n",
      "138/138 [==============================] - 0s 451us/step - loss: 0.3226 - mse: 0.3226\n",
      "138/138 [==============================] - 0s 496us/step - loss: 0.3074 - mse: 0.3074\n"
     ]
    },
    {
     "data": {
      "text/plain": "RandomizedSearchCV(cv=3,\n                   estimator=<keras.wrappers.scikit_learn.KerasRegressor object at 0x00000172227642E0>,\n                   param_distributions={'learning_rate': [0.001683454924600351,\n                                                          0.02390836445593178,\n                                                          0.008731907739399206,\n                                                          0.004725396149933917,\n                                                          0.0006154014789262348,\n                                                          0.0006153331256530192,\n                                                          0.0003920021771415983,\n                                                          0.01619845322936229,\n                                                          0.004779156784872302,\n                                                          0.007821074275112...\n                                                          0.0011470425674025553,\n                                                          0.005021425736625637,\n                                                          0.0005703073595961105,\n                                                          0.001151888789941251,\n                                                          0.001621231156394198,\n                                                          0.0024505367684280487,\n                                                          0.011155092541719619,\n                                                          0.0007524347058135697,\n                                                          0.0032032448128444043,\n                                                          0.004591455636549438,\n                                                          0.0003715541189658278, ...],\n                                        'n_hidden': [0, 1, 2, 3],\n                                        'n_neurons': [1, 2, 3, 4, 5, 6, 7, 8, 9,\n                                                      10, 11, 12, 13, 14, 15,\n                                                      16, 17, 18, 19, 20, 21,\n                                                      22, 23, 24, 25, 26, 27,\n                                                      28, 29, 30, ...]})"
     },
     "execution_count": 15,
     "metadata": {},
     "output_type": "execute_result"
    }
   ],
   "source": [
    "reset_session()\n",
    "from scipy.stats import reciprocal\n",
    "from sklearn.model_selection import RandomizedSearchCV\n",
    "\n",
    "param_distribs = {\n",
    "    \"n_hidden\": [0, 1, 2, 3],\n",
    "    \"n_neurons\": np.arange(1, 100).tolist(),\n",
    "    \"learning_rate\": reciprocal(3e-4, 3e-2).rvs(1000).tolist(),\n",
    "}\n",
    "\n",
    "rnd_search_cv = RandomizedSearchCV(keras_reg, param_distribs, n_iter=10, cv=3, verbose=0)\n",
    "rnd_search_cv.fit(X_train, y_train, epochs=30,\n",
    "                  validation_data=(X_valid, y_valid), verbose=0,\n",
    "                  callbacks=[keras.callbacks.EarlyStopping(patience=10)])"
   ],
   "metadata": {
    "collapsed": false,
    "pycharm": {
     "name": "#%%\n"
    }
   }
  },
  {
   "cell_type": "markdown",
   "metadata": {},
   "source": [
    "## (c) [1 mark]\n",
    "\n",
    "Plot the learning curves for the best model in (c). Does it look like the model is overfitting?"
   ]
  },
  {
   "cell_type": "markdown",
   "metadata": {},
   "source": [
    "**[Add your solution here]**"
   ]
  },
  {
   "cell_type": "code",
   "execution_count": 16,
   "outputs": [
    {
     "data": {
      "text/plain": "{'n_neurons': 80, 'n_hidden': 3, 'learning_rate': 0.0059640580092043885}"
     },
     "execution_count": 16,
     "metadata": {},
     "output_type": "execute_result"
    }
   ],
   "source": [
    "rnd_search_cv.best_params_"
   ],
   "metadata": {
    "collapsed": false,
    "pycharm": {
     "name": "#%%\n"
    }
   }
  },
  {
   "cell_type": "code",
   "execution_count": 18,
   "outputs": [
    {
     "data": {
      "text/plain": "<Figure size 576x360 with 1 Axes>",
      "image/png": "[encoded data removed]"
     },
     "metadata": {
      "needs_background": "light"
     },
     "output_type": "display_data"
    }
   ],
   "source": [
    "import matplotlib as mpl\n",
    "import matplotlib.pyplot as plt\n",
    "\n",
    "reset_session()\n",
    "run = rnd_search_cv.best_estimator_.fit(X_train, y_train, epochs=30,\n",
    "                                        validation_data=(X_valid, y_valid), verbose=0,\n",
    "                                        callbacks=[keras.callbacks.EarlyStopping(patience=10)])\n",
    "\n",
    "pd.DataFrame(run.history).plot(figsize=(8, 5))\n",
    "plt.grid(True)\n",
    "plt.gca().set_ylim(0, 1)\n",
    "plt.show()"
   ],
   "metadata": {
    "collapsed": false,
    "pycharm": {
     "name": "#%%\n"
    }
   }
  },
  {
   "cell_type": "markdown",
   "source": [
    "Because of the very small gap between train and validation, the model is not overfitting."
   ],
   "metadata": {
    "collapsed": false,
    "pycharm": {
     "name": "#%% md\n"
    }
   }
  },
  {
   "cell_type": "markdown",
   "metadata": {},
   "source": [
    "# 2. Binary classification DNN [23 marks]\n",
    "\n",
    "Consider the [Caravan insurance data](https://liacs.leidenuniv.nl/~puttenpwhvander/library/cc2000/). The data gives sociodemographic and product ownership data from customers of an insurance company, some of which purchased caravan insurance. You can read ther data description from that website. Download the data as a csv file from [Canvas](https://canvas.uw.edu/files/92281351/download?download_frd=1).\n",
    "\n",
    "The target variable is `Purchase`, which is binary and you should convert it to 1 for `Yes` and 0 for `No`."
   ]
  },
  {
   "cell_type": "markdown",
   "metadata": {},
   "source": [
    "## (a) [3 marks]\n",
    "\n",
    "Load, split and preprocess the data. In particular, for the splitting, you will need to create a test set (20% of the full data), a validation set (20% of the remaining data after creating the test set), and a training set, and stratify using the target variable because this is an imbalanced dataset. For both splits, use `random_state=42`. The features `MOSTYPE` and `MOSHOOFD` are categorical so one hot encoding needs to be applied to them. All other features are numerical so a standard scaler needs to be applied to them. Print the training set `X_train`, `y_train` using `print()`."
   ]
  },
  {
   "cell_type": "markdown",
   "metadata": {},
   "source": [
    "**[Add your solution here]**"
   ]
  },
  {
   "cell_type": "code",
   "execution_count": 19,
   "outputs": [],
   "source": [
    "data = pd.read_csv(\"caravan.csv\")\n",
    "data[\"Purchase\"] = (data[\"Purchase\"] == \"Yes\").astype(int)\n",
    "\n",
    "split = StratifiedShuffleSplit(n_splits=1, test_size=0.2, random_state=42)\n",
    "for train_index, test_index in split.split(data, data[\"Purchase\"]):\n",
    "    strat_train_set = data.loc[train_index]\n",
    "    strat_test_set = data.loc[test_index]\n",
    "\n",
    "split2 = StratifiedShuffleSplit(n_splits=1, test_size=0.2, random_state=42)\n",
    "for train_index2, valid_index in split2.split(strat_train_set, strat_train_set[\"Purchase\"]):\n",
    "    strat_train2_set = strat_train_set.iloc[train_index2]\n",
    "    strat_valid_set = strat_train_set.iloc[valid_index]\n",
    "\n",
    "X_raw = strat_train2_set.drop(\"Purchase\", axis=1)\n",
    "y_train = strat_train2_set[\"Purchase\"]\n",
    "\n",
    "num_pipeline = Pipeline([\n",
    "        ('std_scaler', StandardScaler()),\n",
    "    ])\n",
    "num_features = X_raw.drop([\"MOSTYPE\",\"MOSHOOFD\"], axis=1)\n",
    "num_attribs = list(num_features)\n",
    "cat_attribs = [\"MOSTYPE\",\"MOSHOOFD\"]\n",
    "full_pipeline = ColumnTransformer([\n",
    "        (\"num\", num_pipeline, num_attribs),\n",
    "        (\"cat\", OneHotEncoder(), cat_attribs),\n",
    "    ])\n",
    "\n",
    "X_train = full_pipeline.fit_transform(X_raw)\n",
    "\n",
    "X_valid_raw = strat_valid_set.drop(\"Purchase\", axis=1)\n",
    "y_valid = strat_valid_set[\"Purchase\"]\n",
    "X_valid = full_pipeline.transform(X_valid_raw)\n",
    "\n",
    "X_test_raw = strat_test_set.drop(\"Purchase\", axis=1)\n",
    "y_test = strat_test_set[\"Purchase\"]\n",
    "X_test = full_pipeline.transform(X_test_raw)"
   ],
   "metadata": {
    "collapsed": false,
    "pycharm": {
     "name": "#%%\n"
    }
   }
  },
  {
   "cell_type": "code",
   "execution_count": 20,
   "outputs": [
    {
     "name": "stdout",
     "output_type": "stream",
     "text": [
      "[[-0.26920841  0.40025864  0.00630108 ...  0.          0.\n",
      "   0.        ]\n",
      " [-0.26920841 -0.87080994  1.24164497 ...  0.          0.\n",
      "   0.        ]\n",
      " [-0.26920841 -0.87080994  0.00630108 ...  1.          0.\n",
      "   0.        ]\n",
      " ...\n",
      " [-0.26920841  1.67132722  0.00630108 ...  0.          0.\n",
      "   0.        ]\n",
      " [-0.26920841  0.40025864 -1.2290428  ...  0.          0.\n",
      "   0.        ]\n",
      " [-0.26920841  0.40025864  0.00630108 ...  1.          0.\n",
      "   0.        ]]\n"
     ]
    }
   ],
   "source": [
    "print(X_train)"
   ],
   "metadata": {
    "collapsed": false,
    "pycharm": {
     "name": "#%%\n"
    }
   }
  },
  {
   "cell_type": "code",
   "execution_count": 21,
   "outputs": [
    {
     "name": "stdout",
     "output_type": "stream",
     "text": [
      "5356    0\n",
      "2968    0\n",
      "1180    0\n",
      "5182    0\n",
      "2623    0\n",
      "       ..\n",
      "219     0\n",
      "1701    0\n",
      "5360    0\n",
      "978     0\n",
      "4062    0\n",
      "Name: Purchase, Length: 3725, dtype: int32\n"
     ]
    }
   ],
   "source": [
    "print(y_train)"
   ],
   "metadata": {
    "collapsed": false,
    "pycharm": {
     "name": "#%%\n"
    }
   }
  },
  {
   "cell_type": "markdown",
   "metadata": {},
   "source": [
    "## (b) [3 marks]\n",
    "\n",
    "In the next part (c), you will build and fit a DNN with 5 hidden layers of 200, 200, 100, 100, 50 neurons, respectively. Use the following specifications:\n",
    "\n",
    "(i) He initialization and the ELU activation function.\n",
    "\n",
    "(ii) The output layer has 1 neuron with sigmoid activation.\n",
    "\n",
    "(iii) Compile with `loss=\"binary_crossentropy\"` and  `metrics=[\"AUC\"]` (which is ROC AUC).\n",
    "\n",
    "In this question, explain why the choices (i), (ii), and (iii) are justified."
   ]
  },
  {
   "cell_type": "markdown",
   "metadata": {},
   "source": [
    "**[Add your solution here]**"
   ]
  },
  {
   "cell_type": "code",
   "execution_count": 23,
   "outputs": [],
   "source": [
    "model_c = keras.models.Sequential()\n",
    "for n_hidden in (200, 200, 100, 100, 50):\n",
    "    model_c.add(keras.layers.Dense(n_hidden, activation=\"elu\", kernel_initializer=\"he_normal\"))\n",
    "model_c.add(keras.layers.Dense(1, activation=\"sigmoid\"))\n",
    "\n",
    "optimizer = keras.optimizers.SGD(learning_rate=0.001, momentum=0.9, nesterov=True)\n",
    "model_c.compile(loss=\"binary_crossentropy\", optimizer=optimizer,\n",
    "                metrics=[\"AUC\"])"
   ],
   "metadata": {
    "collapsed": false,
    "pycharm": {
     "name": "#%%\n"
    }
   }
  },
  {
   "cell_type": "markdown",
   "source": [
    "(i) ELU allows the unit to have an average output closer to 0 and helps alleviate the vanishing gradients problem, and He initialization is the correct one for ELU.\n",
    "\n",
    "(ii) For binary classification, the output layer with sigmoid activation gives probability to help make decision.\n",
    "\n",
    "(iii) For binary classification, the loss function should be `\"binary_crossentropy\"`, and AUC is appropriate tool to evaluate classifier model."
   ],
   "metadata": {
    "collapsed": false,
    "pycharm": {
     "name": "#%% md\n"
    }
   }
  },
  {
   "cell_type": "markdown",
   "metadata": {},
   "source": [
    "## (c) [3 marks]\n",
    "\n",
    "Train the model in (b) for 30 epochs and use exponential scheduling and the NAG optimizer with `momentum=0.9`. Use a learning curve to comment on whether it is overfitting.\n",
    "\n",
    "At the start of fitting your model, run `reset_session()` given by the following code."
   ]
  },
  {
   "cell_type": "code",
   "execution_count": 22,
   "metadata": {},
   "outputs": [],
   "source": [
    "import random as python_random\n",
    "\n",
    "def reset_session(seed=42):\n",
    "    tf.random.set_seed(seed)\n",
    "    python_random.seed(seed)\n",
    "    np.random.seed(seed)\n",
    "    tf.keras.backend.clear_session()"
   ]
  },
  {
   "cell_type": "markdown",
   "metadata": {},
   "source": [
    "**[Add your solution here]**"
   ]
  },
  {
   "cell_type": "code",
   "execution_count": 24,
   "outputs": [
    {
     "data": {
      "text/plain": "<Figure size 576x360 with 1 Axes>",
      "image/png": "[encoded data removed]"
     },
     "metadata": {
      "needs_background": "light"
     },
     "output_type": "display_data"
    }
   ],
   "source": [
    "reset_session()\n",
    "def exponential_decay(lr0, s):\n",
    "    return lambda epoch: lr0 * 0.1**(epoch / s)\n",
    "lr_scheduler = keras.callbacks.LearningRateScheduler(exponential_decay(lr0=0.01,s=20))\n",
    "\n",
    "run = model_c.fit(X_train, y_train, epochs=30,\n",
    "                  validation_data=(X_valid, y_valid),\n",
    "                  callbacks=[lr_scheduler], verbose=0)\n",
    "\n",
    "pd.DataFrame(run.history).plot(figsize=(8, 5))\n",
    "plt.grid(True)\n",
    "plt.gca().set_ylim(0, 1)\n",
    "plt.show()"
   ],
   "metadata": {
    "collapsed": false,
    "pycharm": {
     "name": "#%%\n"
    }
   }
  },
  {
   "cell_type": "code",
   "execution_count": 25,
   "outputs": [
    {
     "name": "stdout",
     "output_type": "stream",
     "text": [
      "30/30 [==============================] - 0s 956us/step - loss: 0.3924 - auc: 0.6590\n"
     ]
    },
    {
     "data": {
      "text/plain": "[0.3923604488372803, 0.6589714288711548]"
     },
     "execution_count": 25,
     "metadata": {},
     "output_type": "execute_result"
    }
   ],
   "source": [
    "model_c.evaluate(X_valid, y_valid)"
   ],
   "metadata": {
    "collapsed": false,
    "pycharm": {
     "name": "#%%\n"
    }
   }
  },
  {
   "cell_type": "markdown",
   "source": [
    "Because of the large gap between train and validation, the model is likely to overfit."
   ],
   "metadata": {
    "collapsed": false,
    "pycharm": {
     "name": "#%% md\n"
    }
   }
  },
  {
   "cell_type": "markdown",
   "metadata": {},
   "source": [
    "## (d) [12 marks]\n",
    "\n",
    "Fit separate models using the same specification as in (c) but with the following regularization techniques:\n",
    "\n",
    "(i) batch normalization,\n",
    "\n",
    "(ii) early stopping based on validation AUC with `patience=10` (look at the documentation and note the `mode` argument).\n",
    "\n",
    "(iii) $\\ell_2$ regularization with `l2=0.001`,\n",
    "\n",
    "(iv) dropout with probability 0.2,\n",
    "\n",
    "(v) $\\ell_2$ regularization and early stopping both as above,\n",
    "\n",
    "(vi) batch normalization and dropout both as above.\n",
    "\n",
    "At the start of each one of the above models, run `reset_session()`.\n",
    "\n",
    "The performance measure is validation AUC. State this for the model in (c), and for each of the models here comment on whether it is better than the model in (c)."
   ]
  },
  {
   "cell_type": "markdown",
   "metadata": {},
   "source": [
    "**[Add your solution here]**"
   ]
  },
  {
   "cell_type": "code",
   "execution_count": 62,
   "outputs": [
    {
     "name": "stdout",
     "output_type": "stream",
     "text": [
      "30/30 [==============================] - 0s 935us/step - loss: 0.3924 - auc: 0.6590\n"
     ]
    },
    {
     "data": {
      "text/plain": "[0.3923604488372803, 0.6589714288711548]"
     },
     "execution_count": 62,
     "metadata": {},
     "output_type": "execute_result"
    }
   ],
   "source": [
    "model_c.evaluate(X_valid, y_valid)"
   ],
   "metadata": {
    "collapsed": false,
    "pycharm": {
     "name": "#%%\n"
    }
   }
  },
  {
   "cell_type": "markdown",
   "source": [
    "### batch normalization"
   ],
   "metadata": {
    "collapsed": false,
    "pycharm": {
     "name": "#%% md\n"
    }
   }
  },
  {
   "cell_type": "code",
   "execution_count": 48,
   "outputs": [],
   "source": [
    "model_1 = keras.models.Sequential()\n",
    "model_1.add(keras.layers.InputLayer(input_shape=(133,)))\n",
    "model_1.add(keras.layers.BatchNormalization())\n",
    "for n_hidden in (200, 200, 100, 100, 50):\n",
    "    model_1.add(keras.layers.Dense(n_hidden, activation=\"elu\", kernel_initializer=\"he_normal\"))\n",
    "    model_1.add(keras.layers.BatchNormalization())\n",
    "model_1.add(keras.layers.Dense(1, activation=\"sigmoid\"))\n",
    "\n",
    "optimizer = keras.optimizers.SGD(learning_rate=0.001, momentum=0.9, nesterov=True)\n",
    "model_1.compile(loss=\"binary_crossentropy\", optimizer=optimizer,\n",
    "                metrics=[\"AUC\"])"
   ],
   "metadata": {
    "collapsed": false,
    "pycharm": {
     "name": "#%%\n"
    }
   }
  },
  {
   "cell_type": "code",
   "execution_count": 49,
   "outputs": [
    {
     "name": "stdout",
     "output_type": "stream",
     "text": [
      "30/30 [==============================] - 0s 865us/step - loss: 0.3294 - auc: 0.6282\n"
     ]
    },
    {
     "data": {
      "text/plain": "[0.32942235469818115, 0.6282310485839844]"
     },
     "execution_count": 49,
     "metadata": {},
     "output_type": "execute_result"
    }
   ],
   "source": [
    "reset_session()\n",
    "\n",
    "lr_scheduler = keras.callbacks.LearningRateScheduler(exponential_decay(lr0=0.01,s=20))\n",
    "run = model_1.fit(X_train, y_train, epochs=30,\n",
    "                  validation_data=(X_valid, y_valid),\n",
    "                  callbacks=[lr_scheduler], verbose=0)\n",
    "\n",
    "model_1.evaluate(X_valid, y_valid)"
   ],
   "metadata": {
    "collapsed": false,
    "pycharm": {
     "name": "#%%\n"
    }
   }
  },
  {
   "cell_type": "markdown",
   "source": [
    "### early stopping"
   ],
   "metadata": {
    "collapsed": false,
    "pycharm": {
     "name": "#%% md\n"
    }
   }
  },
  {
   "cell_type": "code",
   "execution_count": 28,
   "outputs": [],
   "source": [
    "model_2 = keras.models.Sequential()\n",
    "for n_hidden in (200, 200, 100, 100, 50):\n",
    "    model_2.add(keras.layers.Dense(n_hidden, activation=\"elu\", kernel_initializer=\"he_normal\"))\n",
    "model_2.add(keras.layers.Dense(1, activation=\"sigmoid\"))\n",
    "\n",
    "optimizer = keras.optimizers.SGD(learning_rate=0.001, momentum=0.9, nesterov=True)\n",
    "model_2.compile(loss=\"binary_crossentropy\", optimizer=optimizer,\n",
    "                metrics=[\"AUC\"])"
   ],
   "metadata": {
    "collapsed": false,
    "pycharm": {
     "name": "#%%\n"
    }
   }
  },
  {
   "cell_type": "code",
   "execution_count": 29,
   "outputs": [
    {
     "name": "stdout",
     "output_type": "stream",
     "text": [
      "30/30 [==============================] - 0s 897us/step - loss: 0.3299 - auc: 0.6438\n"
     ]
    },
    {
     "data": {
      "text/plain": "[0.3299334943294525, 0.6438356041908264]"
     },
     "execution_count": 29,
     "metadata": {},
     "output_type": "execute_result"
    }
   ],
   "source": [
    "reset_session()\n",
    "\n",
    "lr_scheduler = keras.callbacks.LearningRateScheduler(exponential_decay(lr0=0.01,s=20))\n",
    "early_stopping_cb = keras.callbacks.EarlyStopping(monitor=\"val_auc\",\n",
    "                                                  patience=10,\n",
    "                                                  mode=\"max\")\n",
    "run = model_2.fit(X_train, y_train, epochs=30,\n",
    "                  validation_data=(X_valid, y_valid),\n",
    "                  callbacks=[lr_scheduler, early_stopping_cb], verbose=0)\n",
    "\n",
    "model_2.evaluate(X_valid, y_valid)"
   ],
   "metadata": {
    "collapsed": false,
    "pycharm": {
     "name": "#%%\n"
    }
   }
  },
  {
   "cell_type": "markdown",
   "source": [
    "### $\\ell_2$ regularization"
   ],
   "metadata": {
    "collapsed": false,
    "pycharm": {
     "name": "#%% md\n"
    }
   }
  },
  {
   "cell_type": "code",
   "execution_count": 32,
   "outputs": [],
   "source": [
    "model_3 = keras.models.Sequential()\n",
    "for n_hidden in (200, 200, 100, 100, 50):\n",
    "    model_3.add(keras.layers.Dense(n_hidden, activation=\"elu\", kernel_initializer=\"he_normal\",\n",
    "                                   kernel_regularizer=keras.regularizers.l2(0.01)))\n",
    "model_3.add(keras.layers.Dense(1, activation=\"sigmoid\", kernel_regularizer=keras.regularizers.l2(0.01)))\n",
    "\n",
    "optimizer = keras.optimizers.SGD(learning_rate=0.001, momentum=0.9, nesterov=True)\n",
    "model_3.compile(loss=\"binary_crossentropy\", optimizer=optimizer,\n",
    "                metrics=[\"AUC\"])"
   ],
   "metadata": {
    "collapsed": false,
    "pycharm": {
     "name": "#%%\n"
    }
   }
  },
  {
   "cell_type": "code",
   "execution_count": 33,
   "outputs": [
    {
     "name": "stdout",
     "output_type": "stream",
     "text": [
      "30/30 [==============================] - 0s 766us/step - loss: 0.4540 - auc: 0.6783\n"
     ]
    },
    {
     "data": {
      "text/plain": "[0.4539940655231476, 0.6783064603805542]"
     },
     "execution_count": 33,
     "metadata": {},
     "output_type": "execute_result"
    }
   ],
   "source": [
    "reset_session()\n",
    "\n",
    "lr_scheduler = keras.callbacks.LearningRateScheduler(exponential_decay(lr0=0.01,s=20))\n",
    "run = model_3.fit(X_train, y_train, epochs=30,\n",
    "                  validation_data=(X_valid, y_valid),\n",
    "                  callbacks=[lr_scheduler], verbose=0)\n",
    "\n",
    "model_3.evaluate(X_valid, y_valid)"
   ],
   "metadata": {
    "collapsed": false,
    "pycharm": {
     "name": "#%%\n"
    }
   }
  },
  {
   "cell_type": "markdown",
   "source": [
    "### dropout"
   ],
   "metadata": {
    "collapsed": false,
    "pycharm": {
     "name": "#%% md\n"
    }
   }
  },
  {
   "cell_type": "code",
   "execution_count": 52,
   "outputs": [],
   "source": [
    "model_4 = keras.models.Sequential()\n",
    "model_4.add(keras.layers.InputLayer(input_shape=(133,)))\n",
    "model_4.add(keras.layers.Dropout(rate=0.2))\n",
    "for n_hidden in (200, 200, 100, 100, 50):\n",
    "    model_4.add(keras.layers.Dense(n_hidden, activation=\"elu\", kernel_initializer=\"he_normal\"))\n",
    "    model_4.add(keras.layers.Dropout(rate=0.2))\n",
    "model_4.add(keras.layers.Dense(1, activation=\"sigmoid\"))\n",
    "\n",
    "optimizer = keras.optimizers.SGD(learning_rate=0.001, momentum=0.9, nesterov=True)\n",
    "model_4.compile(loss=\"binary_crossentropy\", optimizer=optimizer,\n",
    "                metrics=[\"AUC\"])"
   ],
   "metadata": {
    "collapsed": false,
    "pycharm": {
     "name": "#%%\n"
    }
   }
  },
  {
   "cell_type": "code",
   "execution_count": 53,
   "outputs": [
    {
     "name": "stdout",
     "output_type": "stream",
     "text": [
      "30/30 [==============================] - 0s 756us/step - loss: 0.2200 - auc: 0.6928\n"
     ]
    },
    {
     "data": {
      "text/plain": "[0.2199716717004776, 0.6928408741950989]"
     },
     "execution_count": 53,
     "metadata": {},
     "output_type": "execute_result"
    }
   ],
   "source": [
    "reset_session()\n",
    "\n",
    "lr_scheduler = keras.callbacks.LearningRateScheduler(exponential_decay(lr0=0.01,s=20))\n",
    "run = model_4.fit(X_train, y_train, epochs=30,\n",
    "                  validation_data=(X_valid, y_valid),\n",
    "                  callbacks=[lr_scheduler], verbose=0)\n",
    "\n",
    "model_4.evaluate(X_valid, y_valid)"
   ],
   "metadata": {
    "collapsed": false,
    "pycharm": {
     "name": "#%%\n"
    }
   }
  },
  {
   "cell_type": "markdown",
   "source": [
    "### $\\ell_2$ regularization and early stopping"
   ],
   "metadata": {
    "collapsed": false,
    "pycharm": {
     "name": "#%% md\n"
    }
   }
  },
  {
   "cell_type": "code",
   "execution_count": 54,
   "outputs": [],
   "source": [
    "model_5 = keras.models.Sequential()\n",
    "for n_hidden in (200, 200, 100, 100, 50):\n",
    "    model_5.add(keras.layers.Dense(n_hidden, activation=\"elu\", kernel_initializer=\"he_normal\",\n",
    "                                   kernel_regularizer=keras.regularizers.l2(0.01)))\n",
    "model_5.add(keras.layers.Dense(1, activation=\"sigmoid\", kernel_regularizer=keras.regularizers.l2(0.01)))\n",
    "\n",
    "optimizer = keras.optimizers.SGD(learning_rate=0.001, momentum=0.9, nesterov=True)\n",
    "model_5.compile(loss=\"binary_crossentropy\", optimizer=optimizer,\n",
    "                metrics=[\"AUC\"])"
   ],
   "metadata": {
    "collapsed": false,
    "pycharm": {
     "name": "#%%\n"
    }
   }
  },
  {
   "cell_type": "code",
   "execution_count": 55,
   "outputs": [
    {
     "name": "stdout",
     "output_type": "stream",
     "text": [
      "30/30 [==============================] - 0s 835us/step - loss: 0.6633 - auc: 0.6784\n"
     ]
    },
    {
     "data": {
      "text/plain": "[0.6632557511329651, 0.6784287095069885]"
     },
     "execution_count": 55,
     "metadata": {},
     "output_type": "execute_result"
    }
   ],
   "source": [
    "reset_session()\n",
    "\n",
    "lr_scheduler = keras.callbacks.LearningRateScheduler(exponential_decay(lr0=0.01,s=20))\n",
    "early_stopping_cb = keras.callbacks.EarlyStopping(monitor=\"val_auc\",\n",
    "                                                  patience=10,\n",
    "                                                  mode=\"max\")\n",
    "run = model_5.fit(X_train, y_train, epochs=30,\n",
    "                  validation_data=(X_valid, y_valid), verbose=0,\n",
    "                  callbacks=[lr_scheduler, early_stopping_cb])\n",
    "\n",
    "model_5.evaluate(X_valid, y_valid)"
   ],
   "metadata": {
    "collapsed": false,
    "pycharm": {
     "name": "#%%\n"
    }
   }
  },
  {
   "cell_type": "markdown",
   "source": [
    "### batch normalization and dropout"
   ],
   "metadata": {
    "collapsed": false,
    "pycharm": {
     "name": "#%% md\n"
    }
   }
  },
  {
   "cell_type": "code",
   "execution_count": 60,
   "outputs": [],
   "source": [
    "model_6 = keras.models.Sequential()\n",
    "model_6.add(keras.layers.InputLayer(input_shape=(133,)))\n",
    "model_6.add(keras.layers.BatchNormalization())\n",
    "model_6.add(keras.layers.Dropout(rate=0.2))\n",
    "for n_hidden in (200, 200, 100, 100, 50):\n",
    "    model_6.add(keras.layers.Dense(n_hidden, activation=\"elu\", kernel_initializer=\"he_normal\"))\n",
    "    model_6.add(keras.layers.BatchNormalization())\n",
    "    model_6.add(keras.layers.Dropout(rate=0.2))\n",
    "model_6.add(keras.layers.Dense(1, activation=\"sigmoid\"))\n",
    "\n",
    "optimizer = keras.optimizers.SGD(learning_rate=0.001, momentum=0.9, nesterov=True)\n",
    "model_6.compile(loss=\"binary_crossentropy\", optimizer=optimizer,\n",
    "                metrics=[\"AUC\"])"
   ],
   "metadata": {
    "collapsed": false,
    "pycharm": {
     "name": "#%%\n"
    }
   }
  },
  {
   "cell_type": "code",
   "execution_count": 61,
   "outputs": [
    {
     "name": "stdout",
     "output_type": "stream",
     "text": [
      "30/30 [==============================] - 0s 954us/step - loss: 0.2174 - auc: 0.6830\n"
     ]
    },
    {
     "data": {
      "text/plain": "[0.21742799878120422, 0.6829541921615601]"
     },
     "execution_count": 61,
     "metadata": {},
     "output_type": "execute_result"
    }
   ],
   "source": [
    "reset_session()\n",
    "\n",
    "lr_scheduler = keras.callbacks.LearningRateScheduler(exponential_decay(lr0=0.01,s=20))\n",
    "run = model_6.fit(X_train, y_train, epochs=30,\n",
    "                  validation_data=(X_valid, y_valid),\n",
    "                  callbacks=[lr_scheduler], verbose=0)\n",
    "\n",
    "model_6.evaluate(X_valid, y_valid)"
   ],
   "metadata": {
    "collapsed": false,
    "pycharm": {
     "name": "#%%\n"
    }
   }
  },
  {
   "cell_type": "markdown",
   "source": [
    "(i) is not better than model in (c).\n",
    "\n",
    "(ii) is not better than model in (c).\n",
    "\n",
    "(iii) is better than model in (c).\n",
    "\n",
    "(iv) is better than model in (c).\n",
    "\n",
    "(v) is better than model in (c).\n",
    "\n",
    "(vi) is better than model in (c)."
   ],
   "metadata": {
    "collapsed": false,
    "pycharm": {
     "name": "#%% md\n"
    }
   }
  },
  {
   "cell_type": "markdown",
   "metadata": {},
   "source": [
    "## (e) [1 mark]\n",
    "\n",
    "For the dropout model in (d)(iv) determine whether or not it is overfitting less than the model in (c)."
   ]
  },
  {
   "cell_type": "markdown",
   "metadata": {},
   "source": [
    "**[Add your solution here]**"
   ]
  },
  {
   "cell_type": "code",
   "execution_count": 65,
   "outputs": [
    {
     "data": {
      "text/plain": "<Figure size 576x360 with 1 Axes>",
      "image/png": "[encoded data removed]"
     },
     "metadata": {
      "needs_background": "light"
     },
     "output_type": "display_data"
    }
   ],
   "source": [
    "reset_session()\n",
    "\n",
    "run = model_4.fit(X_train, y_train, epochs=30,\n",
    "                  validation_data=(X_valid, y_valid),\n",
    "                  callbacks=[lr_scheduler], verbose=0)\n",
    "\n",
    "pd.DataFrame(run.history).plot(figsize=(8, 5))\n",
    "plt.grid(True)\n",
    "plt.gca().set_ylim(0, 1)\n",
    "plt.show()"
   ],
   "metadata": {
    "collapsed": false,
    "pycharm": {
     "name": "#%%\n"
    }
   }
  },
  {
   "cell_type": "code",
   "execution_count": 66,
   "outputs": [
    {
     "data": {
      "text/plain": "<Figure size 576x360 with 1 Axes>",
      "image/png": "[encoded data removed]"
     },
     "metadata": {
      "needs_background": "light"
     },
     "output_type": "display_data"
    }
   ],
   "source": [
    "reset_session()\n",
    "\n",
    "run = model_c.fit(X_train, y_train, epochs=30,\n",
    "                  validation_data=(X_valid, y_valid),\n",
    "                  callbacks=[lr_scheduler], verbose=0)\n",
    "\n",
    "pd.DataFrame(run.history).plot(figsize=(8, 5))\n",
    "plt.grid(True)\n",
    "plt.gca().set_ylim(0, 1)\n",
    "plt.show()"
   ],
   "metadata": {
    "collapsed": false,
    "pycharm": {
     "name": "#%%\n"
    }
   }
  },
  {
   "cell_type": "markdown",
   "source": [
    "The dropout model in (d)(iv) has a lower degree of overfitting. The gap between train and validation is much smaller than the model in (c), and AUC in validation is higher."
   ],
   "metadata": {
    "collapsed": false,
    "pycharm": {
     "name": "#%% md\n"
    }
   }
  },
  {
   "cell_type": "markdown",
   "metadata": {},
   "source": [
    "## (f) [1 mark]\n",
    "\n",
    "Of the models in (c) and (d), one would now choose the best model according to the performance metric (validation AUC) to evaluate on the test set. But instead, evaluate the model in (d)(v) on the test set in terms of the AUC and confusion matrix (regardless of whether it is the best model given your results)."
   ]
  },
  {
   "cell_type": "markdown",
   "metadata": {},
   "source": [
    "**[Add your solution here]**"
   ]
  },
  {
   "cell_type": "code",
   "execution_count": 67,
   "outputs": [
    {
     "name": "stdout",
     "output_type": "stream",
     "text": [
      "37/37 [==============================] - 0s 868us/step - loss: 0.6482 - auc: 0.7945\n"
     ]
    },
    {
     "data": {
      "text/plain": "[0.6482296586036682, 0.7945270538330078]"
     },
     "execution_count": 67,
     "metadata": {},
     "output_type": "execute_result"
    }
   ],
   "source": [
    "reset_session()\n",
    "\n",
    "model_5.evaluate(X_test, y_test)"
   ],
   "metadata": {
    "collapsed": false,
    "pycharm": {
     "name": "#%%\n"
    }
   }
  },
  {
   "cell_type": "code",
   "execution_count": 68,
   "outputs": [
    {
     "data": {
      "text/plain": "<tf.Tensor: shape=(2, 2), dtype=int32, numpy=\narray([[1095,    0],\n       [  70,    0]])>"
     },
     "execution_count": 68,
     "metadata": {},
     "output_type": "execute_result"
    }
   ],
   "source": [
    "tf.math.confusion_matrix(y_test, model_5.predict(X_test))"
   ],
   "metadata": {
    "collapsed": false,
    "pycharm": {
     "name": "#%%\n"
    }
   }
  },
  {
   "cell_type": "markdown",
   "metadata": {},
   "source": [
    "# 3. Time series using machine learning [14 marks]\n",
    "\n",
    "Obtain daily values of the [Japan/U.S. Foreign Exchange Rate (DEXJPUS)](https://fred.stlouisfed.org/series/DEXJPUS) starting from Jan 1, 1990, to Jan 1, 2022, from FRED. This can be obtained using the code below or you can download the data as a csv file from [Canvas](https://canvas.uw.edu/files/92281350/download?download_frd=1)."
   ]
  },
  {
   "cell_type": "code",
   "execution_count": 69,
   "metadata": {},
   "outputs": [],
   "source": [
    "import pandas as pd\n",
    "import pandas_datareader as pdr\n",
    "from datetime import datetime\n",
    "data = pdr.get_data_fred('DEXJPUS', datetime(1990,1,1),datetime(2022,1,1))"
   ]
  },
  {
   "cell_type": "markdown",
   "metadata": {},
   "source": [
    "## (a) [2 marks]\n",
    "\n",
    "Create a training set (before 2010), a validation set (Jan 2010 to Dec 2015), and a test set (the rest of the data). Turn the time series data into a supervised learning dataset where the features are the value of the exchange rate in the last 10 days inclusive of the current day, and the target is the value of the exchange rate in the next day."
   ]
  },
  {
   "cell_type": "markdown",
   "metadata": {},
   "source": [
    "**[Add your solution here]**"
   ]
  },
  {
   "cell_type": "code",
   "execution_count": 71,
   "outputs": [],
   "source": [
    "train = data[:'2009-12-31'].dropna()\n",
    "valid = data['2010-01-01':'2015-12-31'].dropna()\n",
    "test = data['2016-01-01':].dropna()"
   ],
   "metadata": {
    "collapsed": false,
    "pycharm": {
     "name": "#%%\n"
    }
   }
  },
  {
   "cell_type": "code",
   "execution_count": 72,
   "outputs": [],
   "source": [
    "def ts_split(ts, feature_steps=8, target_steps=1):\n",
    "    ts = ts.values.flatten()\n",
    "    n_obs = len(ts) - feature_steps - target_steps + 1\n",
    "    X = np.array([ts[idx:idx + feature_steps] for idx in range(n_obs)])\n",
    "    y = np.array([ts[idx + feature_steps:idx + feature_steps + target_steps]\n",
    "                  for idx in range(n_obs)])\n",
    "    return X, y"
   ],
   "metadata": {
    "collapsed": false,
    "pycharm": {
     "name": "#%%\n"
    }
   }
  },
  {
   "cell_type": "code",
   "execution_count": 73,
   "outputs": [],
   "source": [
    "X_train, y_train = ts_split(train, feature_steps=10, target_steps=1)\n",
    "X_valid, y_valid = ts_split(valid, feature_steps=10, target_steps=1)\n",
    "X_test, y_test = ts_split(test, feature_steps=10, target_steps=1)"
   ],
   "metadata": {
    "collapsed": false,
    "pycharm": {
     "name": "#%%\n"
    }
   }
  },
  {
   "cell_type": "markdown",
   "metadata": {},
   "source": [
    "## (b) [3 marks]\n",
    "\n",
    "Fit a random forest regressor to predict the value of the exchange rate in the next day. Using the test set, report the mean squared error and the accuracy for the movement direction.\n",
    "\n",
    "Hint: You can calculate the accuracy of the movement direction by determining what the actual movement direction is and comparing it to the movement direction corresponding to the predicted value of the exchange rate. For instance, the movement direction of the test set `X_test` and `y_test` where a strictly up movement is `True` can be computed as follows."
   ]
  },
  {
   "cell_type": "code",
   "execution_count": 74,
   "metadata": {},
   "outputs": [],
   "source": [
    "movement_test = X_test[:,-1] < y_test.ravel()"
   ]
  },
  {
   "cell_type": "markdown",
   "metadata": {},
   "source": [
    "**[Add your solution here]**"
   ]
  },
  {
   "cell_type": "code",
   "execution_count": 75,
   "outputs": [
    {
     "name": "stderr",
     "output_type": "stream",
     "text": [
      "C:\\Users\\King48\\AppData\\Local\\Temp\\ipykernel_16364\\4272059818.py:5: DataConversionWarning: A column-vector y was passed when a 1d array was expected. Please change the shape of y to (n_samples,), for example using ravel().\n",
      "  rf_reg.fit(X_train, y_train)\n"
     ]
    },
    {
     "data": {
      "text/plain": "0.37380881968392804"
     },
     "execution_count": 75,
     "metadata": {},
     "output_type": "execute_result"
    }
   ],
   "source": [
    "from sklearn.ensemble import RandomForestRegressor\n",
    "from sklearn.metrics import mean_squared_error\n",
    "\n",
    "rf_reg = RandomForestRegressor(n_jobs=-1, random_state=42)\n",
    "rf_reg.fit(X_train, y_train)\n",
    "\n",
    "y_pred = rf_reg.predict(X_test)\n",
    "mean_squared_error(y_test, y_pred)"
   ],
   "metadata": {
    "collapsed": false,
    "pycharm": {
     "name": "#%%\n"
    }
   }
  },
  {
   "cell_type": "code",
   "execution_count": 76,
   "outputs": [],
   "source": [
    "movement_pred = X_test[:,-1] < y_pred.ravel()"
   ],
   "metadata": {
    "collapsed": false,
    "pycharm": {
     "name": "#%%\n"
    }
   }
  },
  {
   "cell_type": "code",
   "execution_count": 77,
   "outputs": [
    {
     "data": {
      "text/plain": "0.5137861466039004"
     },
     "execution_count": 77,
     "metadata": {},
     "output_type": "execute_result"
    }
   ],
   "source": [
    "from sklearn.metrics import accuracy_score\n",
    "\n",
    "accuracy_score(movement_test, movement_pred)"
   ],
   "metadata": {
    "collapsed": false,
    "pycharm": {
     "name": "#%%\n"
    }
   }
  },
  {
   "cell_type": "markdown",
   "metadata": {},
   "source": [
    "## (c) [4 marks]\n",
    "\n",
    "Repeat (b), but now fit a deep RNN with 2 recurrent layers of 20 and 20 neurons, and an output layer which is 1 dense neuron. Use 100 epochs and the Nadam optimizer. Comment on the result and the learning curve (the validation set is used for the learning curve)."
   ]
  },
  {
   "cell_type": "markdown",
   "metadata": {},
   "source": [
    "**[Add your solution here]**"
   ]
  },
  {
   "cell_type": "code",
   "execution_count": 90,
   "outputs": [],
   "source": [
    "reset_session()\n",
    "\n",
    "model = keras.models.Sequential([\n",
    "    keras.layers.SimpleRNN(20, return_sequences=True, input_shape=[None, 1]),\n",
    "    keras.layers.SimpleRNN(20),\n",
    "    keras.layers.Dense(1)\n",
    "])\n",
    "\n",
    "model.compile(loss=\"mse\", optimizer=\"nadam\")\n",
    "\n",
    "run = model.fit(X_train[..., np.newaxis], y_train, epochs=100,\n",
    "                validation_data=(X_valid[..., np.newaxis], y_valid), verbose=0)"
   ],
   "metadata": {
    "collapsed": false,
    "pycharm": {
     "name": "#%%\n"
    }
   }
  },
  {
   "cell_type": "code",
   "execution_count": 91,
   "outputs": [
    {
     "data": {
      "text/plain": "<Figure size 576x360 with 1 Axes>",
      "image/png": "[encoded data removed]"
     },
     "metadata": {
      "needs_background": "light"
     },
     "output_type": "display_data"
    }
   ],
   "source": [
    "pd.DataFrame(run.history).plot(figsize=(8, 5))\n",
    "plt.grid(True)\n",
    "plt.show()"
   ],
   "metadata": {
    "collapsed": false,
    "pycharm": {
     "name": "#%%\n"
    }
   }
  },
  {
   "cell_type": "code",
   "execution_count": 92,
   "outputs": [
    {
     "data": {
      "text/plain": "0.43565400278602645"
     },
     "execution_count": 92,
     "metadata": {},
     "output_type": "execute_result"
    }
   ],
   "source": [
    "y_pred = model.predict(X_test[..., np.newaxis])\n",
    "mean_squared_error(y_test, y_pred)"
   ],
   "metadata": {
    "collapsed": false,
    "pycharm": {
     "name": "#%%\n"
    }
   }
  },
  {
   "cell_type": "code",
   "execution_count": 93,
   "outputs": [
    {
     "data": {
      "text/plain": "0.49361129791526565"
     },
     "execution_count": 93,
     "metadata": {},
     "output_type": "execute_result"
    }
   ],
   "source": [
    "movement_pred = X_test[:,-1] < y_pred.ravel()\n",
    "accuracy_score(movement_test, movement_pred)"
   ],
   "metadata": {
    "collapsed": false,
    "pycharm": {
     "name": "#%%\n"
    }
   }
  },
  {
   "cell_type": "markdown",
   "source": [
    "The performance of deep RNN is not good, even worse than the random forest regressor. The accuracy rate is less than 0.5.\n",
    "The learning curve shows that deep RNN is not overfitting."
   ],
   "metadata": {
    "collapsed": false,
    "pycharm": {
     "name": "#%% md\n"
    }
   }
  },
  {
   "cell_type": "markdown",
   "metadata": {},
   "source": [
    "## (d) [5 marks]\n",
    "\n",
    "Create a supervised learning dataset suitable for predicting 3 days ahead instead of 1 day ahead. Adjust the deep RNN in (c) so that it predicts 3 days ahead. Use 100 epochs and the Nadam optimizer. Using the test set, report the mean squared error and the accuracy for the movement direction for each of the 3 days ahead predictions.  Comment on the result and the learning curve."
   ]
  },
  {
   "cell_type": "markdown",
   "metadata": {},
   "source": [
    "**[Add your solution here]**"
   ]
  },
  {
   "cell_type": "code",
   "execution_count": 94,
   "outputs": [],
   "source": [
    "X_train_3ahead, y_train_3ahead = ts_split(train, feature_steps=10, target_steps=3)\n",
    "X_valid_3ahead, y_valid_3ahead = ts_split(valid, feature_steps=10, target_steps=3)\n",
    "X_test_3ahead, y_test_3ahead = ts_split(test, feature_steps=10, target_steps=3)"
   ],
   "metadata": {
    "collapsed": false,
    "pycharm": {
     "name": "#%%\n"
    }
   }
  },
  {
   "cell_type": "code",
   "execution_count": 95,
   "outputs": [],
   "source": [
    "reset_session()\n",
    "\n",
    "model = keras.models.Sequential([\n",
    "    keras.layers.SimpleRNN(20, return_sequences=True, input_shape=[None, 1]),\n",
    "    keras.layers.SimpleRNN(20, return_sequences=True),\n",
    "    keras.layers.TimeDistributed(keras.layers.Dense(1)),\n",
    "    keras.layers.Lambda(lambda Y_pred: Y_pred[:, -3:])\n",
    "])\n",
    "\n",
    "model.compile(loss=\"mse\", optimizer=\"nadam\")\n",
    "\n",
    "run = model.fit(X_train_3ahead[..., np.newaxis],\n",
    "                y_train_3ahead[..., np.newaxis],\n",
    "                epochs=100, verbose=0,\n",
    "                validation_data=(X_valid_3ahead[..., np.newaxis],\n",
    "                                 y_valid_3ahead[..., np.newaxis]))"
   ],
   "metadata": {
    "collapsed": false,
    "pycharm": {
     "name": "#%%\n"
    }
   }
  },
  {
   "cell_type": "code",
   "execution_count": 145,
   "outputs": [
    {
     "data": {
      "text/plain": "<Figure size 576x360 with 1 Axes>",
      "image/png": "[encoded data removed]"
     },
     "metadata": {
      "needs_background": "light"
     },
     "output_type": "display_data"
    }
   ],
   "source": [
    "pd.DataFrame(run.history).plot(figsize=(8, 5))\n",
    "plt.grid(True)\n",
    "plt.show()"
   ],
   "metadata": {
    "collapsed": false,
    "pycharm": {
     "name": "#%%\n"
    }
   }
  },
  {
   "cell_type": "code",
   "execution_count": 96,
   "outputs": [
    {
     "data": {
      "text/plain": "array([1.11196707, 1.12583179, 1.13190437])"
     },
     "execution_count": 96,
     "metadata": {},
     "output_type": "execute_result"
    }
   ],
   "source": [
    "ypred = model.predict(X_test_3ahead[...,np.newaxis])[...,0]\n",
    "mean_squared_error(y_test_3ahead, ypred, multioutput=\"raw_values\")"
   ],
   "metadata": {
    "collapsed": false,
    "pycharm": {
     "name": "#%%\n"
    }
   }
  },
  {
   "cell_type": "code",
   "execution_count": 97,
   "outputs": [
    {
     "data": {
      "text/plain": "0.49158249158249157"
     },
     "execution_count": 97,
     "metadata": {},
     "output_type": "execute_result"
    }
   ],
   "source": [
    "movement_test_1ahead = X_test_3ahead[:,-1] < y_test_3ahead[:,0].ravel()\n",
    "movement_pred_1ahead = X_test_3ahead[:,-1] < ypred[:,0].ravel()\n",
    "accuracy_score(movement_test_1ahead, movement_pred_1ahead)"
   ],
   "metadata": {
    "collapsed": false,
    "pycharm": {
     "name": "#%%\n"
    }
   }
  },
  {
   "cell_type": "code",
   "execution_count": 98,
   "outputs": [
    {
     "data": {
      "text/plain": "0.4909090909090909"
     },
     "execution_count": 98,
     "metadata": {},
     "output_type": "execute_result"
    }
   ],
   "source": [
    "movement_test_2ahead = X_test_3ahead[:,-1] < y_test_3ahead[:,1].ravel()\n",
    "movement_pred_2ahead = X_test_3ahead[:,-1] < ypred[:,1].ravel()\n",
    "accuracy_score(movement_test_2ahead, movement_pred_2ahead)"
   ],
   "metadata": {
    "collapsed": false,
    "pycharm": {
     "name": "#%%\n"
    }
   }
  },
  {
   "cell_type": "code",
   "execution_count": 99,
   "outputs": [
    {
     "data": {
      "text/plain": "0.5151515151515151"
     },
     "execution_count": 99,
     "metadata": {},
     "output_type": "execute_result"
    }
   ],
   "source": [
    "movement_test_3ahead = X_test_3ahead[:,-1] < y_test_3ahead[:,2].ravel()\n",
    "movement_pred_3ahead = X_test_3ahead[:,-1] < ypred[:,2].ravel()\n",
    "accuracy_score(movement_test_3ahead, movement_pred_3ahead)"
   ],
   "metadata": {
    "collapsed": false,
    "pycharm": {
     "name": "#%%\n"
    }
   }
  },
  {
   "cell_type": "markdown",
   "source": [
    "We can see that deep RNN is good in predicting the exchange rate, but bad in predicting the movement direction of rate, which is limited in practice.\n",
    "The learning curve shows that deep RNN is not overfitting."
   ],
   "metadata": {
    "collapsed": false,
    "pycharm": {
     "name": "#%% md\n"
    }
   }
  }
 ],
 "metadata": {
  "hide_input": false,
  "kernelspec": {
   "display_name": "Python 3 (ipykernel)",
   "language": "python",
   "name": "python3"
  },
  "language_info": {
   "codemirror_mode": {
    "name": "ipython",
    "version": 3
   },
   "file_extension": ".py",
   "mimetype": "text/x-python",
   "name": "python",
   "nbconvert_exporter": "python",
   "pygments_lexer": "ipython3",
   "version": "3.9.7"
  },
  "latex_envs": {
   "LaTeX_envs_menu_present": true,
   "autoclose": false,
   "autocomplete": false,
   "bibliofile": "biblio.bib",
   "cite_by": "apalike",
   "current_citInitial": 1,
   "eqLabelWithNumbers": true,
   "eqNumInitial": 1,
   "hotkeys": {
    "equation": "Ctrl-E",
    "itemize": "Ctrl-I"
   },
   "labels_anchors": false,
   "latex_user_defs": false,
   "report_style_numbering": false,
   "user_envs_cfg": false
  },
  "toc": {
   "base_numbering": 1,
   "nav_menu": {},
   "number_sections": false,
   "sideBar": true,
   "skip_h1_title": false,
   "title_cell": "Table of Contents",
   "title_sidebar": "Contents",
   "toc_cell": false,
   "toc_position": {},
   "toc_section_display": true,
   "toc_window_display": false
  },
  "varInspector": {
   "cols": {
    "lenName": 16,
    "lenType": 16,
    "lenVar": 40
   },
   "kernels_config": {
    "python": {
     "delete_cmd_postfix": "",
     "delete_cmd_prefix": "del ",
     "library": "var_list.py",
     "varRefreshCmd": "print(var_dic_list())"
    },
    "r": {
     "delete_cmd_postfix": ") ",
     "delete_cmd_prefix": "rm(",
     "library": "var_list.r",
     "varRefreshCmd": "cat(var_dic_list()) "
    }
   },
   "types_to_exclude": [
    "module",
    "function",
    "builtin_function_or_method",
    "instance",
    "_Feature"
   ],
   "window_display": false
  }
 },
 "nbformat": 4,
 "nbformat_minor": 2
}