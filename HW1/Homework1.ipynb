{
 "cells": [
  {
   "cell_type": "markdown",
   "metadata": {
    "cell_style": "center",
    "slideshow": {
     "slide_type": "-"
    }
   },
   "source": [
    "<h1>\n",
    "<center>CFRM 421/521, Spring 2022</center>\n",
    "</h1>\n",
    "\n",
    "<h1>\n",
    "<center>[Insert your name here]</center>\n",
    "</h1>\n",
    "\n",
    "<h1>\n",
    "<center>Homework 1</center>\n",
    "</h1>\n",
    "\n",
    "* **Due: Monday, April 18, 2022, 11:59 PM**\n",
    "\n",
    "\n",
    "* Total marks: 46\n",
    "\n",
    "\n",
    "* Late submissions are allowed, but a 20% penalty per day applies. Your last submission is considered for calculating the penalty.\n",
    "\n",
    "\n",
    "*  Use this Jupyter notebook as a template for your solutions. **Your solution must be submitted as one Jupyter notebook.** The notebook must be already run, that is, make sure that you have run all your code, save the notebook, and then when you reopen the notebook, checked that all output appears as expected. You are allowed to use code from the textbook, textbook website, or lecture notes."
   ]
  },
  {
   "cell_type": "markdown",
   "metadata": {},
   "source": [
    "# 1. Preprocessing housing data [7 marks]\n",
    "\n",
    "Hint: Reading Chapter 2 of the textbook and the accompanying [Jupyter notebook](https://github.com/ageron/handson-ml2/blob/master/02_end_to_end_machine_learning_project.ipynb) on the textbook website may help with this question.\n",
    "\n",
    "Consider the California housing data from Chapter 2 of the textbook. The following code fetches the data."
   ]
  },
  {
   "cell_type": "code",
   "execution_count": 1,
   "metadata": {},
   "outputs": [],
   "source": [
    "import os\n",
    "import tarfile\n",
    "from six.moves import urllib\n",
    "import numpy as np\n",
    "import pandas as pd\n",
    "from sklearn.model_selection import StratifiedShuffleSplit\n",
    "\n",
    "HOUSING_PATH = os.path.join(\"datasets\", \"housing\")\n",
    "\n",
    "def fetch_housing_data(housing_url, housing_path=HOUSING_PATH):\n",
    "    if not os.path.isdir(housing_path):\n",
    "        os.makedirs(housing_path)\n",
    "    tgz_path = os.path.join(housing_path, \"housing.tgz\")\n",
    "    urllib.request.urlretrieve(housing_url, tgz_path)\n",
    "    housing_tgz = tarfile.open(tgz_path)\n",
    "    housing_tgz.extractall(path=housing_path)\n",
    "    housing_tgz.close()\n",
    "\n",
    "def load_housing_data(housing_path=HOUSING_PATH):\n",
    "    csv_path = os.path.join(housing_path, \"housing.csv\")\n",
    "    return pd.read_csv(csv_path)\n",
    "\n",
    "HOUSING_URL = (\"https://raw.githubusercontent.com/ageron/\"+\n",
    "               \"handson-ml2/master/datasets/housing/housing.tgz\")\n",
    "fetch_housing_data(HOUSING_URL)\n",
    "data = load_housing_data()"
   ]
  },
  {
   "cell_type": "markdown",
   "metadata": {},
   "source": [
    "Next, we create stratified test and training sets based on different income categories."
   ]
  },
  {
   "cell_type": "code",
   "execution_count": 2,
   "metadata": {},
   "outputs": [],
   "source": [
    "data[\"income_cat\"] = np.ceil(data[\"median_income\"] / 1.5)\n",
    "data[\"income_cat\"].where(data[\"income_cat\"] < 5, 5.0, inplace=True)\n",
    "\n",
    "split = StratifiedShuffleSplit(n_splits=1, test_size=0.2, random_state=42)\n",
    "for train_index, test_index in split.split(data, data[\"income_cat\"]):\n",
    "    strat_train_set = data.loc[train_index]\n",
    "    strat_test_set = data.loc[test_index]\n",
    "    \n",
    "for set_ in (strat_train_set, strat_test_set):\n",
    "    set_.drop(\"income_cat\", axis=1, inplace=True)"
   ]
  },
  {
   "cell_type": "markdown",
   "metadata": {},
   "source": [
    "Let us separate the features (`X_raw`) and the response variable (`y`)."
   ]
  },
  {
   "cell_type": "code",
   "execution_count": 3,
   "metadata": {},
   "outputs": [],
   "source": [
    "X_raw = strat_train_set.drop(\"median_house_value\", axis=1)\n",
    "y = strat_train_set[\"median_house_value\"].copy()"
   ]
  },
  {
   "cell_type": "markdown",
   "metadata": {},
   "source": [
    "## (a) Handling missing values [1 mark]\n",
    "\n",
    "Let us find out if there are any missing values in our features. As the code below indicates, out of 16512 observations, 158 have missing values. Further inspection shows that `total_bedrooms` has missing values (only a few missing values are shown below)."
   ]
  },
  {
   "cell_type": "code",
   "execution_count": 4,
   "metadata": {},
   "outputs": [
    {
     "data": {
      "text/plain": "(16512, 9)"
     },
     "execution_count": 4,
     "metadata": {},
     "output_type": "execute_result"
    }
   ],
   "source": [
    "X_raw.shape"
   ]
  },
  {
   "cell_type": "code",
   "execution_count": 5,
   "metadata": {},
   "outputs": [
    {
     "data": {
      "text/plain": "(158, 9)"
     },
     "execution_count": 5,
     "metadata": {},
     "output_type": "execute_result"
    }
   ],
   "source": [
    "X_raw[X_raw.isnull().any(axis=1)].shape"
   ]
  },
  {
   "cell_type": "code",
   "execution_count": 6,
   "metadata": {
    "scrolled": true
   },
   "outputs": [
    {
     "data": {
      "text/plain": "       longitude  latitude  housing_median_age  total_rooms  total_bedrooms  \\\n1606     -122.08     37.88                26.0       2947.0             NaN   \n10915    -117.87     33.73                45.0       2264.0             NaN   \n19150    -122.70     38.35                14.0       2313.0             NaN   \n4186     -118.23     34.13                48.0       1308.0             NaN   \n16885    -122.40     37.58                26.0       3281.0             NaN   \n\n       population  households  median_income ocean_proximity  \n1606        825.0       626.0         2.9330        NEAR BAY  \n10915      1970.0       499.0         3.4193       <1H OCEAN  \n19150       954.0       397.0         3.7813       <1H OCEAN  \n4186        835.0       294.0         4.2891       <1H OCEAN  \n16885      1145.0       480.0         6.3580      NEAR OCEAN  ",
      "text/html": "<div>\n<style scoped>\n    .dataframe tbody tr th:only-of-type {\n        vertical-align: middle;\n    }\n\n    .dataframe tbody tr th {\n        vertical-align: top;\n    }\n\n    .dataframe thead th {\n        text-align: right;\n    }\n</style>\n<table border=\"1\" class=\"dataframe\">\n  <thead>\n    <tr style=\"text-align: right;\">\n      <th></th>\n      <th>longitude</th>\n      <th>latitude</th>\n      <th>housing_median_age</th>\n      <th>total_rooms</th>\n      <th>total_bedrooms</th>\n      <th>population</th>\n      <th>households</th>\n      <th>median_income</th>\n      <th>ocean_proximity</th>\n    </tr>\n  </thead>\n  <tbody>\n    <tr>\n      <th>1606</th>\n      <td>-122.08</td>\n      <td>37.88</td>\n      <td>26.0</td>\n      <td>2947.0</td>\n      <td>NaN</td>\n      <td>825.0</td>\n      <td>626.0</td>\n      <td>2.9330</td>\n      <td>NEAR BAY</td>\n    </tr>\n    <tr>\n      <th>10915</th>\n      <td>-117.87</td>\n      <td>33.73</td>\n      <td>45.0</td>\n      <td>2264.0</td>\n      <td>NaN</td>\n      <td>1970.0</td>\n      <td>499.0</td>\n      <td>3.4193</td>\n      <td>&lt;1H OCEAN</td>\n    </tr>\n    <tr>\n      <th>19150</th>\n      <td>-122.70</td>\n      <td>38.35</td>\n      <td>14.0</td>\n      <td>2313.0</td>\n      <td>NaN</td>\n      <td>954.0</td>\n      <td>397.0</td>\n      <td>3.7813</td>\n      <td>&lt;1H OCEAN</td>\n    </tr>\n    <tr>\n      <th>4186</th>\n      <td>-118.23</td>\n      <td>34.13</td>\n      <td>48.0</td>\n      <td>1308.0</td>\n      <td>NaN</td>\n      <td>835.0</td>\n      <td>294.0</td>\n      <td>4.2891</td>\n      <td>&lt;1H OCEAN</td>\n    </tr>\n    <tr>\n      <th>16885</th>\n      <td>-122.40</td>\n      <td>37.58</td>\n      <td>26.0</td>\n      <td>3281.0</td>\n      <td>NaN</td>\n      <td>1145.0</td>\n      <td>480.0</td>\n      <td>6.3580</td>\n      <td>NEAR OCEAN</td>\n    </tr>\n  </tbody>\n</table>\n</div>"
     },
     "execution_count": 6,
     "metadata": {},
     "output_type": "execute_result"
    }
   ],
   "source": [
    "X_raw[X_raw.isnull().any(axis=1)].head()"
   ]
  },
  {
   "cell_type": "markdown",
   "metadata": {},
   "source": [
    "**Task:** Read the subsection \"Data Cleaning\" in Chapter 2 of the textbook. Use the `sklearn.impute.SimpleImputer` class to fill the missing values in the numerical features (everything except `ocean_proximity`) with the median of the corresponding feature.\n"
   ]
  },
  {
   "cell_type": "markdown",
   "metadata": {},
   "source": [
    "**[Add your solution here]**"
   ]
  },
  {
   "cell_type": "code",
   "execution_count": 7,
   "outputs": [
    {
     "data": {
      "text/plain": "       longitude  latitude  housing_median_age  total_rooms  total_bedrooms  \\\n1606     -122.08     37.88                26.0       2947.0           433.0   \n10915    -117.87     33.73                45.0       2264.0           433.0   \n19150    -122.70     38.35                14.0       2313.0           433.0   \n4186     -118.23     34.13                48.0       1308.0           433.0   \n16885    -122.40     37.58                26.0       3281.0           433.0   \n\n       population  households  median_income  \n1606        825.0       626.0         2.9330  \n10915      1970.0       499.0         3.4193  \n19150       954.0       397.0         3.7813  \n4186        835.0       294.0         4.2891  \n16885      1145.0       480.0         6.3580  ",
      "text/html": "<div>\n<style scoped>\n    .dataframe tbody tr th:only-of-type {\n        vertical-align: middle;\n    }\n\n    .dataframe tbody tr th {\n        vertical-align: top;\n    }\n\n    .dataframe thead th {\n        text-align: right;\n    }\n</style>\n<table border=\"1\" class=\"dataframe\">\n  <thead>\n    <tr style=\"text-align: right;\">\n      <th></th>\n      <th>longitude</th>\n      <th>latitude</th>\n      <th>housing_median_age</th>\n      <th>total_rooms</th>\n      <th>total_bedrooms</th>\n      <th>population</th>\n      <th>households</th>\n      <th>median_income</th>\n    </tr>\n  </thead>\n  <tbody>\n    <tr>\n      <th>1606</th>\n      <td>-122.08</td>\n      <td>37.88</td>\n      <td>26.0</td>\n      <td>2947.0</td>\n      <td>433.0</td>\n      <td>825.0</td>\n      <td>626.0</td>\n      <td>2.9330</td>\n    </tr>\n    <tr>\n      <th>10915</th>\n      <td>-117.87</td>\n      <td>33.73</td>\n      <td>45.0</td>\n      <td>2264.0</td>\n      <td>433.0</td>\n      <td>1970.0</td>\n      <td>499.0</td>\n      <td>3.4193</td>\n    </tr>\n    <tr>\n      <th>19150</th>\n      <td>-122.70</td>\n      <td>38.35</td>\n      <td>14.0</td>\n      <td>2313.0</td>\n      <td>433.0</td>\n      <td>954.0</td>\n      <td>397.0</td>\n      <td>3.7813</td>\n    </tr>\n    <tr>\n      <th>4186</th>\n      <td>-118.23</td>\n      <td>34.13</td>\n      <td>48.0</td>\n      <td>1308.0</td>\n      <td>433.0</td>\n      <td>835.0</td>\n      <td>294.0</td>\n      <td>4.2891</td>\n    </tr>\n    <tr>\n      <th>16885</th>\n      <td>-122.40</td>\n      <td>37.58</td>\n      <td>26.0</td>\n      <td>3281.0</td>\n      <td>433.0</td>\n      <td>1145.0</td>\n      <td>480.0</td>\n      <td>6.3580</td>\n    </tr>\n  </tbody>\n</table>\n</div>"
     },
     "execution_count": 7,
     "metadata": {},
     "output_type": "execute_result"
    }
   ],
   "source": [
    "from sklearn.impute import SimpleImputer\n",
    "\n",
    "X_num = X_raw.drop(\"ocean_proximity\", axis=1)\n",
    "\n",
    "imputer = SimpleImputer(strategy=\"median\")\n",
    "imputer.fit(X_num)\n",
    "X = imputer.transform(X_num)\n",
    "X_tr = pd.DataFrame(X, columns=X_num.columns, index=X_num.index)\n",
    "\n",
    "X_tr[X_raw.isnull().any(axis=1)].head()"
   ],
   "metadata": {
    "collapsed": false,
    "pycharm": {
     "name": "#%%\n"
    }
   }
  },
  {
   "cell_type": "markdown",
   "metadata": {},
   "source": [
    "## (b) Handling categorical features  [2 marks]\n",
    "ML algorithms generally work with numerical values. So, we need to convert categorical features to numerical values. One way is to simply map each category to an integer. Another alternative is to use **one-hot encoding**."
   ]
  },
  {
   "cell_type": "markdown",
   "metadata": {},
   "source": [
    "**Task:** Read subsection \"Handling Text and Categorical Attributes\" in Chapter 2 of the textbook. Then use the `sklearn.preprocessing.OrdinalEncoder` class and the `sklearn.preprocessing.OneHotEncoder` class to transform the `ocean_proximity` feature to integers and one-hot vectors. Explain why it is more appropriate to use one-hot encoding."
   ]
  },
  {
   "cell_type": "markdown",
   "metadata": {},
   "source": [
    "**[Add your solution here]**"
   ]
  },
  {
   "cell_type": "code",
   "execution_count": 8,
   "metadata": {},
   "outputs": [
    {
     "data": {
      "text/plain": "      ocean_proximity\n12655          INLAND\n15502      NEAR OCEAN\n2908           INLAND\n14053      NEAR OCEAN\n20496       <1H OCEAN\n1481         NEAR BAY\n18125       <1H OCEAN\n5830        <1H OCEAN\n17989       <1H OCEAN\n4861        <1H OCEAN",
      "text/html": "<div>\n<style scoped>\n    .dataframe tbody tr th:only-of-type {\n        vertical-align: middle;\n    }\n\n    .dataframe tbody tr th {\n        vertical-align: top;\n    }\n\n    .dataframe thead th {\n        text-align: right;\n    }\n</style>\n<table border=\"1\" class=\"dataframe\">\n  <thead>\n    <tr style=\"text-align: right;\">\n      <th></th>\n      <th>ocean_proximity</th>\n    </tr>\n  </thead>\n  <tbody>\n    <tr>\n      <th>12655</th>\n      <td>INLAND</td>\n    </tr>\n    <tr>\n      <th>15502</th>\n      <td>NEAR OCEAN</td>\n    </tr>\n    <tr>\n      <th>2908</th>\n      <td>INLAND</td>\n    </tr>\n    <tr>\n      <th>14053</th>\n      <td>NEAR OCEAN</td>\n    </tr>\n    <tr>\n      <th>20496</th>\n      <td>&lt;1H OCEAN</td>\n    </tr>\n    <tr>\n      <th>1481</th>\n      <td>NEAR BAY</td>\n    </tr>\n    <tr>\n      <th>18125</th>\n      <td>&lt;1H OCEAN</td>\n    </tr>\n    <tr>\n      <th>5830</th>\n      <td>&lt;1H OCEAN</td>\n    </tr>\n    <tr>\n      <th>17989</th>\n      <td>&lt;1H OCEAN</td>\n    </tr>\n    <tr>\n      <th>4861</th>\n      <td>&lt;1H OCEAN</td>\n    </tr>\n  </tbody>\n</table>\n</div>"
     },
     "execution_count": 8,
     "metadata": {},
     "output_type": "execute_result"
    }
   ],
   "source": [
    "X_cat = X_raw[[\"ocean_proximity\"]]\n",
    "X_cat.head(10)"
   ]
  },
  {
   "cell_type": "code",
   "execution_count": 9,
   "outputs": [
    {
     "data": {
      "text/plain": "array([[1.],\n       [4.],\n       [1.],\n       [4.],\n       [0.],\n       [3.],\n       [0.],\n       [0.],\n       [0.],\n       [0.]])"
     },
     "execution_count": 9,
     "metadata": {},
     "output_type": "execute_result"
    }
   ],
   "source": [
    "from sklearn.preprocessing import OrdinalEncoder\n",
    "\n",
    "ordinal_encoder = OrdinalEncoder()\n",
    "X_cat_encoded = ordinal_encoder.fit_transform(X_cat)\n",
    "X_cat_encoded[:10]"
   ],
   "metadata": {
    "collapsed": false,
    "pycharm": {
     "name": "#%%\n"
    }
   }
  },
  {
   "cell_type": "code",
   "execution_count": 10,
   "outputs": [
    {
     "data": {
      "text/plain": "[array(['<1H OCEAN', 'INLAND', 'ISLAND', 'NEAR BAY', 'NEAR OCEAN'],\n       dtype=object)]"
     },
     "execution_count": 10,
     "metadata": {},
     "output_type": "execute_result"
    }
   ],
   "source": [
    "ordinal_encoder.categories_"
   ],
   "metadata": {
    "collapsed": false,
    "pycharm": {
     "name": "#%%\n"
    }
   }
  },
  {
   "cell_type": "code",
   "execution_count": 12,
   "outputs": [
    {
     "data": {
      "text/plain": "array([[0., 1., 0., 0., 0.],\n       [0., 0., 0., 0., 1.],\n       [0., 1., 0., 0., 0.],\n       [0., 0., 0., 0., 1.],\n       [1., 0., 0., 0., 0.],\n       [0., 0., 0., 1., 0.],\n       [1., 0., 0., 0., 0.],\n       [1., 0., 0., 0., 0.],\n       [1., 0., 0., 0., 0.],\n       [1., 0., 0., 0., 0.]])"
     },
     "execution_count": 12,
     "metadata": {},
     "output_type": "execute_result"
    }
   ],
   "source": [
    "from sklearn.preprocessing import OneHotEncoder\n",
    "\n",
    "cat_encoder = OneHotEncoder(sparse=False)\n",
    "X_cat_1hot = cat_encoder.fit_transform(X_cat)\n",
    "X_cat_1hot[:10]"
   ],
   "metadata": {
    "collapsed": false,
    "pycharm": {
     "name": "#%%\n"
    }
   }
  },
  {
   "cell_type": "code",
   "execution_count": 17,
   "outputs": [
    {
     "data": {
      "text/plain": "[array(['<1H OCEAN', 'INLAND', 'ISLAND', 'NEAR BAY', 'NEAR OCEAN'],\n       dtype=object)]"
     },
     "execution_count": 17,
     "metadata": {},
     "output_type": "execute_result"
    }
   ],
   "source": [
    "cat_encoder.categories_"
   ],
   "metadata": {
    "collapsed": false,
    "pycharm": {
     "name": "#%%\n"
    }
   }
  },
  {
   "cell_type": "markdown",
   "source": [
    "One issue with this representation is that ML algorithms will assume that two nearby values are more similar than two distant values. This may be fine in some cases (e.g., for ordered categories such as “bad”, “average”, “good”, “excellent”), but it is obviously not the case for the ocean_proximity column (for example, categories 0 and 4 are clearly more similar than categories 0 and 1). To fix this issue, a common solution is to create one binary attribute per category: one attribute equal to 1 when the category is “d<1H OCEAN” (and 0 otherwise), another attribute equal to 1 when the category is “INLAND” (and 0 otherwise), and so on. This is called one-hot encoding, because only one attribute will be equal to 1 (hot), while the others will be 0 (cold). The new attributes are sometimes called dummy attributes."
   ],
   "metadata": {
    "collapsed": false,
    "pycharm": {
     "name": "#%% md\n"
    }
   }
  },
  {
   "cell_type": "markdown",
   "metadata": {},
   "source": [
    "## (c) Feature scaling [2 marks]\n",
    "\n",
    "Many ML algorithms do not perform well if the features have different scales (some very small, and others very large). In such scenarios, one should transform the features so that they have similar range of values. There are two common ways to achieve this. In **min-max** scaling, we subtract the feature from its minimum value and then divide by its range (i.e. maximum value minus minimum value) so that the scaled values are between 0 and 1. In **standardization**, we subtract the values from the average and divide by the standard deviation, so that the transformed values has mean 0 and variance 1."
   ]
  },
  {
   "cell_type": "markdown",
   "metadata": {},
   "source": [
    "**Task:** Read the subsection \"Feature Scaling\" in Chapter 2 of the textbook. Use the `sklearn.preprocessing.MinMaxScaler` class and `sklearn.preprocessing.StandardScaler` class to scale the numerical features using min-max scaling and standardization.\n"
   ]
  },
  {
   "cell_type": "markdown",
   "metadata": {},
   "source": [
    "**[Add your solution here]**"
   ]
  },
  {
   "cell_type": "code",
   "execution_count": 13,
   "metadata": {},
   "outputs": [
    {
     "data": {
      "text/plain": "          longitude      latitude  housing_median_age   total_rooms  \\\ncount  16512.000000  16512.000000        16512.000000  16512.000000   \nmean       0.475534      0.329364            0.542224      0.066555   \nstd        0.199385      0.227201            0.246565      0.054393   \nmin        0.000000      0.000000            0.000000      0.000000   \n25%        0.253984      0.148778            0.333333      0.036552   \n50%        0.581673      0.182784            0.549020      0.053747   \n75%        0.631474      0.550478            0.705882      0.079743   \nmax        1.000000      1.000000            1.000000      1.000000   \n\n       total_bedrooms    population    households  median_income  \ncount    16512.000000  16512.000000  16512.000000   16512.000000  \nmean         0.085686      0.039706      0.092422       0.232823  \nstd          0.066174      0.031269      0.070145       0.131373  \nmin          0.000000      0.000000      0.000000       0.000000  \n25%          0.047358      0.021890      0.051718       0.142553  \n50%          0.069427      0.032540      0.075803       0.209766  \n75%          0.102932      0.048096      0.112024       0.292784  \nmax          1.000000      1.000000      1.000000       1.000000  ",
      "text/html": "<div>\n<style scoped>\n    .dataframe tbody tr th:only-of-type {\n        vertical-align: middle;\n    }\n\n    .dataframe tbody tr th {\n        vertical-align: top;\n    }\n\n    .dataframe thead th {\n        text-align: right;\n    }\n</style>\n<table border=\"1\" class=\"dataframe\">\n  <thead>\n    <tr style=\"text-align: right;\">\n      <th></th>\n      <th>longitude</th>\n      <th>latitude</th>\n      <th>housing_median_age</th>\n      <th>total_rooms</th>\n      <th>total_bedrooms</th>\n      <th>population</th>\n      <th>households</th>\n      <th>median_income</th>\n    </tr>\n  </thead>\n  <tbody>\n    <tr>\n      <th>count</th>\n      <td>16512.000000</td>\n      <td>16512.000000</td>\n      <td>16512.000000</td>\n      <td>16512.000000</td>\n      <td>16512.000000</td>\n      <td>16512.000000</td>\n      <td>16512.000000</td>\n      <td>16512.000000</td>\n    </tr>\n    <tr>\n      <th>mean</th>\n      <td>0.475534</td>\n      <td>0.329364</td>\n      <td>0.542224</td>\n      <td>0.066555</td>\n      <td>0.085686</td>\n      <td>0.039706</td>\n      <td>0.092422</td>\n      <td>0.232823</td>\n    </tr>\n    <tr>\n      <th>std</th>\n      <td>0.199385</td>\n      <td>0.227201</td>\n      <td>0.246565</td>\n      <td>0.054393</td>\n      <td>0.066174</td>\n      <td>0.031269</td>\n      <td>0.070145</td>\n      <td>0.131373</td>\n    </tr>\n    <tr>\n      <th>min</th>\n      <td>0.000000</td>\n      <td>0.000000</td>\n      <td>0.000000</td>\n      <td>0.000000</td>\n      <td>0.000000</td>\n      <td>0.000000</td>\n      <td>0.000000</td>\n      <td>0.000000</td>\n    </tr>\n    <tr>\n      <th>25%</th>\n      <td>0.253984</td>\n      <td>0.148778</td>\n      <td>0.333333</td>\n      <td>0.036552</td>\n      <td>0.047358</td>\n      <td>0.021890</td>\n      <td>0.051718</td>\n      <td>0.142553</td>\n    </tr>\n    <tr>\n      <th>50%</th>\n      <td>0.581673</td>\n      <td>0.182784</td>\n      <td>0.549020</td>\n      <td>0.053747</td>\n      <td>0.069427</td>\n      <td>0.032540</td>\n      <td>0.075803</td>\n      <td>0.209766</td>\n    </tr>\n    <tr>\n      <th>75%</th>\n      <td>0.631474</td>\n      <td>0.550478</td>\n      <td>0.705882</td>\n      <td>0.079743</td>\n      <td>0.102932</td>\n      <td>0.048096</td>\n      <td>0.112024</td>\n      <td>0.292784</td>\n    </tr>\n    <tr>\n      <th>max</th>\n      <td>1.000000</td>\n      <td>1.000000</td>\n      <td>1.000000</td>\n      <td>1.000000</td>\n      <td>1.000000</td>\n      <td>1.000000</td>\n      <td>1.000000</td>\n      <td>1.000000</td>\n    </tr>\n  </tbody>\n</table>\n</div>"
     },
     "execution_count": 13,
     "metadata": {},
     "output_type": "execute_result"
    }
   ],
   "source": [
    "from sklearn.preprocessing import MinMaxScaler\n",
    "\n",
    "scaler_1 = MinMaxScaler()\n",
    "scaler_1.fit(X_tr)\n",
    "X_minmax = pd.DataFrame(scaler_1.transform(X_tr), columns=X_tr.columns, index=X_tr.index)\n",
    "X_minmax.describe()"
   ]
  },
  {
   "cell_type": "code",
   "execution_count": 14,
   "outputs": [
    {
     "data": {
      "text/plain": "          longitude      latitude  housing_median_age   total_rooms  \\\ncount  1.651200e+04  1.651200e+04        1.651200e+04  1.651200e+04   \nmean  -5.214135e-15  2.783895e-16        1.232965e-16 -3.636868e-17   \nstd    1.000030e+00  1.000030e+00        1.000030e+00  1.000030e+00   \nmin   -2.385075e+00 -1.449702e+00       -2.199176e+00 -1.223624e+00   \n25%   -1.111200e+00 -7.948529e-01       -8.472270e-01 -5.516115e-01   \n50%    5.323472e-01 -6.451732e-01        2.756357e-02 -2.354803e-01   \n75%    7.821265e-01  9.732389e-01        6.637749e-01  2.424578e-01   \nmax    2.630493e+00  2.951818e+00        1.856671e+00  1.716156e+01   \n\n       total_bedrooms    population    households  median_income  \ncount    1.651200e+04  1.651200e+04  1.651200e+04   1.651200e+04  \nmean    -9.348008e-17  1.875250e-17 -2.772868e-17   1.002677e-16  \nstd      1.000030e+00  1.000030e+00  1.000030e+00   1.000030e+00  \nmin     -1.294906e+00 -1.269855e+00 -1.317625e+00  -1.772289e+00  \n25%     -5.792186e-01 -5.698016e-01 -5.803051e-01  -6.871505e-01  \n50%     -2.457180e-01 -2.291867e-01 -2.369322e-01  -1.755153e-01  \n75%      2.606187e-01  2.682904e-01  2.794582e-01   4.564298e-01  \nmax      1.381730e+01  3.071120e+01  1.293901e+01   5.839873e+00  ",
      "text/html": "<div>\n<style scoped>\n    .dataframe tbody tr th:only-of-type {\n        vertical-align: middle;\n    }\n\n    .dataframe tbody tr th {\n        vertical-align: top;\n    }\n\n    .dataframe thead th {\n        text-align: right;\n    }\n</style>\n<table border=\"1\" class=\"dataframe\">\n  <thead>\n    <tr style=\"text-align: right;\">\n      <th></th>\n      <th>longitude</th>\n      <th>latitude</th>\n      <th>housing_median_age</th>\n      <th>total_rooms</th>\n      <th>total_bedrooms</th>\n      <th>population</th>\n      <th>households</th>\n      <th>median_income</th>\n    </tr>\n  </thead>\n  <tbody>\n    <tr>\n      <th>count</th>\n      <td>1.651200e+04</td>\n      <td>1.651200e+04</td>\n      <td>1.651200e+04</td>\n      <td>1.651200e+04</td>\n      <td>1.651200e+04</td>\n      <td>1.651200e+04</td>\n      <td>1.651200e+04</td>\n      <td>1.651200e+04</td>\n    </tr>\n    <tr>\n      <th>mean</th>\n      <td>-5.214135e-15</td>\n      <td>2.783895e-16</td>\n      <td>1.232965e-16</td>\n      <td>-3.636868e-17</td>\n      <td>-9.348008e-17</td>\n      <td>1.875250e-17</td>\n      <td>-2.772868e-17</td>\n      <td>1.002677e-16</td>\n    </tr>\n    <tr>\n      <th>std</th>\n      <td>1.000030e+00</td>\n      <td>1.000030e+00</td>\n      <td>1.000030e+00</td>\n      <td>1.000030e+00</td>\n      <td>1.000030e+00</td>\n      <td>1.000030e+00</td>\n      <td>1.000030e+00</td>\n      <td>1.000030e+00</td>\n    </tr>\n    <tr>\n      <th>min</th>\n      <td>-2.385075e+00</td>\n      <td>-1.449702e+00</td>\n      <td>-2.199176e+00</td>\n      <td>-1.223624e+00</td>\n      <td>-1.294906e+00</td>\n      <td>-1.269855e+00</td>\n      <td>-1.317625e+00</td>\n      <td>-1.772289e+00</td>\n    </tr>\n    <tr>\n      <th>25%</th>\n      <td>-1.111200e+00</td>\n      <td>-7.948529e-01</td>\n      <td>-8.472270e-01</td>\n      <td>-5.516115e-01</td>\n      <td>-5.792186e-01</td>\n      <td>-5.698016e-01</td>\n      <td>-5.803051e-01</td>\n      <td>-6.871505e-01</td>\n    </tr>\n    <tr>\n      <th>50%</th>\n      <td>5.323472e-01</td>\n      <td>-6.451732e-01</td>\n      <td>2.756357e-02</td>\n      <td>-2.354803e-01</td>\n      <td>-2.457180e-01</td>\n      <td>-2.291867e-01</td>\n      <td>-2.369322e-01</td>\n      <td>-1.755153e-01</td>\n    </tr>\n    <tr>\n      <th>75%</th>\n      <td>7.821265e-01</td>\n      <td>9.732389e-01</td>\n      <td>6.637749e-01</td>\n      <td>2.424578e-01</td>\n      <td>2.606187e-01</td>\n      <td>2.682904e-01</td>\n      <td>2.794582e-01</td>\n      <td>4.564298e-01</td>\n    </tr>\n    <tr>\n      <th>max</th>\n      <td>2.630493e+00</td>\n      <td>2.951818e+00</td>\n      <td>1.856671e+00</td>\n      <td>1.716156e+01</td>\n      <td>1.381730e+01</td>\n      <td>3.071120e+01</td>\n      <td>1.293901e+01</td>\n      <td>5.839873e+00</td>\n    </tr>\n  </tbody>\n</table>\n</div>"
     },
     "execution_count": 14,
     "metadata": {},
     "output_type": "execute_result"
    }
   ],
   "source": [
    "from sklearn.preprocessing import StandardScaler\n",
    "\n",
    "scaler_2 = StandardScaler()\n",
    "scaler_2.fit(X_tr)\n",
    "X_std = pd.DataFrame(scaler_2.transform(X_tr), columns=X_tr.columns, index=X_tr.index)\n",
    "X_std.describe()"
   ],
   "metadata": {
    "collapsed": false,
    "pycharm": {
     "name": "#%%\n"
    }
   }
  },
  {
   "cell_type": "markdown",
   "metadata": {},
   "source": [
    "## (d) Transformation pipelines [2 marks]\n",
    "\n",
    "Usually, we have to perform several steps before the data is ready to be fed to an ML algorithm. Scikit-Learn's `Pipeline` class provides a systematic way of \"packaging\" such a sequence of transformations.\n",
    "\n",
    "**Task:** Read the subsection \"Transformation Pipelines\" in Chapter 2 of the textbook. Then, create one pipeline that applies the transformations on part (a), (b) (use one-hot encoding), and (c) (use standardization) to the \"raw\" features `X_raw`. Call your transformed data `X`."
   ]
  },
  {
   "cell_type": "markdown",
   "metadata": {},
   "source": [
    "**[Add your solution here]**"
   ]
  },
  {
   "cell_type": "code",
   "execution_count": 17,
   "metadata": {},
   "outputs": [
    {
     "data": {
      "text/plain": "array([[-0.94135046,  1.34743822,  0.02756357,  0.58477745,  0.64037127,\n         0.73260236,  0.55628602, -0.8936472 ,  0.        ,  1.        ,\n         0.        ,  0.        ,  0.        ],\n       [ 1.17178212, -1.19243966, -1.72201763,  1.26146668,  0.78156132,\n         0.53361152,  0.72131799,  1.292168  ,  0.        ,  0.        ,\n         0.        ,  0.        ,  1.        ],\n       [ 0.26758118, -0.1259716 ,  1.22045984, -0.46977281, -0.54513828,\n        -0.67467519, -0.52440722, -0.52543365,  0.        ,  1.        ,\n         0.        ,  0.        ,  0.        ],\n       [ 1.22173797, -1.35147437, -0.37006852, -0.34865152, -0.03636724,\n        -0.46761716, -0.03729672, -0.86592882,  0.        ,  0.        ,\n         0.        ,  0.        ,  1.        ],\n       [ 0.43743108, -0.63581817, -0.13148926,  0.42717947,  0.27279028,\n         0.37406031,  0.22089846,  0.32575178,  1.        ,  0.        ,\n         0.        ,  0.        ,  0.        ],\n       [-1.23109441,  1.08549869, -0.05196285, -0.66197687, -0.68632833,\n        -0.62358295, -0.6521739 , -0.09422376,  0.        ,  0.        ,\n         0.        ,  1.        ,  0.        ],\n       [-1.22609882,  0.79081673, -0.44959494,  0.74751957,  0.33364806,\n         0.32476078,  0.38326863,  1.89535787,  1.        ,  0.        ,\n         0.        ,  0.        ,  0.        ],\n       [ 0.63225891, -0.6732381 ,  0.5842485 , -0.43516673, -0.65955091,\n        -0.57517977, -0.58296695,  0.63553624,  1.        ,  0.        ,\n         0.        ,  0.        ,  0.        ],\n       [-1.18613414,  0.76275178, -0.92675345, -0.60445595, -0.64007642,\n        -0.90683117, -0.63620307, -1.13329575,  1.        ,  0.        ,\n         0.        ,  0.        ,  0.        ],\n       [ 0.64724566, -0.75743295,  0.02756357, -0.98559052, -0.74231749,\n         1.13865123, -0.74533711, -1.77228853,  1.        ,  0.        ,\n         0.        ,  0.        ,  0.        ]])"
     },
     "execution_count": 17,
     "metadata": {},
     "output_type": "execute_result"
    }
   ],
   "source": [
    "from sklearn.pipeline import Pipeline\n",
    "from sklearn.compose import ColumnTransformer\n",
    "\n",
    "num_pipeline = Pipeline([('imputer', SimpleImputer(strategy=\"median\")), ('std_scaler', StandardScaler())])\n",
    "\n",
    "num_attribs = list(X_num)\n",
    "cat_attribs = [\"ocean_proximity\"]\n",
    "\n",
    "full_pipeline = ColumnTransformer([(\"num\", num_pipeline, num_attribs), (\"cat\", OneHotEncoder(), cat_attribs)])\n",
    "\n",
    "X = full_pipeline.fit_transform(X_raw)\n",
    "X[:10]"
   ]
  },
  {
   "cell_type": "markdown",
   "metadata": {},
   "source": [
    "# 2. Fine-tuning models [16 marks]\n",
    "\n",
    "Hint: Reading Chapter 2 of the textbook and the accompanying [Jupyter notebook](https://github.com/ageron/handson-ml2/blob/master/02_end_to_end_machine_learning_project.ipynb) on the textbook website may help with this question."
   ]
  },
  {
   "cell_type": "markdown",
   "metadata": {},
   "source": [
    "## (a) Linear regression [2 marks]\n",
    "\n",
    "**Task:** Use the `sklearn.linear_model.LinearRegression` class to fit a linear regression to the training set in Question 1. Use the processed features `X` that you obtained in 1(d) as predictors and `y` (the median house values) as the response. Return fitted values of the response for the first 10 observations of the training set."
   ]
  },
  {
   "cell_type": "markdown",
   "metadata": {},
   "source": [
    "**[Add your solution here]**"
   ]
  },
  {
   "cell_type": "code",
   "execution_count": 60,
   "metadata": {},
   "outputs": [
    {
     "name": "stdout",
     "output_type": "stream",
     "text": [
      "Predictions: [ 88983.14806384 305351.35385026 153334.71183453 184302.55162102\n",
      " 246840.18988841 208983.6813477  375046.02067267 270259.89859199\n",
      " 153462.62515736  12077.73402934]\n"
     ]
    }
   ],
   "source": [
    "from sklearn.linear_model import LinearRegression\n",
    "\n",
    "lin_reg = LinearRegression()\n",
    "lin_reg.fit(X, y)\n",
    "\n",
    "print(\"Predictions:\", lin_reg.predict(X[:10]))"
   ]
  },
  {
   "cell_type": "markdown",
   "metadata": {},
   "source": [
    "## (b) RMSE and MAE  [2 marks]\n",
    "\n",
    "We can measure the out-of-sample performance with root mean square error (RMSE) and mean absolute error (MAE). \n",
    "\n",
    "**Task:** Use `mean_squared_error` and `mean_absolute_error` functions from `sklearn.metrics` to calculate the in-sample RMSE and MAE of the linear regression that you fit in part (a)."
   ]
  },
  {
   "cell_type": "markdown",
   "metadata": {},
   "source": [
    "**[Add your solution here]**"
   ]
  },
  {
   "cell_type": "code",
   "execution_count": 22,
   "metadata": {},
   "outputs": [
    {
     "data": {
      "text/plain": "69050.56219504567"
     },
     "execution_count": 22,
     "metadata": {},
     "output_type": "execute_result"
    }
   ],
   "source": [
    "from sklearn.metrics import mean_squared_error\n",
    "\n",
    "X_predictions = lin_reg.predict(X)\n",
    "lin_mse = mean_squared_error(y, X_predictions)\n",
    "lin_rmse = np.sqrt(lin_mse)\n",
    "lin_rmse"
   ]
  },
  {
   "cell_type": "code",
   "execution_count": 23,
   "outputs": [
    {
     "data": {
      "text/plain": "49905.329442715316"
     },
     "execution_count": 23,
     "metadata": {},
     "output_type": "execute_result"
    }
   ],
   "source": [
    "from sklearn.metrics import mean_absolute_error\n",
    "\n",
    "lin_mae = mean_absolute_error(y, X_predictions)\n",
    "lin_mae"
   ],
   "metadata": {
    "collapsed": false,
    "pycharm": {
     "name": "#%%\n"
    }
   }
  },
  {
   "cell_type": "markdown",
   "metadata": {},
   "source": [
    "## (c) Cross validation  [3 marks]\n",
    "\n",
    "In part (b), we evaluated the in-sample performance of the linear regression model. To obtain out-of-sample performance, we use K-fold cross validation.\n",
    "\n",
    "**Task:** Use the `cross_val_score` function from `sklearn.model_selection` to perform 10-fold  cross validation on the linear regression from part (a) and return the values of **RMSE**. Return the 10 RMSE scores as well as their mean."
   ]
  },
  {
   "cell_type": "markdown",
   "metadata": {},
   "source": [
    "**[Add your solution here]**"
   ]
  },
  {
   "cell_type": "code",
   "execution_count": 25,
   "metadata": {},
   "outputs": [
    {
     "data": {
      "text/plain": "array([72229.03469752, 65318.2240289 , 67706.39604745, 69368.53738998,\n       66767.61061621, 73003.75273869, 70522.24414582, 69440.77896541,\n       66930.32945876, 70756.31946074])"
     },
     "execution_count": 25,
     "metadata": {},
     "output_type": "execute_result"
    }
   ],
   "source": [
    "from sklearn.model_selection import cross_val_score\n",
    "\n",
    "scores = cross_val_score(lin_reg, X, y, scoring=\"neg_mean_squared_error\", cv=10)\n",
    "lin_rmse_scores = np.sqrt(-scores)\n",
    "lin_rmse_scores"
   ]
  },
  {
   "cell_type": "code",
   "execution_count": 26,
   "outputs": [
    {
     "data": {
      "text/plain": "69204.32275494764"
     },
     "execution_count": 26,
     "metadata": {},
     "output_type": "execute_result"
    }
   ],
   "source": [
    "np.mean(lin_rmse_scores)"
   ],
   "metadata": {
    "collapsed": false,
    "pycharm": {
     "name": "#%%\n"
    }
   }
  },
  {
   "cell_type": "markdown",
   "metadata": {},
   "source": [
    "## (d) Alternatives to linear regression [3 marks]\n",
    "Let us consider fitting two alternative models, namely, **decision trees** and **random forests**. These models will be discussed in future lectures. The following code fits a decision tree and obtains the fitted response for the first 10 observations."
   ]
  },
  {
   "cell_type": "code",
   "execution_count": 27,
   "metadata": {},
   "outputs": [
    {
     "data": {
      "text/plain": "DecisionTreeRegressor(random_state=42)"
     },
     "execution_count": 27,
     "metadata": {},
     "output_type": "execute_result"
    }
   ],
   "source": [
    "from sklearn.tree import DecisionTreeRegressor\n",
    "dt_reg = DecisionTreeRegressor(random_state=42)\n",
    "dt_reg.fit(X,y)"
   ]
  },
  {
   "cell_type": "code",
   "execution_count": 28,
   "metadata": {
    "run_control": {
     "marked": true
    },
    "scrolled": true
   },
   "outputs": [
    {
     "data": {
      "text/plain": "array([ 72100., 279600.,  82700., 112500., 238300., 165700., 412300.,\n       349600., 181300., 500001.])"
     },
     "execution_count": 28,
     "metadata": {},
     "output_type": "execute_result"
    }
   ],
   "source": [
    "dt_reg.predict(X[:10,])"
   ]
  },
  {
   "cell_type": "markdown",
   "metadata": {},
   "source": [
    "The following code does the same for the random forest model."
   ]
  },
  {
   "cell_type": "code",
   "execution_count": 29,
   "metadata": {
    "run_control": {
     "marked": true
    }
   },
   "outputs": [
    {
     "data": {
      "text/plain": "RandomForestRegressor(max_depth=5, random_state=42)"
     },
     "execution_count": 29,
     "metadata": {},
     "output_type": "execute_result"
    }
   ],
   "source": [
    "from sklearn.ensemble import RandomForestRegressor\n",
    "\n",
    "rf_reg = RandomForestRegressor(bootstrap=True, n_estimators=100, max_depth=5, random_state=42)\n",
    "rf_reg.fit(X, y)"
   ]
  },
  {
   "cell_type": "code",
   "execution_count": 30,
   "metadata": {
    "run_control": {
     "marked": true
    }
   },
   "outputs": [
    {
     "data": {
      "text/plain": "array([ 81652.52309416, 312816.43220775, 103956.26879436, 145669.10673902,\n       254963.91541844, 223471.15507845, 359454.5338993 , 261250.07064825,\n       178062.03642388, 152509.12871198])"
     },
     "execution_count": 30,
     "metadata": {},
     "output_type": "execute_result"
    }
   ],
   "source": [
    "rf_reg.predict(X[:10,])"
   ]
  },
  {
   "cell_type": "markdown",
   "metadata": {},
   "source": [
    "**Task:** Find the in-sample performance of the decision tree and the random forest using RMSE on the training set. Also, find the out-of-sample performance by 10-fold cross validation as you did in part (c). Which of the 3 models has the best in-sample performance? Which has the best out-of-sample performance?"
   ]
  },
  {
   "cell_type": "markdown",
   "metadata": {},
   "source": [
    "**[Add your solution here]**"
   ]
  },
  {
   "cell_type": "code",
   "execution_count": 31,
   "metadata": {},
   "outputs": [
    {
     "data": {
      "text/plain": "0.0"
     },
     "execution_count": 31,
     "metadata": {},
     "output_type": "execute_result"
    }
   ],
   "source": [
    "X_predictions_dt = dt_reg.predict(X)\n",
    "dt_mse = mean_squared_error(y, X_predictions_dt)\n",
    "dt_rmse = np.sqrt(dt_mse)\n",
    "dt_rmse"
   ]
  },
  {
   "cell_type": "code",
   "execution_count": 32,
   "outputs": [
    {
     "data": {
      "text/plain": "66750.70697525762"
     },
     "execution_count": 32,
     "metadata": {},
     "output_type": "execute_result"
    }
   ],
   "source": [
    "X_predictions_rf = rf_reg.predict(X)\n",
    "rf_mse = mean_squared_error(y, X_predictions_rf)\n",
    "rf_rmse = np.sqrt(rf_mse)\n",
    "rf_rmse"
   ],
   "metadata": {
    "collapsed": false,
    "pycharm": {
     "name": "#%%\n"
    }
   }
  },
  {
   "cell_type": "code",
   "execution_count": 33,
   "outputs": [
    {
     "data": {
      "text/plain": "array([71177.6601991 , 69770.07865373, 64770.5639395 , 68536.60203993,\n       67057.08155801, 68847.12456973, 70977.38255647, 69208.86346929,\n       67187.87131535, 73280.38732407])"
     },
     "execution_count": 33,
     "metadata": {},
     "output_type": "execute_result"
    }
   ],
   "source": [
    "scores_dt = cross_val_score(dt_reg, X, y, scoring=\"neg_mean_squared_error\", cv=10)\n",
    "dt_rmse_scores = np.sqrt(-scores_dt)\n",
    "dt_rmse_scores"
   ],
   "metadata": {
    "collapsed": false,
    "pycharm": {
     "name": "#%%\n"
    }
   }
  },
  {
   "cell_type": "code",
   "execution_count": 34,
   "outputs": [
    {
     "data": {
      "text/plain": "69081.361562518"
     },
     "execution_count": 34,
     "metadata": {},
     "output_type": "execute_result"
    }
   ],
   "source": [
    "np.mean(dt_rmse_scores)"
   ],
   "metadata": {
    "collapsed": false,
    "pycharm": {
     "name": "#%%\n"
    }
   }
  },
  {
   "cell_type": "code",
   "execution_count": 35,
   "outputs": [
    {
     "data": {
      "text/plain": "array([70666.17468232, 65975.4104431 , 63466.98553521, 71762.08084765,\n       65644.92773928, 70198.63516218, 69549.01504688, 68795.8612658 ,\n       65340.03824595, 68660.17724972])"
     },
     "execution_count": 35,
     "metadata": {},
     "output_type": "execute_result"
    }
   ],
   "source": [
    "scores_rf = cross_val_score(rf_reg, X, y, scoring=\"neg_mean_squared_error\", cv=10)\n",
    "rf_rmse_scores = np.sqrt(-scores_rf)\n",
    "rf_rmse_scores"
   ],
   "metadata": {
    "collapsed": false,
    "pycharm": {
     "name": "#%%\n"
    }
   }
  },
  {
   "cell_type": "code",
   "execution_count": 37,
   "outputs": [
    {
     "data": {
      "text/plain": "68005.93062180877"
     },
     "execution_count": 37,
     "metadata": {},
     "output_type": "execute_result"
    }
   ],
   "source": [
    "np.mean(rf_rmse_scores)"
   ],
   "metadata": {
    "collapsed": false,
    "pycharm": {
     "name": "#%%\n"
    }
   }
  },
  {
   "cell_type": "markdown",
   "source": [
    "The decision tree has the best in-sample performance. The random forest has the best out-of-sample performance."
   ],
   "metadata": {
    "collapsed": false,
    "pycharm": {
     "name": "#%% md\n"
    }
   }
  },
  {
   "cell_type": "markdown",
   "metadata": {},
   "source": [
    "## (e) Choosing optimal values of hyperparameters using cross validation [4 marks]\n",
    "\n",
    "Most ML algorithms have **hyperparameters**. These hyperparameters control the learning process and should not be confused with the model parameters (which are the unknown values that are being estimated). For example, the random forest algorithm has 3 hyperparameters, namely `bootstrap`, `n_estimators`, and `max_depth`. To fine-tune a model, we should find good values of the hyperparameters based on out-of-sample performance.\n",
    "\n",
    "**Task:** Read the subsections \"Grid Search\" and \"Randomized Search\" in Chapter 2 of the textbook. Consider the random forest model with the argument `random_state=42`. Use the `sklearn.model_selection.GridSearchCV` class to choose the best hyperparameter values for `bootstrap` over the values `True`, `False`; `n_estimators` over the values 50, 100, 200; and `max_depth` over the values 5, 20, 40. Use 4-fold cross-validation with RMSE when searching for the hyperparameters.\n",
    "\n",
    "Next, use the `sklearn.model_selection.RandomizedSearchCV` class to perform a randomized search over the same ranges with 18 parameter settings sampled, that is `bootstrap` is `True` or `False` with equal probability, `n_estimators` is a uniform random integer between 50 and 200, `max_depth` is a uniform random integer between 5 and 40. `RandomizedSearchCV` must include the argument `random_state=42`.\n",
    "\n",
    "In both functions, you may use the argument `n_jobs=-1` to use all avaliable processor cores to speed up the calculation. Based on all of your results, what are the best hyperparameter values?"
   ]
  },
  {
   "cell_type": "markdown",
   "metadata": {},
   "source": [
    "**[Add your solution here]**"
   ]
  },
  {
   "cell_type": "code",
   "execution_count": 40,
   "metadata": {},
   "outputs": [
    {
     "data": {
      "text/plain": "GridSearchCV(cv=4, estimator=RandomForestRegressor(random_state=42), n_jobs=-1,\n             param_grid={'bootstrap': [True, False], 'max_depth': [5, 20, 40],\n                         'n_estimators': [50, 100, 200]},\n             scoring='neg_mean_squared_error')"
     },
     "execution_count": 40,
     "metadata": {},
     "output_type": "execute_result"
    }
   ],
   "source": [
    "from sklearn.model_selection import GridSearchCV\n",
    "\n",
    "param_grid = {\n",
    "     'n_estimators': [50, 100, 200],\n",
    "     'max_depth': [5, 20, 40],\n",
    "     'bootstrap': [True, False],\n",
    "  }\n",
    "\n",
    "forest_reg = RandomForestRegressor(random_state=42)\n",
    "grid_search = GridSearchCV(forest_reg, param_grid, cv=4,\n",
    "                           scoring='neg_mean_squared_error',\n",
    "                           n_jobs=-1)\n",
    "grid_search.fit(X, y)"
   ]
  },
  {
   "cell_type": "code",
   "execution_count": 41,
   "outputs": [
    {
     "data": {
      "text/plain": "{'bootstrap': True, 'max_depth': 40, 'n_estimators': 200}"
     },
     "execution_count": 41,
     "metadata": {},
     "output_type": "execute_result"
    }
   ],
   "source": [
    "grid_search.best_params_"
   ],
   "metadata": {
    "collapsed": false,
    "pycharm": {
     "name": "#%%\n"
    }
   }
  },
  {
   "cell_type": "code",
   "execution_count": 44,
   "outputs": [
    {
     "name": "stdout",
     "output_type": "stream",
     "text": [
      "68126.05103043518 {'bootstrap': True, 'max_depth': 5, 'n_estimators': 50}\n",
      "68038.32198863207 {'bootstrap': True, 'max_depth': 5, 'n_estimators': 100}\n",
      "67992.20590489656 {'bootstrap': True, 'max_depth': 5, 'n_estimators': 200}\n",
      "50847.09322989613 {'bootstrap': True, 'max_depth': 20, 'n_estimators': 50}\n",
      "50517.386434208776 {'bootstrap': True, 'max_depth': 20, 'n_estimators': 100}\n",
      "50325.531868775004 {'bootstrap': True, 'max_depth': 20, 'n_estimators': 200}\n",
      "50765.78093646687 {'bootstrap': True, 'max_depth': 40, 'n_estimators': 50}\n",
      "50475.98181404633 {'bootstrap': True, 'max_depth': 40, 'n_estimators': 100}\n",
      "50271.12629517273 {'bootstrap': True, 'max_depth': 40, 'n_estimators': 200}\n",
      "71083.11760324877 {'bootstrap': False, 'max_depth': 5, 'n_estimators': 50}\n",
      "71078.93294093257 {'bootstrap': False, 'max_depth': 5, 'n_estimators': 100}\n",
      "71079.3116002859 {'bootstrap': False, 'max_depth': 5, 'n_estimators': 200}\n",
      "67109.74630197707 {'bootstrap': False, 'max_depth': 20, 'n_estimators': 50}\n",
      "67063.47951883342 {'bootstrap': False, 'max_depth': 20, 'n_estimators': 100}\n",
      "67064.18678726346 {'bootstrap': False, 'max_depth': 20, 'n_estimators': 200}\n",
      "67536.77181617796 {'bootstrap': False, 'max_depth': 40, 'n_estimators': 50}\n",
      "67519.42836786903 {'bootstrap': False, 'max_depth': 40, 'n_estimators': 100}\n",
      "67470.1644392675 {'bootstrap': False, 'max_depth': 40, 'n_estimators': 200}\n"
     ]
    }
   ],
   "source": [
    "cvres = grid_search.cv_results_\n",
    "for mean_score, params in zip(cvres[\"mean_test_score\"], cvres[\"params\"]):\n",
    "    print(np.sqrt(-mean_score), params)"
   ],
   "metadata": {
    "collapsed": false,
    "pycharm": {
     "name": "#%%\n"
    }
   }
  },
  {
   "cell_type": "code",
   "execution_count": 42,
   "outputs": [
    {
     "data": {
      "text/plain": "RandomizedSearchCV(cv=4, estimator=RandomForestRegressor(random_state=42),\n                   n_iter=18, n_jobs=-1,\n                   param_distributions={'bootstrap': [True, False],\n                                        'max_depth': <scipy.stats._distn_infrastructure.rv_frozen object at 0x000001A9CF0355B0>,\n                                        'n_estimators': <scipy.stats._distn_infrastructure.rv_frozen object at 0x000001A9CACF9580>},\n                   random_state=42, scoring='neg_mean_squared_error')"
     },
     "execution_count": 42,
     "metadata": {},
     "output_type": "execute_result"
    }
   ],
   "source": [
    "from sklearn.model_selection import RandomizedSearchCV\n",
    "from scipy.stats import randint\n",
    "\n",
    "param_distribs = {\n",
    "        'n_estimators': randint(low=50, high=200),\n",
    "        'max_depth': randint(low=5, high=40),\n",
    "        'bootstrap': [True, False],\n",
    "    }\n",
    "\n",
    "forest_reg = RandomForestRegressor(random_state=42)\n",
    "rnd_search = RandomizedSearchCV(forest_reg, param_distributions=param_distribs,\n",
    "                                n_iter=18, cv=4, scoring='neg_mean_squared_error', random_state=42,\n",
    "                                n_jobs=-1)\n",
    "rnd_search.fit(X, y)"
   ],
   "metadata": {
    "collapsed": false,
    "pycharm": {
     "name": "#%%\n"
    }
   }
  },
  {
   "cell_type": "code",
   "execution_count": 43,
   "outputs": [
    {
     "data": {
      "text/plain": "{'bootstrap': True, 'max_depth': 28, 'n_estimators': 166}"
     },
     "execution_count": 43,
     "metadata": {},
     "output_type": "execute_result"
    }
   ],
   "source": [
    "rnd_search.best_params_"
   ],
   "metadata": {
    "collapsed": false,
    "pycharm": {
     "name": "#%%\n"
    }
   }
  },
  {
   "cell_type": "code",
   "execution_count": 45,
   "outputs": [
    {
     "name": "stdout",
     "output_type": "stream",
     "text": [
      "50631.36528915277 {'bootstrap': True, 'max_depth': 33, 'n_estimators': 64}\n",
      "52340.8946928581 {'bootstrap': True, 'max_depth': 12, 'n_estimators': 70}\n",
      "50380.030436623914 {'bootstrap': True, 'max_depth': 23, 'n_estimators': 124}\n",
      "50273.28602841223 {'bootstrap': True, 'max_depth': 28, 'n_estimators': 166}\n",
      "67447.74692166447 {'bootstrap': False, 'max_depth': 28, 'n_estimators': 180}\n",
      "68465.03714105087 {'bootstrap': False, 'max_depth': 6, 'n_estimators': 137}\n",
      "67525.4930600352 {'bootstrap': False, 'max_depth': 34, 'n_estimators': 87}\n",
      "67476.1281683955 {'bootstrap': False, 'max_depth': 25, 'n_estimators': 107}\n",
      "67520.0131623892 {'bootstrap': False, 'max_depth': 29, 'n_estimators': 98}\n",
      "50609.391799744895 {'bootstrap': True, 'max_depth': 32, 'n_estimators': 64}\n",
      "66076.51935679585 {'bootstrap': False, 'max_depth': 7, 'n_estimators': 100}\n",
      "50362.85253370906 {'bootstrap': True, 'max_depth': 25, 'n_estimators': 122}\n",
      "50319.065489304085 {'bootstrap': True, 'max_depth': 22, 'n_estimators': 181}\n",
      "50812.40558997878 {'bootstrap': True, 'max_depth': 18, 'n_estimators': 58}\n",
      "68467.81625115046 {'bootstrap': False, 'max_depth': 6, 'n_estimators': 133}\n",
      "63246.10115659328 {'bootstrap': False, 'max_depth': 11, 'n_estimators': 57}\n",
      "50355.37845511584 {'bootstrap': True, 'max_depth': 39, 'n_estimators': 130}\n",
      "64037.127190339066 {'bootstrap': False, 'max_depth': 8, 'n_estimators': 51}\n"
     ]
    }
   ],
   "source": [
    "cvres = rnd_search.cv_results_\n",
    "for mean_score, params in zip(cvres[\"mean_test_score\"], cvres[\"params\"]):\n",
    "    print(np.sqrt(-mean_score), params)"
   ],
   "metadata": {
    "collapsed": false,
    "pycharm": {
     "name": "#%%\n"
    }
   }
  },
  {
   "cell_type": "markdown",
   "source": [
    "Best: bootstrap=True, max_depth=40 , n_estimators=200"
   ],
   "metadata": {
    "collapsed": false,
    "pycharm": {
     "name": "#%% md\n"
    }
   }
  },
  {
   "cell_type": "markdown",
   "metadata": {},
   "source": [
    "## (f) Evaluating your final model using the test set [2 marks]\n",
    "\n",
    "The last step of a ML project is to evaluate your (fine-tuned) model using the test set. The goal of this step is to estimate the out-of-sample performance of your trained model on new data. **Be careful not to train your model using the test set.** Do not use `.fit()` or `.fit_tranform()` of your estimators or pipelines. Also, **do not fine tune your hyperparameters after finding out the performance of a model on the test set as that would be data snooping.**\n",
    "\n",
    "**Task:** Using the test set, find the RMSE of your best model in part (e)."
   ]
  },
  {
   "cell_type": "markdown",
   "metadata": {},
   "source": [
    "**[Add your solution here]**"
   ]
  },
  {
   "cell_type": "code",
   "execution_count": 46,
   "metadata": {},
   "outputs": [
    {
     "data": {
      "text/plain": "47074.669205115606"
     },
     "execution_count": 46,
     "metadata": {},
     "output_type": "execute_result"
    }
   ],
   "source": [
    "final_model = grid_search.best_estimator_\n",
    "\n",
    "X_test = strat_test_set.drop(\"median_house_value\", axis=1)\n",
    "y_test = strat_test_set[\"median_house_value\"].copy()\n",
    "\n",
    "X_test_prepared = full_pipeline.transform(X_test)\n",
    "final_predictions = final_model.predict(X_test_prepared)\n",
    "\n",
    "final_mse = mean_squared_error(y_test, final_predictions)\n",
    "final_rmse = np.sqrt(final_mse)\n",
    "final_rmse"
   ]
  },
  {
   "cell_type": "markdown",
   "metadata": {},
   "source": [
    "# 3. Regularizing linear regression [6 marks]\n",
    "\n",
    "Consider the housing data set from Questions 1 and 2."
   ]
  },
  {
   "cell_type": "markdown",
   "metadata": {},
   "source": [
    "## (a) Polynomial regression and regularizing [2 marks]\n",
    "\n",
    "Fit a model that adds degree 3 polynomial terms to the linear regression in 2(a). Next, regularize the model using ridge regression with parameter $\\alpha=1$."
   ]
  },
  {
   "cell_type": "markdown",
   "metadata": {},
   "source": [
    "**[Add your solution here]**"
   ]
  },
  {
   "cell_type": "code",
   "execution_count": 61,
   "metadata": {},
   "outputs": [
    {
     "data": {
      "text/plain": "array([[-0.94135046,  1.34743822,  0.02756357, ...,  0.        ,\n         0.        ,  0.        ],\n       [ 1.17178212, -1.19243966, -1.72201763, ...,  0.        ,\n         0.        ,  1.        ],\n       [ 0.26758118, -0.1259716 ,  1.22045984, ...,  0.        ,\n         0.        ,  0.        ],\n       ...,\n       [ 0.63225891, -0.6732381 ,  0.5842485 , ...,  0.        ,\n         0.        ,  0.        ],\n       [-1.18613414,  0.76275178, -0.92675345, ...,  0.        ,\n         0.        ,  0.        ],\n       [ 0.64724566, -0.75743295,  0.02756357, ...,  0.        ,\n         0.        ,  0.        ]])"
     },
     "execution_count": 61,
     "metadata": {},
     "output_type": "execute_result"
    }
   ],
   "source": [
    "from sklearn.preprocessing import PolynomialFeatures\n",
    "\n",
    "poly_features = PolynomialFeatures(degree=3, include_bias=False)\n",
    "X_poly = poly_features.fit_transform(X)\n",
    "X_poly[:10]"
   ]
  },
  {
   "cell_type": "code",
   "execution_count": 62,
   "outputs": [
    {
     "data": {
      "text/plain": "LinearRegression()"
     },
     "execution_count": 62,
     "metadata": {},
     "output_type": "execute_result"
    }
   ],
   "source": [
    "lin_reg_poly = LinearRegression()\n",
    "lin_reg_poly.fit(X_poly, y)"
   ],
   "metadata": {
    "collapsed": false,
    "pycharm": {
     "name": "#%%\n"
    }
   }
  },
  {
   "cell_type": "code",
   "execution_count": 63,
   "outputs": [
    {
     "data": {
      "text/plain": "Ridge(alpha=1)"
     },
     "execution_count": 63,
     "metadata": {},
     "output_type": "execute_result"
    }
   ],
   "source": [
    "from sklearn.linear_model import Ridge\n",
    "\n",
    "ridge_reg_poly = Ridge(alpha=1)\n",
    "ridge_reg_poly.fit(X_poly, y)"
   ],
   "metadata": {
    "collapsed": false,
    "pycharm": {
     "name": "#%%\n"
    }
   }
  },
  {
   "cell_type": "markdown",
   "metadata": {},
   "source": [
    "## (b) Learning curves [4 marks]\n",
    "\n",
    "Obtain learning curves for the linear regression model that you fitted in 2(a), the polynomial regression model in 3(a), and the ridge regression model in 3(a). Hence, comment on whether the curves indicate the models are underfitting, overfitting or neither. When plotting the learning curve, use the function `train_test_split` with the argument `random_state=10` to create a validation set from a random 20% split of the test set. Instead of adding 1 instance at a time in the learning curve, add 1000 instances at a time."
   ]
  },
  {
   "cell_type": "markdown",
   "metadata": {},
   "source": [
    "**[Add your solution here]**"
   ]
  },
  {
   "cell_type": "code",
   "execution_count": 53,
   "metadata": {},
   "outputs": [],
   "source": [
    "import matplotlib.pyplot as plt\n",
    "from sklearn.model_selection import train_test_split\n",
    "\n",
    "def plot_learning_curves(model, X, y):\n",
    "    X_train, X_val, y_train, y_val = train_test_split(X, y, test_size=0.2, random_state=10)\n",
    "    train_errors, val_errors = [], []\n",
    "    for m in range(1, len(X_train), 1000):\n",
    "        model.fit(X_train[:m], y_train[:m])\n",
    "        y_train_predict = model.predict(X_train[:m])\n",
    "        y_val_predict = model.predict(X_val)\n",
    "        train_errors.append(mean_squared_error(y_train[:m], y_train_predict))\n",
    "        val_errors.append(mean_squared_error(y_val, y_val_predict))\n",
    "\n",
    "    plt.plot(np.sqrt(train_errors), \"r-+\", linewidth=2, label=\"train\")\n",
    "    plt.plot(np.sqrt(val_errors), \"b-\", linewidth=3, label=\"val\")\n",
    "    plt.legend(loc=\"upper right\", fontsize=14)\n",
    "    plt.xlabel(\"Training set size\", fontsize=14)\n",
    "    plt.ylabel(\"RMSE\", fontsize=14)"
   ]
  },
  {
   "cell_type": "code",
   "execution_count": 72,
   "outputs": [
    {
     "data": {
      "text/plain": "<Figure size 432x288 with 1 Axes>",
      "image/png": "[encoded data removed]"
     },
     "metadata": {
      "needs_background": "light"
     },
     "output_type": "display_data"
    }
   ],
   "source": [
    "plot_learning_curves(lin_reg, X, y)\n",
    "plt.axis([0, 14, 0, 100000])\n",
    "plt.show()"
   ],
   "metadata": {
    "collapsed": false,
    "pycharm": {
     "name": "#%%\n"
    }
   }
  },
  {
   "cell_type": "markdown",
   "source": [
    "Both in-sample and out-of-sample performance \"reach a plateau\" with almost no gap between them. The error size is large (the performance is not good). These are the typical characteristic of the learning curves when the model is underfitting the training set."
   ],
   "metadata": {
    "collapsed": false,
    "pycharm": {
     "name": "#%% md\n"
    }
   }
  },
  {
   "cell_type": "code",
   "execution_count": 75,
   "outputs": [
    {
     "data": {
      "text/plain": "<Figure size 432x288 with 1 Axes>",
      "image/png": "[encoded data removed]"
     },
     "metadata": {
      "needs_background": "light"
     },
     "output_type": "display_data"
    }
   ],
   "source": [
    "plot_learning_curves(lin_reg_poly, X_poly, y)\n",
    "plt.axis([0, 14, 0, 100000])\n",
    "plt.show()"
   ],
   "metadata": {
    "collapsed": false,
    "pycharm": {
     "name": "#%%\n"
    }
   }
  },
  {
   "cell_type": "code",
   "execution_count": 76,
   "outputs": [
    {
     "data": {
      "text/plain": "<Figure size 432x288 with 1 Axes>",
      "image/png": "[encoded data removed]"
     },
     "metadata": {
      "needs_background": "light"
     },
     "output_type": "display_data"
    }
   ],
   "source": [
    "plot_learning_curves(ridge_reg_poly, X_poly, y)\n",
    "plt.axis([0, 14, 0, 100000])\n",
    "plt.show()"
   ],
   "metadata": {
    "collapsed": false,
    "pycharm": {
     "name": "#%%\n"
    }
   }
  },
  {
   "cell_type": "markdown",
   "metadata": {},
   "source": [
    "# 4. Default dataset [17 marks]\n",
    "\n",
    "\n",
    "In this question you will work with the Default dataset, which is a simulated dataset of credit card default for 10000 customers. Download the data as a csv file from [Canvas](https://canvas.uw.edu/files/90503805/download?download_frd=1). The data was originally obtained from the R library ISLR2, and you can read the documentation for the dataset [here](https://cran.rstudio.com/web/packages/ISLR2/ISLR2.pdf).\n",
    "\n",
    "You want to predict credit card defaults. The target for this classification problem is `default` and all other variables are the features. "
   ]
  },
  {
   "cell_type": "markdown",
   "metadata": {},
   "source": [
    "## (a) [2 marks]\n",
    "Load the dataset. If it is stored in a file named `Default.csv` in your working directory, this can be done with the code below. Then split the data into a training and a test set, using 20% of the data for the test set. When doing the splitting, use the random seed 42."
   ]
  },
  {
   "cell_type": "code",
   "execution_count": 77,
   "metadata": {},
   "outputs": [],
   "source": [
    "import os\n",
    "data = pd.read_csv(\"Default.csv\")"
   ]
  },
  {
   "cell_type": "markdown",
   "metadata": {},
   "source": [
    "**[Add your solution here]**"
   ]
  },
  {
   "cell_type": "code",
   "execution_count": 78,
   "metadata": {},
   "outputs": [
    {
     "data": {
      "text/plain": "     default student      balance        income\n6252      No      No  1435.662933  31507.089277\n4684      No      No   771.789347  42139.070269\n1731      No      No     0.000000  21809.218509\n4742      No      No   113.571264  32803.832648\n4521      No      No  1358.132472  49903.597081",
      "text/html": "<div>\n<style scoped>\n    .dataframe tbody tr th:only-of-type {\n        vertical-align: middle;\n    }\n\n    .dataframe tbody tr th {\n        vertical-align: top;\n    }\n\n    .dataframe thead th {\n        text-align: right;\n    }\n</style>\n<table border=\"1\" class=\"dataframe\">\n  <thead>\n    <tr style=\"text-align: right;\">\n      <th></th>\n      <th>default</th>\n      <th>student</th>\n      <th>balance</th>\n      <th>income</th>\n    </tr>\n  </thead>\n  <tbody>\n    <tr>\n      <th>6252</th>\n      <td>No</td>\n      <td>No</td>\n      <td>1435.662933</td>\n      <td>31507.089277</td>\n    </tr>\n    <tr>\n      <th>4684</th>\n      <td>No</td>\n      <td>No</td>\n      <td>771.789347</td>\n      <td>42139.070269</td>\n    </tr>\n    <tr>\n      <th>1731</th>\n      <td>No</td>\n      <td>No</td>\n      <td>0.000000</td>\n      <td>21809.218509</td>\n    </tr>\n    <tr>\n      <th>4742</th>\n      <td>No</td>\n      <td>No</td>\n      <td>113.571264</td>\n      <td>32803.832648</td>\n    </tr>\n    <tr>\n      <th>4521</th>\n      <td>No</td>\n      <td>No</td>\n      <td>1358.132472</td>\n      <td>49903.597081</td>\n    </tr>\n  </tbody>\n</table>\n</div>"
     },
     "execution_count": 78,
     "metadata": {},
     "output_type": "execute_result"
    }
   ],
   "source": [
    "from sklearn.model_selection import train_test_split\n",
    "\n",
    "train_set, test_set = train_test_split(data, test_size=0.2, random_state=42)\n",
    "test_set.head()"
   ]
  },
  {
   "cell_type": "code",
   "execution_count": 102,
   "outputs": [],
   "source": [
    "X_train = train_set.drop(\"default\", axis=1)\n",
    "y_train = (train_set[\"default\"] == \"Yes\").astype(int)"
   ],
   "metadata": {
    "collapsed": false,
    "pycharm": {
     "name": "#%%\n"
    }
   }
  },
  {
   "cell_type": "code",
   "execution_count": 103,
   "outputs": [],
   "source": [
    "X_test = test_set.drop(\"default\", axis=1)\n",
    "y_test = (test_set[\"default\"] == \"Yes\").astype(int)"
   ],
   "metadata": {
    "collapsed": false,
    "pycharm": {
     "name": "#%%\n"
    }
   }
  },
  {
   "cell_type": "markdown",
   "metadata": {},
   "source": [
    "## (b) [3 marks]\n",
    "\n",
    "Design a pipeline for preprocessing that applies one hot encoding to the categorical features and a standard scaler to the numerical features."
   ]
  },
  {
   "cell_type": "markdown",
   "metadata": {},
   "source": [
    "**[Add your solution here]**"
   ]
  },
  {
   "cell_type": "code",
   "execution_count": 106,
   "metadata": {},
   "outputs": [],
   "source": [
    "X_num = X_train.drop(\"student\", axis=1)\n",
    "X_cat = X_train[[\"student\"]]"
   ]
  },
  {
   "cell_type": "code",
   "execution_count": 107,
   "outputs": [
    {
     "data": {
      "text/plain": "array([[ 0.38108223,  0.03730779,  1.        ,  0.        ],\n       [-1.59177438, -0.37009867,  1.        ,  0.        ],\n       [ 0.43920243,  0.54017781,  1.        ,  0.        ],\n       [-0.14458661,  0.7874204 ,  1.        ,  0.        ],\n       [-0.28173517, -0.58938999,  0.        ,  1.        ],\n       [ 0.76011857,  1.22069959,  1.        ,  0.        ],\n       [-0.74095593, -0.40585885,  1.        ,  0.        ],\n       [ 0.90247606,  0.76894008,  1.        ,  0.        ],\n       [ 1.02076309, -1.5131229 ,  0.        ,  1.        ],\n       [ 2.41707888,  0.22683208,  1.        ,  0.        ]])"
     },
     "execution_count": 107,
     "metadata": {},
     "output_type": "execute_result"
    }
   ],
   "source": [
    "num_attribs = list(X_num)\n",
    "cat_attribs = [\"student\"]\n",
    "\n",
    "full_pipeline = ColumnTransformer([(\"num\", StandardScaler(), num_attribs), (\"cat\", OneHotEncoder(), cat_attribs)])\n",
    "\n",
    "X_train = full_pipeline.fit_transform(X_train)\n",
    "X_train[:10]"
   ],
   "metadata": {
    "collapsed": false,
    "pycharm": {
     "name": "#%%\n"
    }
   }
  },
  {
   "cell_type": "markdown",
   "source": [
    "## (c) [4 marks]\n",
    "Train a logistic regression classifier and a `SGDClassifier`, and then using 10-fold cross-validation plot the ROC curve of the classifiers and compute their ROC AUC."
   ],
   "metadata": {
    "collapsed": false
   }
  },
  {
   "cell_type": "markdown",
   "metadata": {},
   "source": [
    "**[Add your solution here]**"
   ]
  },
  {
   "cell_type": "code",
   "execution_count": 177,
   "metadata": {},
   "outputs": [
    {
     "data": {
      "text/plain": "LogisticRegression(C=inf)"
     },
     "execution_count": 177,
     "metadata": {},
     "output_type": "execute_result"
    }
   ],
   "source": [
    "from sklearn.linear_model import LogisticRegression\n",
    "from sklearn.linear_model import SGDClassifier\n",
    "\n",
    "log_reg = LogisticRegression(C=np.inf)\n",
    "log_reg.fit(X_train, y_train)"
   ]
  },
  {
   "cell_type": "code",
   "execution_count": 178,
   "outputs": [
    {
     "data": {
      "text/plain": "SGDClassifier(random_state=42)"
     },
     "execution_count": 178,
     "metadata": {},
     "output_type": "execute_result"
    }
   ],
   "source": [
    "sgd_clf = SGDClassifier(random_state=42)\n",
    "sgd_clf.fit(X_train, y_train)"
   ],
   "metadata": {
    "collapsed": false,
    "pycharm": {
     "name": "#%%\n"
    }
   }
  },
  {
   "cell_type": "code",
   "execution_count": 179,
   "outputs": [],
   "source": [
    "from sklearn.model_selection import cross_val_predict\n",
    "from sklearn.metrics import roc_curve\n",
    "from sklearn.metrics import roc_auc_score\n",
    "\n",
    "y_scores_log = cross_val_predict(log_reg, X_train, y_train, cv=10, method=\"predict_proba\")[:, 1]\n",
    "fpr_log, tpr_log, thresholds_log = roc_curve(y_train, y_scores_log)\n",
    "y_scores_sgd = cross_val_predict(sgd_clf, X_train, y_train, cv=10, method=\"decision_function\")\n",
    "fpr_sgd, tpr_sgd, thresholds_sgd = roc_curve(y_train, y_scores_sgd)"
   ],
   "metadata": {
    "collapsed": false,
    "pycharm": {
     "name": "#%%\n"
    }
   }
  },
  {
   "cell_type": "code",
   "execution_count": 180,
   "outputs": [],
   "source": [
    "def plot_roc_curve(fpr, tpr, label=None):\n",
    "    plt.plot(fpr, tpr, linewidth=2, label=label)\n",
    "    plt.plot([0, 1], [0, 1], 'k--')\n",
    "    plt.axis([0, 1, 0, 1])\n",
    "    plt.xlabel('False Positive Rate', fontsize=16)\n",
    "    plt.ylabel('True Positive Rate', fontsize=16)"
   ],
   "metadata": {
    "collapsed": false,
    "pycharm": {
     "name": "#%%\n"
    }
   }
  },
  {
   "cell_type": "code",
   "execution_count": 181,
   "outputs": [
    {
     "data": {
      "text/plain": "<Figure size 576x432 with 1 Axes>",
      "image/png": "[encoded data removed]"
     },
     "metadata": {
      "needs_background": "light"
     },
     "output_type": "display_data"
    }
   ],
   "source": [
    "plt.figure(figsize=(8, 6))\n",
    "plt.plot(fpr_sgd, tpr_sgd, \"b:\", linewidth=2, label=\"SGD\")\n",
    "plot_roc_curve(fpr_log, tpr_log, \"Logistic Regression\")\n",
    "plt.legend(loc=\"lower right\", fontsize=16)\n",
    "plt.show()"
   ],
   "metadata": {
    "collapsed": false,
    "pycharm": {
     "name": "#%%\n"
    }
   }
  },
  {
   "cell_type": "code",
   "execution_count": 182,
   "outputs": [
    {
     "data": {
      "text/plain": "0.9433360557488014"
     },
     "execution_count": 182,
     "metadata": {},
     "output_type": "execute_result"
    }
   ],
   "source": [
    "roc_auc_score(y_train, y_scores_sgd)"
   ],
   "metadata": {
    "collapsed": false,
    "pycharm": {
     "name": "#%%\n"
    }
   }
  },
  {
   "cell_type": "code",
   "execution_count": 183,
   "outputs": [
    {
     "data": {
      "text/plain": "0.9501229983391307"
     },
     "execution_count": 183,
     "metadata": {},
     "output_type": "execute_result"
    }
   ],
   "source": [
    "roc_auc_score(y_train, y_scores_log)"
   ],
   "metadata": {
    "collapsed": false,
    "pycharm": {
     "name": "#%%\n"
    }
   }
  },
  {
   "cell_type": "markdown",
   "metadata": {},
   "source": [
    "## (d) [5 marks]\n",
    "\n",
    "For the classifiers in part (c), plot on the same axes the precision as a function of the threshold and the recall as a function of the threshold. Now suppose you want to achieve a recall of 80%. Consider 4 models:\n",
    " 1.  The logistic regression classifier in (c),\n",
    " 2. `SGDClassifier` in (c),\n",
    " 3. A logistic regression with the argument `class_weight=\"balanced\"`,\n",
    " 4. `SGDClassifier` with the argument `class_weight=\"balanced\"`.\n",
    " \n",
    "For each of the 4 models, determine the threshold to achieve an 80% recall based on 10-fold cross-validation. Then determine the corresponding precisions. Which model has the best precision?"
   ]
  },
  {
   "cell_type": "markdown",
   "metadata": {},
   "source": [
    "**[Add your solution here]**"
   ]
  },
  {
   "cell_type": "code",
   "execution_count": 184,
   "metadata": {
    "scrolled": false
   },
   "outputs": [],
   "source": [
    "from sklearn.metrics import precision_recall_curve\n",
    "\n",
    "precisions_log, recalls_log, thresholds_log = precision_recall_curve(y_train, y_scores_log)"
   ]
  },
  {
   "cell_type": "code",
   "execution_count": 185,
   "outputs": [],
   "source": [
    "def plot_precision_recall_vs_threshold(precisions, recalls, thresholds):\n",
    "    plt.plot(thresholds, precisions[:-1], \"b--\", label=\"Precision\", linewidth=2)\n",
    "    plt.plot(thresholds, recalls[:-1], \"g-\", label=\"Recall\", linewidth=2)\n",
    "    plt.xlabel(\"Threshold\", fontsize=16)\n",
    "    plt.legend(loc=\"lower left\", fontsize=16)\n",
    "    plt.ylim([0, 1])"
   ],
   "metadata": {
    "collapsed": false,
    "pycharm": {
     "name": "#%%\n"
    }
   }
  },
  {
   "cell_type": "code",
   "execution_count": 186,
   "outputs": [
    {
     "data": {
      "text/plain": "<Figure size 576x288 with 1 Axes>",
      "image/png": "[encoded data removed]"
     },
     "metadata": {
      "needs_background": "light"
     },
     "output_type": "display_data"
    }
   ],
   "source": [
    "plt.figure(figsize=(8, 4))\n",
    "plot_precision_recall_vs_threshold(precisions_log, recalls_log, thresholds_log)\n",
    "plt.xlim([thresholds_log.min(), thresholds_log.max()])\n",
    "plt.show()"
   ],
   "metadata": {
    "collapsed": false,
    "pycharm": {
     "name": "#%%\n"
    }
   }
  },
  {
   "cell_type": "code",
   "execution_count": 187,
   "outputs": [],
   "source": [
    "def find_precision(precisions, recalls, thresholds, target):\n",
    "    idx = len(recalls[recalls >= target])\n",
    "    return thresholds[idx-1], precisions[0:idx].max()"
   ],
   "metadata": {
    "collapsed": false,
    "pycharm": {
     "name": "#%%\n"
    }
   }
  },
  {
   "cell_type": "code",
   "execution_count": 188,
   "outputs": [
    {
     "data": {
      "text/plain": "(0.06205012468919842, 0.25118483412322273)"
     },
     "execution_count": 188,
     "metadata": {},
     "output_type": "execute_result"
    }
   ],
   "source": [
    "find_precision(precisions_log, recalls_log, thresholds_log, 0.8)"
   ],
   "metadata": {
    "collapsed": false,
    "pycharm": {
     "name": "#%%\n"
    }
   }
  },
  {
   "cell_type": "code",
   "execution_count": 189,
   "outputs": [
    {
     "data": {
      "text/plain": "<Figure size 576x288 with 1 Axes>",
      "image/png": "[encoded data removed]"
     },
     "metadata": {
      "needs_background": "light"
     },
     "output_type": "display_data"
    }
   ],
   "source": [
    "precisions_sgd, recalls_sgd, thresholds_sgd = precision_recall_curve(y_train, y_scores_sgd)\n",
    "\n",
    "plt.figure(figsize=(8, 4))\n",
    "plot_precision_recall_vs_threshold(precisions_sgd, recalls_sgd, thresholds_sgd)\n",
    "plt.xlim([thresholds_sgd.min(), thresholds_sgd.max()])\n",
    "plt.show()"
   ],
   "metadata": {
    "collapsed": false,
    "pycharm": {
     "name": "#%%\n"
    }
   }
  },
  {
   "cell_type": "code",
   "execution_count": 190,
   "outputs": [
    {
     "data": {
      "text/plain": "(-1.5825239451635724, 0.24036281179138322)"
     },
     "execution_count": 190,
     "metadata": {},
     "output_type": "execute_result"
    }
   ],
   "source": [
    "find_precision(precisions_sgd, recalls_sgd, thresholds_sgd, 0.8)"
   ],
   "metadata": {
    "collapsed": false,
    "pycharm": {
     "name": "#%%\n"
    }
   }
  },
  {
   "cell_type": "code",
   "execution_count": 191,
   "outputs": [
    {
     "data": {
      "text/plain": "<Figure size 576x288 with 1 Axes>",
      "image/png": "[encoded data removed]"
     },
     "metadata": {
      "needs_background": "light"
     },
     "output_type": "display_data"
    }
   ],
   "source": [
    "log_reg_balanced = LogisticRegression(C=np.inf, class_weight=\"balanced\")\n",
    "log_reg_balanced.fit(X_train, y_train)\n",
    "\n",
    "y_scores_log_balanced = cross_val_predict(log_reg_balanced, X_train, y_train, cv=10, method=\"predict_proba\")[:, 1]\n",
    "precisions_log_balanced, recalls_log_balanced, thresholds_log_balanced = precision_recall_curve(y_train, y_scores_log_balanced)\n",
    "\n",
    "plt.figure(figsize=(8, 4))\n",
    "plot_precision_recall_vs_threshold(precisions_log_balanced, recalls_log_balanced, thresholds_log_balanced)\n",
    "plt.xlim([thresholds_log_balanced.min(), thresholds_log_balanced.max()])\n",
    "plt.show()"
   ],
   "metadata": {
    "collapsed": false,
    "pycharm": {
     "name": "#%%\n"
    }
   }
  },
  {
   "cell_type": "code",
   "execution_count": 192,
   "outputs": [
    {
     "data": {
      "text/plain": "(0.6593945450761965, 0.2491186839012926)"
     },
     "execution_count": 192,
     "metadata": {},
     "output_type": "execute_result"
    }
   ],
   "source": [
    "find_precision(precisions_log_balanced, recalls_log_balanced, thresholds_log_balanced, 0.8)"
   ],
   "metadata": {
    "collapsed": false,
    "pycharm": {
     "name": "#%%\n"
    }
   }
  },
  {
   "cell_type": "code",
   "execution_count": 193,
   "outputs": [
    {
     "data": {
      "text/plain": "<Figure size 576x288 with 1 Axes>",
      "image/png": "[encoded data removed]"
     },
     "metadata": {
      "needs_background": "light"
     },
     "output_type": "display_data"
    }
   ],
   "source": [
    "sgd_clf_balanced = SGDClassifier(class_weight=\"balanced\", random_state=42)\n",
    "sgd_clf_balanced.fit(X_train, y_train)\n",
    "\n",
    "y_scores_sgd_balanced = cross_val_predict(sgd_clf_balanced, X_train, y_train, cv=10, method=\"decision_function\")\n",
    "precisions_sgd_balanced, recalls_sgd_balanced, thresholds_sgd_balanced = precision_recall_curve(y_train, y_scores_sgd_balanced)\n",
    "\n",
    "plt.figure(figsize=(8, 4))\n",
    "plot_precision_recall_vs_threshold(precisions_sgd_balanced, recalls_sgd_balanced, thresholds_sgd_balanced)\n",
    "plt.xlim([thresholds_sgd_balanced.min(), thresholds_sgd_balanced.max()])\n",
    "plt.show()"
   ],
   "metadata": {
    "collapsed": false,
    "pycharm": {
     "name": "#%%\n"
    }
   }
  },
  {
   "cell_type": "code",
   "execution_count": 194,
   "outputs": [
    {
     "data": {
      "text/plain": "(0.6597875508579181, 0.1968430826369545)"
     },
     "execution_count": 194,
     "metadata": {},
     "output_type": "execute_result"
    }
   ],
   "source": [
    "find_precision(precisions_sgd_balanced, recalls_sgd_balanced, thresholds_sgd_balanced, 0.8)"
   ],
   "metadata": {
    "collapsed": false,
    "pycharm": {
     "name": "#%%\n"
    }
   }
  },
  {
   "cell_type": "markdown",
   "source": [
    "The logistic regression classifier in (c)"
   ],
   "metadata": {
    "collapsed": false,
    "pycharm": {
     "name": "#%% md\n"
    }
   }
  },
  {
   "cell_type": "markdown",
   "metadata": {},
   "source": [
    "## (e) [3 marks]\n",
    "\n",
    "Fit the best classifier in (d) to the whole training data, and use it to predict on the test set. What is its accuracy, precision, recall, ROC curve and ROC AUC over the test set?"
   ]
  },
  {
   "cell_type": "markdown",
   "metadata": {},
   "source": [
    "**[Add your solution here]**"
   ]
  },
  {
   "cell_type": "code",
   "execution_count": 198,
   "metadata": {},
   "outputs": [],
   "source": [
    "best_model = LogisticRegression(C=np.inf)\n",
    "best_model.fit(X_train, y_train)\n",
    "\n",
    "X_test = full_pipeline.fit_transform(X_test)\n",
    "y_pred = best_model.predict(X_test)"
   ]
  },
  {
   "cell_type": "code",
   "execution_count": 200,
   "outputs": [
    {
     "data": {
      "text/plain": "0.9695"
     },
     "execution_count": 200,
     "metadata": {},
     "output_type": "execute_result"
    }
   ],
   "source": [
    "from sklearn.metrics import accuracy_score\n",
    "\n",
    "accuracy_score(y_test, y_pred)"
   ],
   "metadata": {
    "collapsed": false,
    "pycharm": {
     "name": "#%%\n"
    }
   }
  },
  {
   "cell_type": "code",
   "execution_count": 201,
   "outputs": [
    {
     "data": {
      "text/plain": "0.6333333333333333"
     },
     "execution_count": 201,
     "metadata": {},
     "output_type": "execute_result"
    }
   ],
   "source": [
    "from sklearn.metrics import precision_score, recall_score\n",
    "\n",
    "precision_score(y_test, y_pred)"
   ],
   "metadata": {
    "collapsed": false,
    "pycharm": {
     "name": "#%%\n"
    }
   }
  },
  {
   "cell_type": "code",
   "execution_count": 202,
   "outputs": [
    {
     "data": {
      "text/plain": "0.2753623188405797"
     },
     "execution_count": 202,
     "metadata": {},
     "output_type": "execute_result"
    }
   ],
   "source": [
    "recall_score(y_test, y_pred)"
   ],
   "metadata": {
    "collapsed": false,
    "pycharm": {
     "name": "#%%\n"
    }
   }
  },
  {
   "cell_type": "code",
   "execution_count": 207,
   "outputs": [
    {
     "data": {
      "text/plain": "<Figure size 576x432 with 1 Axes>",
      "image/png": "[encoded data removed]"
     },
     "metadata": {
      "needs_background": "light"
     },
     "output_type": "display_data"
    }
   ],
   "source": [
    "scores = best_model.predict_proba(X_test)[:, 1]\n",
    "\n",
    "fpr, tpr, thresholds = roc_curve(y_test, scores)\n",
    "plt.figure(figsize=(8, 6))\n",
    "plot_roc_curve(fpr, tpr)\n",
    "plt.show()"
   ],
   "metadata": {
    "collapsed": false,
    "pycharm": {
     "name": "#%%\n"
    }
   }
  },
  {
   "cell_type": "code",
   "execution_count": 208,
   "outputs": [
    {
     "data": {
      "text/plain": "0.9434700050285578"
     },
     "execution_count": 208,
     "metadata": {},
     "output_type": "execute_result"
    }
   ],
   "source": [
    "roc_auc_score(y_test, scores)"
   ],
   "metadata": {
    "collapsed": false,
    "pycharm": {
     "name": "#%%\n"
    }
   }
  }
 ],
 "metadata": {
  "hide_input": false,
  "kernelspec": {
   "name": "python3",
   "language": "python",
   "display_name": "Python 3 (ipykernel)"
  },
  "language_info": {
   "codemirror_mode": {
    "name": "ipython",
    "version": 3
   },
   "file_extension": ".py",
   "mimetype": "text/x-python",
   "name": "python",
   "nbconvert_exporter": "python",
   "pygments_lexer": "ipython3",
   "version": "3.9.7"
  },
  "latex_envs": {
   "LaTeX_envs_menu_present": true,
   "autoclose": false,
   "autocomplete": false,
   "bibliofile": "biblio.bib",
   "cite_by": "apalike",
   "current_citInitial": 1,
   "eqLabelWithNumbers": true,
   "eqNumInitial": 1,
   "hotkeys": {
    "equation": "Ctrl-E",
    "itemize": "Ctrl-I"
   },
   "labels_anchors": false,
   "latex_user_defs": false,
   "report_style_numbering": false,
   "user_envs_cfg": false
  },
  "toc": {
   "base_numbering": 1,
   "nav_menu": {},
   "number_sections": false,
   "sideBar": true,
   "skip_h1_title": false,
   "title_cell": "Table of Contents",
   "title_sidebar": "Contents",
   "toc_cell": false,
   "toc_position": {},
   "toc_section_display": true,
   "toc_window_display": false
  },
  "varInspector": {
   "cols": {
    "lenName": 16,
    "lenType": 16,
    "lenVar": 40
   },
   "kernels_config": {
    "python": {
     "delete_cmd_postfix": "",
     "delete_cmd_prefix": "del ",
     "library": "var_list.py",
     "varRefreshCmd": "print(var_dic_list())"
    },
    "r": {
     "delete_cmd_postfix": ") ",
     "delete_cmd_prefix": "rm(",
     "library": "var_list.r",
     "varRefreshCmd": "cat(var_dic_list()) "
    }
   },
   "types_to_exclude": [
    "module",
    "function",
    "builtin_function_or_method",
    "instance",
    "_Feature"
   ],
   "window_display": false
  }
 },
 "nbformat": 4,
 "nbformat_minor": 2
}